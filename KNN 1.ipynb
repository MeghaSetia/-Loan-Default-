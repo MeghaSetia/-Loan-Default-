{
 "cells": [
  {
   "cell_type": "markdown",
   "metadata": {},
   "source": [
    "### Importing Libraries"
   ]
  },
  {
   "cell_type": "code",
   "execution_count": 1,
   "metadata": {},
   "outputs": [],
   "source": [
    "#importing libraries \n",
    "import pandas as pd \n",
    "import numpy as np\n",
    "import matplotlib.pyplot as plt\n",
    "%matplotlib inline\n",
    "\n",
    "import warnings\n",
    "warnings.filterwarnings(\"ignore\")\n",
    "\n",
    "# Importing the train test split function\n",
    "from sklearn.model_selection import train_test_split"
   ]
  },
  {
   "cell_type": "markdown",
   "metadata": {},
   "source": [
    "### Load the data"
   ]
  },
  {
   "cell_type": "code",
   "execution_count": 2,
   "metadata": {},
   "outputs": [
    {
     "data": {
      "text/plain": [
       "(4368, 79)"
      ]
     },
     "execution_count": 2,
     "metadata": {},
     "output_type": "execute_result"
    }
   ],
   "source": [
    "data = pd.read_csv('cleaned_loan.csv')\n",
    "data.shape"
   ]
  },
  {
   "cell_type": "code",
   "execution_count": 3,
   "metadata": {},
   "outputs": [
    {
     "data": {
      "text/html": [
       "<div>\n",
       "<style scoped>\n",
       "    .dataframe tbody tr th:only-of-type {\n",
       "        vertical-align: middle;\n",
       "    }\n",
       "\n",
       "    .dataframe tbody tr th {\n",
       "        vertical-align: top;\n",
       "    }\n",
       "\n",
       "    .dataframe thead th {\n",
       "        text-align: right;\n",
       "    }\n",
       "</style>\n",
       "<table border=\"1\" class=\"dataframe\">\n",
       "  <thead>\n",
       "    <tr style=\"text-align: right;\">\n",
       "      <th></th>\n",
       "      <th>Unnamed: 0</th>\n",
       "      <th>loannumber</th>\n",
       "      <th>loanamount</th>\n",
       "      <th>totaldue</th>\n",
       "      <th>termdays</th>\n",
       "      <th>bank_account_type</th>\n",
       "      <th>longitude_gps</th>\n",
       "      <th>latitude_gps</th>\n",
       "      <th>employment_status_clients</th>\n",
       "      <th>creationdate_dow</th>\n",
       "      <th>...</th>\n",
       "      <th>bank_name_clients_Keystone Bank</th>\n",
       "      <th>bank_name_clients_Skye Bank</th>\n",
       "      <th>bank_name_clients_Stanbic IBTC</th>\n",
       "      <th>bank_name_clients_Standard Chartered</th>\n",
       "      <th>bank_name_clients_Sterling Bank</th>\n",
       "      <th>bank_name_clients_UBA</th>\n",
       "      <th>bank_name_clients_Union Bank</th>\n",
       "      <th>bank_name_clients_Unity Bank</th>\n",
       "      <th>bank_name_clients_Wema Bank</th>\n",
       "      <th>bank_name_clients_Zenith Bank</th>\n",
       "    </tr>\n",
       "  </thead>\n",
       "  <tbody>\n",
       "    <tr>\n",
       "      <th>0</th>\n",
       "      <td>0</td>\n",
       "      <td>12.0</td>\n",
       "      <td>30000.0</td>\n",
       "      <td>34500.0</td>\n",
       "      <td>30.0</td>\n",
       "      <td>0.0</td>\n",
       "      <td>3.432010</td>\n",
       "      <td>6.433055</td>\n",
       "      <td>0.0</td>\n",
       "      <td>1.0</td>\n",
       "      <td>...</td>\n",
       "      <td>0</td>\n",
       "      <td>0</td>\n",
       "      <td>0</td>\n",
       "      <td>0</td>\n",
       "      <td>0</td>\n",
       "      <td>0</td>\n",
       "      <td>0</td>\n",
       "      <td>0</td>\n",
       "      <td>0</td>\n",
       "      <td>0</td>\n",
       "    </tr>\n",
       "    <tr>\n",
       "      <th>1</th>\n",
       "      <td>1</td>\n",
       "      <td>2.0</td>\n",
       "      <td>15000.0</td>\n",
       "      <td>17250.0</td>\n",
       "      <td>30.0</td>\n",
       "      <td>1.0</td>\n",
       "      <td>3.885298</td>\n",
       "      <td>7.320700</td>\n",
       "      <td>0.0</td>\n",
       "      <td>2.0</td>\n",
       "      <td>...</td>\n",
       "      <td>0</td>\n",
       "      <td>0</td>\n",
       "      <td>0</td>\n",
       "      <td>0</td>\n",
       "      <td>0</td>\n",
       "      <td>0</td>\n",
       "      <td>0</td>\n",
       "      <td>0</td>\n",
       "      <td>0</td>\n",
       "      <td>0</td>\n",
       "    </tr>\n",
       "    <tr>\n",
       "      <th>2</th>\n",
       "      <td>2</td>\n",
       "      <td>7.0</td>\n",
       "      <td>20000.0</td>\n",
       "      <td>22250.0</td>\n",
       "      <td>15.0</td>\n",
       "      <td>0.0</td>\n",
       "      <td>11.139350</td>\n",
       "      <td>10.292041</td>\n",
       "      <td>0.0</td>\n",
       "      <td>3.0</td>\n",
       "      <td>...</td>\n",
       "      <td>0</td>\n",
       "      <td>0</td>\n",
       "      <td>0</td>\n",
       "      <td>0</td>\n",
       "      <td>0</td>\n",
       "      <td>0</td>\n",
       "      <td>0</td>\n",
       "      <td>0</td>\n",
       "      <td>0</td>\n",
       "      <td>0</td>\n",
       "    </tr>\n",
       "    <tr>\n",
       "      <th>3</th>\n",
       "      <td>3</td>\n",
       "      <td>3.0</td>\n",
       "      <td>10000.0</td>\n",
       "      <td>11500.0</td>\n",
       "      <td>15.0</td>\n",
       "      <td>1.0</td>\n",
       "      <td>3.985770</td>\n",
       "      <td>7.491708</td>\n",
       "      <td>0.0</td>\n",
       "      <td>3.0</td>\n",
       "      <td>...</td>\n",
       "      <td>0</td>\n",
       "      <td>0</td>\n",
       "      <td>0</td>\n",
       "      <td>0</td>\n",
       "      <td>0</td>\n",
       "      <td>0</td>\n",
       "      <td>0</td>\n",
       "      <td>0</td>\n",
       "      <td>0</td>\n",
       "      <td>0</td>\n",
       "    </tr>\n",
       "    <tr>\n",
       "      <th>4</th>\n",
       "      <td>4</td>\n",
       "      <td>9.0</td>\n",
       "      <td>40000.0</td>\n",
       "      <td>44000.0</td>\n",
       "      <td>30.0</td>\n",
       "      <td>0.0</td>\n",
       "      <td>7.457913</td>\n",
       "      <td>9.076574</td>\n",
       "      <td>0.0</td>\n",
       "      <td>0.0</td>\n",
       "      <td>...</td>\n",
       "      <td>0</td>\n",
       "      <td>0</td>\n",
       "      <td>0</td>\n",
       "      <td>0</td>\n",
       "      <td>0</td>\n",
       "      <td>0</td>\n",
       "      <td>0</td>\n",
       "      <td>0</td>\n",
       "      <td>0</td>\n",
       "      <td>0</td>\n",
       "    </tr>\n",
       "  </tbody>\n",
       "</table>\n",
       "<p>5 rows × 79 columns</p>\n",
       "</div>"
      ],
      "text/plain": [
       "   Unnamed: 0  loannumber  loanamount  totaldue  termdays  bank_account_type  \\\n",
       "0           0        12.0     30000.0   34500.0      30.0                0.0   \n",
       "1           1         2.0     15000.0   17250.0      30.0                1.0   \n",
       "2           2         7.0     20000.0   22250.0      15.0                0.0   \n",
       "3           3         3.0     10000.0   11500.0      15.0                1.0   \n",
       "4           4         9.0     40000.0   44000.0      30.0                0.0   \n",
       "\n",
       "   longitude_gps  latitude_gps  employment_status_clients  creationdate_dow  \\\n",
       "0       3.432010      6.433055                        0.0               1.0   \n",
       "1       3.885298      7.320700                        0.0               2.0   \n",
       "2      11.139350     10.292041                        0.0               3.0   \n",
       "3       3.985770      7.491708                        0.0               3.0   \n",
       "4       7.457913      9.076574                        0.0               0.0   \n",
       "\n",
       "   ...  bank_name_clients_Keystone Bank  bank_name_clients_Skye Bank  \\\n",
       "0  ...                                0                            0   \n",
       "1  ...                                0                            0   \n",
       "2  ...                                0                            0   \n",
       "3  ...                                0                            0   \n",
       "4  ...                                0                            0   \n",
       "\n",
       "   bank_name_clients_Stanbic IBTC  bank_name_clients_Standard Chartered  \\\n",
       "0                               0                                     0   \n",
       "1                               0                                     0   \n",
       "2                               0                                     0   \n",
       "3                               0                                     0   \n",
       "4                               0                                     0   \n",
       "\n",
       "   bank_name_clients_Sterling Bank  bank_name_clients_UBA  \\\n",
       "0                                0                      0   \n",
       "1                                0                      0   \n",
       "2                                0                      0   \n",
       "3                                0                      0   \n",
       "4                                0                      0   \n",
       "\n",
       "   bank_name_clients_Union Bank  bank_name_clients_Unity Bank  \\\n",
       "0                             0                             0   \n",
       "1                             0                             0   \n",
       "2                             0                             0   \n",
       "3                             0                             0   \n",
       "4                             0                             0   \n",
       "\n",
       "   bank_name_clients_Wema Bank  bank_name_clients_Zenith Bank  \n",
       "0                            0                              0  \n",
       "1                            0                              0  \n",
       "2                            0                              0  \n",
       "3                            0                              0  \n",
       "4                            0                              0  \n",
       "\n",
       "[5 rows x 79 columns]"
      ]
     },
     "execution_count": 3,
     "metadata": {},
     "output_type": "execute_result"
    }
   ],
   "source": [
    "data.head()"
   ]
  },
  {
   "cell_type": "code",
   "execution_count": 4,
   "metadata": {},
   "outputs": [
    {
     "data": {
      "text/plain": [
       "Index(['Unnamed: 0', 'loannumber', 'loanamount', 'totaldue', 'termdays',\n",
       "       'bank_account_type', 'longitude_gps', 'latitude_gps',\n",
       "       'employment_status_clients', 'creationdate_dow', 'additional_charges',\n",
       "       'is_referred', 'age', 'ploan_loanamount_mean', 'ploan_loanamount_min',\n",
       "       'ploan_loanamount_25%', 'ploan_loanamount_50%', 'ploan_loanamount_75%',\n",
       "       'ploan_loanamount_max', 'ploan_totaldue_mean', 'ploan_totaldue_min',\n",
       "       'ploan_totaldue_25%', 'ploan_totaldue_50%', 'ploan_totaldue_75%',\n",
       "       'ploan_totaldue_max', 'ploan_termdays_mean', 'ploan_termdays_min',\n",
       "       'ploan_termdays_25%', 'ploan_termdays_50%', 'ploan_termdays_75%',\n",
       "       'ploan_termdays_max', 'ploan_approval_time_mean',\n",
       "       'ploan_approval_time_min', 'ploan_approval_time_25%',\n",
       "       'ploan_approval_time_50%', 'ploan_approval_time_75%',\n",
       "       'ploan_approval_time_max', 'ploan_return_days_mean_x',\n",
       "       'ploan_return_days_min_x', 'ploan_return_days_25%_x',\n",
       "       'ploan_return_days_50%_x', 'ploan_return_days_75%_x',\n",
       "       'ploan_return_days_max_x', 'ploan_return_days_mean_y',\n",
       "       'ploan_return_days_min_y', 'ploan_return_days_25%_y',\n",
       "       'ploan_return_days_50%_y', 'ploan_return_days_75%_y',\n",
       "       'ploan_return_days_max_y', 'ploan_first_return_days_mean',\n",
       "       'ploan_first_return_days_min', 'ploan_first_return_days_25%',\n",
       "       'ploan_first_return_days_50%', 'ploan_first_return_days_75%',\n",
       "       'ploan_first_return_days_max', 'ploan_additional charges_mean',\n",
       "       'ploan_additional charges_min', 'ploan_additional charges_25%',\n",
       "       'ploan_additional charges_50%', 'ploan_additional charges_75%',\n",
       "       'ploan_additional charges_max', 'good_bad_flag',\n",
       "       'bank_name_clients_Diamond Bank', 'bank_name_clients_EcoBank',\n",
       "       'bank_name_clients_FCMB', 'bank_name_clients_Fidelity Bank',\n",
       "       'bank_name_clients_First Bank', 'bank_name_clients_GT Bank',\n",
       "       'bank_name_clients_Heritage Bank', 'bank_name_clients_Keystone Bank',\n",
       "       'bank_name_clients_Skye Bank', 'bank_name_clients_Stanbic IBTC',\n",
       "       'bank_name_clients_Standard Chartered',\n",
       "       'bank_name_clients_Sterling Bank', 'bank_name_clients_UBA',\n",
       "       'bank_name_clients_Union Bank', 'bank_name_clients_Unity Bank',\n",
       "       'bank_name_clients_Wema Bank', 'bank_name_clients_Zenith Bank'],\n",
       "      dtype='object')"
      ]
     },
     "execution_count": 4,
     "metadata": {},
     "output_type": "execute_result"
    }
   ],
   "source": [
    "data.columns"
   ]
  },
  {
   "cell_type": "code",
   "execution_count": 5,
   "metadata": {},
   "outputs": [],
   "source": [
    "data.drop('Unnamed: 0',inplace=True,axis=1)"
   ]
  },
  {
   "cell_type": "code",
   "execution_count": 6,
   "metadata": {},
   "outputs": [
    {
     "data": {
      "text/plain": [
       "Index(['loannumber', 'loanamount', 'totaldue', 'termdays', 'bank_account_type',\n",
       "       'longitude_gps', 'latitude_gps', 'employment_status_clients',\n",
       "       'creationdate_dow', 'additional_charges', 'is_referred', 'age',\n",
       "       'ploan_loanamount_mean', 'ploan_loanamount_min', 'ploan_loanamount_25%',\n",
       "       'ploan_loanamount_50%', 'ploan_loanamount_75%', 'ploan_loanamount_max',\n",
       "       'ploan_totaldue_mean', 'ploan_totaldue_min', 'ploan_totaldue_25%',\n",
       "       'ploan_totaldue_50%', 'ploan_totaldue_75%', 'ploan_totaldue_max',\n",
       "       'ploan_termdays_mean', 'ploan_termdays_min', 'ploan_termdays_25%',\n",
       "       'ploan_termdays_50%', 'ploan_termdays_75%', 'ploan_termdays_max',\n",
       "       'ploan_approval_time_mean', 'ploan_approval_time_min',\n",
       "       'ploan_approval_time_25%', 'ploan_approval_time_50%',\n",
       "       'ploan_approval_time_75%', 'ploan_approval_time_max',\n",
       "       'ploan_return_days_mean_x', 'ploan_return_days_min_x',\n",
       "       'ploan_return_days_25%_x', 'ploan_return_days_50%_x',\n",
       "       'ploan_return_days_75%_x', 'ploan_return_days_max_x',\n",
       "       'ploan_return_days_mean_y', 'ploan_return_days_min_y',\n",
       "       'ploan_return_days_25%_y', 'ploan_return_days_50%_y',\n",
       "       'ploan_return_days_75%_y', 'ploan_return_days_max_y',\n",
       "       'ploan_first_return_days_mean', 'ploan_first_return_days_min',\n",
       "       'ploan_first_return_days_25%', 'ploan_first_return_days_50%',\n",
       "       'ploan_first_return_days_75%', 'ploan_first_return_days_max',\n",
       "       'ploan_additional charges_mean', 'ploan_additional charges_min',\n",
       "       'ploan_additional charges_25%', 'ploan_additional charges_50%',\n",
       "       'ploan_additional charges_75%', 'ploan_additional charges_max',\n",
       "       'good_bad_flag', 'bank_name_clients_Diamond Bank',\n",
       "       'bank_name_clients_EcoBank', 'bank_name_clients_FCMB',\n",
       "       'bank_name_clients_Fidelity Bank', 'bank_name_clients_First Bank',\n",
       "       'bank_name_clients_GT Bank', 'bank_name_clients_Heritage Bank',\n",
       "       'bank_name_clients_Keystone Bank', 'bank_name_clients_Skye Bank',\n",
       "       'bank_name_clients_Stanbic IBTC',\n",
       "       'bank_name_clients_Standard Chartered',\n",
       "       'bank_name_clients_Sterling Bank', 'bank_name_clients_UBA',\n",
       "       'bank_name_clients_Union Bank', 'bank_name_clients_Unity Bank',\n",
       "       'bank_name_clients_Wema Bank', 'bank_name_clients_Zenith Bank'],\n",
       "      dtype='object')"
      ]
     },
     "execution_count": 6,
     "metadata": {},
     "output_type": "execute_result"
    }
   ],
   "source": [
    "data.columns"
   ]
  },
  {
   "cell_type": "markdown",
   "metadata": {},
   "source": [
    "### Segregating variables: Independent and Dependent Variables"
   ]
  },
  {
   "cell_type": "code",
   "execution_count": 7,
   "metadata": {},
   "outputs": [
    {
     "data": {
      "text/plain": [
       "((4368, 77), (4368,))"
      ]
     },
     "execution_count": 7,
     "metadata": {},
     "output_type": "execute_result"
    }
   ],
   "source": [
    "#seperating independent and dependent variables\n",
    "x = data.drop(['good_bad_flag'], axis=1)\n",
    "y = data['good_bad_flag'].replace({'Good':0, 'Bad':1})\n",
    "x.shape, y.shape"
   ]
  },
  {
   "cell_type": "code",
   "execution_count": 8,
   "metadata": {},
   "outputs": [],
   "source": [
    "x_train, x_test, y_train, y_test = train_test_split(x, y, random_state=101, test_size=0.2, stratify=y)\n",
    "\n",
    "from sklearn.preprocessing import StandardScaler\n",
    "scaler = StandardScaler()\n",
    "x_train_scaled = scaler.fit_transform(x_train)\n",
    "x_train = pd.DataFrame(x_train_scaled, columns=x_train.columns)\n",
    "\n",
    "x_test_scaled = scaler.transform(x_test)\n",
    "x_test = pd.DataFrame(x_test_scaled, columns=x_test.columns)"
   ]
  },
  {
   "cell_type": "markdown",
   "metadata": {},
   "source": [
    "### Implementing KNN Classifier"
   ]
  },
  {
   "cell_type": "code",
   "execution_count": 9,
   "metadata": {},
   "outputs": [],
   "source": [
    "#importing KNN classifier and metric F1score\n",
    "from sklearn.neighbors import KNeighborsClassifier as KNN\n",
    "from sklearn.metrics import f1_score"
   ]
  },
  {
   "cell_type": "code",
   "execution_count": 10,
   "metadata": {},
   "outputs": [
    {
     "name": "stdout",
     "output_type": "stream",
     "text": [
      "Test F1 Score     0.2280701754385965\n"
     ]
    }
   ],
   "source": [
    "# Creating instance of KNN\n",
    "clf = KNN(n_neighbors = 17)\n",
    "\n",
    "# Fitting the model\n",
    "clf.fit(x_train, y_train)\n",
    "\n",
    "# Predicting over the Train Set and calculating F1\n",
    "test_predict = clf.predict(x_test)\n",
    "k = f1_score(test_predict, y_test)\n",
    "print('Test F1 Score    ', k )"
   ]
  },
  {
   "cell_type": "code",
   "execution_count": 11,
   "metadata": {},
   "outputs": [],
   "source": [
    "def Elbow(K):\n",
    "    #initiating empty list\n",
    "    test_error = []\n",
    "   \n",
    "    #training model for evey value of K\n",
    "    for i in K:\n",
    "        #Instance oh KNN\n",
    "        clf = KNN(n_neighbors = i)\n",
    "        clf.fit(x_train, y_train)\n",
    "        # Appending F1 scores to empty list claculated using the predictions\n",
    "        tmp = clf.predict(x_test)\n",
    "        tmp = f1_score(tmp,y_test)\n",
    "        error = 1-tmp\n",
    "        test_error.append(error)\n",
    "    \n",
    "    return test_error"
   ]
  },
  {
   "cell_type": "code",
   "execution_count": 12,
   "metadata": {},
   "outputs": [],
   "source": [
    "#Defining K range\n",
    "k = range(6,150)"
   ]
  },
  {
   "cell_type": "code",
   "execution_count": 13,
   "metadata": {},
   "outputs": [],
   "source": [
    "# calling above defined function\n",
    "test = Elbow(k)"
   ]
  },
  {
   "cell_type": "code",
   "execution_count": 27,
   "metadata": {},
   "outputs": [
    {
     "data": {
      "text/plain": [
       "Text(0.5, 1.0, 'Elbow Curve for test')"
      ]
     },
     "execution_count": 27,
     "metadata": {},
     "output_type": "execute_result"
    },
    {
     "data": {
      "image/png": "[encoded data removed]",
      "text/plain": [
       "<Figure size 432x288 with 1 Axes>"
      ]
     },
     "metadata": {
      "needs_background": "light"
     },
     "output_type": "display_data"
    }
   ],
   "source": [
    "# plotting the Curves\n",
    "plt.plot(k, test)\n",
    "plt.xlabel('K Neighbors')\n",
    "plt.ylabel('Test error')\n",
    "plt.title('Elbow Curve for test')"
   ]
  },
  {
   "cell_type": "code",
   "execution_count": 45,
   "metadata": {},
   "outputs": [
    {
     "name": "stdout",
     "output_type": "stream",
     "text": [
      "Test F1 Score   0.25882352941176473\n"
     ]
    }
   ],
   "source": [
    "# Creating instance of KNN\n",
    "clf = KNN(n_neighbors =7)\n",
    "\n",
    "# Fitting the model\n",
    "clf.fit(x_train, y_train)\n",
    "\n",
    "# Predicting over the Train Set and calculating F1\n",
    "test_predict = clf.predict(x_test)\n",
    "k = f1_score(test_predict, y_test)\n",
    "print('Test F1 Score  ', k )"
   ]
  },
  {
   "cell_type": "code",
   "execution_count": 46,
   "metadata": {},
   "outputs": [
    {
     "name": "stdout",
     "output_type": "stream",
     "text": [
      "              precision    recall  f1-score   support\n",
      "\n",
      "           0       0.95      0.81      0.87       809\n",
      "           1       0.17      0.51      0.26        65\n",
      "\n",
      "    accuracy                           0.78       874\n",
      "   macro avg       0.56      0.66      0.57       874\n",
      "weighted avg       0.90      0.78      0.83       874\n",
      "\n"
     ]
    }
   ],
   "source": [
    "from sklearn.metrics import classification_report, confusion_matrix\n",
    "print(classification_report(test_predict, y_test))"
   ]
  },
  {
   "cell_type": "markdown",
   "metadata": {},
   "source": [
    "# APPLY FORWARD FEATURE ENGINEERING."
   ]
  },
  {
   "cell_type": "code",
   "execution_count": 47,
   "metadata": {},
   "outputs": [],
   "source": [
    "from mlxtend.feature_selection import SequentialFeatureSelector as sfs"
   ]
  },
  {
   "cell_type": "code",
   "execution_count": 51,
   "metadata": {},
   "outputs": [],
   "source": [
    "sfs_forward=sfs(clf,k_features=20,forward=True,verbose=1,scoring='f1')"
   ]
  },
  {
   "cell_type": "code",
   "execution_count": 53,
   "metadata": {},
   "outputs": [
    {
     "name": "stderr",
     "output_type": "stream",
     "text": [
      "[Parallel(n_jobs=1)]: Using backend SequentialBackend with 1 concurrent workers.\n",
      "[Parallel(n_jobs=1)]: Done  77 out of  77 | elapsed:   14.0s finished\n",
      "Features: 1/20[Parallel(n_jobs=1)]: Using backend SequentialBackend with 1 concurrent workers.\n",
      "[Parallel(n_jobs=1)]: Done  76 out of  76 | elapsed:   12.8s finished\n",
      "Features: 2/20[Parallel(n_jobs=1)]: Using backend SequentialBackend with 1 concurrent workers.\n",
      "[Parallel(n_jobs=1)]: Done  75 out of  75 | elapsed:   14.2s finished\n",
      "Features: 3/20[Parallel(n_jobs=1)]: Using backend SequentialBackend with 1 concurrent workers.\n",
      "[Parallel(n_jobs=1)]: Done  74 out of  74 | elapsed:   14.5s finished\n",
      "Features: 4/20[Parallel(n_jobs=1)]: Using backend SequentialBackend with 1 concurrent workers.\n",
      "[Parallel(n_jobs=1)]: Done  73 out of  73 | elapsed:   14.6s finished\n",
      "Features: 5/20[Parallel(n_jobs=1)]: Using backend SequentialBackend with 1 concurrent workers.\n",
      "[Parallel(n_jobs=1)]: Done  72 out of  72 | elapsed:   15.3s finished\n",
      "Features: 6/20[Parallel(n_jobs=1)]: Using backend SequentialBackend with 1 concurrent workers.\n",
      "[Parallel(n_jobs=1)]: Done  71 out of  71 | elapsed:   15.3s finished\n",
      "Features: 7/20[Parallel(n_jobs=1)]: Using backend SequentialBackend with 1 concurrent workers.\n",
      "[Parallel(n_jobs=1)]: Done  70 out of  70 | elapsed:   16.0s finished\n",
      "Features: 8/20[Parallel(n_jobs=1)]: Using backend SequentialBackend with 1 concurrent workers.\n",
      "[Parallel(n_jobs=1)]: Done  69 out of  69 | elapsed:   16.4s finished\n",
      "Features: 9/20[Parallel(n_jobs=1)]: Using backend SequentialBackend with 1 concurrent workers.\n",
      "[Parallel(n_jobs=1)]: Done  68 out of  68 | elapsed:   16.5s finished\n",
      "Features: 10/20[Parallel(n_jobs=1)]: Using backend SequentialBackend with 1 concurrent workers.\n",
      "[Parallel(n_jobs=1)]: Done  67 out of  67 | elapsed:   16.9s finished\n",
      "Features: 11/20[Parallel(n_jobs=1)]: Using backend SequentialBackend with 1 concurrent workers.\n",
      "[Parallel(n_jobs=1)]: Done  66 out of  66 | elapsed:   17.1s finished\n",
      "Features: 12/20[Parallel(n_jobs=1)]: Using backend SequentialBackend with 1 concurrent workers.\n",
      "[Parallel(n_jobs=1)]: Done  65 out of  65 | elapsed:   17.6s finished\n",
      "Features: 13/20[Parallel(n_jobs=1)]: Using backend SequentialBackend with 1 concurrent workers.\n",
      "[Parallel(n_jobs=1)]: Done  64 out of  64 | elapsed:   17.6s finished\n",
      "Features: 14/20[Parallel(n_jobs=1)]: Using backend SequentialBackend with 1 concurrent workers.\n",
      "[Parallel(n_jobs=1)]: Done  63 out of  63 | elapsed:   18.1s finished\n",
      "Features: 15/20[Parallel(n_jobs=1)]: Using backend SequentialBackend with 1 concurrent workers.\n",
      "[Parallel(n_jobs=1)]: Done  62 out of  62 | elapsed:   21.1s finished\n",
      "Features: 16/20[Parallel(n_jobs=1)]: Using backend SequentialBackend with 1 concurrent workers.\n",
      "[Parallel(n_jobs=1)]: Done  61 out of  61 | elapsed:   19.9s finished\n",
      "Features: 17/20[Parallel(n_jobs=1)]: Using backend SequentialBackend with 1 concurrent workers.\n",
      "[Parallel(n_jobs=1)]: Done  60 out of  60 | elapsed:   18.8s finished\n",
      "Features: 18/20[Parallel(n_jobs=1)]: Using backend SequentialBackend with 1 concurrent workers.\n",
      "[Parallel(n_jobs=1)]: Done  59 out of  59 | elapsed:   18.3s finished\n",
      "Features: 19/20[Parallel(n_jobs=1)]: Using backend SequentialBackend with 1 concurrent workers.\n",
      "[Parallel(n_jobs=1)]: Done  58 out of  58 | elapsed:   18.3s finished\n",
      "Features: 20/20"
     ]
    }
   ],
   "source": [
    "sfs_forward=sfs_forward.fit(x,y)"
   ]
  },
  {
   "cell_type": "code",
   "execution_count": 54,
   "metadata": {},
   "outputs": [
    {
     "name": "stdout",
     "output_type": "stream",
     "text": [
      "['loanamount', 'bank_account_type', 'ploan_loanamount_75%', 'ploan_loanamount_max', 'ploan_termdays_max', 'ploan_first_return_days_mean', 'ploan_first_return_days_50%', 'bank_name_clients_Diamond Bank', 'bank_name_clients_EcoBank', 'bank_name_clients_FCMB', 'bank_name_clients_Fidelity Bank', 'bank_name_clients_Heritage Bank', 'bank_name_clients_Keystone Bank', 'bank_name_clients_Stanbic IBTC', 'bank_name_clients_Standard Chartered', 'bank_name_clients_Sterling Bank', 'bank_name_clients_Union Bank', 'bank_name_clients_Unity Bank', 'bank_name_clients_Wema Bank', 'bank_name_clients_Zenith Bank']\n"
     ]
    }
   ],
   "source": [
    "feat_names_forward=list(sfs_forward.k_feature_names_)\n",
    "print(feat_names_forward)"
   ]
  },
  {
   "cell_type": "code",
   "execution_count": 55,
   "metadata": {},
   "outputs": [],
   "source": [
    "Loan_new_forward=data[feat_names_forward]\n",
    "Loan_new_forward['good_bad_flag']=data['good_bad_flag']"
   ]
  },
  {
   "cell_type": "code",
   "execution_count": 56,
   "metadata": {},
   "outputs": [
    {
     "data": {
      "text/html": [
       "<div>\n",
       "<style scoped>\n",
       "    .dataframe tbody tr th:only-of-type {\n",
       "        vertical-align: middle;\n",
       "    }\n",
       "\n",
       "    .dataframe tbody tr th {\n",
       "        vertical-align: top;\n",
       "    }\n",
       "\n",
       "    .dataframe thead th {\n",
       "        text-align: right;\n",
       "    }\n",
       "</style>\n",
       "<table border=\"1\" class=\"dataframe\">\n",
       "  <thead>\n",
       "    <tr style=\"text-align: right;\">\n",
       "      <th></th>\n",
       "      <th>loanamount</th>\n",
       "      <th>bank_account_type</th>\n",
       "      <th>ploan_loanamount_75%</th>\n",
       "      <th>ploan_loanamount_max</th>\n",
       "      <th>ploan_termdays_max</th>\n",
       "      <th>ploan_first_return_days_mean</th>\n",
       "      <th>ploan_first_return_days_50%</th>\n",
       "      <th>bank_name_clients_Diamond Bank</th>\n",
       "      <th>bank_name_clients_EcoBank</th>\n",
       "      <th>bank_name_clients_FCMB</th>\n",
       "      <th>...</th>\n",
       "      <th>bank_name_clients_Heritage Bank</th>\n",
       "      <th>bank_name_clients_Keystone Bank</th>\n",
       "      <th>bank_name_clients_Stanbic IBTC</th>\n",
       "      <th>bank_name_clients_Standard Chartered</th>\n",
       "      <th>bank_name_clients_Sterling Bank</th>\n",
       "      <th>bank_name_clients_Union Bank</th>\n",
       "      <th>bank_name_clients_Unity Bank</th>\n",
       "      <th>bank_name_clients_Wema Bank</th>\n",
       "      <th>bank_name_clients_Zenith Bank</th>\n",
       "      <th>good_bad_flag</th>\n",
       "    </tr>\n",
       "  </thead>\n",
       "  <tbody>\n",
       "    <tr>\n",
       "      <th>0</th>\n",
       "      <td>30000.0</td>\n",
       "      <td>0.0</td>\n",
       "      <td>20000.0</td>\n",
       "      <td>30000.0</td>\n",
       "      <td>30.0</td>\n",
       "      <td>0.000000</td>\n",
       "      <td>4.0</td>\n",
       "      <td>1</td>\n",
       "      <td>0</td>\n",
       "      <td>0</td>\n",
       "      <td>...</td>\n",
       "      <td>0</td>\n",
       "      <td>0</td>\n",
       "      <td>0</td>\n",
       "      <td>0</td>\n",
       "      <td>0</td>\n",
       "      <td>0</td>\n",
       "      <td>0</td>\n",
       "      <td>0</td>\n",
       "      <td>0</td>\n",
       "      <td>Good</td>\n",
       "    </tr>\n",
       "    <tr>\n",
       "      <th>1</th>\n",
       "      <td>15000.0</td>\n",
       "      <td>1.0</td>\n",
       "      <td>24375.0</td>\n",
       "      <td>30000.0</td>\n",
       "      <td>30.0</td>\n",
       "      <td>1.071429</td>\n",
       "      <td>0.5</td>\n",
       "      <td>0</td>\n",
       "      <td>0</td>\n",
       "      <td>0</td>\n",
       "      <td>...</td>\n",
       "      <td>0</td>\n",
       "      <td>0</td>\n",
       "      <td>0</td>\n",
       "      <td>0</td>\n",
       "      <td>0</td>\n",
       "      <td>0</td>\n",
       "      <td>0</td>\n",
       "      <td>0</td>\n",
       "      <td>0</td>\n",
       "      <td>Good</td>\n",
       "    </tr>\n",
       "    <tr>\n",
       "      <th>2</th>\n",
       "      <td>20000.0</td>\n",
       "      <td>0.0</td>\n",
       "      <td>10000.0</td>\n",
       "      <td>10000.0</td>\n",
       "      <td>30.0</td>\n",
       "      <td>-1.833333</td>\n",
       "      <td>2.5</td>\n",
       "      <td>0</td>\n",
       "      <td>1</td>\n",
       "      <td>0</td>\n",
       "      <td>...</td>\n",
       "      <td>0</td>\n",
       "      <td>0</td>\n",
       "      <td>0</td>\n",
       "      <td>0</td>\n",
       "      <td>0</td>\n",
       "      <td>0</td>\n",
       "      <td>0</td>\n",
       "      <td>0</td>\n",
       "      <td>0</td>\n",
       "      <td>Good</td>\n",
       "    </tr>\n",
       "    <tr>\n",
       "      <th>3</th>\n",
       "      <td>10000.0</td>\n",
       "      <td>1.0</td>\n",
       "      <td>10000.0</td>\n",
       "      <td>10000.0</td>\n",
       "      <td>30.0</td>\n",
       "      <td>-8.500000</td>\n",
       "      <td>-8.5</td>\n",
       "      <td>0</td>\n",
       "      <td>0</td>\n",
       "      <td>0</td>\n",
       "      <td>...</td>\n",
       "      <td>0</td>\n",
       "      <td>0</td>\n",
       "      <td>0</td>\n",
       "      <td>0</td>\n",
       "      <td>0</td>\n",
       "      <td>0</td>\n",
       "      <td>0</td>\n",
       "      <td>0</td>\n",
       "      <td>0</td>\n",
       "      <td>Good</td>\n",
       "    </tr>\n",
       "    <tr>\n",
       "      <th>4</th>\n",
       "      <td>40000.0</td>\n",
       "      <td>0.0</td>\n",
       "      <td>22500.0</td>\n",
       "      <td>30000.0</td>\n",
       "      <td>60.0</td>\n",
       "      <td>2.125000</td>\n",
       "      <td>0.5</td>\n",
       "      <td>0</td>\n",
       "      <td>0</td>\n",
       "      <td>0</td>\n",
       "      <td>...</td>\n",
       "      <td>0</td>\n",
       "      <td>0</td>\n",
       "      <td>0</td>\n",
       "      <td>0</td>\n",
       "      <td>0</td>\n",
       "      <td>0</td>\n",
       "      <td>0</td>\n",
       "      <td>0</td>\n",
       "      <td>0</td>\n",
       "      <td>Good</td>\n",
       "    </tr>\n",
       "    <tr>\n",
       "      <th>...</th>\n",
       "      <td>...</td>\n",
       "      <td>...</td>\n",
       "      <td>...</td>\n",
       "      <td>...</td>\n",
       "      <td>...</td>\n",
       "      <td>...</td>\n",
       "      <td>...</td>\n",
       "      <td>...</td>\n",
       "      <td>...</td>\n",
       "      <td>...</td>\n",
       "      <td>...</td>\n",
       "      <td>...</td>\n",
       "      <td>...</td>\n",
       "      <td>...</td>\n",
       "      <td>...</td>\n",
       "      <td>...</td>\n",
       "      <td>...</td>\n",
       "      <td>...</td>\n",
       "      <td>...</td>\n",
       "      <td>...</td>\n",
       "      <td>...</td>\n",
       "    </tr>\n",
       "    <tr>\n",
       "      <th>4363</th>\n",
       "      <td>10000.0</td>\n",
       "      <td>1.0</td>\n",
       "      <td>10000.0</td>\n",
       "      <td>10000.0</td>\n",
       "      <td>30.0</td>\n",
       "      <td>-6.000000</td>\n",
       "      <td>-6.0</td>\n",
       "      <td>0</td>\n",
       "      <td>0</td>\n",
       "      <td>0</td>\n",
       "      <td>...</td>\n",
       "      <td>0</td>\n",
       "      <td>0</td>\n",
       "      <td>0</td>\n",
       "      <td>0</td>\n",
       "      <td>0</td>\n",
       "      <td>0</td>\n",
       "      <td>0</td>\n",
       "      <td>0</td>\n",
       "      <td>0</td>\n",
       "      <td>Bad</td>\n",
       "    </tr>\n",
       "    <tr>\n",
       "      <th>4364</th>\n",
       "      <td>10000.0</td>\n",
       "      <td>1.0</td>\n",
       "      <td>10000.0</td>\n",
       "      <td>10000.0</td>\n",
       "      <td>30.0</td>\n",
       "      <td>3.000000</td>\n",
       "      <td>3.0</td>\n",
       "      <td>0</td>\n",
       "      <td>0</td>\n",
       "      <td>1</td>\n",
       "      <td>...</td>\n",
       "      <td>0</td>\n",
       "      <td>0</td>\n",
       "      <td>0</td>\n",
       "      <td>0</td>\n",
       "      <td>0</td>\n",
       "      <td>0</td>\n",
       "      <td>0</td>\n",
       "      <td>0</td>\n",
       "      <td>0</td>\n",
       "      <td>Bad</td>\n",
       "    </tr>\n",
       "    <tr>\n",
       "      <th>4365</th>\n",
       "      <td>10000.0</td>\n",
       "      <td>1.0</td>\n",
       "      <td>10000.0</td>\n",
       "      <td>10000.0</td>\n",
       "      <td>15.0</td>\n",
       "      <td>-9.000000</td>\n",
       "      <td>-9.0</td>\n",
       "      <td>0</td>\n",
       "      <td>0</td>\n",
       "      <td>0</td>\n",
       "      <td>...</td>\n",
       "      <td>0</td>\n",
       "      <td>0</td>\n",
       "      <td>0</td>\n",
       "      <td>0</td>\n",
       "      <td>0</td>\n",
       "      <td>0</td>\n",
       "      <td>0</td>\n",
       "      <td>0</td>\n",
       "      <td>0</td>\n",
       "      <td>Bad</td>\n",
       "    </tr>\n",
       "    <tr>\n",
       "      <th>4366</th>\n",
       "      <td>10000.0</td>\n",
       "      <td>1.0</td>\n",
       "      <td>10000.0</td>\n",
       "      <td>10000.0</td>\n",
       "      <td>30.0</td>\n",
       "      <td>-1.000000</td>\n",
       "      <td>-1.0</td>\n",
       "      <td>0</td>\n",
       "      <td>0</td>\n",
       "      <td>0</td>\n",
       "      <td>...</td>\n",
       "      <td>0</td>\n",
       "      <td>0</td>\n",
       "      <td>0</td>\n",
       "      <td>0</td>\n",
       "      <td>0</td>\n",
       "      <td>0</td>\n",
       "      <td>0</td>\n",
       "      <td>0</td>\n",
       "      <td>0</td>\n",
       "      <td>Bad</td>\n",
       "    </tr>\n",
       "    <tr>\n",
       "      <th>4367</th>\n",
       "      <td>30000.0</td>\n",
       "      <td>1.0</td>\n",
       "      <td>25000.0</td>\n",
       "      <td>30000.0</td>\n",
       "      <td>30.0</td>\n",
       "      <td>2.428571</td>\n",
       "      <td>1.0</td>\n",
       "      <td>0</td>\n",
       "      <td>0</td>\n",
       "      <td>0</td>\n",
       "      <td>...</td>\n",
       "      <td>0</td>\n",
       "      <td>0</td>\n",
       "      <td>0</td>\n",
       "      <td>0</td>\n",
       "      <td>0</td>\n",
       "      <td>0</td>\n",
       "      <td>0</td>\n",
       "      <td>0</td>\n",
       "      <td>0</td>\n",
       "      <td>Bad</td>\n",
       "    </tr>\n",
       "  </tbody>\n",
       "</table>\n",
       "<p>4368 rows × 21 columns</p>\n",
       "</div>"
      ],
      "text/plain": [
       "      loanamount  bank_account_type  ploan_loanamount_75%  \\\n",
       "0        30000.0                0.0               20000.0   \n",
       "1        15000.0                1.0               24375.0   \n",
       "2        20000.0                0.0               10000.0   \n",
       "3        10000.0                1.0               10000.0   \n",
       "4        40000.0                0.0               22500.0   \n",
       "...          ...                ...                   ...   \n",
       "4363     10000.0                1.0               10000.0   \n",
       "4364     10000.0                1.0               10000.0   \n",
       "4365     10000.0                1.0               10000.0   \n",
       "4366     10000.0                1.0               10000.0   \n",
       "4367     30000.0                1.0               25000.0   \n",
       "\n",
       "      ploan_loanamount_max  ploan_termdays_max  ploan_first_return_days_mean  \\\n",
       "0                  30000.0                30.0                      0.000000   \n",
       "1                  30000.0                30.0                      1.071429   \n",
       "2                  10000.0                30.0                     -1.833333   \n",
       "3                  10000.0                30.0                     -8.500000   \n",
       "4                  30000.0                60.0                      2.125000   \n",
       "...                    ...                 ...                           ...   \n",
       "4363               10000.0                30.0                     -6.000000   \n",
       "4364               10000.0                30.0                      3.000000   \n",
       "4365               10000.0                15.0                     -9.000000   \n",
       "4366               10000.0                30.0                     -1.000000   \n",
       "4367               30000.0                30.0                      2.428571   \n",
       "\n",
       "      ploan_first_return_days_50%  bank_name_clients_Diamond Bank  \\\n",
       "0                             4.0                               1   \n",
       "1                             0.5                               0   \n",
       "2                             2.5                               0   \n",
       "3                            -8.5                               0   \n",
       "4                             0.5                               0   \n",
       "...                           ...                             ...   \n",
       "4363                         -6.0                               0   \n",
       "4364                          3.0                               0   \n",
       "4365                         -9.0                               0   \n",
       "4366                         -1.0                               0   \n",
       "4367                          1.0                               0   \n",
       "\n",
       "      bank_name_clients_EcoBank  bank_name_clients_FCMB  ...  \\\n",
       "0                             0                       0  ...   \n",
       "1                             0                       0  ...   \n",
       "2                             1                       0  ...   \n",
       "3                             0                       0  ...   \n",
       "4                             0                       0  ...   \n",
       "...                         ...                     ...  ...   \n",
       "4363                          0                       0  ...   \n",
       "4364                          0                       1  ...   \n",
       "4365                          0                       0  ...   \n",
       "4366                          0                       0  ...   \n",
       "4367                          0                       0  ...   \n",
       "\n",
       "      bank_name_clients_Heritage Bank  bank_name_clients_Keystone Bank  \\\n",
       "0                                   0                                0   \n",
       "1                                   0                                0   \n",
       "2                                   0                                0   \n",
       "3                                   0                                0   \n",
       "4                                   0                                0   \n",
       "...                               ...                              ...   \n",
       "4363                                0                                0   \n",
       "4364                                0                                0   \n",
       "4365                                0                                0   \n",
       "4366                                0                                0   \n",
       "4367                                0                                0   \n",
       "\n",
       "      bank_name_clients_Stanbic IBTC  bank_name_clients_Standard Chartered  \\\n",
       "0                                  0                                     0   \n",
       "1                                  0                                     0   \n",
       "2                                  0                                     0   \n",
       "3                                  0                                     0   \n",
       "4                                  0                                     0   \n",
       "...                              ...                                   ...   \n",
       "4363                               0                                     0   \n",
       "4364                               0                                     0   \n",
       "4365                               0                                     0   \n",
       "4366                               0                                     0   \n",
       "4367                               0                                     0   \n",
       "\n",
       "      bank_name_clients_Sterling Bank  bank_name_clients_Union Bank  \\\n",
       "0                                   0                             0   \n",
       "1                                   0                             0   \n",
       "2                                   0                             0   \n",
       "3                                   0                             0   \n",
       "4                                   0                             0   \n",
       "...                               ...                           ...   \n",
       "4363                                0                             0   \n",
       "4364                                0                             0   \n",
       "4365                                0                             0   \n",
       "4366                                0                             0   \n",
       "4367                                0                             0   \n",
       "\n",
       "      bank_name_clients_Unity Bank  bank_name_clients_Wema Bank  \\\n",
       "0                                0                            0   \n",
       "1                                0                            0   \n",
       "2                                0                            0   \n",
       "3                                0                            0   \n",
       "4                                0                            0   \n",
       "...                            ...                          ...   \n",
       "4363                             0                            0   \n",
       "4364                             0                            0   \n",
       "4365                             0                            0   \n",
       "4366                             0                            0   \n",
       "4367                             0                            0   \n",
       "\n",
       "      bank_name_clients_Zenith Bank  good_bad_flag  \n",
       "0                                 0           Good  \n",
       "1                                 0           Good  \n",
       "2                                 0           Good  \n",
       "3                                 0           Good  \n",
       "4                                 0           Good  \n",
       "...                             ...            ...  \n",
       "4363                              0            Bad  \n",
       "4364                              0            Bad  \n",
       "4365                              0            Bad  \n",
       "4366                              0            Bad  \n",
       "4367                              0            Bad  \n",
       "\n",
       "[4368 rows x 21 columns]"
      ]
     },
     "execution_count": 56,
     "metadata": {},
     "output_type": "execute_result"
    }
   ],
   "source": [
    "Loan_new_forward"
   ]
  },
  {
   "cell_type": "code",
   "execution_count": 57,
   "metadata": {},
   "outputs": [
    {
     "data": {
      "text/plain": [
       "((4368, 20), (4368,))"
      ]
     },
     "execution_count": 57,
     "metadata": {},
     "output_type": "execute_result"
    }
   ],
   "source": [
    "#seperating independent and dependent variables\n",
    "x1 = Loan_new_forward.drop(['good_bad_flag'], axis=1)\n",
    "y1 = Loan_new_forward['good_bad_flag'].replace({'Good':0, 'Bad':1})\n",
    "x1.shape, y1.shape"
   ]
  },
  {
   "cell_type": "code",
   "execution_count": 58,
   "metadata": {},
   "outputs": [],
   "source": [
    "x1_train, x1_test, y1_train, y1_test = train_test_split(x1, y1, random_state=101, test_size=0.2, stratify=y1)\n",
    "\n",
    "from sklearn.preprocessing import StandardScaler\n",
    "scaler = StandardScaler()\n",
    "x1_train_scaled = scaler.fit_transform(x1_train)\n",
    "x1_train = pd.DataFrame(x1_train_scaled, columns=x1_train.columns)\n",
    "\n",
    "x1_test_scaled = scaler.transform(x1_test)\n",
    "x1_test = pd.DataFrame(x1_test_scaled, columns=x1_test.columns)"
   ]
  },
  {
   "cell_type": "code",
   "execution_count": 59,
   "metadata": {},
   "outputs": [
    {
     "name": "stdout",
     "output_type": "stream",
     "text": [
      "Test F1 Score     0.3018867924528302\n"
     ]
    }
   ],
   "source": [
    "# Creating instance of KNN\n",
    "clf = KNN(n_neighbors = 10)\n",
    "\n",
    "# Fitting the model\n",
    "clf.fit(x1_train, y1_train)\n",
    "\n",
    "# Predicting over the Train Set and calculating F1\n",
    "test_predict = clf.predict(x1_test)\n",
    "k = f1_score(test_predict, y1_test)\n",
    "print('Test F1 Score    ', k )"
   ]
  },
  {
   "cell_type": "code",
   "execution_count": 61,
   "metadata": {},
   "outputs": [],
   "source": [
    "def Elbow1(K):\n",
    "    #initiating empty list\n",
    "    test_error = []\n",
    "   \n",
    "    #training model for evey value of K\n",
    "    for i in K:\n",
    "        #Instance oh KNN\n",
    "        clf = KNN(n_neighbors = i)\n",
    "        clf.fit(x1_train, y1_train)\n",
    "        # Appending F1 scores to empty list claculated using the predictions\n",
    "        tmp = clf.predict(x1_test)\n",
    "        tmp = f1_score(tmp,y1_test)\n",
    "        error = 1-tmp\n",
    "        test_error.append(error)\n",
    "    \n",
    "    return test_error"
   ]
  },
  {
   "cell_type": "code",
   "execution_count": 63,
   "metadata": {},
   "outputs": [],
   "source": [
    "#Defining K range\n",
    "k = range(6,150)"
   ]
  },
  {
   "cell_type": "code",
   "execution_count": 64,
   "metadata": {},
   "outputs": [],
   "source": [
    "# calling above defined function\n",
    "test = Elbow1(k)"
   ]
  },
  {
   "cell_type": "code",
   "execution_count": 65,
   "metadata": {},
   "outputs": [
    {
     "data": {
      "text/plain": [
       "Text(0.5, 1.0, 'Elbow Curve for test')"
      ]
     },
     "execution_count": 65,
     "metadata": {},
     "output_type": "execute_result"
    },
    {
     "data": {
      "image/png": "[encoded data removed]",
      "text/plain": [
       "<Figure size 432x288 with 1 Axes>"
      ]
     },
     "metadata": {
      "needs_background": "light"
     },
     "output_type": "display_data"
    }
   ],
   "source": [
    "# plotting the Curves\n",
    "plt.plot(k, test)\n",
    "plt.xlabel('K Neighbors')\n",
    "plt.ylabel('Test error')\n",
    "plt.title('Elbow Curve for test')"
   ]
  },
  {
   "cell_type": "code",
   "execution_count": 66,
   "metadata": {},
   "outputs": [
    {
     "name": "stdout",
     "output_type": "stream",
     "text": [
      "Test F1 Score     0.34814814814814815\n"
     ]
    }
   ],
   "source": [
    "# Creating instance of KNN\n",
    "clf = KNN(n_neighbors = 19)\n",
    "\n",
    "# Fitting the model\n",
    "clf.fit(x1_train, y1_train)\n",
    "\n",
    "# Predicting over the Train Set and calculating F1\n",
    "test_predict = clf.predict(x1_test)\n",
    "k = f1_score(test_predict, y1_test)\n",
    "print('Test F1 Score    ', k )"
   ]
  },
  {
   "cell_type": "markdown",
   "metadata": {},
   "source": [
    "--with first 10 features"
   ]
  },
  {
   "cell_type": "code",
   "execution_count": 67,
   "metadata": {},
   "outputs": [],
   "source": [
    "sfs_forward=sfs(clf,k_features=10,forward=True,verbose=1,scoring='f1')"
   ]
  },
  {
   "cell_type": "code",
   "execution_count": 68,
   "metadata": {},
   "outputs": [
    {
     "name": "stderr",
     "output_type": "stream",
     "text": [
      "[Parallel(n_jobs=1)]: Using backend SequentialBackend with 1 concurrent workers.\n",
      "[Parallel(n_jobs=1)]: Done  77 out of  77 | elapsed:   15.1s finished\n",
      "Features: 1/10[Parallel(n_jobs=1)]: Using backend SequentialBackend with 1 concurrent workers.\n",
      "[Parallel(n_jobs=1)]: Done  76 out of  76 | elapsed:   11.6s finished\n",
      "Features: 2/10[Parallel(n_jobs=1)]: Using backend SequentialBackend with 1 concurrent workers.\n",
      "[Parallel(n_jobs=1)]: Done  75 out of  75 | elapsed:   12.2s finished\n",
      "Features: 3/10[Parallel(n_jobs=1)]: Using backend SequentialBackend with 1 concurrent workers.\n",
      "[Parallel(n_jobs=1)]: Done  74 out of  74 | elapsed:   13.6s finished\n",
      "Features: 4/10[Parallel(n_jobs=1)]: Using backend SequentialBackend with 1 concurrent workers.\n",
      "[Parallel(n_jobs=1)]: Done  73 out of  73 | elapsed:   13.9s finished\n",
      "Features: 5/10[Parallel(n_jobs=1)]: Using backend SequentialBackend with 1 concurrent workers.\n",
      "[Parallel(n_jobs=1)]: Done  72 out of  72 | elapsed:   14.4s finished\n",
      "Features: 6/10[Parallel(n_jobs=1)]: Using backend SequentialBackend with 1 concurrent workers.\n",
      "[Parallel(n_jobs=1)]: Done  71 out of  71 | elapsed:   16.2s finished\n",
      "Features: 7/10[Parallel(n_jobs=1)]: Using backend SequentialBackend with 1 concurrent workers.\n",
      "[Parallel(n_jobs=1)]: Done  70 out of  70 | elapsed:   16.4s finished\n",
      "Features: 8/10[Parallel(n_jobs=1)]: Using backend SequentialBackend with 1 concurrent workers.\n",
      "[Parallel(n_jobs=1)]: Done  69 out of  69 | elapsed:   17.0s finished\n",
      "Features: 9/10[Parallel(n_jobs=1)]: Using backend SequentialBackend with 1 concurrent workers.\n",
      "[Parallel(n_jobs=1)]: Done  68 out of  68 | elapsed:   17.3s finished\n",
      "Features: 10/10"
     ]
    }
   ],
   "source": [
    "sfs_forward=sfs_forward.fit(x,y)"
   ]
  },
  {
   "cell_type": "code",
   "execution_count": 72,
   "metadata": {},
   "outputs": [
    {
     "name": "stdout",
     "output_type": "stream",
     "text": [
      "['bank_account_type', 'ploan_loanamount_min', 'ploan_loanamount_25%', 'ploan_loanamount_75%', 'ploan_totaldue_max', 'ploan_approval_time_max', 'ploan_first_return_days_50%', 'bank_name_clients_Stanbic IBTC', 'bank_name_clients_Union Bank', 'bank_name_clients_Wema Bank']\n"
     ]
    }
   ],
   "source": [
    "feat_names_forward1=list(sfs_forward.k_feature_names_)\n",
    "print(feat_names_forward)"
   ]
  },
  {
   "cell_type": "code",
   "execution_count": 73,
   "metadata": {},
   "outputs": [],
   "source": [
    "Loan_new_forward_10=data[feat_names_forward1]\n",
    "Loan_new_forward_10['good_bad_flag']=data['good_bad_flag']"
   ]
  },
  {
   "cell_type": "code",
   "execution_count": 74,
   "metadata": {},
   "outputs": [
    {
     "data": {
      "text/plain": [
       "((4368, 10), (4368,))"
      ]
     },
     "execution_count": 74,
     "metadata": {},
     "output_type": "execute_result"
    }
   ],
   "source": [
    "#seperating independent and dependent variables\n",
    "x2 = Loan_new_forward_10.drop(['good_bad_flag'], axis=1)\n",
    "y2 = Loan_new_forward_10['good_bad_flag'].replace({'Good':0, 'Bad':1})\n",
    "x2.shape, y2.shape"
   ]
  },
  {
   "cell_type": "code",
   "execution_count": 75,
   "metadata": {},
   "outputs": [],
   "source": [
    "x2_train, x2_test, y2_train, y2_test = train_test_split(x2, y2, random_state=101, test_size=0.2, stratify=y2)\n",
    "\n",
    "from sklearn.preprocessing import StandardScaler\n",
    "scaler = StandardScaler()\n",
    "x2_train_scaled = scaler.fit_transform(x2_train)\n",
    "x2_train = pd.DataFrame(x2_train_scaled, columns=x2_train.columns)\n",
    "\n",
    "x2_test_scaled = scaler.transform(x2_test)\n",
    "x2_test = pd.DataFrame(x2_test_scaled, columns=x2_test.columns)"
   ]
  },
  {
   "cell_type": "code",
   "execution_count": 76,
   "metadata": {},
   "outputs": [
    {
     "name": "stdout",
     "output_type": "stream",
     "text": [
      "Test F1 Score     0.26717557251908397\n"
     ]
    }
   ],
   "source": [
    "# Creating instance of KNN\n",
    "clf = KNN(n_neighbors = 10)\n",
    "\n",
    "# Fitting the model\n",
    "clf.fit(x2_train, y2_train)\n",
    "\n",
    "# Predicting over the Train Set and calculating F1\n",
    "test_predict = clf.predict(x2_test)\n",
    "k = f1_score(test_predict, y2_test)\n",
    "print('Test F1 Score    ', k )"
   ]
  },
  {
   "cell_type": "code",
   "execution_count": 77,
   "metadata": {},
   "outputs": [],
   "source": [
    "def Elbow2(K):\n",
    "    #initiating empty list\n",
    "    test_error = []\n",
    "   \n",
    "    #training model for evey value of K\n",
    "    for i in K:\n",
    "        #Instance oh KNN\n",
    "        clf = KNN(n_neighbors = i)\n",
    "        clf.fit(x2_train, y2_train)\n",
    "        # Appending F1 scores to empty list claculated using the predictions\n",
    "        tmp = clf.predict(x2_test)\n",
    "        tmp = f1_score(tmp,y2_test)\n",
    "        error = 1-tmp\n",
    "        test_error.append(error)\n",
    "    \n",
    "    return test_error"
   ]
  },
  {
   "cell_type": "code",
   "execution_count": 78,
   "metadata": {},
   "outputs": [],
   "source": [
    "#Defining K range\n",
    "k = range(6,150)"
   ]
  },
  {
   "cell_type": "code",
   "execution_count": 79,
   "metadata": {},
   "outputs": [],
   "source": [
    "# calling above defined function\n",
    "test = Elbow2(k)"
   ]
  },
  {
   "cell_type": "code",
   "execution_count": 80,
   "metadata": {},
   "outputs": [
    {
     "data": {
      "text/plain": [
       "Text(0.5, 1.0, 'Elbow Curve for test')"
      ]
     },
     "execution_count": 80,
     "metadata": {},
     "output_type": "execute_result"
    },
    {
     "data": {
      "image/png": "[encoded data removed]",
      "text/plain": [
       "<Figure size 432x288 with 1 Axes>"
      ]
     },
     "metadata": {
      "needs_background": "light"
     },
     "output_type": "display_data"
    }
   ],
   "source": [
    "# plotting the Curves\n",
    "plt.plot(k, test)\n",
    "plt.xlabel('K Neighbors')\n",
    "plt.ylabel('Test error')\n",
    "plt.title('Elbow Curve for test')"
   ]
  },
  {
   "cell_type": "code",
   "execution_count": 81,
   "metadata": {},
   "outputs": [
    {
     "name": "stdout",
     "output_type": "stream",
     "text": [
      "Test F1 Score     0.32452830188679244\n"
     ]
    }
   ],
   "source": [
    "# Creating instance of KNN\n",
    "clf = KNN(n_neighbors = 20)\n",
    "\n",
    "# Fitting the model\n",
    "clf.fit(x1_train, y1_train)\n",
    "\n",
    "# Predicting over the Train Set and calculating F1\n",
    "test_predict = clf.predict(x1_test)\n",
    "k = f1_score(test_predict, y1_test)\n",
    "print('Test F1 Score    ', k )"
   ]
  },
  {
   "cell_type": "markdown",
   "metadata": {},
   "source": [
    "--with 30 features"
   ]
  },
  {
   "cell_type": "code",
   "execution_count": 82,
   "metadata": {},
   "outputs": [],
   "source": [
    "sfs_forward=sfs(clf,k_features=30,forward=True,verbose=1,scoring='f1')"
   ]
  },
  {
   "cell_type": "code",
   "execution_count": 83,
   "metadata": {},
   "outputs": [
    {
     "name": "stderr",
     "output_type": "stream",
     "text": [
      "[Parallel(n_jobs=1)]: Using backend SequentialBackend with 1 concurrent workers.\n",
      "[Parallel(n_jobs=1)]: Done  77 out of  77 | elapsed:   15.3s finished\n",
      "Features: 1/30[Parallel(n_jobs=1)]: Using backend SequentialBackend with 1 concurrent workers.\n",
      "[Parallel(n_jobs=1)]: Done  76 out of  76 | elapsed:   12.1s finished\n",
      "Features: 2/30[Parallel(n_jobs=1)]: Using backend SequentialBackend with 1 concurrent workers.\n",
      "[Parallel(n_jobs=1)]: Done  75 out of  75 | elapsed:   12.3s finished\n",
      "Features: 3/30[Parallel(n_jobs=1)]: Using backend SequentialBackend with 1 concurrent workers.\n",
      "[Parallel(n_jobs=1)]: Done  74 out of  74 | elapsed:   13.8s finished\n",
      "Features: 4/30[Parallel(n_jobs=1)]: Using backend SequentialBackend with 1 concurrent workers.\n",
      "[Parallel(n_jobs=1)]: Done  73 out of  73 | elapsed:   14.7s finished\n",
      "Features: 5/30[Parallel(n_jobs=1)]: Using backend SequentialBackend with 1 concurrent workers.\n",
      "[Parallel(n_jobs=1)]: Done  72 out of  72 | elapsed:   14.3s finished\n",
      "Features: 6/30[Parallel(n_jobs=1)]: Using backend SequentialBackend with 1 concurrent workers.\n",
      "[Parallel(n_jobs=1)]: Done  71 out of  71 | elapsed:   15.2s finished\n",
      "Features: 7/30[Parallel(n_jobs=1)]: Using backend SequentialBackend with 1 concurrent workers.\n",
      "[Parallel(n_jobs=1)]: Done  70 out of  70 | elapsed:   15.0s finished\n",
      "Features: 8/30[Parallel(n_jobs=1)]: Using backend SequentialBackend with 1 concurrent workers.\n",
      "[Parallel(n_jobs=1)]: Done  69 out of  69 | elapsed:   15.3s finished\n",
      "Features: 9/30[Parallel(n_jobs=1)]: Using backend SequentialBackend with 1 concurrent workers.\n",
      "[Parallel(n_jobs=1)]: Done  68 out of  68 | elapsed:   15.4s finished\n",
      "Features: 10/30[Parallel(n_jobs=1)]: Using backend SequentialBackend with 1 concurrent workers.\n",
      "[Parallel(n_jobs=1)]: Done  67 out of  67 | elapsed:   15.9s finished\n",
      "Features: 11/30[Parallel(n_jobs=1)]: Using backend SequentialBackend with 1 concurrent workers.\n",
      "[Parallel(n_jobs=1)]: Done  66 out of  66 | elapsed:   17.8s finished\n",
      "Features: 12/30[Parallel(n_jobs=1)]: Using backend SequentialBackend with 1 concurrent workers.\n",
      "[Parallel(n_jobs=1)]: Done  65 out of  65 | elapsed:   18.0s finished\n",
      "Features: 13/30[Parallel(n_jobs=1)]: Using backend SequentialBackend with 1 concurrent workers.\n",
      "[Parallel(n_jobs=1)]: Done  64 out of  64 | elapsed:   18.1s finished\n",
      "Features: 14/30[Parallel(n_jobs=1)]: Using backend SequentialBackend with 1 concurrent workers.\n",
      "[Parallel(n_jobs=1)]: Done  63 out of  63 | elapsed:   18.6s finished\n",
      "Features: 15/30[Parallel(n_jobs=1)]: Using backend SequentialBackend with 1 concurrent workers.\n",
      "[Parallel(n_jobs=1)]: Done  62 out of  62 | elapsed:   18.7s finished\n",
      "Features: 16/30[Parallel(n_jobs=1)]: Using backend SequentialBackend with 1 concurrent workers.\n",
      "[Parallel(n_jobs=1)]: Done  61 out of  61 | elapsed:   20.1s finished\n",
      "Features: 17/30[Parallel(n_jobs=1)]: Using backend SequentialBackend with 1 concurrent workers.\n",
      "[Parallel(n_jobs=1)]: Done  60 out of  60 | elapsed:   20.4s finished\n",
      "Features: 18/30[Parallel(n_jobs=1)]: Using backend SequentialBackend with 1 concurrent workers.\n",
      "[Parallel(n_jobs=1)]: Done  59 out of  59 | elapsed:   20.5s finished\n",
      "Features: 19/30[Parallel(n_jobs=1)]: Using backend SequentialBackend with 1 concurrent workers.\n",
      "[Parallel(n_jobs=1)]: Done  58 out of  58 | elapsed:   20.1s finished\n",
      "Features: 20/30[Parallel(n_jobs=1)]: Using backend SequentialBackend with 1 concurrent workers.\n",
      "[Parallel(n_jobs=1)]: Done  57 out of  57 | elapsed:   20.4s finished\n",
      "Features: 21/30[Parallel(n_jobs=1)]: Using backend SequentialBackend with 1 concurrent workers.\n",
      "[Parallel(n_jobs=1)]: Done  56 out of  56 | elapsed:   20.6s finished\n",
      "Features: 22/30[Parallel(n_jobs=1)]: Using backend SequentialBackend with 1 concurrent workers.\n",
      "[Parallel(n_jobs=1)]: Done  55 out of  55 | elapsed:   20.6s finished\n",
      "Features: 23/30[Parallel(n_jobs=1)]: Using backend SequentialBackend with 1 concurrent workers.\n",
      "[Parallel(n_jobs=1)]: Done  54 out of  54 | elapsed:   22.2s finished\n",
      "Features: 24/30[Parallel(n_jobs=1)]: Using backend SequentialBackend with 1 concurrent workers.\n",
      "[Parallel(n_jobs=1)]: Done  53 out of  53 | elapsed:   22.1s finished\n",
      "Features: 25/30[Parallel(n_jobs=1)]: Using backend SequentialBackend with 1 concurrent workers.\n",
      "[Parallel(n_jobs=1)]: Done  52 out of  52 | elapsed:   22.0s finished\n",
      "Features: 26/30[Parallel(n_jobs=1)]: Using backend SequentialBackend with 1 concurrent workers.\n",
      "[Parallel(n_jobs=1)]: Done  51 out of  51 | elapsed:   22.2s finished\n",
      "Features: 27/30[Parallel(n_jobs=1)]: Using backend SequentialBackend with 1 concurrent workers.\n",
      "[Parallel(n_jobs=1)]: Done  50 out of  50 | elapsed:   22.2s finished\n",
      "Features: 28/30[Parallel(n_jobs=1)]: Using backend SequentialBackend with 1 concurrent workers.\n",
      "[Parallel(n_jobs=1)]: Done  49 out of  49 | elapsed:   20.1s finished\n",
      "Features: 29/30[Parallel(n_jobs=1)]: Using backend SequentialBackend with 1 concurrent workers.\n",
      "[Parallel(n_jobs=1)]: Done  48 out of  48 | elapsed:   20.2s finished\n",
      "Features: 30/30"
     ]
    }
   ],
   "source": [
    "sfs_forward=sfs_forward.fit(x,y)"
   ]
  },
  {
   "cell_type": "code",
   "execution_count": 87,
   "metadata": {},
   "outputs": [
    {
     "name": "stdout",
     "output_type": "stream",
     "text": [
      "['loanamount', 'totaldue', 'termdays', 'bank_account_type', 'employment_status_clients', 'additional_charges', 'ploan_loanamount_mean', 'ploan_loanamount_min', 'ploan_loanamount_25%', 'ploan_loanamount_50%', 'ploan_loanamount_75%', 'ploan_loanamount_max', 'ploan_approval_time_min', 'ploan_approval_time_25%', 'ploan_approval_time_50%', 'ploan_approval_time_75%', 'ploan_first_return_days_50%', 'bank_name_clients_Diamond Bank', 'bank_name_clients_EcoBank', 'bank_name_clients_Fidelity Bank', 'bank_name_clients_Heritage Bank', 'bank_name_clients_Keystone Bank', 'bank_name_clients_Skye Bank', 'bank_name_clients_Stanbic IBTC', 'bank_name_clients_Standard Chartered', 'bank_name_clients_Sterling Bank', 'bank_name_clients_Union Bank', 'bank_name_clients_Unity Bank', 'bank_name_clients_Wema Bank', 'bank_name_clients_Zenith Bank']\n"
     ]
    }
   ],
   "source": [
    "feat_names_forward3=list(sfs_forward.k_feature_names_)\n",
    "print(feat_names_forward3)"
   ]
  },
  {
   "cell_type": "code",
   "execution_count": 88,
   "metadata": {},
   "outputs": [],
   "source": [
    "Loan_new_forward_30=data[feat_names_forward3]\n",
    "Loan_new_forward_30['good_bad_flag']=data['good_bad_flag']"
   ]
  },
  {
   "cell_type": "code",
   "execution_count": 89,
   "metadata": {},
   "outputs": [
    {
     "data": {
      "text/plain": [
       "((4368, 30), (4368,))"
      ]
     },
     "execution_count": 89,
     "metadata": {},
     "output_type": "execute_result"
    }
   ],
   "source": [
    "#seperating independent and dependent variables\n",
    "x1 = Loan_new_forward_30.drop(['good_bad_flag'], axis=1)\n",
    "y1 = Loan_new_forward_30['good_bad_flag'].replace({'Good':0, 'Bad':1})\n",
    "x1.shape, y1.shape"
   ]
  },
  {
   "cell_type": "code",
   "execution_count": 92,
   "metadata": {},
   "outputs": [],
   "source": [
    "x3_train, x3_test, y3_train, y3_test = train_test_split(x1, y1, random_state=101, test_size=0.2, stratify=y1)\n",
    "\n",
    "from sklearn.preprocessing import StandardScaler\n",
    "scaler = StandardScaler()\n",
    "x3_train_scaled = scaler.fit_transform(x3_train)\n",
    "x3_train = pd.DataFrame(x3_train_scaled, columns=x3_train.columns)\n",
    "\n",
    "x3_test_scaled = scaler.transform(x3_test)\n",
    "x3_test = pd.DataFrame(x3_test_scaled, columns=x3_test.columns)"
   ]
  },
  {
   "cell_type": "code",
   "execution_count": 93,
   "metadata": {},
   "outputs": [
    {
     "name": "stdout",
     "output_type": "stream",
     "text": [
      "Test F1 Score     0.2258064516129032\n"
     ]
    }
   ],
   "source": [
    "# Creating instance of KNN\n",
    "clf = KNN(n_neighbors = 10)\n",
    "\n",
    "# Fitting the model\n",
    "clf.fit(x3_train, y3_train)\n",
    "\n",
    "# Predicting over the Train Set and calculating F1\n",
    "test_predict = clf.predict(x3_test)\n",
    "k = f1_score(test_predict, y3_test)\n",
    "print('Test F1 Score    ', k )"
   ]
  },
  {
   "cell_type": "code",
   "execution_count": 101,
   "metadata": {},
   "outputs": [],
   "source": [
    "def Elbow3(K):\n",
    "    #initiating empty list\n",
    "    test_error = []\n",
    "   \n",
    "    #training model for evey value of K\n",
    "    for i in K:\n",
    "        #Instance oh KNN\n",
    "        clf = KNN(n_neighbors = i)\n",
    "        clf.fit(x3_train, y3_train)\n",
    "        # Appending F1 scores to empty list claculated using the predictions\n",
    "        tmp = clf.predict(x3_test)\n",
    "        tmp = f1_score(tmp,y3_test)\n",
    "        error = 1-tmp\n",
    "        test_error.append(error)\n",
    "    \n",
    "    return test_error"
   ]
  },
  {
   "cell_type": "code",
   "execution_count": 102,
   "metadata": {},
   "outputs": [],
   "source": [
    "#Defining K range\n",
    "k = range(6,150)"
   ]
  },
  {
   "cell_type": "code",
   "execution_count": 103,
   "metadata": {},
   "outputs": [],
   "source": [
    "# calling above defined function\n",
    "test = Elbow3(k)"
   ]
  },
  {
   "cell_type": "code",
   "execution_count": 104,
   "metadata": {},
   "outputs": [
    {
     "data": {
      "text/plain": [
       "Text(0.5, 1.0, 'Elbow Curve for test')"
      ]
     },
     "execution_count": 104,
     "metadata": {},
     "output_type": "execute_result"
    },
    {
     "data": {
      "image/png": "[encoded data removed]",
      "text/plain": [
       "<Figure size 432x288 with 1 Axes>"
      ]
     },
     "metadata": {
      "needs_background": "light"
     },
     "output_type": "display_data"
    }
   ],
   "source": [
    "# plotting the Curves\n",
    "plt.plot(k, test)\n",
    "plt.xlabel('K Neighbors')\n",
    "plt.ylabel('Test error')\n",
    "plt.title('Elbow Curve for test')"
   ]
  },
  {
   "cell_type": "code",
   "execution_count": 105,
   "metadata": {},
   "outputs": [
    {
     "name": "stdout",
     "output_type": "stream",
     "text": [
      "Test F1 Score     0.28451882845188287\n"
     ]
    }
   ],
   "source": [
    "# Creating instance of KNN\n",
    "clf = KNN(n_neighbors = 40)\n",
    "\n",
    "# Fitting the model\n",
    "clf.fit(x3_train, y3_train)\n",
    "\n",
    "# Predicting over the Train Set and calculating F1\n",
    "test_predict = clf.predict(x3_test)\n",
    "k = f1_score(test_predict, y3_test)\n",
    "print('Test F1 Score    ', k )"
   ]
  },
  {
   "cell_type": "code",
   "execution_count": null,
   "metadata": {},
   "outputs": [],
   "source": []
  }
 ],
 "metadata": {
  "kernelspec": {
   "display_name": "Python 3",
   "language": "python",
   "name": "python3"
  },
  "language_info": {
   "codemirror_mode": {
    "name": "ipython",
    "version": 3
   },
   "file_extension": ".py",
   "mimetype": "text/x-python",
   "name": "python",
   "nbconvert_exporter": "python",
   "pygments_lexer": "ipython3",
   "version": "3.7.6"
  }
 },
 "nbformat": 4,
 "nbformat_minor": 4
}
