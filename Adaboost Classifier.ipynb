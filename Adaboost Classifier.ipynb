{
 "cells": [
  {
   "cell_type": "markdown",
   "metadata": {},
   "source": [
    "### INTRODUCTION"
   ]
  },
  {
   "cell_type": "markdown",
   "metadata": {},
   "source": [
    "AdaBoost uses an iterative approach to learn from the mistakes of weak classifiers, and turn them into strong ones"
   ]
  },
  {
   "attachments": {
    "image.png": {
     "image/png": "[encoded data removed]"
    }
   },
   "cell_type": "markdown",
   "metadata": {},
   "source": [
    "![image.png](attachment:image.png)"
   ]
  },
  {
   "cell_type": "markdown",
   "metadata": {},
   "source": [
    "# Importing Libraries"
   ]
  },
  {
   "cell_type": "code",
   "execution_count": 1,
   "metadata": {},
   "outputs": [],
   "source": [
    "#Importing required libraries\n",
    "import pandas as pd \n",
    "import numpy as np\n",
    "\n",
    "from sklearn.metrics import f1_score\n",
    "\n",
    "import warnings\n",
    "warnings.filterwarnings('ignore')"
   ]
  },
  {
   "cell_type": "markdown",
   "metadata": {},
   "source": [
    "### Loading the dataset"
   ]
  },
  {
   "cell_type": "code",
   "execution_count": 2,
   "metadata": {},
   "outputs": [],
   "source": [
    "#reading the data\n",
    "data=pd.read_csv('Loan data cleaned.csv')"
   ]
  },
  {
   "cell_type": "code",
   "execution_count": 3,
   "metadata": {},
   "outputs": [
    {
     "data": {
      "text/plain": [
       "(4368, 64)"
      ]
     },
     "execution_count": 3,
     "metadata": {},
     "output_type": "execute_result"
    }
   ],
   "source": [
    "#shape of the data\n",
    "data.shape"
   ]
  },
  {
   "cell_type": "code",
   "execution_count": 4,
   "metadata": {},
   "outputs": [
    {
     "data": {
      "text/html": [
       "<div>\n",
       "<style scoped>\n",
       "    .dataframe tbody tr th:only-of-type {\n",
       "        vertical-align: middle;\n",
       "    }\n",
       "\n",
       "    .dataframe tbody tr th {\n",
       "        vertical-align: top;\n",
       "    }\n",
       "\n",
       "    .dataframe thead th {\n",
       "        text-align: right;\n",
       "    }\n",
       "</style>\n",
       "<table border=\"1\" class=\"dataframe\">\n",
       "  <thead>\n",
       "    <tr style=\"text-align: right;\">\n",
       "      <th></th>\n",
       "      <th>loannumber</th>\n",
       "      <th>loanamount</th>\n",
       "      <th>totaldue</th>\n",
       "      <th>termdays</th>\n",
       "      <th>good_bad_flag</th>\n",
       "      <th>bank_account_type</th>\n",
       "      <th>longitude_gps</th>\n",
       "      <th>latitude_gps</th>\n",
       "      <th>bank_name_clients</th>\n",
       "      <th>employment_status_clients</th>\n",
       "      <th>...</th>\n",
       "      <th>ploan_additional charges_50%_x</th>\n",
       "      <th>ploan_additional charges_75%_x</th>\n",
       "      <th>ploan_additional charges_max_x</th>\n",
       "      <th>ploan_additional charges_mean_y</th>\n",
       "      <th>ploan_additional charges_min_y</th>\n",
       "      <th>ploan_additional charges_25%_y</th>\n",
       "      <th>ploan_additional charges_50%_y</th>\n",
       "      <th>ploan_additional charges_75%_y</th>\n",
       "      <th>ploan_additional charges_max_y</th>\n",
       "      <th>not_repaid_percentage</th>\n",
       "    </tr>\n",
       "  </thead>\n",
       "  <tbody>\n",
       "    <tr>\n",
       "      <th>0</th>\n",
       "      <td>12</td>\n",
       "      <td>30000.0</td>\n",
       "      <td>34500.0</td>\n",
       "      <td>30</td>\n",
       "      <td>Good</td>\n",
       "      <td>Other</td>\n",
       "      <td>3.432010</td>\n",
       "      <td>6.433055</td>\n",
       "      <td>Diamond Bank</td>\n",
       "      <td>Permanent</td>\n",
       "      <td>...</td>\n",
       "      <td>3800.000000</td>\n",
       "      <td>4500.000000</td>\n",
       "      <td>4500.000000</td>\n",
       "      <td>3900.000000</td>\n",
       "      <td>3000.000000</td>\n",
       "      <td>3400.000000</td>\n",
       "      <td>3800.000000</td>\n",
       "      <td>4500.000000</td>\n",
       "      <td>4500.000000</td>\n",
       "      <td>64.000000</td>\n",
       "    </tr>\n",
       "    <tr>\n",
       "      <th>1</th>\n",
       "      <td>2</td>\n",
       "      <td>15000.0</td>\n",
       "      <td>17250.0</td>\n",
       "      <td>30</td>\n",
       "      <td>Good</td>\n",
       "      <td>Savings</td>\n",
       "      <td>3.885298</td>\n",
       "      <td>7.320700</td>\n",
       "      <td>GT Bank</td>\n",
       "      <td>Permanent</td>\n",
       "      <td>...</td>\n",
       "      <td>2665.558293</td>\n",
       "      <td>3037.525723</td>\n",
       "      <td>3543.851778</td>\n",
       "      <td>2730.359972</td>\n",
       "      <td>2102.661161</td>\n",
       "      <td>2364.738902</td>\n",
       "      <td>2665.558293</td>\n",
       "      <td>3037.525723</td>\n",
       "      <td>3543.851778</td>\n",
       "      <td>63.573297</td>\n",
       "    </tr>\n",
       "    <tr>\n",
       "      <th>2</th>\n",
       "      <td>7</td>\n",
       "      <td>20000.0</td>\n",
       "      <td>22250.0</td>\n",
       "      <td>15</td>\n",
       "      <td>Good</td>\n",
       "      <td>Other</td>\n",
       "      <td>11.139350</td>\n",
       "      <td>10.292041</td>\n",
       "      <td>EcoBank</td>\n",
       "      <td>Permanent</td>\n",
       "      <td>...</td>\n",
       "      <td>1500.000000</td>\n",
       "      <td>1500.000000</td>\n",
       "      <td>3000.000000</td>\n",
       "      <td>1750.000000</td>\n",
       "      <td>1500.000000</td>\n",
       "      <td>1500.000000</td>\n",
       "      <td>1500.000000</td>\n",
       "      <td>1500.000000</td>\n",
       "      <td>3000.000000</td>\n",
       "      <td>50.000000</td>\n",
       "    </tr>\n",
       "    <tr>\n",
       "      <th>3</th>\n",
       "      <td>3</td>\n",
       "      <td>10000.0</td>\n",
       "      <td>11500.0</td>\n",
       "      <td>15</td>\n",
       "      <td>Good</td>\n",
       "      <td>Savings</td>\n",
       "      <td>3.985770</td>\n",
       "      <td>7.491708</td>\n",
       "      <td>First Bank</td>\n",
       "      <td>Permanent</td>\n",
       "      <td>...</td>\n",
       "      <td>2250.000000</td>\n",
       "      <td>2625.000000</td>\n",
       "      <td>3000.000000</td>\n",
       "      <td>2250.000000</td>\n",
       "      <td>1500.000000</td>\n",
       "      <td>1875.000000</td>\n",
       "      <td>2250.000000</td>\n",
       "      <td>2625.000000</td>\n",
       "      <td>3000.000000</td>\n",
       "      <td>0.000000</td>\n",
       "    </tr>\n",
       "    <tr>\n",
       "      <th>4</th>\n",
       "      <td>9</td>\n",
       "      <td>40000.0</td>\n",
       "      <td>44000.0</td>\n",
       "      <td>30</td>\n",
       "      <td>Good</td>\n",
       "      <td>Other</td>\n",
       "      <td>7.457913</td>\n",
       "      <td>9.076574</td>\n",
       "      <td>GT Bank</td>\n",
       "      <td>Permanent</td>\n",
       "      <td>...</td>\n",
       "      <td>3800.000000</td>\n",
       "      <td>5100.000000</td>\n",
       "      <td>9000.000000</td>\n",
       "      <td>4800.000000</td>\n",
       "      <td>3000.000000</td>\n",
       "      <td>3000.000000</td>\n",
       "      <td>3800.000000</td>\n",
       "      <td>5100.000000</td>\n",
       "      <td>9000.000000</td>\n",
       "      <td>100.000000</td>\n",
       "    </tr>\n",
       "  </tbody>\n",
       "</table>\n",
       "<p>5 rows × 64 columns</p>\n",
       "</div>"
      ],
      "text/plain": [
       "   loannumber  loanamount  totaldue  termdays good_bad_flag bank_account_type  \\\n",
       "0          12     30000.0   34500.0        30          Good             Other   \n",
       "1           2     15000.0   17250.0        30          Good           Savings   \n",
       "2           7     20000.0   22250.0        15          Good             Other   \n",
       "3           3     10000.0   11500.0        15          Good           Savings   \n",
       "4           9     40000.0   44000.0        30          Good             Other   \n",
       "\n",
       "   longitude_gps  latitude_gps bank_name_clients employment_status_clients  \\\n",
       "0       3.432010      6.433055      Diamond Bank                 Permanent   \n",
       "1       3.885298      7.320700           GT Bank                 Permanent   \n",
       "2      11.139350     10.292041           EcoBank                 Permanent   \n",
       "3       3.985770      7.491708        First Bank                 Permanent   \n",
       "4       7.457913      9.076574           GT Bank                 Permanent   \n",
       "\n",
       "   ...  ploan_additional charges_50%_x  ploan_additional charges_75%_x  \\\n",
       "0  ...                     3800.000000                     4500.000000   \n",
       "1  ...                     2665.558293                     3037.525723   \n",
       "2  ...                     1500.000000                     1500.000000   \n",
       "3  ...                     2250.000000                     2625.000000   \n",
       "4  ...                     3800.000000                     5100.000000   \n",
       "\n",
       "   ploan_additional charges_max_x  ploan_additional charges_mean_y  \\\n",
       "0                     4500.000000                      3900.000000   \n",
       "1                     3543.851778                      2730.359972   \n",
       "2                     3000.000000                      1750.000000   \n",
       "3                     3000.000000                      2250.000000   \n",
       "4                     9000.000000                      4800.000000   \n",
       "\n",
       "   ploan_additional charges_min_y  ploan_additional charges_25%_y  \\\n",
       "0                     3000.000000                     3400.000000   \n",
       "1                     2102.661161                     2364.738902   \n",
       "2                     1500.000000                     1500.000000   \n",
       "3                     1500.000000                     1875.000000   \n",
       "4                     3000.000000                     3000.000000   \n",
       "\n",
       "   ploan_additional charges_50%_y  ploan_additional charges_75%_y  \\\n",
       "0                     3800.000000                     4500.000000   \n",
       "1                     2665.558293                     3037.525723   \n",
       "2                     1500.000000                     1500.000000   \n",
       "3                     2250.000000                     2625.000000   \n",
       "4                     3800.000000                     5100.000000   \n",
       "\n",
       "   ploan_additional charges_max_y  not_repaid_percentage  \n",
       "0                     4500.000000              64.000000  \n",
       "1                     3543.851778              63.573297  \n",
       "2                     3000.000000              50.000000  \n",
       "3                     3000.000000               0.000000  \n",
       "4                     9000.000000             100.000000  \n",
       "\n",
       "[5 rows x 64 columns]"
      ]
     },
     "execution_count": 4,
     "metadata": {},
     "output_type": "execute_result"
    }
   ],
   "source": [
    "#first five rows of the data\n",
    "data.head()"
   ]
  },
  {
   "cell_type": "code",
   "execution_count": 5,
   "metadata": {},
   "outputs": [
    {
     "data": {
      "text/plain": [
       "loannumber                        0\n",
       "loanamount                        0\n",
       "totaldue                          0\n",
       "termdays                          0\n",
       "good_bad_flag                     0\n",
       "                                 ..\n",
       "ploan_additional charges_25%_y    0\n",
       "ploan_additional charges_50%_y    0\n",
       "ploan_additional charges_75%_y    0\n",
       "ploan_additional charges_max_y    0\n",
       "not_repaid_percentage             0\n",
       "Length: 64, dtype: int64"
      ]
     },
     "execution_count": 5,
     "metadata": {},
     "output_type": "execute_result"
    }
   ],
   "source": [
    "#checking missing values in the data\n",
    "data.isnull().sum()"
   ]
  },
  {
   "cell_type": "code",
   "execution_count": 6,
   "metadata": {},
   "outputs": [],
   "source": [
    "#make dummies of categorical columns('bank_account_type','bank_name_clients','employment_status_clients')\n",
    "data=pd.get_dummies(data=data,columns=['bank_account_type','bank_name_clients','employment_status_clients'],drop_first=True)"
   ]
  },
  {
   "cell_type": "markdown",
   "metadata": {},
   "source": [
    "### Separating independent and dependent variables."
   ]
  },
  {
   "cell_type": "code",
   "execution_count": 7,
   "metadata": {},
   "outputs": [],
   "source": [
    "x = data.drop(['good_bad_flag'], axis=1)\n",
    "y = data['good_bad_flag'].replace({'Good':0, 'Bad':1})"
   ]
  },
  {
   "cell_type": "markdown",
   "metadata": {},
   "source": [
    "### Creating the train and test dataset"
   ]
  },
  {
   "cell_type": "code",
   "execution_count": 8,
   "metadata": {},
   "outputs": [],
   "source": [
    "#import the train-test split\n",
    "from sklearn.model_selection import train_test_split"
   ]
  },
  {
   "cell_type": "code",
   "execution_count": 9,
   "metadata": {},
   "outputs": [],
   "source": [
    "#divide into train and test sets\n",
    "train_x,test_x,train_y,test_y = train_test_split(x,y, random_state = 101, stratify=y)"
   ]
  },
  {
   "cell_type": "code",
   "execution_count": 10,
   "metadata": {},
   "outputs": [],
   "source": [
    "#Scalig the train and testing datasets\n",
    "from sklearn.preprocessing import StandardScaler\n",
    "scaler = StandardScaler()\n",
    "x_train_scaled = scaler.fit_transform(train_x)\n",
    "train_x = pd.DataFrame(x_train_scaled, columns=train_x.columns)\n",
    "\n",
    "x_test_scaled = scaler.transform(test_x)\n",
    "test_x = pd.DataFrame(x_test_scaled, columns=test_x.columns)"
   ]
  },
  {
   "cell_type": "markdown",
   "metadata": {},
   "source": [
    "## Building a Model"
   ]
  },
  {
   "cell_type": "code",
   "execution_count": 11,
   "metadata": {},
   "outputs": [],
   "source": [
    "from sklearn.ensemble import AdaBoostClassifier"
   ]
  },
  {
   "cell_type": "code",
   "execution_count": 12,
   "metadata": {},
   "outputs": [],
   "source": [
    "#creating an AdaBoost instance\n",
    "clf = AdaBoostClassifier(random_state=101)"
   ]
  },
  {
   "cell_type": "code",
   "execution_count": 13,
   "metadata": {},
   "outputs": [
    {
     "data": {
      "text/plain": [
       "AdaBoostClassifier(algorithm='SAMME.R', base_estimator=None, learning_rate=1.0,\n",
       "                   n_estimators=50, random_state=101)"
      ]
     },
     "execution_count": 13,
     "metadata": {},
     "output_type": "execute_result"
    }
   ],
   "source": [
    "#training the model\n",
    "clf.fit(train_x,train_y)"
   ]
  },
  {
   "cell_type": "code",
   "execution_count": 15,
   "metadata": {},
   "outputs": [],
   "source": [
    "pred_train=clf.predict(train_x)\n",
    "pred_test=clf.predict(test_x)"
   ]
  },
  {
   "cell_type": "code",
   "execution_count": 16,
   "metadata": {},
   "outputs": [],
   "source": [
    "f1_train=f1_score(train_y,pred_train)\n",
    "f1_test=f1_score(test_y,pred_test)"
   ]
  },
  {
   "cell_type": "code",
   "execution_count": 17,
   "metadata": {},
   "outputs": [
    {
     "data": {
      "text/plain": [
       "(0.36218905472636814, 0.30498533724340177)"
      ]
     },
     "execution_count": 17,
     "metadata": {},
     "output_type": "execute_result"
    }
   ],
   "source": [
    "f1_train,f1_test"
   ]
  },
  {
   "cell_type": "markdown",
   "metadata": {},
   "source": [
    "# Hyperparameter Tuning"
   ]
  },
  {
   "cell_type": "markdown",
   "metadata": {},
   "source": [
    "1. **base_estimator:** The model to ensemble. Default is decision tree.\n",
    "2. **n_estimators:** Total number of models to build.\n",
    "3. **learning_rate:** Shrinks the contribution of each classifier by this value.\n",
    "4. **random_state:** The random number seed so that same random numbers are generated every time."
   ]
  },
  {
   "cell_type": "markdown",
   "metadata": {},
   "source": [
    "### --Default DT"
   ]
  },
  {
   "cell_type": "code",
   "execution_count": 12,
   "metadata": {},
   "outputs": [],
   "source": [
    "from sklearn.tree import DecisionTreeClassifier as dt"
   ]
  },
  {
   "cell_type": "code",
   "execution_count": 14,
   "metadata": {},
   "outputs": [],
   "source": [
    "clf = AdaBoostClassifier(random_state=96, base_estimator=dt(max_depth=1,random_state=101),n_estimators=200,learning_rate=0.05)"
   ]
  },
  {
   "cell_type": "code",
   "execution_count": 15,
   "metadata": {},
   "outputs": [
    {
     "data": {
      "text/plain": [
       "AdaBoostClassifier(algorithm='SAMME.R',\n",
       "                   base_estimator=DecisionTreeClassifier(ccp_alpha=0.0,\n",
       "                                                         class_weight=None,\n",
       "                                                         criterion='gini',\n",
       "                                                         max_depth=1,\n",
       "                                                         max_features=None,\n",
       "                                                         max_leaf_nodes=None,\n",
       "                                                         min_impurity_decrease=0.0,\n",
       "                                                         min_impurity_split=None,\n",
       "                                                         min_samples_leaf=1,\n",
       "                                                         min_samples_split=2,\n",
       "                                                         min_weight_fraction_leaf=0.0,\n",
       "                                                         presort='deprecated',\n",
       "                                                         random_state=101,\n",
       "                                                         splitter='best'),\n",
       "                   learning_rate=0.05, n_estimators=200, random_state=96)"
      ]
     },
     "execution_count": 15,
     "metadata": {},
     "output_type": "execute_result"
    }
   ],
   "source": [
    "#training the model\n",
    "clf.fit(train_x,train_y)"
   ]
  },
  {
   "cell_type": "code",
   "execution_count": 16,
   "metadata": {},
   "outputs": [],
   "source": [
    "pred_train=clf.predict(train_x)\n",
    "pred_test=clf.predict(test_x)"
   ]
  },
  {
   "cell_type": "code",
   "execution_count": 17,
   "metadata": {},
   "outputs": [],
   "source": [
    "f1_train=f1_score(train_y,pred_train)\n",
    "f1_test=f1_score(test_y,pred_test)"
   ]
  },
  {
   "cell_type": "code",
   "execution_count": 18,
   "metadata": {},
   "outputs": [
    {
     "data": {
      "text/plain": [
       "(0.28289473684210525, 0.271523178807947)"
      ]
     },
     "execution_count": 18,
     "metadata": {},
     "output_type": "execute_result"
    }
   ],
   "source": [
    "f1_train,f1_test"
   ]
  },
  {
   "cell_type": "markdown",
   "metadata": {},
   "source": [
    "### --DT with tuned parameters"
   ]
  },
  {
   "cell_type": "code",
   "execution_count": 15,
   "metadata": {},
   "outputs": [],
   "source": [
    "from sklearn.tree import DecisionTreeClassifier as dt"
   ]
  },
  {
   "cell_type": "code",
   "execution_count": 158,
   "metadata": {},
   "outputs": [],
   "source": [
    "clf = AdaBoostClassifier(random_state=96, base_estimator=dt(class_weight='balanced',random_state=101,criterion='gini',max_depth=4,max_leaf_nodes=15,min_samples_split=30),n_estimators=200,learning_rate=0.05)"
   ]
  },
  {
   "cell_type": "code",
   "execution_count": 159,
   "metadata": {},
   "outputs": [
    {
     "data": {
      "text/plain": [
       "AdaBoostClassifier(algorithm='SAMME.R',\n",
       "                   base_estimator=DecisionTreeClassifier(ccp_alpha=0.0,\n",
       "                                                         class_weight='balanced',\n",
       "                                                         criterion='gini',\n",
       "                                                         max_depth=4,\n",
       "                                                         max_features=None,\n",
       "                                                         max_leaf_nodes=15,\n",
       "                                                         min_impurity_decrease=0.0,\n",
       "                                                         min_impurity_split=None,\n",
       "                                                         min_samples_leaf=1,\n",
       "                                                         min_samples_split=30,\n",
       "                                                         min_weight_fraction_leaf=0.0,\n",
       "                                                         presort='deprecated',\n",
       "                                                         random_state=101,\n",
       "                                                         splitter='best'),\n",
       "                   learning_rate=0.05, n_estimators=200, random_state=96)"
      ]
     },
     "execution_count": 159,
     "metadata": {},
     "output_type": "execute_result"
    }
   ],
   "source": [
    "#training the model\n",
    "clf.fit(train_x,train_y)"
   ]
  },
  {
   "cell_type": "code",
   "execution_count": 160,
   "metadata": {},
   "outputs": [],
   "source": [
    "pred_train=clf.predict(train_x)\n",
    "pred_test=clf.predict(test_x)"
   ]
  },
  {
   "cell_type": "code",
   "execution_count": 161,
   "metadata": {},
   "outputs": [],
   "source": [
    "f1_train=f1_score(train_y,pred_train)\n",
    "f1_test=f1_score(test_y,pred_test)"
   ]
  },
  {
   "cell_type": "code",
   "execution_count": 162,
   "metadata": {},
   "outputs": [
    {
     "data": {
      "text/plain": [
       "(0.7433628318584071, 0.40080160320641284)"
      ]
     },
     "execution_count": 162,
     "metadata": {},
     "output_type": "execute_result"
    }
   ],
   "source": [
    "f1_train,f1_test"
   ]
  },
  {
   "cell_type": "markdown",
   "metadata": {},
   "source": [
    "### --Default RF"
   ]
  },
  {
   "cell_type": "code",
   "execution_count": 20,
   "metadata": {},
   "outputs": [],
   "source": [
    "from sklearn.ensemble import RandomForestClassifier"
   ]
  },
  {
   "cell_type": "code",
   "execution_count": 21,
   "metadata": {},
   "outputs": [],
   "source": [
    "clf = AdaBoostClassifier(random_state=96, base_estimator=RandomForestClassifier(random_state=101),n_estimators=200, learning_rate=0.05)"
   ]
  },
  {
   "cell_type": "code",
   "execution_count": 22,
   "metadata": {},
   "outputs": [
    {
     "data": {
      "text/plain": [
       "AdaBoostClassifier(algorithm='SAMME.R',\n",
       "                   base_estimator=RandomForestClassifier(bootstrap=True,\n",
       "                                                         ccp_alpha=0.0,\n",
       "                                                         class_weight=None,\n",
       "                                                         criterion='gini',\n",
       "                                                         max_depth=None,\n",
       "                                                         max_features='auto',\n",
       "                                                         max_leaf_nodes=None,\n",
       "                                                         max_samples=None,\n",
       "                                                         min_impurity_decrease=0.0,\n",
       "                                                         min_impurity_split=None,\n",
       "                                                         min_samples_leaf=1,\n",
       "                                                         min_samples_split=2,\n",
       "                                                         min_weight_fraction_leaf=0.0,\n",
       "                                                         n_estimators=100,\n",
       "                                                         n_jobs=None,\n",
       "                                                         oob_score=False,\n",
       "                                                         random_state=101,\n",
       "                                                         verbose=0,\n",
       "                                                         warm_start=False),\n",
       "                   learning_rate=0.05, n_estimators=200, random_state=96)"
      ]
     },
     "execution_count": 22,
     "metadata": {},
     "output_type": "execute_result"
    }
   ],
   "source": [
    "#training the model\n",
    "clf.fit(train_x,train_y)"
   ]
  },
  {
   "cell_type": "code",
   "execution_count": 23,
   "metadata": {},
   "outputs": [],
   "source": [
    "pred_train=clf.predict(train_x)\n",
    "pred_test=clf.predict(test_x)"
   ]
  },
  {
   "cell_type": "code",
   "execution_count": 24,
   "metadata": {},
   "outputs": [],
   "source": [
    "f1_train=f1_score(train_y,pred_train)\n",
    "f1_test=f1_score(test_y,pred_test)"
   ]
  },
  {
   "cell_type": "code",
   "execution_count": 25,
   "metadata": {},
   "outputs": [
    {
     "data": {
      "text/plain": [
       "(1.0, 0.32628398791540786)"
      ]
     },
     "execution_count": 25,
     "metadata": {},
     "output_type": "execute_result"
    }
   ],
   "source": [
    "f1_train,f1_test"
   ]
  },
  {
   "cell_type": "markdown",
   "metadata": {},
   "source": [
    "### --Tuned RF"
   ]
  },
  {
   "cell_type": "code",
   "execution_count": 15,
   "metadata": {},
   "outputs": [],
   "source": [
    "from sklearn.ensemble import RandomForestClassifier"
   ]
  },
  {
   "cell_type": "code",
   "execution_count": 164,
   "metadata": {},
   "outputs": [],
   "source": [
    "clf = AdaBoostClassifier(random_state=96, base_estimator=RandomForestClassifier(random_state=96,class_weight='balanced',max_depth=4,max_leaf_nodes=15,min_samples_split=30),\n",
    "                         n_estimators=200, learning_rate=0.05)"
   ]
  },
  {
   "cell_type": "code",
   "execution_count": 165,
   "metadata": {},
   "outputs": [
    {
     "data": {
      "text/plain": [
       "AdaBoostClassifier(algorithm='SAMME.R',\n",
       "                   base_estimator=RandomForestClassifier(bootstrap=True,\n",
       "                                                         ccp_alpha=0.0,\n",
       "                                                         class_weight='balanced',\n",
       "                                                         criterion='gini',\n",
       "                                                         max_depth=4,\n",
       "                                                         max_features='auto',\n",
       "                                                         max_leaf_nodes=15,\n",
       "                                                         max_samples=None,\n",
       "                                                         min_impurity_decrease=0.0,\n",
       "                                                         min_impurity_split=None,\n",
       "                                                         min_samples_leaf=1,\n",
       "                                                         min_samples_split=30,\n",
       "                                                         min_weight_fraction_leaf=0.0,\n",
       "                                                         n_estimators=100,\n",
       "                                                         n_jobs=None,\n",
       "                                                         oob_score=False,\n",
       "                                                         random_state=96,\n",
       "                                                         verbose=0,\n",
       "                                                         warm_start=False),\n",
       "                   learning_rate=0.05, n_estimators=200, random_state=96)"
      ]
     },
     "execution_count": 165,
     "metadata": {},
     "output_type": "execute_result"
    }
   ],
   "source": [
    "#training the model\n",
    "clf.fit(train_x,train_y)"
   ]
  },
  {
   "cell_type": "code",
   "execution_count": 166,
   "metadata": {},
   "outputs": [],
   "source": [
    "pred_train=clf.predict(train_x)\n",
    "pred_test=clf.predict(test_x)"
   ]
  },
  {
   "cell_type": "code",
   "execution_count": 167,
   "metadata": {},
   "outputs": [],
   "source": [
    "f1_train=f1_score(train_y,pred_train)\n",
    "f1_test=f1_score(test_y,pred_test)"
   ]
  },
  {
   "cell_type": "code",
   "execution_count": 168,
   "metadata": {},
   "outputs": [
    {
     "data": {
      "text/plain": [
       "(0.6215420835785757, 0.428030303030303)"
      ]
     },
     "execution_count": 168,
     "metadata": {},
     "output_type": "execute_result"
    }
   ],
   "source": [
    "f1_train,f1_test"
   ]
  },
  {
   "cell_type": "markdown",
   "metadata": {},
   "source": [
    "-LR"
   ]
  },
  {
   "cell_type": "code",
   "execution_count": 127,
   "metadata": {},
   "outputs": [],
   "source": [
    "from sklearn.linear_model import LogisticRegression"
   ]
  },
  {
   "cell_type": "code",
   "execution_count": 154,
   "metadata": {},
   "outputs": [],
   "source": [
    "clf = AdaBoostClassifier(random_state=96, base_estimator=LogisticRegression(random_state=96,class_weight='balanced'),\n",
    "                         n_estimators=400, learning_rate=1.0)"
   ]
  },
  {
   "cell_type": "code",
   "execution_count": 155,
   "metadata": {},
   "outputs": [
    {
     "data": {
      "text/plain": [
       "AdaBoostClassifier(algorithm='SAMME.R',\n",
       "                   base_estimator=LogisticRegression(C=1.0,\n",
       "                                                     class_weight='balanced',\n",
       "                                                     dual=False,\n",
       "                                                     fit_intercept=True,\n",
       "                                                     intercept_scaling=1,\n",
       "                                                     l1_ratio=None,\n",
       "                                                     max_iter=100,\n",
       "                                                     multi_class='auto',\n",
       "                                                     n_jobs=None, penalty='l2',\n",
       "                                                     random_state=96,\n",
       "                                                     solver='lbfgs', tol=0.0001,\n",
       "                                                     verbose=0,\n",
       "                                                     warm_start=False),\n",
       "                   learning_rate=1.0, n_estimators=400, random_state=96)"
      ]
     },
     "execution_count": 155,
     "metadata": {},
     "output_type": "execute_result"
    }
   ],
   "source": [
    "#training the model\n",
    "clf.fit(train_x,train_y)"
   ]
  },
  {
   "cell_type": "code",
   "execution_count": 156,
   "metadata": {},
   "outputs": [],
   "source": [
    "pred_train=clf.predict(train_x)\n",
    "pred_test=clf.predict(test_x)"
   ]
  },
  {
   "cell_type": "code",
   "execution_count": 157,
   "metadata": {},
   "outputs": [
    {
     "data": {
      "text/plain": [
       "(0.6215420835785757, 0.428030303030303)"
      ]
     },
     "execution_count": 157,
     "metadata": {},
     "output_type": "execute_result"
    }
   ],
   "source": [
    "f1_train,f1_test"
   ]
  },
  {
   "cell_type": "markdown",
   "metadata": {},
   "source": [
    "--DT AS base estimator with depth 1"
   ]
  },
  {
   "cell_type": "code",
   "execution_count": 16,
   "metadata": {},
   "outputs": [],
   "source": [
    "clf = AdaBoostClassifier(random_state=96, base_estimator=dt(class_weight='balanced',random_state=101,criterion='gini',max_depth=1,max_leaf_nodes=15,min_samples_split=30),n_estimators=200,learning_rate=0.05)"
   ]
  },
  {
   "cell_type": "code",
   "execution_count": 17,
   "metadata": {},
   "outputs": [
    {
     "data": {
      "text/plain": [
       "AdaBoostClassifier(algorithm='SAMME.R',\n",
       "                   base_estimator=DecisionTreeClassifier(ccp_alpha=0.0,\n",
       "                                                         class_weight='balanced',\n",
       "                                                         criterion='gini',\n",
       "                                                         max_depth=1,\n",
       "                                                         max_features=None,\n",
       "                                                         max_leaf_nodes=15,\n",
       "                                                         min_impurity_decrease=0.0,\n",
       "                                                         min_impurity_split=None,\n",
       "                                                         min_samples_leaf=1,\n",
       "                                                         min_samples_split=30,\n",
       "                                                         min_weight_fraction_leaf=0.0,\n",
       "                                                         presort='deprecated',\n",
       "                                                         random_state=101,\n",
       "                                                         splitter='best'),\n",
       "                   learning_rate=0.05, n_estimators=200, random_state=96)"
      ]
     },
     "execution_count": 17,
     "metadata": {},
     "output_type": "execute_result"
    }
   ],
   "source": [
    "#training the model\n",
    "clf.fit(train_x,train_y)"
   ]
  },
  {
   "cell_type": "code",
   "execution_count": 18,
   "metadata": {},
   "outputs": [],
   "source": [
    "pred_train=clf.predict(train_x)\n",
    "pred_test=clf.predict(test_x)"
   ]
  },
  {
   "cell_type": "code",
   "execution_count": 19,
   "metadata": {},
   "outputs": [],
   "source": [
    "f1_train=f1_score(train_y,pred_train)\n",
    "f1_test=f1_score(test_y,pred_test)"
   ]
  },
  {
   "cell_type": "code",
   "execution_count": 20,
   "metadata": {},
   "outputs": [
    {
     "data": {
      "text/plain": [
       "(0.4817610062893081, 0.4615384615384615)"
      ]
     },
     "execution_count": 20,
     "metadata": {},
     "output_type": "execute_result"
    }
   ],
   "source": [
    "f1_train,f1_test"
   ]
  },
  {
   "cell_type": "markdown",
   "metadata": {},
   "source": [
    "--RF as a Base Estimator with depth 1"
   ]
  },
  {
   "cell_type": "code",
   "execution_count": 16,
   "metadata": {},
   "outputs": [],
   "source": [
    "clf = AdaBoostClassifier(random_state=96, base_estimator=RandomForestClassifier(random_state=96,class_weight='balanced',max_depth=1,max_leaf_nodes=15,min_samples_split=30),\n",
    "                         n_estimators=200, learning_rate=0.01)"
   ]
  },
  {
   "cell_type": "code",
   "execution_count": 17,
   "metadata": {},
   "outputs": [
    {
     "data": {
      "text/plain": [
       "AdaBoostClassifier(algorithm='SAMME.R',\n",
       "                   base_estimator=RandomForestClassifier(bootstrap=True,\n",
       "                                                         ccp_alpha=0.0,\n",
       "                                                         class_weight='balanced',\n",
       "                                                         criterion='gini',\n",
       "                                                         max_depth=1,\n",
       "                                                         max_features='auto',\n",
       "                                                         max_leaf_nodes=15,\n",
       "                                                         max_samples=None,\n",
       "                                                         min_impurity_decrease=0.0,\n",
       "                                                         min_impurity_split=None,\n",
       "                                                         min_samples_leaf=1,\n",
       "                                                         min_samples_split=30,\n",
       "                                                         min_weight_fraction_leaf=0.0,\n",
       "                                                         n_estimators=100,\n",
       "                                                         n_jobs=None,\n",
       "                                                         oob_score=False,\n",
       "                                                         random_state=96,\n",
       "                                                         verbose=0,\n",
       "                                                         warm_start=False),\n",
       "                   learning_rate=0.01, n_estimators=200, random_state=96)"
      ]
     },
     "execution_count": 17,
     "metadata": {},
     "output_type": "execute_result"
    }
   ],
   "source": [
    "#training the model\n",
    "clf.fit(train_x,train_y)"
   ]
  },
  {
   "cell_type": "code",
   "execution_count": 18,
   "metadata": {},
   "outputs": [],
   "source": [
    "pred_train=clf.predict(train_x)\n",
    "pred_test=clf.predict(test_x)"
   ]
  },
  {
   "cell_type": "code",
   "execution_count": 19,
   "metadata": {},
   "outputs": [],
   "source": [
    "f1_train=f1_score(train_y,pred_train)\n",
    "f1_test=f1_score(test_y,pred_test)"
   ]
  },
  {
   "cell_type": "code",
   "execution_count": 20,
   "metadata": {},
   "outputs": [
    {
     "data": {
      "text/plain": [
       "(0.4527829893683552, 0.436)"
      ]
     },
     "execution_count": 20,
     "metadata": {},
     "output_type": "execute_result"
    }
   ],
   "source": [
    "f1_train,f1_test"
   ]
  },
  {
   "cell_type": "code",
   "execution_count": null,
   "metadata": {},
   "outputs": [],
   "source": []
  }
 ],
 "metadata": {
  "kernelspec": {
   "display_name": "Python 3",
   "language": "python",
   "name": "python3"
  },
  "language_info": {
   "codemirror_mode": {
    "name": "ipython",
    "version": 3
   },
   "file_extension": ".py",
   "mimetype": "text/x-python",
   "name": "python",
   "nbconvert_exporter": "python",
   "pygments_lexer": "ipython3",
   "version": "3.7.6"
  }
 },
 "nbformat": 4,
 "nbformat_minor": 4
}
