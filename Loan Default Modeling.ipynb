{
 "cells": [
  {
   "cell_type": "markdown",
   "metadata": {},
   "source": [
    "# Loan Default \n",
    "\n"
   ]
  },
  {
   "cell_type": "markdown",
   "metadata": {},
   "source": [
    "SuperLender is a local digital lending company, which prides itself in its effective use of credit risk models to deliver profitable and high-impact loan alternative. Its assessment approach is based on two main risk drivers of loan default prediction:.\n",
    "- 1) willingness to pay and \n",
    "- 2) ability to pay. Since not all customers pay back, the company invests in experienced data scientist to build robust models to effectively predict the odds of repayment.\n",
    "\n",
    "These two fundamental drivers need to be determined at the point of each application to allow the credit grantor to make a calculated decision based on repayment odds, which in turn determines if an applicant should get a loan, and if so - what the size, price and tenure of the offer will be.\n",
    "\n",
    "There are two types of risk models in general: New business risk, which would be used to assess the risk of application(s) associated with the first loan that he/she applies. The second is a repeat or behaviour risk model, in which case the customer has been a client and applies for a repeat loan. In the latter case - we will have additional performance on how he/she repaid their prior loans, which we can incorporate into our risk model.\n",
    "\n",
    "**It is your job to predict if a loan was good or bad, i.e. accurately predict binary outcome variable, where Good is 0 and Bad is 1.**\n",
    "\n",
    "\n",
    "### 1.2 Description of the data\n",
    "\n",
    "There are 3 different datasets for both train and test\n",
    "\n",
    "#### 1.2.1 Demographic data (traindemographics.csv)\n",
    "- customerid (Primary key used to merge to other data)\n",
    "- birthdate (date of birth of the customer)\n",
    "- bank_account_type (type of primary bank account)\n",
    "- longitude_gps\n",
    "- latitude_gps\n",
    "- bank_name_clients (name of the bank)\n",
    "- bank_branch_clients (location of the branch - not compulsory - so missing in a lot of the cases)\n",
    "- employment_status_clients (type of employment that customer has)\n",
    "- level_of_education_clients (highest level of education)\n",
    "\n",
    "#### 1.2.2 Performance data (trainperf.csv) : \n",
    "This is the repeat loan that the customer has taken for which we need to predict the performance of. Basically, we need to predict if whether this loan would default given all previous loans and demographics of a customer.\n",
    "- customerid (Primary key used to merge to other data)\n",
    "- systemloanid (The id associated with the particular loan. The same customerId can have multiple systemloanid’s for each loan he/she has taken out)\n",
    "- loannumber (The number of the loan that you have to predict)\n",
    "- approveddate (Date that loan was approved)\n",
    "- creationdate (Date that loan application was created)\n",
    "- loanamount (Loan value taken)\n",
    "- totaldue (Total repayment required to settle the loan - this is the capital loan value disbursed +interest and fees)\n",
    "- termdays (Term of loan)\n",
    "- referredby (customerId of the customer that referred this person - is missing, then not referred)\n",
    "- good_bad_flag (good = settled loan on time; bad = did not settled loan on time) - this is the target variable that we need to predic\n",
    "\n",
    "#### 1.2.3 Previous loans data (trainprevloans.csv) : \n",
    "This dataset contains all previous loans that the customer had prior to the loan above that we want to predict the performance of. Each loan will have a different systemloanid, but the same customerid for each customer.\n",
    "\n",
    "- customerid (Primary key used to merge to other data)\n",
    "- systemloanid (The id associated with the particular loan. The same customerId can have multiple systemloanid’s for each loan he/she has taken out)\n",
    "- loannumber (The number of the loan that you have to predict)\n",
    "- approveddate (Date that loan was approved)\n",
    "- creationdate (Date that loan application was created)\n",
    "- loanamount (Date that loan application was created)\n",
    "- totaldue (Total repayment required to settle the loan - this is the capital loan value disbursed +interest and fees) termdays (Term of loan)\n",
    "- closeddate (Date that the loan was settled)\n",
    "- referredby (customerId of the customer that referred this person - is missing, then not refrerred)\n",
    "- firstduedate (Date of first payment due in cases where the term is longer than 30 days. So in the case where the term is 60+ days - then there are multiple monthly payments due - and this dates reflects the date of the first payment)\n",
    "- firstrepaiddate (Actual date that he/she paid the first payment as defined above)\n",
    "\n"
   ]
  },
  {
   "cell_type": "markdown",
   "metadata": {},
   "source": [
    "\n",
    "## Confusion Matrix for the problem statement:"
   ]
  },
  {
   "cell_type": "markdown",
   "metadata": {},
   "source": [
    "<img src='con matrix.jpg'/>"
   ]
  },
  {
   "cell_type": "markdown",
   "metadata": {},
   "source": [
    "**For our loan default problem:**\n",
    "\n",
    "**Precision:** Out of all the predicted customers as bad customers, what is the proportion that is actually bad?<br>\n",
    "**Recall:** Out of all the actual bad customers, what is the proportion that is predicted correctly?"
   ]
  },
  {
   "cell_type": "markdown",
   "metadata": {},
   "source": [
    "## Pre-Processing"
   ]
  },
  {
   "cell_type": "markdown",
   "metadata": {},
   "source": [
    "**Importing Libraries**"
   ]
  },
  {
   "cell_type": "code",
   "execution_count": 164,
   "metadata": {},
   "outputs": [],
   "source": [
    "import numpy as np \n",
    "import pandas as pd \n",
    "import seaborn as sns\n",
    "import matplotlib.pyplot as plt\n",
    "\n",
    "from sklearn.model_selection import train_test_split, cross_val_score, StratifiedKFold, GridSearchCV, RandomizedSearchCV\n",
    "from sklearn.metrics import classification_report, f1_score, precision_recall_curve, log_loss, roc_curve, auc,log_loss,confusion_matrix,plot_confusion_matrix,roc_auc_score\n",
    "from sklearn.linear_model import LogisticRegression\n",
    "from sklearn.neighbors import KNeighborsClassifier\n",
    "from sklearn.preprocessing import StandardScaler\n",
    "from sklearn.tree import DecisionTreeClassifier\n",
    "from sklearn.svm import SVC\n",
    "from sklearn.ensemble import GradientBoostingClassifier, BaggingClassifier\n",
    "\n",
    "import warnings\n",
    "warnings.filterwarnings('ignore')"
   ]
  },
  {
   "cell_type": "markdown",
   "metadata": {},
   "source": [
    "**Importing Libraries**"
   ]
  },
  {
   "cell_type": "code",
   "execution_count": 44,
   "metadata": {},
   "outputs": [
    {
     "data": {
      "text/html": [
       "<div>\n",
       "<style scoped>\n",
       "    .dataframe tbody tr th:only-of-type {\n",
       "        vertical-align: middle;\n",
       "    }\n",
       "\n",
       "    .dataframe tbody tr th {\n",
       "        vertical-align: top;\n",
       "    }\n",
       "\n",
       "    .dataframe thead th {\n",
       "        text-align: right;\n",
       "    }\n",
       "</style>\n",
       "<table border=\"1\" class=\"dataframe\">\n",
       "  <thead>\n",
       "    <tr style=\"text-align: right;\">\n",
       "      <th></th>\n",
       "      <th>loannumber</th>\n",
       "      <th>loanamount</th>\n",
       "      <th>totaldue</th>\n",
       "      <th>termdays</th>\n",
       "      <th>good_bad_flag</th>\n",
       "      <th>bank_account_type</th>\n",
       "      <th>longitude_gps</th>\n",
       "      <th>latitude_gps</th>\n",
       "      <th>bank_name_clients</th>\n",
       "      <th>employment_status_clients</th>\n",
       "      <th>...</th>\n",
       "      <th>ploan_additional charges_50%_x</th>\n",
       "      <th>ploan_additional charges_75%_x</th>\n",
       "      <th>ploan_additional charges_max_x</th>\n",
       "      <th>ploan_additional charges_mean_y</th>\n",
       "      <th>ploan_additional charges_min_y</th>\n",
       "      <th>ploan_additional charges_25%_y</th>\n",
       "      <th>ploan_additional charges_50%_y</th>\n",
       "      <th>ploan_additional charges_75%_y</th>\n",
       "      <th>ploan_additional charges_max_y</th>\n",
       "      <th>not_repaid_percentage</th>\n",
       "    </tr>\n",
       "  </thead>\n",
       "  <tbody>\n",
       "    <tr>\n",
       "      <th>0</th>\n",
       "      <td>12</td>\n",
       "      <td>30000.0</td>\n",
       "      <td>34500.0</td>\n",
       "      <td>30</td>\n",
       "      <td>Good</td>\n",
       "      <td>Other</td>\n",
       "      <td>3.432010</td>\n",
       "      <td>6.433055</td>\n",
       "      <td>Diamond Bank</td>\n",
       "      <td>Permanent</td>\n",
       "      <td>...</td>\n",
       "      <td>3800.000000</td>\n",
       "      <td>4500.000000</td>\n",
       "      <td>4500.000000</td>\n",
       "      <td>3900.000000</td>\n",
       "      <td>3000.000000</td>\n",
       "      <td>3400.000000</td>\n",
       "      <td>3800.000000</td>\n",
       "      <td>4500.000000</td>\n",
       "      <td>4500.000000</td>\n",
       "      <td>64.000000</td>\n",
       "    </tr>\n",
       "    <tr>\n",
       "      <th>1</th>\n",
       "      <td>2</td>\n",
       "      <td>15000.0</td>\n",
       "      <td>17250.0</td>\n",
       "      <td>30</td>\n",
       "      <td>Good</td>\n",
       "      <td>Savings</td>\n",
       "      <td>3.885298</td>\n",
       "      <td>7.320700</td>\n",
       "      <td>GT Bank</td>\n",
       "      <td>Permanent</td>\n",
       "      <td>...</td>\n",
       "      <td>2665.558293</td>\n",
       "      <td>3037.525723</td>\n",
       "      <td>3543.851778</td>\n",
       "      <td>2730.359972</td>\n",
       "      <td>2102.661161</td>\n",
       "      <td>2364.738902</td>\n",
       "      <td>2665.558293</td>\n",
       "      <td>3037.525723</td>\n",
       "      <td>3543.851778</td>\n",
       "      <td>63.573297</td>\n",
       "    </tr>\n",
       "    <tr>\n",
       "      <th>2</th>\n",
       "      <td>7</td>\n",
       "      <td>20000.0</td>\n",
       "      <td>22250.0</td>\n",
       "      <td>15</td>\n",
       "      <td>Good</td>\n",
       "      <td>Other</td>\n",
       "      <td>11.139350</td>\n",
       "      <td>10.292041</td>\n",
       "      <td>EcoBank</td>\n",
       "      <td>Permanent</td>\n",
       "      <td>...</td>\n",
       "      <td>1500.000000</td>\n",
       "      <td>1500.000000</td>\n",
       "      <td>3000.000000</td>\n",
       "      <td>1750.000000</td>\n",
       "      <td>1500.000000</td>\n",
       "      <td>1500.000000</td>\n",
       "      <td>1500.000000</td>\n",
       "      <td>1500.000000</td>\n",
       "      <td>3000.000000</td>\n",
       "      <td>50.000000</td>\n",
       "    </tr>\n",
       "    <tr>\n",
       "      <th>3</th>\n",
       "      <td>3</td>\n",
       "      <td>10000.0</td>\n",
       "      <td>11500.0</td>\n",
       "      <td>15</td>\n",
       "      <td>Good</td>\n",
       "      <td>Savings</td>\n",
       "      <td>3.985770</td>\n",
       "      <td>7.491708</td>\n",
       "      <td>First Bank</td>\n",
       "      <td>Permanent</td>\n",
       "      <td>...</td>\n",
       "      <td>2250.000000</td>\n",
       "      <td>2625.000000</td>\n",
       "      <td>3000.000000</td>\n",
       "      <td>2250.000000</td>\n",
       "      <td>1500.000000</td>\n",
       "      <td>1875.000000</td>\n",
       "      <td>2250.000000</td>\n",
       "      <td>2625.000000</td>\n",
       "      <td>3000.000000</td>\n",
       "      <td>0.000000</td>\n",
       "    </tr>\n",
       "    <tr>\n",
       "      <th>4</th>\n",
       "      <td>9</td>\n",
       "      <td>40000.0</td>\n",
       "      <td>44000.0</td>\n",
       "      <td>30</td>\n",
       "      <td>Good</td>\n",
       "      <td>Other</td>\n",
       "      <td>7.457913</td>\n",
       "      <td>9.076574</td>\n",
       "      <td>GT Bank</td>\n",
       "      <td>Permanent</td>\n",
       "      <td>...</td>\n",
       "      <td>3800.000000</td>\n",
       "      <td>5100.000000</td>\n",
       "      <td>9000.000000</td>\n",
       "      <td>4800.000000</td>\n",
       "      <td>3000.000000</td>\n",
       "      <td>3000.000000</td>\n",
       "      <td>3800.000000</td>\n",
       "      <td>5100.000000</td>\n",
       "      <td>9000.000000</td>\n",
       "      <td>100.000000</td>\n",
       "    </tr>\n",
       "  </tbody>\n",
       "</table>\n",
       "<p>5 rows × 64 columns</p>\n",
       "</div>"
      ],
      "text/plain": [
       "   loannumber  loanamount  totaldue  termdays good_bad_flag bank_account_type  \\\n",
       "0          12     30000.0   34500.0        30          Good             Other   \n",
       "1           2     15000.0   17250.0        30          Good           Savings   \n",
       "2           7     20000.0   22250.0        15          Good             Other   \n",
       "3           3     10000.0   11500.0        15          Good           Savings   \n",
       "4           9     40000.0   44000.0        30          Good             Other   \n",
       "\n",
       "   longitude_gps  latitude_gps bank_name_clients employment_status_clients  \\\n",
       "0       3.432010      6.433055      Diamond Bank                 Permanent   \n",
       "1       3.885298      7.320700           GT Bank                 Permanent   \n",
       "2      11.139350     10.292041           EcoBank                 Permanent   \n",
       "3       3.985770      7.491708        First Bank                 Permanent   \n",
       "4       7.457913      9.076574           GT Bank                 Permanent   \n",
       "\n",
       "   ...  ploan_additional charges_50%_x  ploan_additional charges_75%_x  \\\n",
       "0  ...                     3800.000000                     4500.000000   \n",
       "1  ...                     2665.558293                     3037.525723   \n",
       "2  ...                     1500.000000                     1500.000000   \n",
       "3  ...                     2250.000000                     2625.000000   \n",
       "4  ...                     3800.000000                     5100.000000   \n",
       "\n",
       "   ploan_additional charges_max_x  ploan_additional charges_mean_y  \\\n",
       "0                     4500.000000                      3900.000000   \n",
       "1                     3543.851778                      2730.359972   \n",
       "2                     3000.000000                      1750.000000   \n",
       "3                     3000.000000                      2250.000000   \n",
       "4                     9000.000000                      4800.000000   \n",
       "\n",
       "   ploan_additional charges_min_y  ploan_additional charges_25%_y  \\\n",
       "0                     3000.000000                     3400.000000   \n",
       "1                     2102.661161                     2364.738902   \n",
       "2                     1500.000000                     1500.000000   \n",
       "3                     1500.000000                     1875.000000   \n",
       "4                     3000.000000                     3000.000000   \n",
       "\n",
       "   ploan_additional charges_50%_y  ploan_additional charges_75%_y  \\\n",
       "0                     3800.000000                     4500.000000   \n",
       "1                     2665.558293                     3037.525723   \n",
       "2                     1500.000000                     1500.000000   \n",
       "3                     2250.000000                     2625.000000   \n",
       "4                     3800.000000                     5100.000000   \n",
       "\n",
       "   ploan_additional charges_max_y  not_repaid_percentage  \n",
       "0                     4500.000000              64.000000  \n",
       "1                     3543.851778              63.573297  \n",
       "2                     3000.000000              50.000000  \n",
       "3                     3000.000000               0.000000  \n",
       "4                     9000.000000             100.000000  \n",
       "\n",
       "[5 rows x 64 columns]"
      ]
     },
     "execution_count": 44,
     "metadata": {},
     "output_type": "execute_result"
    }
   ],
   "source": [
    "data = pd.read_csv('Loan data cleaned.csv')\n",
    "data.head()"
   ]
  },
  {
   "cell_type": "markdown",
   "metadata": {},
   "source": [
    "#### Checking the dtypes "
   ]
  },
  {
   "cell_type": "code",
   "execution_count": 45,
   "metadata": {},
   "outputs": [
    {
     "name": "stdout",
     "output_type": "stream",
     "text": [
      "loannumber \t int64\n",
      "loanamount \t float64\n",
      "totaldue \t float64\n",
      "termdays \t int64\n",
      "good_bad_flag \t object\n",
      "bank_account_type \t object\n",
      "longitude_gps \t float64\n",
      "latitude_gps \t float64\n",
      "bank_name_clients \t object\n",
      "employment_status_clients \t object\n",
      "approval_time \t float64\n",
      "creationdate_dow \t int64\n",
      "additional_charges \t float64\n",
      "is_referred \t int64\n",
      "age \t float64\n",
      "ploan_loanamount_mean \t float64\n",
      "ploan_loanamount_min \t float64\n",
      "ploan_loanamount_25% \t float64\n",
      "ploan_loanamount_50% \t float64\n",
      "ploan_loanamount_75% \t float64\n",
      "ploan_loanamount_max \t float64\n",
      "ploan_totaldue_mean \t float64\n",
      "ploan_totaldue_min \t float64\n",
      "ploan_totaldue_25% \t float64\n",
      "ploan_totaldue_50% \t float64\n",
      "ploan_totaldue_75% \t float64\n",
      "ploan_totaldue_max \t float64\n",
      "ploan_termdays_mean \t float64\n",
      "ploan_termdays_min \t float64\n",
      "ploan_termdays_25% \t float64\n",
      "ploan_termdays_50% \t float64\n",
      "ploan_termdays_75% \t float64\n",
      "ploan_termdays_max \t float64\n",
      "ploan_approval_time_mean \t float64\n",
      "ploan_approval_time_min \t float64\n",
      "ploan_approval_time_25% \t float64\n",
      "ploan_approval_time_50% \t float64\n",
      "ploan_approval_time_75% \t float64\n",
      "ploan_approval_time_max \t float64\n",
      "ploan_return_days_mean \t float64\n",
      "ploan_return_days_min \t float64\n",
      "ploan_return_days_25% \t float64\n",
      "ploan_return_days_50% \t float64\n",
      "ploan_return_days_75% \t float64\n",
      "ploan_return_days_max \t float64\n",
      "ploan_first_return_days_mean \t float64\n",
      "ploan_first_return_days_min \t float64\n",
      "ploan_first_return_days_25% \t float64\n",
      "ploan_first_return_days_50% \t float64\n",
      "ploan_first_return_days_75% \t float64\n",
      "ploan_first_return_days_max \t float64\n",
      "ploan_additional charges_mean_x \t float64\n",
      "ploan_additional charges_min_x \t float64\n",
      "ploan_additional charges_25%_x \t float64\n",
      "ploan_additional charges_50%_x \t float64\n",
      "ploan_additional charges_75%_x \t float64\n",
      "ploan_additional charges_max_x \t float64\n",
      "ploan_additional charges_mean_y \t float64\n",
      "ploan_additional charges_min_y \t float64\n",
      "ploan_additional charges_25%_y \t float64\n",
      "ploan_additional charges_50%_y \t float64\n",
      "ploan_additional charges_75%_y \t float64\n",
      "ploan_additional charges_max_y \t float64\n",
      "not_repaid_percentage \t float64\n"
     ]
    }
   ],
   "source": [
    "for i in data.columns:\n",
    "    print(i,'\\t',data[i].dtype)"
   ]
  },
  {
   "cell_type": "markdown",
   "metadata": {},
   "source": [
    "* Most of the variables are float and int type.\n",
    "* There are few variables that are object type, need to encode them before modeling."
   ]
  },
  {
   "cell_type": "markdown",
   "metadata": {},
   "source": [
    "**Checking for null values** "
   ]
  },
  {
   "cell_type": "code",
   "execution_count": 46,
   "metadata": {},
   "outputs": [
    {
     "data": {
      "text/plain": [
       "0"
      ]
     },
     "execution_count": 46,
     "metadata": {},
     "output_type": "execute_result"
    }
   ],
   "source": [
    "data.isnull().sum().sum()"
   ]
  },
  {
   "cell_type": "markdown",
   "metadata": {},
   "source": [
    "* No null values. The data is clean."
   ]
  },
  {
   "cell_type": "markdown",
   "metadata": {},
   "source": [
    "**Creating dummy variables for categorical Variables**\n",
    "<br><br>We can't directly use categorical variables in most of the machine learning algorithems. So we need to encode the categories and convert them to numeric or binary form. For ordinal variables we can directly convert the categories as per there order using label encoding but for nominal data if we use the same method then we are providing algorithem that there is a pattern of order in the nominal categories(which isn't the case). To over come this problem we need to convert these categories to a respective binary form either using pandas dummy variable or sklearns 1-hot encoding. "
   ]
  },
  {
   "cell_type": "markdown",
   "metadata": {},
   "source": [
    "**List of categories we are converting to 1-hot ecoding:**\n",
    "<br>creationdate_dow<br>bank_account_type<br>bank_name_clients<br>employment_status_clients"
   ]
  },
  {
   "cell_type": "code",
   "execution_count": 47,
   "metadata": {},
   "outputs": [
    {
     "data": {
      "text/html": [
       "<div>\n",
       "<style scoped>\n",
       "    .dataframe tbody tr th:only-of-type {\n",
       "        vertical-align: middle;\n",
       "    }\n",
       "\n",
       "    .dataframe tbody tr th {\n",
       "        vertical-align: top;\n",
       "    }\n",
       "\n",
       "    .dataframe thead th {\n",
       "        text-align: right;\n",
       "    }\n",
       "</style>\n",
       "<table border=\"1\" class=\"dataframe\">\n",
       "  <thead>\n",
       "    <tr style=\"text-align: right;\">\n",
       "      <th></th>\n",
       "      <th>loannumber</th>\n",
       "      <th>loanamount</th>\n",
       "      <th>totaldue</th>\n",
       "      <th>termdays</th>\n",
       "      <th>good_bad_flag</th>\n",
       "      <th>longitude_gps</th>\n",
       "      <th>latitude_gps</th>\n",
       "      <th>approval_time</th>\n",
       "      <th>additional_charges</th>\n",
       "      <th>is_referred</th>\n",
       "      <th>...</th>\n",
       "      <th>bank_name_clients_Skye Bank</th>\n",
       "      <th>bank_name_clients_Stanbic IBTC</th>\n",
       "      <th>bank_name_clients_Standard Chartered</th>\n",
       "      <th>bank_name_clients_Sterling Bank</th>\n",
       "      <th>bank_name_clients_UBA</th>\n",
       "      <th>bank_name_clients_Union Bank</th>\n",
       "      <th>bank_name_clients_Unity Bank</th>\n",
       "      <th>bank_name_clients_Wema Bank</th>\n",
       "      <th>bank_name_clients_Zenith Bank</th>\n",
       "      <th>employment_status_clients_Permanent</th>\n",
       "    </tr>\n",
       "  </thead>\n",
       "  <tbody>\n",
       "    <tr>\n",
       "      <th>0</th>\n",
       "      <td>12</td>\n",
       "      <td>30000.0</td>\n",
       "      <td>34500.0</td>\n",
       "      <td>30</td>\n",
       "      <td>Good</td>\n",
       "      <td>3.432010</td>\n",
       "      <td>6.433055</td>\n",
       "      <td>1.00</td>\n",
       "      <td>4500.0</td>\n",
       "      <td>0</td>\n",
       "      <td>...</td>\n",
       "      <td>0</td>\n",
       "      <td>0</td>\n",
       "      <td>0</td>\n",
       "      <td>0</td>\n",
       "      <td>0</td>\n",
       "      <td>0</td>\n",
       "      <td>0</td>\n",
       "      <td>0</td>\n",
       "      <td>0</td>\n",
       "      <td>1</td>\n",
       "    </tr>\n",
       "    <tr>\n",
       "      <th>1</th>\n",
       "      <td>2</td>\n",
       "      <td>15000.0</td>\n",
       "      <td>17250.0</td>\n",
       "      <td>30</td>\n",
       "      <td>Good</td>\n",
       "      <td>3.885298</td>\n",
       "      <td>7.320700</td>\n",
       "      <td>1.01</td>\n",
       "      <td>2250.0</td>\n",
       "      <td>0</td>\n",
       "      <td>...</td>\n",
       "      <td>0</td>\n",
       "      <td>0</td>\n",
       "      <td>0</td>\n",
       "      <td>0</td>\n",
       "      <td>0</td>\n",
       "      <td>0</td>\n",
       "      <td>0</td>\n",
       "      <td>0</td>\n",
       "      <td>0</td>\n",
       "      <td>1</td>\n",
       "    </tr>\n",
       "    <tr>\n",
       "      <th>2</th>\n",
       "      <td>7</td>\n",
       "      <td>20000.0</td>\n",
       "      <td>22250.0</td>\n",
       "      <td>15</td>\n",
       "      <td>Good</td>\n",
       "      <td>11.139350</td>\n",
       "      <td>10.292041</td>\n",
       "      <td>1.00</td>\n",
       "      <td>2250.0</td>\n",
       "      <td>0</td>\n",
       "      <td>...</td>\n",
       "      <td>0</td>\n",
       "      <td>0</td>\n",
       "      <td>0</td>\n",
       "      <td>0</td>\n",
       "      <td>0</td>\n",
       "      <td>0</td>\n",
       "      <td>0</td>\n",
       "      <td>0</td>\n",
       "      <td>0</td>\n",
       "      <td>1</td>\n",
       "    </tr>\n",
       "    <tr>\n",
       "      <th>3</th>\n",
       "      <td>3</td>\n",
       "      <td>10000.0</td>\n",
       "      <td>11500.0</td>\n",
       "      <td>15</td>\n",
       "      <td>Good</td>\n",
       "      <td>3.985770</td>\n",
       "      <td>7.491708</td>\n",
       "      <td>1.00</td>\n",
       "      <td>1500.0</td>\n",
       "      <td>0</td>\n",
       "      <td>...</td>\n",
       "      <td>0</td>\n",
       "      <td>0</td>\n",
       "      <td>0</td>\n",
       "      <td>0</td>\n",
       "      <td>0</td>\n",
       "      <td>0</td>\n",
       "      <td>0</td>\n",
       "      <td>0</td>\n",
       "      <td>0</td>\n",
       "      <td>1</td>\n",
       "    </tr>\n",
       "    <tr>\n",
       "      <th>4</th>\n",
       "      <td>9</td>\n",
       "      <td>40000.0</td>\n",
       "      <td>44000.0</td>\n",
       "      <td>30</td>\n",
       "      <td>Good</td>\n",
       "      <td>7.457913</td>\n",
       "      <td>9.076574</td>\n",
       "      <td>1.00</td>\n",
       "      <td>4000.0</td>\n",
       "      <td>0</td>\n",
       "      <td>...</td>\n",
       "      <td>0</td>\n",
       "      <td>0</td>\n",
       "      <td>0</td>\n",
       "      <td>0</td>\n",
       "      <td>0</td>\n",
       "      <td>0</td>\n",
       "      <td>0</td>\n",
       "      <td>0</td>\n",
       "      <td>0</td>\n",
       "      <td>1</td>\n",
       "    </tr>\n",
       "  </tbody>\n",
       "</table>\n",
       "<p>5 rows × 86 columns</p>\n",
       "</div>"
      ],
      "text/plain": [
       "   loannumber  loanamount  totaldue  termdays good_bad_flag  longitude_gps  \\\n",
       "0          12     30000.0   34500.0        30          Good       3.432010   \n",
       "1           2     15000.0   17250.0        30          Good       3.885298   \n",
       "2           7     20000.0   22250.0        15          Good      11.139350   \n",
       "3           3     10000.0   11500.0        15          Good       3.985770   \n",
       "4           9     40000.0   44000.0        30          Good       7.457913   \n",
       "\n",
       "   latitude_gps  approval_time  additional_charges  is_referred  ...  \\\n",
       "0      6.433055           1.00              4500.0            0  ...   \n",
       "1      7.320700           1.01              2250.0            0  ...   \n",
       "2     10.292041           1.00              2250.0            0  ...   \n",
       "3      7.491708           1.00              1500.0            0  ...   \n",
       "4      9.076574           1.00              4000.0            0  ...   \n",
       "\n",
       "   bank_name_clients_Skye Bank  bank_name_clients_Stanbic IBTC  \\\n",
       "0                            0                               0   \n",
       "1                            0                               0   \n",
       "2                            0                               0   \n",
       "3                            0                               0   \n",
       "4                            0                               0   \n",
       "\n",
       "   bank_name_clients_Standard Chartered  bank_name_clients_Sterling Bank  \\\n",
       "0                                     0                                0   \n",
       "1                                     0                                0   \n",
       "2                                     0                                0   \n",
       "3                                     0                                0   \n",
       "4                                     0                                0   \n",
       "\n",
       "   bank_name_clients_UBA  bank_name_clients_Union Bank  \\\n",
       "0                      0                             0   \n",
       "1                      0                             0   \n",
       "2                      0                             0   \n",
       "3                      0                             0   \n",
       "4                      0                             0   \n",
       "\n",
       "   bank_name_clients_Unity Bank  bank_name_clients_Wema Bank  \\\n",
       "0                             0                            0   \n",
       "1                             0                            0   \n",
       "2                             0                            0   \n",
       "3                             0                            0   \n",
       "4                             0                            0   \n",
       "\n",
       "   bank_name_clients_Zenith Bank  employment_status_clients_Permanent  \n",
       "0                              0                                    1  \n",
       "1                              0                                    1  \n",
       "2                              0                                    1  \n",
       "3                              0                                    1  \n",
       "4                              0                                    1  \n",
       "\n",
       "[5 rows x 86 columns]"
      ]
     },
     "execution_count": 47,
     "metadata": {},
     "output_type": "execute_result"
    }
   ],
   "source": [
    "data = pd.get_dummies(data=data, columns=['creationdate_dow','bank_account_type', 'bank_name_clients', 'employment_status_clients'], drop_first=True)\n",
    "data.head()"
   ]
  },
  {
   "cell_type": "markdown",
   "metadata": {},
   "source": [
    "**Distribution of target(good_bad_flag)**"
   ]
  },
  {
   "cell_type": "code",
   "execution_count": 48,
   "metadata": {},
   "outputs": [
    {
     "data": {
      "text/plain": [
       "Good    78.205128\n",
       "Bad     21.794872\n",
       "Name: good_bad_flag, dtype: float64"
      ]
     },
     "execution_count": 48,
     "metadata": {},
     "output_type": "execute_result"
    }
   ],
   "source": [
    "data['good_bad_flag'].value_counts()/len(data['good_bad_flag'])*100"
   ]
  },
  {
   "cell_type": "markdown",
   "metadata": {},
   "source": [
    "**Dividing the data to train and test**"
   ]
  },
  {
   "cell_type": "code",
   "execution_count": 49,
   "metadata": {},
   "outputs": [],
   "source": [
    "x = data.drop('good_bad_flag', axis=1)\n",
    "y = data['good_bad_flag'].replace({'Good': 0, 'Bad': 1})\n",
    "\n",
    "x_train, x_test, y_train, y_test = train_test_split(x, y, random_state=101, test_size=0.25, stratify = y)"
   ]
  },
  {
   "cell_type": "markdown",
   "metadata": {},
   "source": [
    "**Note:** For our target variable good_bad_flag, If the person is bad(Not repaid the loan) we are considering it as class 1 and if the person is good(repaid the loan) then it falls under class 0."
   ]
  },
  {
   "cell_type": "markdown",
   "metadata": {},
   "source": [
    "#### Standardizing train and test data"
   ]
  },
  {
   "cell_type": "code",
   "execution_count": 50,
   "metadata": {},
   "outputs": [],
   "source": [
    "scaler = StandardScaler()\n",
    "\n",
    "x_train_scaled = scaler.fit_transform(x_train)\n",
    "x_train = pd.DataFrame(x_train_scaled, columns=x_train.columns)\n",
    "\n",
    "x_test_scaled = scaler.transform(x_test)\n",
    "x_test = pd.DataFrame(x_test_scaled, columns=x_test.columns)"
   ]
  },
  {
   "cell_type": "markdown",
   "metadata": {},
   "source": [
    "## Logistic Regression"
   ]
  },
  {
   "cell_type": "markdown",
   "metadata": {},
   "source": [
    "### Logistic Regression(with balanced class weights)"
   ]
  },
  {
   "cell_type": "code",
   "execution_count": 51,
   "metadata": {},
   "outputs": [],
   "source": [
    "def Prob_thresh(arr, thresh):\n",
    "    \n",
    "    #creating a dataframe for the probabilty column \n",
    "    prob_frame = pd.DataFrame(data=arr, columns=['Prob 0', 'Prob 1'])\n",
    "    prob_frame['Pred_val'] = prob_frame['Prob 1'].apply(lambda x: 1 if x>thresh else 0)\n",
    "    \n",
    "    return prob_frame['Pred_val']"
   ]
  },
  {
   "cell_type": "code",
   "execution_count": 209,
   "metadata": {},
   "outputs": [],
   "source": [
    "def Model_Prediction(x_train, y_train, x_test, y_test, model=LogisticRegression(),\n",
    "                     thresh=None, roc_curve=False, report=True, p_r_curve=False, con_mat=False):\n",
    "    \n",
    "    \"\"\"\n",
    "    Function that takes in train, test data and model and prints the f1 score for both training and testing set.\n",
    "    \"\"\"\n",
    "    \n",
    "    # Defining the model \n",
    "    logreg = model\n",
    "    \n",
    "    # training the model \n",
    "    logreg.fit(x_train, y_train)\n",
    "    \n",
    "    if thresh == None:\n",
    "        \n",
    "        #Predicting on train and test data\n",
    "        train_pred = logreg.predict(x_train)\n",
    "        test_pred = logreg.predict(x_test)\n",
    "        \n",
    "        #Predicting the probabilities of train and test\n",
    "        #train_prob = logreg.predict_proba(x_train)\n",
    "        #test_prob = logreg.predict_proba(x_test)\n",
    "        \n",
    "    else:\n",
    "        \n",
    "        #Predicting the probabilities of train and test\n",
    "        train_prob = logreg.predict_proba(x_train)\n",
    "        test_prob = logreg.predict_proba(x_test)\n",
    "        \n",
    "        #Predicting on train and test using optimal threshold\n",
    "        train_pred = Prob_thresh(train_prob, thresh)\n",
    "        test_pred = Prob_thresh(test_prob, thresh)\n",
    "        \n",
    "        \n",
    "    #Checking f1 scores for train and test data\n",
    "    train_f1 = f1_score(train_pred, y_train)\n",
    "    test_f1 = f1_score(test_pred, y_test)\n",
    "    \n",
    "    if report == True:\n",
    "        \n",
    "        #Printing the train and test scores\n",
    "        print('Training f1 score:', train_f1)\n",
    "        print('Testing f1 score:', test_f1)\n",
    "        print('\\t')\n",
    "        print('\\033[1mClassification Report for test data:\\033[0m')\n",
    "        print(classification_report(test_pred, y_test))\n",
    "        \n",
    "    if con_mat == True:\n",
    "        plt.figure(figsize=(2,2))\n",
    "        sns.set_style('white')\n",
    "        plot_confusion_matrix(logreg, x_test, y_test, values_format='d', display_labels=['Good', 'Bad'], cmap=plt.cm.Blues)\n",
    "    \n",
    "    if p_r_curve == True: \n",
    "        \n",
    "        #Ploting the precision-recall curve\n",
    "        precision, recall, thresholds = precision_recall_curve(y_test, test_prob[:,1])\n",
    "    \n",
    "        plt.figure(figsize=(6,5), dpi=100)\n",
    "        sns.set_style('whitegrid')\n",
    "        plt.plot(thresholds, precision[:-1], color='green', label='Precision Curve')\n",
    "        plt.plot(thresholds, recall[:-1], color='orange', label='Recall Curve')\n",
    "        plt.xlabel('Threshold Points')\n",
    "        plt.ylabel('F1-Score')\n",
    "        plt.title('Precision-Recall tradeoff')\n",
    "        plt.legend()\n",
    "        \n",
    "    if roc_curve == True:\n",
    "        \n",
    "        fpr, tpr, thresholds = roc_curve(y_test, test_prob[:,1])\n",
    "        auc_model = auc(fpr, tpr)\n",
    "        \n",
    "        plt.figure(figsize=(6, 5), dpi=100)\n",
    "        plt.plot(fpr, tpr, marker='.', label='(auc = %0.3f)' % auc_model)\n",
    "        plt.plot([0,1], [0,1], label= 'baseline', color= 'red')\n",
    "        plt.xlabel('False Positive Rate')\n",
    "        plt.ylabel('True Positive Rate')\n",
    "        plt.title('ROC-AUC Curve')\n",
    "        plt.legend()\n",
    "\n",
    "    return train_pred, test_pred, logreg\n",
    "    "
   ]
  },
  {
   "cell_type": "code",
   "execution_count": 54,
   "metadata": {},
   "outputs": [
    {
     "name": "stdout",
     "output_type": "stream",
     "text": [
      "Training f1 score: 0.4751269035532995\n",
      "Testing f1 score: 0.4338461538461539\n",
      "\t\n",
      "\u001b[1mClassification Report for test data:\u001b[0m\n",
      "              precision    recall  f1-score   support\n",
      "\n",
      "           0       0.68      0.86      0.76       680\n",
      "           1       0.59      0.34      0.43       412\n",
      "\n",
      "    accuracy                           0.66      1092\n",
      "   macro avg       0.64      0.60      0.60      1092\n",
      "weighted avg       0.65      0.66      0.64      1092\n",
      "\n"
     ]
    }
   ],
   "source": [
    "coef, lr_train_pred, lr_test_pred, logreg = Model_Prediction(x_train, y_train, x_test, y_test,\\\n",
    "                                                     model=LogisticRegression(class_weight='balanced',penalty='none'))"
   ]
  },
  {
   "cell_type": "markdown",
   "metadata": {},
   "source": [
    "**Observations:**\n",
    "* Training score is slightly higher than the testing score. This signifies the presence of overfitting but not much.\n",
    "* Through the classification report we can infer that the model is performing significantly well on 0 class but not as good for class 1.\n",
    "* For class 1 i.e. the bad customers, the recall is very low. This signifies that the model is not able to detect the people that are actually bad and our model is suggesting they are good.\n"
   ]
  },
  {
   "cell_type": "code",
   "execution_count": 12,
   "metadata": {},
   "outputs": [
    {
     "data": {
      "text/plain": [
       "(-0.7365518967642615, 1.1431723759123682, -0.02377947731611422)"
      ]
     },
     "execution_count": 12,
     "metadata": {},
     "output_type": "execute_result"
    }
   ],
   "source": [
    "#Checking minimum, maximum and mean values for coeficients\n",
    "coef.min(), coef.max(), coef.mean()"
   ]
  },
  {
   "cell_type": "code",
   "execution_count": 13,
   "metadata": {},
   "outputs": [],
   "source": [
    "def Coef_plot(x_train, coef, low=-0.2, high=0.2):\n",
    "\n",
    "    #Dataframe for coeficient values and variable names\n",
    "    Coefficients = pd.DataFrame({'Variable': x_train.columns,'coefficient' : coef.reshape(-1)})\n",
    "    \n",
    "    #Filtering values that are very small\n",
    "    Coefficients_filter = Coefficients[(Coefficients['coefficient'] < -0.2) | (Coefficients['coefficient'] > 0.2)]\n",
    "    Coefficients_filter = Coefficients_filter.sort_values(by='coefficient', ascending=False)\n",
    "    \n",
    "    #Ploting the filtered coeficients\n",
    "    plt.figure(figsize=(12, 4), dpi=120, facecolor='w', edgecolor='b')\n",
    "    plt.bar(Coefficients_filter['Variable'], Coefficients_filter['coefficient'])\n",
    "    plt.xlabel( \"Variables\")\n",
    "    plt.ylabel('Coefficients')\n",
    "    plt.title('Coefficient plot')\n",
    "    plt.xticks(rotation = 90)\n",
    "    plt.show()\n"
   ]
  },
  {
   "cell_type": "markdown",
   "metadata": {},
   "source": [
    "**Ploting the coefficients**"
   ]
  },
  {
   "cell_type": "code",
   "execution_count": 14,
   "metadata": {},
   "outputs": [
    {
     "data": {
      "image/png": "[encoded data removed]",
      "text/plain": [
       "<Figure size 1440x480 with 1 Axes>"
      ]
     },
     "metadata": {},
     "output_type": "display_data"
    }
   ],
   "source": [
    "Coef_plot(x_train, coef)"
   ]
  },
  {
   "cell_type": "markdown",
   "metadata": {},
   "source": [
    "**Observations:**\n",
    "* Values of coefficients is not very high(between the range -0.8 to 1.15).\n",
    "* ploan_termdays_mean has the highest cofficents values(1.14318).\n",
    "* Adding l2 penalty won't be very useful in this case. As the coeffient values is already very low and overfitting is very low.\n",
    "* But we'll still try and check what difference it makes to the model performance.\n",
    "* Using l1 penalty would be useful in this case. As it will nulify the affect of variables whose coeficients are very low."
   ]
  },
  {
   "cell_type": "markdown",
   "metadata": {},
   "source": [
    "### Logestic Regression(Ridge Penalty)"
   ]
  },
  {
   "cell_type": "code",
   "execution_count": 15,
   "metadata": {},
   "outputs": [],
   "source": [
    "# Setting the C value \n",
    "C_ridge = [10e10,10e8,10e4,1000,100,10,1,0.1,0.001,0.0001]\n",
    "\n",
    "#Initialize the dataframe for storing scores and coefficients.\n",
    "col = ['train_f1','test_f1']\n",
    "ind = ['C_%.2g'%C_ridge[i] for i in range(0,10)]\n",
    "coef_matrix_ridge = pd.DataFrame(index=ind, columns=col)"
   ]
  },
  {
   "cell_type": "code",
   "execution_count": 16,
   "metadata": {},
   "outputs": [
    {
     "data": {
      "text/html": [
       "<div>\n",
       "<style scoped>\n",
       "    .dataframe tbody tr th:only-of-type {\n",
       "        vertical-align: middle;\n",
       "    }\n",
       "\n",
       "    .dataframe tbody tr th {\n",
       "        vertical-align: top;\n",
       "    }\n",
       "\n",
       "    .dataframe thead th {\n",
       "        text-align: right;\n",
       "    }\n",
       "</style>\n",
       "<table border=\"1\" class=\"dataframe\">\n",
       "  <thead>\n",
       "    <tr style=\"text-align: right;\">\n",
       "      <th></th>\n",
       "      <th>train_f1</th>\n",
       "      <th>test_f1</th>\n",
       "    </tr>\n",
       "  </thead>\n",
       "  <tbody>\n",
       "    <tr>\n",
       "      <th>C_1e+11</th>\n",
       "      <td>0.475127</td>\n",
       "      <td>0.433846</td>\n",
       "    </tr>\n",
       "    <tr>\n",
       "      <th>C_1e+09</th>\n",
       "      <td>0.475368</td>\n",
       "      <td>0.433846</td>\n",
       "    </tr>\n",
       "    <tr>\n",
       "      <th>C_1e+05</th>\n",
       "      <td>0.472932</td>\n",
       "      <td>0.435583</td>\n",
       "    </tr>\n",
       "    <tr>\n",
       "      <th>C_1e+03</th>\n",
       "      <td>0.475025</td>\n",
       "      <td>0.427692</td>\n",
       "    </tr>\n",
       "    <tr>\n",
       "      <th>C_1e+02</th>\n",
       "      <td>0.477354</td>\n",
       "      <td>0.438356</td>\n",
       "    </tr>\n",
       "    <tr>\n",
       "      <th>C_10</th>\n",
       "      <td>0.473228</td>\n",
       "      <td>0.432515</td>\n",
       "    </tr>\n",
       "    <tr>\n",
       "      <th>C_1</th>\n",
       "      <td>0.472393</td>\n",
       "      <td>0.427692</td>\n",
       "    </tr>\n",
       "    <tr>\n",
       "      <th>C_0.1</th>\n",
       "      <td>0.471134</td>\n",
       "      <td>0.422665</td>\n",
       "    </tr>\n",
       "    <tr>\n",
       "      <th>C_0.001</th>\n",
       "      <td>0.45932</td>\n",
       "      <td>0.433697</td>\n",
       "    </tr>\n",
       "    <tr>\n",
       "      <th>C_0.0001</th>\n",
       "      <td>0.44246</td>\n",
       "      <td>0.406202</td>\n",
       "    </tr>\n",
       "  </tbody>\n",
       "</table>\n",
       "</div>"
      ],
      "text/plain": [
       "          train_f1   test_f1\n",
       "C_1e+11   0.475127  0.433846\n",
       "C_1e+09   0.475368  0.433846\n",
       "C_1e+05   0.472932  0.435583\n",
       "C_1e+03   0.475025  0.427692\n",
       "C_1e+02   0.477354  0.438356\n",
       "C_10      0.473228  0.432515\n",
       "C_1       0.472393  0.427692\n",
       "C_0.1     0.471134  0.422665\n",
       "C_0.001    0.45932  0.433697\n",
       "C_0.0001   0.44246  0.406202"
      ]
     },
     "execution_count": 16,
     "metadata": {},
     "output_type": "execute_result"
    }
   ],
   "source": [
    "# Generic function to perform ridge regression, visualizing it and getting the residuals \n",
    "def Ridge_reg(x_train, y_train, x_test, y_test, c):\n",
    "    \n",
    "    #Fitting the model \n",
    "    logit_reg = LogisticRegression(class_weight='balanced', C=c, penalty='l2')\n",
    "    logit_reg.fit(x_train,y_train)\n",
    "    pred_train = logit_reg.predict(x_train)\n",
    "    pred_test = logit_reg.predict(x_test)\n",
    "    \n",
    "    \n",
    "    #Return the result in pre-defined format\n",
    "    train_f1 = f1_score(y_train, pred_train)\n",
    "    ret = [train_f1]\n",
    "    \n",
    "    test_f1 = f1_score(y_test, pred_test)\n",
    "    ret.extend([test_f1])\n",
    "    \n",
    "    return ret\n",
    "\n",
    "for i in range(10):\n",
    "    coef_matrix_ridge.iloc[i,] = Ridge_reg(x_train, y_train, x_test, y_test, C_ridge[i])\n",
    "    \n",
    "coef_matrix_ridge"
   ]
  },
  {
   "cell_type": "markdown",
   "metadata": {},
   "source": [
    "**Obsevations:**\n",
    "* We are mostly getting similar score values for train and test with different penalty values.\n",
    "* Chosing C=1 as the final model for logistic ridge regression model as it has the most testing score. "
   ]
  },
  {
   "cell_type": "code",
   "execution_count": 17,
   "metadata": {},
   "outputs": [
    {
     "name": "stdout",
     "output_type": "stream",
     "text": [
      "Training f1 score: 0.47735368956743\n",
      "Testing f1 score: 0.4383561643835617\n",
      "\t\n",
      "\u001b[1mClassification Report for test data:\u001b[0m\n",
      "              precision    recall  f1-score   support\n",
      "\n",
      "           0       0.68      0.86      0.76       673\n",
      "           1       0.61      0.34      0.44       419\n",
      "\n",
      "    accuracy                           0.66      1092\n",
      "   macro avg       0.64      0.60      0.60      1092\n",
      "weighted avg       0.65      0.66      0.64      1092\n",
      "\n"
     ]
    }
   ],
   "source": [
    "coef, lr_train_pred, lr_test_pred = Model_Prediction(x_train, y_train, x_test, y_test, model=LogisticRegression(class_weight='balanced', C=100))"
   ]
  },
  {
   "cell_type": "markdown",
   "metadata": {},
   "source": [
    "**Observations:**\n",
    "* Similar as the normal logestic regression with little improvement in f1 socre."
   ]
  },
  {
   "cell_type": "markdown",
   "metadata": {},
   "source": [
    "#### Plotting the coefficients"
   ]
  },
  {
   "cell_type": "code",
   "execution_count": 18,
   "metadata": {},
   "outputs": [
    {
     "data": {
      "image/png": "[encoded data removed]",
      "text/plain": [
       "<Figure size 1440x480 with 1 Axes>"
      ]
     },
     "metadata": {},
     "output_type": "display_data"
    }
   ],
   "source": [
    "Coef_plot(x_train, coef)"
   ]
  },
  {
   "cell_type": "markdown",
   "metadata": {},
   "source": [
    "**Observations:**\n",
    "* There is not much difference between significance level of variables just the magnitude has been reduced a bit.    "
   ]
  },
  {
   "cell_type": "markdown",
   "metadata": {},
   "source": [
    "### Logistic Regression(Lasso Penatly)"
   ]
  },
  {
   "cell_type": "code",
   "execution_count": 19,
   "metadata": {},
   "outputs": [],
   "source": [
    "# Setting the C value \n",
    "C_lasso = [10e10,10e8,10e4,1000,100,10,1,0.1,0.001,0.0001]\n",
    "\n",
    "#Initialize the dataframe for storing scores and coefficients.\n",
    "col = ['train_f1','test_f1']\n",
    "ind = ['C_%.2g'%C_lasso[i] for i in range(0,10)]\n",
    "coef_matrix_lasso = pd.DataFrame(index=ind, columns=col)"
   ]
  },
  {
   "cell_type": "code",
   "execution_count": 20,
   "metadata": {},
   "outputs": [
    {
     "data": {
      "text/html": [
       "<div>\n",
       "<style scoped>\n",
       "    .dataframe tbody tr th:only-of-type {\n",
       "        vertical-align: middle;\n",
       "    }\n",
       "\n",
       "    .dataframe tbody tr th {\n",
       "        vertical-align: top;\n",
       "    }\n",
       "\n",
       "    .dataframe thead th {\n",
       "        text-align: right;\n",
       "    }\n",
       "</style>\n",
       "<table border=\"1\" class=\"dataframe\">\n",
       "  <thead>\n",
       "    <tr style=\"text-align: right;\">\n",
       "      <th></th>\n",
       "      <th>train_f1</th>\n",
       "      <th>test_f1</th>\n",
       "    </tr>\n",
       "  </thead>\n",
       "  <tbody>\n",
       "    <tr>\n",
       "      <th>C_1e+11</th>\n",
       "      <td>0.472746</td>\n",
       "      <td>0.431853</td>\n",
       "    </tr>\n",
       "    <tr>\n",
       "      <th>C_1e+09</th>\n",
       "      <td>0.472746</td>\n",
       "      <td>0.433588</td>\n",
       "    </tr>\n",
       "    <tr>\n",
       "      <th>C_1e+05</th>\n",
       "      <td>0.472505</td>\n",
       "      <td>0.434251</td>\n",
       "    </tr>\n",
       "    <tr>\n",
       "      <th>C_1e+03</th>\n",
       "      <td>0.473228</td>\n",
       "      <td>0.431193</td>\n",
       "    </tr>\n",
       "    <tr>\n",
       "      <th>C_1e+02</th>\n",
       "      <td>0.473228</td>\n",
       "      <td>0.434251</td>\n",
       "    </tr>\n",
       "    <tr>\n",
       "      <th>C_10</th>\n",
       "      <td>0.47269</td>\n",
       "      <td>0.431853</td>\n",
       "    </tr>\n",
       "    <tr>\n",
       "      <th>C_1</th>\n",
       "      <td>0.470046</td>\n",
       "      <td>0.430341</td>\n",
       "    </tr>\n",
       "    <tr>\n",
       "      <th>C_0.1</th>\n",
       "      <td>0.46622</td>\n",
       "      <td>0.423313</td>\n",
       "    </tr>\n",
       "    <tr>\n",
       "      <th>C_0.001</th>\n",
       "      <td>0</td>\n",
       "      <td>0</td>\n",
       "    </tr>\n",
       "    <tr>\n",
       "      <th>C_0.0001</th>\n",
       "      <td>0</td>\n",
       "      <td>0</td>\n",
       "    </tr>\n",
       "  </tbody>\n",
       "</table>\n",
       "</div>"
      ],
      "text/plain": [
       "          train_f1   test_f1\n",
       "C_1e+11   0.472746  0.431853\n",
       "C_1e+09   0.472746  0.433588\n",
       "C_1e+05   0.472505  0.434251\n",
       "C_1e+03   0.473228  0.431193\n",
       "C_1e+02   0.473228  0.434251\n",
       "C_10       0.47269  0.431853\n",
       "C_1       0.470046  0.430341\n",
       "C_0.1      0.46622  0.423313\n",
       "C_0.001          0         0\n",
       "C_0.0001         0         0"
      ]
     },
     "execution_count": 20,
     "metadata": {},
     "output_type": "execute_result"
    }
   ],
   "source": [
    "# Generic function to perform ridge regression, visualizing it and getting the residuals \n",
    "def Lasso_reg(x_train, y_train, x_test, y_test, c):\n",
    "    \n",
    "    #Fitting the model \n",
    "    logit_reg = LogisticRegression(class_weight='balanced', C=c, penalty='l1', solver='liblinear')\n",
    "    logit_reg.fit(x_train,y_train)\n",
    "    pred_train = logit_reg.predict(x_train)\n",
    "    pred_test = logit_reg.predict(x_test)\n",
    "    \n",
    "    \n",
    "    #Return the result in pre-defined format\n",
    "    train_f1 = f1_score(y_train, pred_train)\n",
    "    ret = [train_f1]\n",
    "    \n",
    "    test_f1 = f1_score(y_test, pred_test)\n",
    "    ret.extend([test_f1])\n",
    "    \n",
    "    return ret\n",
    "\n",
    "for i in range(10):\n",
    "    coef_matrix_lasso.iloc[i,] = Lasso_reg(x_train, y_train, x_test, y_test, C_lasso[i])\n",
    "    \n",
    "coef_matrix_lasso"
   ]
  },
  {
   "cell_type": "markdown",
   "metadata": {},
   "source": [
    "* Choosing C=1 as the penality for the ridge penality."
   ]
  },
  {
   "cell_type": "code",
   "execution_count": 21,
   "metadata": {},
   "outputs": [
    {
     "name": "stdout",
     "output_type": "stream",
     "text": [
      "Training f1 score: 0.47028688524590156\n",
      "Testing f1 score: 0.43034055727554177\n",
      "\t\n",
      "\u001b[1mClassification Report for test data:\u001b[0m\n",
      "              precision    recall  f1-score   support\n",
      "\n",
      "           0       0.69      0.86      0.76       684\n",
      "           1       0.58      0.34      0.43       408\n",
      "\n",
      "    accuracy                           0.66      1092\n",
      "   macro avg       0.63      0.60      0.60      1092\n",
      "weighted avg       0.65      0.66      0.64      1092\n",
      "\n"
     ]
    }
   ],
   "source": [
    "coef, lr_train_pred, lr_test_pred = Model_Prediction(x_train, y_train, x_test, y_test,\\\n",
    "                                                     model=LogisticRegression(class_weight='balanced', penalty='l1', C=1, solver='liblinear'))"
   ]
  },
  {
   "cell_type": "markdown",
   "metadata": {},
   "source": [
    "**Observations:**\n",
    "* Again, there is no improvement in the f1 score, precision and recall.\n",
    "* But using the lasso penality, many irrelevant variables got nulified. "
   ]
  },
  {
   "cell_type": "markdown",
   "metadata": {},
   "source": [
    "#### Plotting the coefficents"
   ]
  },
  {
   "cell_type": "code",
   "execution_count": 22,
   "metadata": {},
   "outputs": [
    {
     "data": {
      "image/png": "[encoded data removed]",
      "text/plain": [
       "<Figure size 1440x480 with 1 Axes>"
      ]
     },
     "metadata": {},
     "output_type": "display_data"
    }
   ],
   "source": [
    "Coef_plot(x_train, coef)"
   ]
  },
  {
   "cell_type": "markdown",
   "metadata": {},
   "source": [
    "**Observation:**\n",
    "* The magnitude and significance of the variables remained same.\n",
    "* Some of the variable's significance level got nullied. "
   ]
  },
  {
   "cell_type": "code",
   "execution_count": 23,
   "metadata": {},
   "outputs": [
    {
     "data": {
      "text/plain": [
       "16"
      ]
     },
     "execution_count": 23,
     "metadata": {},
     "output_type": "execute_result"
    }
   ],
   "source": [
    "sum(sum(coef == 0))"
   ]
  },
  {
   "cell_type": "markdown",
   "metadata": {},
   "source": [
    "* 16 variables coeficient values got nulified by the logistic regression with lasso penality."
   ]
  },
  {
   "cell_type": "markdown",
   "metadata": {},
   "source": [
    "### Precision-Recall Curve (for logistic regression)"
   ]
  },
  {
   "cell_type": "code",
   "execution_count": 25,
   "metadata": {},
   "outputs": [],
   "source": [
    "#Model_Prediction(x_train, y_train, x_test, y_test,\\\n",
    "#                 model=LogisticRegression(class_weight='balanced', penalty='l1',\\\n",
    "#                                          C=1, solver='liblinear'), p_r_curve=True, report=False)"
   ]
  },
  {
   "cell_type": "markdown",
   "metadata": {},
   "source": [
    "**Observation:**\n",
    "* We can clearly see the trade-off between precision and recall.\n",
    "* At threshold around 0.61, the precision is equal to recall and we have f1-score around 0.4.\n"
   ]
  },
  {
   "cell_type": "code",
   "execution_count": 26,
   "metadata": {},
   "outputs": [
    {
     "name": "stdout",
     "output_type": "stream",
     "text": [
      "Training f1 score: 0.4631147540983606\n",
      "Testing f1 score: 0.41632653061224495\n",
      "\t\n",
      "\u001b[1mClassification Report for test data:\u001b[0m\n",
      "              precision    recall  f1-score   support\n",
      "\n",
      "           0       0.82      0.84      0.83       840\n",
      "           1       0.43      0.40      0.42       252\n",
      "\n",
      "    accuracy                           0.74      1092\n",
      "   macro avg       0.63      0.62      0.62      1092\n",
      "weighted avg       0.73      0.74      0.74      1092\n",
      "\n"
     ]
    }
   ],
   "source": [
    "#Training model with 0.61 as the threshold for probabilities\n",
    "coef,lr_train_pred, lr_test_pred = Model_Prediction(x_train, y_train, x_test, y_test, model=LogisticRegression(class_weight='balanced', penalty='l1', solver='liblinear', C=1),thresh=0.61)"
   ]
  },
  {
   "cell_type": "markdown",
   "metadata": {},
   "source": [
    "**Observations:**\n",
    "* Although our f1-score has been reduced by 0.01 but we are able to increase the recall by significant amount.\n",
    "* Precision got recuced in order to compensate the recall value."
   ]
  },
  {
   "cell_type": "markdown",
   "metadata": {},
   "source": [
    "### Auc-Roc Curve"
   ]
  },
  {
   "cell_type": "code",
   "execution_count": 75,
   "metadata": {},
   "outputs": [
    {
     "ename": "NameError",
     "evalue": "name 'prob_test' is not defined",
     "output_type": "error",
     "traceback": [
      "\u001b[1;31m---------------------------------------------------------------------------\u001b[0m",
      "\u001b[1;31mNameError\u001b[0m                                 Traceback (most recent call last)",
      "\u001b[1;32m<ipython-input-75-5fdf16ff2280>\u001b[0m in \u001b[0;36m<module>\u001b[1;34m\u001b[0m\n\u001b[1;32m----> 1\u001b[1;33m \u001b[0mfpr\u001b[0m\u001b[1;33m,\u001b[0m \u001b[0mtpr\u001b[0m\u001b[1;33m,\u001b[0m \u001b[0mthresholds\u001b[0m \u001b[1;33m=\u001b[0m \u001b[0mroc_curve\u001b[0m\u001b[1;33m(\u001b[0m\u001b[0my_test\u001b[0m\u001b[1;33m,\u001b[0m \u001b[0mprob_test\u001b[0m\u001b[1;33m[\u001b[0m\u001b[1;33m:\u001b[0m\u001b[1;33m,\u001b[0m\u001b[1;36m1\u001b[0m\u001b[1;33m]\u001b[0m\u001b[1;33m)\u001b[0m\u001b[1;33m\u001b[0m\u001b[1;33m\u001b[0m\u001b[0m\n\u001b[0m\u001b[0;32m      2\u001b[0m \u001b[0mauc_logistic\u001b[0m \u001b[1;33m=\u001b[0m \u001b[0mauc\u001b[0m\u001b[1;33m(\u001b[0m\u001b[0mfpr\u001b[0m\u001b[1;33m,\u001b[0m \u001b[0mtpr\u001b[0m\u001b[1;33m)\u001b[0m\u001b[1;33m\u001b[0m\u001b[1;33m\u001b[0m\u001b[0m\n\u001b[0;32m      3\u001b[0m \u001b[1;33m\u001b[0m\u001b[0m\n\u001b[0;32m      4\u001b[0m \u001b[0mplt\u001b[0m\u001b[1;33m.\u001b[0m\u001b[0mfigure\u001b[0m\u001b[1;33m(\u001b[0m\u001b[0mfigsize\u001b[0m\u001b[1;33m=\u001b[0m\u001b[1;33m(\u001b[0m\u001b[1;36m6\u001b[0m\u001b[1;33m,\u001b[0m \u001b[1;36m5\u001b[0m\u001b[1;33m)\u001b[0m\u001b[1;33m,\u001b[0m \u001b[0mdpi\u001b[0m\u001b[1;33m=\u001b[0m\u001b[1;36m100\u001b[0m\u001b[1;33m)\u001b[0m\u001b[1;33m\u001b[0m\u001b[1;33m\u001b[0m\u001b[0m\n\u001b[0;32m      5\u001b[0m \u001b[0mplt\u001b[0m\u001b[1;33m.\u001b[0m\u001b[0mplot\u001b[0m\u001b[1;33m(\u001b[0m\u001b[0mfpr\u001b[0m\u001b[1;33m,\u001b[0m \u001b[0mtpr\u001b[0m\u001b[1;33m,\u001b[0m \u001b[0mmarker\u001b[0m\u001b[1;33m=\u001b[0m\u001b[1;34m'.'\u001b[0m\u001b[1;33m,\u001b[0m \u001b[0mlabel\u001b[0m\u001b[1;33m=\u001b[0m\u001b[1;34m'Logistic (auc = %0.3f)'\u001b[0m \u001b[1;33m%\u001b[0m \u001b[0mauc_logistic\u001b[0m\u001b[1;33m)\u001b[0m\u001b[1;33m\u001b[0m\u001b[1;33m\u001b[0m\u001b[0m\n",
      "\u001b[1;31mNameError\u001b[0m: name 'prob_test' is not defined"
     ]
    }
   ],
   "source": [
    "fpr, tpr, thresholds = roc_curve(y_test, prob_test[:,1])\n",
    "auc_logistic = auc(fpr, tpr)\n",
    "\n",
    "plt.figure(figsize=(6, 5), dpi=100)\n",
    "plt.plot(fpr, tpr, marker='.', label='Logistic (auc = %0.3f)' % auc_logistic)\n",
    "plt.plot([0,1], [0,1], label= 'baseline', color= 'red')\n",
    "plt.xlabel('False Positive Rate')\n",
    "plt.ylabel('True Positive Rate')\n",
    "plt.title('ROC-AUC Curve')\n",
    "\n",
    "plt.legend()"
   ]
  },
  {
   "cell_type": "markdown",
   "metadata": {},
   "source": [
    "**Observations:**\n",
    "* The AUC score for the logistic regression with ridge penalty is 0.690.\n",
    "* Not a very good score."
   ]
  },
  {
   "cell_type": "markdown",
   "metadata": {},
   "source": [
    "## KNN(K-Nearest Neighbor)"
   ]
  },
  {
   "cell_type": "markdown",
   "metadata": {},
   "source": [
    "### KNN(Default K-value)"
   ]
  },
  {
   "cell_type": "code",
   "execution_count": null,
   "metadata": {},
   "outputs": [],
   "source": [
    "knn_pred_train, knn_pred_test = Model_Prediction(x_train, y_train, x_test, y_test, model=KNeighborsClassifier(), mtype='knn')"
   ]
  },
  {
   "cell_type": "markdown",
   "metadata": {},
   "source": [
    "**Observations:**\n",
    "* Both training and testing score is very low.\n",
    "* Difference between f1-score of train and test data is very high. Model is overfitting.\n",
    "* The model is performing fairly well classifying class 0 i.e. Good customers.\n",
    "* Model is giving very low score for precision for class 1 i.e. Bad customers."
   ]
  },
  {
   "cell_type": "markdown",
   "metadata": {},
   "source": [
    "### KNN(Optimizing K)"
   ]
  },
  {
   "cell_type": "code",
   "execution_count": null,
   "metadata": {},
   "outputs": [],
   "source": [
    "def Knn_cross_val(x_train, y_train, k_range, weight='uniform', p=2, cv=5):\n",
    "    \n",
    "    \"\"\"\n",
    "    The fucntion performs kfold cross validation using KNN algoritham and plots \n",
    "    the mean f1 score and standerd daviation for different values of k \n",
    "    \"\"\"\n",
    "    \n",
    "    # List to store f1 scores for train and test \n",
    "    f1_val = []\n",
    "    f1_std = []\n",
    "    \n",
    "    for k in k_range:\n",
    "        \n",
    "        #Setting up the model parametes\n",
    "        knn = KNeighborsClassifier(weights=weight, n_neighbors=k, n_jobs=-1, p=p)\n",
    "        \n",
    "        #Fitting model on training data\n",
    "        score = cross_val_score(knn, X= x_train, y= y_train, cv=cv, scoring='f1')\n",
    "        \n",
    "        f1_val.append(score.mean())\n",
    "        f1_std.append(score.std())\n",
    "        \n",
    "    # Ploting mean f1_scores \n",
    "    plt.figure(figsize=(8,6))\n",
    "    plt.subplot(2,1,1)\n",
    "    plt.plot(k_range,f1_val, label='Validation Score', color='green', marker='o')\n",
    "    plt.ylabel('mean f1')\n",
    "    plt.legend()\n",
    "    plt.title('F1 score mean and std for different k values')\n",
    "    \n",
    "    # Ploting f1_scores standerd daviation\n",
    "    plt.subplot(2,1,2)\n",
    "    plt.plot(k_range, f1_std, label='Std of validation', color='red', marker='o')\n",
    "    plt.ylabel('f1 std')\n",
    "    plt.xlabel('K value')\n",
    "    plt.legend()\n",
    "    plt.tight_layout()"
   ]
  },
  {
   "cell_type": "markdown",
   "metadata": {},
   "source": [
    "#### Checking model performace for different values of k ranging from 1 to 49."
   ]
  },
  {
   "cell_type": "code",
   "execution_count": null,
   "metadata": {},
   "outputs": [],
   "source": [
    "Knn_cross_val(x_train, y_train, range(1,50), cv=7)"
   ]
  },
  {
   "cell_type": "markdown",
   "metadata": {},
   "source": [
    "**Observations:**\n",
    "* For k=1, mean f1 is highest and std is lowest but the model will probably underfit.\n",
    "* For k=3, mean f1 is hign but std is also highest(high variance), model will overfit.\n",
    "* For k=7, mean f1 is moderate but the std is relativly low.\n"
   ]
  },
  {
   "cell_type": "markdown",
   "metadata": {},
   "source": [
    "**Training model with k=7**"
   ]
  },
  {
   "cell_type": "code",
   "execution_count": null,
   "metadata": {},
   "outputs": [],
   "source": [
    "knn_pred_train, knn_pred_test= Model_Prediction(x_train, y_train, x_test, y_test, model=KNeighborsClassifier(n_neighbors=7), mtype='knn')"
   ]
  },
  {
   "cell_type": "markdown",
   "metadata": {},
   "source": [
    "**Observations:**\n",
    "* Overall f1 score has been reduced for k=7.\n",
    "* The model is less overfitting as compare to the default model.\n",
    "* Had to select few features and try to train the model."
   ]
  },
  {
   "cell_type": "markdown",
   "metadata": {},
   "source": [
    "### KNN with Forward Feature Selection"
   ]
  },
  {
   "cell_type": "code",
   "execution_count": null,
   "metadata": {},
   "outputs": [],
   "source": [
    "knn = KNeighborsClassifier(n_neighbors=7)\n",
    "from mlxtend.feature_selection import SequentialFeatureSelector as sfs\n",
    "sfs1 = sfs(estimator= knn,k_features=20, scoring='f1', verbose=1, n_jobs=-1)\n",
    "sfs1.fit(x_train, y_train)"
   ]
  },
  {
   "cell_type": "markdown",
   "metadata": {},
   "source": [
    "#### List of top 20 features for our knn model"
   ]
  },
  {
   "cell_type": "code",
   "execution_count": null,
   "metadata": {
    "scrolled": true
   },
   "outputs": [],
   "source": [
    "feat_names = list(sfs1.k_feature_names_)\n",
    "feat_names"
   ]
  },
  {
   "cell_type": "code",
   "execution_count": null,
   "metadata": {},
   "outputs": [],
   "source": [
    "#Creating new train and test dataframe that contain only the important variables for predictions\n",
    "x_train_selected = x_train[feat_names]\n",
    "x_test_selected = x_test[feat_names]"
   ]
  },
  {
   "cell_type": "code",
   "execution_count": null,
   "metadata": {},
   "outputs": [],
   "source": [
    "#Visualizing knn values to get optimal value of k\n",
    "Knn_cross_val(x_train_selected, y_train, range(1,50), cv=7)"
   ]
  },
  {
   "cell_type": "markdown",
   "metadata": {},
   "source": [
    "**Observations:**\n",
    "* At k=8, mean f1 score is highest but the std is also very high. The model will overfit.\n",
    "* At k=17, mean f1 score is relativly high but even with this std the model will overfit.\n",
    "* At k=24, mean f1 score is moderate but the std is lowest.\n"
   ]
  },
  {
   "cell_type": "markdown",
   "metadata": {},
   "source": [
    "#### Training model with k=24"
   ]
  },
  {
   "cell_type": "code",
   "execution_count": null,
   "metadata": {},
   "outputs": [],
   "source": [
    "knn_pred_train, knn_pred_test = Model_Prediction(x_train_selected, y_train, x_test_selected, y_test, model=KNeighborsClassifier(n_neighbors=24), mtype='knn')"
   ]
  },
  {
   "cell_type": "markdown",
   "metadata": {},
   "source": [
    "**Observation:**\n",
    "* There is slight improvement in the f1 score.\n",
    "* The overfiiting is also revaltivly lower.\n",
    "* Precision is very low.Need to find an optimal value for thresholds. "
   ]
  },
  {
   "cell_type": "markdown",
   "metadata": {},
   "source": [
    "### Precision-Recall Curve(for KNN)"
   ]
  },
  {
   "cell_type": "code",
   "execution_count": null,
   "metadata": {},
   "outputs": [],
   "source": [
    "#Getting probability values for train and test \n",
    "logreg = KNeighborsClassifier(n_neighbors=24)\n",
    "logreg.fit(x_train, y_train)\n",
    "prob_train = logreg.predict_proba(x_train)\n",
    "prob_test = logreg.predict_proba(x_test)"
   ]
  },
  {
   "cell_type": "code",
   "execution_count": null,
   "metadata": {},
   "outputs": [],
   "source": [
    "#Values for precision, recall and thresholds\n",
    "precision, recall, thresholds = precision_recall_curve(y_test, prob_test[:,1])\n",
    "\n",
    "#Ploting precision-recall curve\n",
    "plt.figure(figsize=(6,5), dpi=100)\n",
    "sns.set_style('whitegrid')\n",
    "plt.plot(thresholds, precision[:-1], color='green', label='Precision Curve')\n",
    "plt.plot(thresholds, recall[:-1], color='orange', label='Recall Curve')\n",
    "plt.xlabel('Threshold Points')\n",
    "plt.ylabel('F1-Score')\n",
    "plt.title('Precision-Recall tradeoff')\n",
    "plt.legend()"
   ]
  },
  {
   "cell_type": "markdown",
   "metadata": {},
   "source": [
    "* Graph suggests optimal value will be around 0.3"
   ]
  },
  {
   "cell_type": "code",
   "execution_count": null,
   "metadata": {},
   "outputs": [],
   "source": [
    "knn_pred_train, knn_pred_test = Model_Prediction(x_train, y_train, x_test, y_test, model=KNeighborsClassifier(n_neighbors=24),thresh=0.3, mtype='knn')"
   ]
  },
  {
   "cell_type": "markdown",
   "metadata": {},
   "source": [
    "Although the model is still overfitting but it is very lower than the default knn model. Also, we are able to improve the f1-score and precsion a bit."
   ]
  },
  {
   "cell_type": "code",
   "execution_count": null,
   "metadata": {},
   "outputs": [],
   "source": [
    "fpr, tpr, thresholds = roc_curve(y_test, prob_test[:,1])\n",
    "auc_knn = auc(fpr, tpr)\n",
    "\n",
    "plt.figure(figsize=(6, 5), dpi=100)\n",
    "plt.plot(fpr, tpr, marker='.', label='KNN (auc = %0.3f)' % auc_knn)\n",
    "plt.plot([0,1], [0,1], label= 'baseline', color= 'red')\n",
    "plt.xlabel('False Positive Rate')\n",
    "plt.ylabel('True Positive Rate')\n",
    "plt.title('ROC-AUC Curve')\n",
    "\n",
    "plt.legend()"
   ]
  },
  {
   "cell_type": "markdown",
   "metadata": {},
   "source": [
    "**Observations:**\n",
    "* The AUC score for the knn model with k=24 is 0.603.\n",
    "* AUC score is lower than the logestic regression.\n",
    "* Not a very good score."
   ]
  },
  {
   "cell_type": "markdown",
   "metadata": {},
   "source": [
    "## Decision Trees"
   ]
  },
  {
   "cell_type": "markdown",
   "metadata": {},
   "source": [
    "### Decision Tree(with default parameters)"
   ]
  },
  {
   "cell_type": "code",
   "execution_count": 64,
   "metadata": {},
   "outputs": [
    {
     "name": "stdout",
     "output_type": "stream",
     "text": [
      "Training f1 score: 1.0\n",
      "Testing f1 score: 0.33675564681724846\n",
      "\t\n",
      "\u001b[1mClassification Report for test data:\u001b[0m\n",
      "              precision    recall  f1-score   support\n",
      "\n",
      "           0       0.80      0.81      0.81       843\n",
      "           1       0.34      0.33      0.34       249\n",
      "\n",
      "    accuracy                           0.70      1092\n",
      "   macro avg       0.57      0.57      0.57      1092\n",
      "weighted avg       0.70      0.70      0.70      1092\n",
      "\n"
     ]
    }
   ],
   "source": [
    "dt_pred_train, dt_pred_test, dt = Model_Prediction(x_train, y_train, x_test, y_test, model= DecisionTreeClassifier(), mtype='dt')"
   ]
  },
  {
   "cell_type": "code",
   "execution_count": 29,
   "metadata": {},
   "outputs": [
    {
     "data": {
      "text/plain": [
       "DecisionTreeClassifier(ccp_alpha=0.0, class_weight=None, criterion='gini',\n",
       "                       max_depth=None, max_features=None, max_leaf_nodes=None,\n",
       "                       min_impurity_decrease=0.0, min_impurity_split=None,\n",
       "                       min_samples_leaf=1, min_samples_split=2,\n",
       "                       min_weight_fraction_leaf=0.0, presort='deprecated',\n",
       "                       random_state=None, splitter='best')"
      ]
     },
     "execution_count": 29,
     "metadata": {},
     "output_type": "execute_result"
    }
   ],
   "source": [
    "dt = DecisionTreeClassifier()\n",
    "dt.fit(x_train, y_train)"
   ]
  },
  {
   "cell_type": "code",
   "execution_count": 30,
   "metadata": {},
   "outputs": [],
   "source": [
    "top_features = pd.DataFrame({'Column Name': x_train.columns,'Column Importance': dt.feature_importances_})\\\n",
    "                .sort_values(by='Column Importance', ascending=False).reset_index(drop=True).iloc[:30,0]"
   ]
  },
  {
   "cell_type": "code",
   "execution_count": 31,
   "metadata": {},
   "outputs": [],
   "source": [
    "top_features = pd.Series.to_list(top_features)"
   ]
  },
  {
   "cell_type": "markdown",
   "metadata": {},
   "source": [
    "### Decision Tree(with tuned max depth)"
   ]
  },
  {
   "cell_type": "code",
   "execution_count": 32,
   "metadata": {},
   "outputs": [],
   "source": [
    "from sklearn.model_selection import StratifiedKFold\n",
    "\n",
    "def decision_tree(x, y, par_range, cv=5):\n",
    "    \n",
    "    mean_f1 = []\n",
    "    std_f1 = []\n",
    "    \n",
    "    for i in par_range:\n",
    "        dt = DecisionTreeClassifier(max_depth=i, random_state=101, class_weight='balanced')\n",
    "        score = cross_val_score(estimator=dt, X=x, y=y, cv=StratifiedKFold(n_splits=cv), n_jobs=-1, scoring='f1')\n",
    "        mean_f1.append(score.mean())\n",
    "        std_f1.append(score.std())\n",
    "        \n",
    "    # Ploting for f1_scores \n",
    "    plt.rcParams['figure.figsize'] = (10, 10)\n",
    "    plt.subplot(2,1,1)\n",
    "    plt.plot(par_range,mean_f1, label='Validation Score', color='green', marker='o')\n",
    "    plt.xticks()\n",
    "    plt.legend()\n",
    "    \n",
    "    plt.subplot(2,1,2)\n",
    "    plt.plot(par_range, std_f1, label='Std of validation', color='red', marker='o')\n",
    "    plt.xticks()  \n",
    "    plt.legend()\n",
    "    plt.tight_layout()"
   ]
  },
  {
   "cell_type": "code",
   "execution_count": 33,
   "metadata": {},
   "outputs": [
    {
     "data": {
      "image/png": "[encoded data removed]",
      "text/plain": [
       "<Figure size 720x720 with 2 Axes>"
      ]
     },
     "metadata": {
      "needs_background": "light"
     },
     "output_type": "display_data"
    }
   ],
   "source": [
    "decision_tree(x_train, y_train, range(2,40))"
   ]
  },
  {
   "cell_type": "code",
   "execution_count": 34,
   "metadata": {},
   "outputs": [
    {
     "name": "stdout",
     "output_type": "stream",
     "text": [
      "Training f1 score: 0.4997470915528578\n",
      "Testing f1 score: 0.44155844155844154\n",
      "\t\n",
      "\u001b[1mClassification Report for test data:\u001b[0m\n",
      "              precision    recall  f1-score   support\n",
      "\n",
      "           0       0.72      0.86      0.78       714\n",
      "           1       0.57      0.36      0.44       378\n",
      "\n",
      "    accuracy                           0.68      1092\n",
      "   macro avg       0.64      0.61      0.61      1092\n",
      "weighted avg       0.67      0.68      0.66      1092\n",
      "\n"
     ]
    }
   ],
   "source": [
    "dt_pred_train, dt_pred_test = Model_Prediction(x_train, y_train, x_test, y_test, model= DecisionTreeClassifier(max_depth=5, class_weight='balanced'), mtype='dt')"
   ]
  },
  {
   "cell_type": "markdown",
   "metadata": {},
   "source": [
    "### Decision Tree(with max depth and min sample split)"
   ]
  },
  {
   "cell_type": "code",
   "execution_count": 35,
   "metadata": {},
   "outputs": [
    {
     "name": "stdout",
     "output_type": "stream",
     "text": [
      "Fitting 5 folds for each of 600 candidates, totalling 3000 fits\n"
     ]
    },
    {
     "name": "stderr",
     "output_type": "stream",
     "text": [
      "[Parallel(n_jobs=-1)]: Using backend LokyBackend with 4 concurrent workers.\n",
      "[Parallel(n_jobs=-1)]: Done  76 tasks      | elapsed:    1.9s\n",
      "[Parallel(n_jobs=-1)]: Done 376 tasks      | elapsed:    8.9s\n",
      "[Parallel(n_jobs=-1)]: Done 876 tasks      | elapsed:   21.4s\n",
      "[Parallel(n_jobs=-1)]: Done 1576 tasks      | elapsed:   39.3s\n",
      "[Parallel(n_jobs=-1)]: Done 2476 tasks      | elapsed:  1.1min\n",
      "[Parallel(n_jobs=-1)]: Done 3000 out of 3000 | elapsed:  1.3min finished\n"
     ]
    }
   ],
   "source": [
    "param_grid= {'max_depth':[4,5,6,7,8], 'min_samples_split': [i for i in range(25,275, 25)],\n",
    "             'min_samples_leaf':[i for i in range(12,150, 12)]}\n",
    "\n",
    "dtc = DecisionTreeClassifier(class_weight='balanced')\n",
    "\n",
    "x_train_selected = x_train[top_features]\n",
    "x_test_selected = x_test[top_features]\n",
    "\n",
    "grid_search = GridSearchCV(estimator=dtc, param_grid=param_grid, scoring='f1', cv=StratifiedKFold(), n_jobs=-1, verbose=1).fit(x_train, y_train)"
   ]
  },
  {
   "cell_type": "code",
   "execution_count": 36,
   "metadata": {},
   "outputs": [
    {
     "data": {
      "text/plain": [
       "(0.4545685104785203,\n",
       " DecisionTreeClassifier(ccp_alpha=0.0, class_weight='balanced', criterion='gini',\n",
       "                        max_depth=8, max_features=None, max_leaf_nodes=None,\n",
       "                        min_impurity_decrease=0.0, min_impurity_split=None,\n",
       "                        min_samples_leaf=12, min_samples_split=50,\n",
       "                        min_weight_fraction_leaf=0.0, presort='deprecated',\n",
       "                        random_state=None, splitter='best'))"
      ]
     },
     "execution_count": 36,
     "metadata": {},
     "output_type": "execute_result"
    }
   ],
   "source": [
    "grid_search.best_score_, grid_search.best_estimator_"
   ]
  },
  {
   "cell_type": "code",
   "execution_count": 37,
   "metadata": {},
   "outputs": [
    {
     "name": "stdout",
     "output_type": "stream",
     "text": [
      "Training f1 score: 0.498960498960499\n",
      "Testing f1 score: 0.44073455759599334\n",
      "\t\n",
      "\u001b[1mClassification Report for test data:\u001b[0m\n",
      "              precision    recall  f1-score   support\n",
      "\n",
      "           0       0.73      0.85      0.79       731\n",
      "           1       0.55      0.37      0.44       361\n",
      "\n",
      "    accuracy                           0.69      1092\n",
      "   macro avg       0.64      0.61      0.61      1092\n",
      "weighted avg       0.67      0.69      0.67      1092\n",
      "\n"
     ]
    }
   ],
   "source": [
    "dt_pred_train, dt_pred_test = Model_Prediction(x_train_selected, y_train, x_test_selected, y_test,\\\n",
    "                                               model=DecisionTreeClassifier(max_depth=5, min_samples_split=50,\\\n",
    "                                              min_samples_leaf=12, class_weight='balanced'),mtype='dt')"
   ]
  },
  {
   "cell_type": "markdown",
   "metadata": {},
   "source": [
    "### Precesion Recall Curve"
   ]
  },
  {
   "cell_type": "code",
   "execution_count": null,
   "metadata": {},
   "outputs": [],
   "source": [
    "#Getting probability values for train and test \n",
    "logreg = DecisionTreeClassifier(max_depth=5, min_samples_split=50,\\\n",
    "                                              min_samples_leaf=12, class_weight='balanced')\n",
    "logreg.fit(x_train_selected, y_train)\n",
    "prob_train = logreg.predict_proba(x_train_selected)\n",
    "prob_test = logreg.predict_proba(x_test_selected)"
   ]
  },
  {
   "cell_type": "code",
   "execution_count": null,
   "metadata": {},
   "outputs": [],
   "source": [
    "#Values for precision, recall and thresholds\n",
    "precision, recall, thresholds = precision_recall_curve(y_test, prob_test[:,1])\n",
    "\n",
    "#Ploting precision-recall curve\n",
    "plt.figure(figsize=(6,5), dpi=100)\n",
    "sns.set_style('whitegrid')\n",
    "plt.plot(thresholds, precision[:-1], color='green', label='Precision Curve')\n",
    "plt.plot(thresholds, recall[:-1], color='orange', label='Recall Curve')\n",
    "plt.xlabel('Threshold Points')\n",
    "plt.ylabel('F1-Score')\n",
    "plt.title('Precision-Recall tradeoff')\n",
    "plt.legend()"
   ]
  },
  {
   "cell_type": "markdown",
   "metadata": {},
   "source": [
    "### ROC-AUC Score"
   ]
  },
  {
   "cell_type": "code",
   "execution_count": null,
   "metadata": {},
   "outputs": [],
   "source": [
    "fpr, tpr, thresholds = roc_curve(y_test, prob_test[:,1])\n",
    "auc_knn = auc(fpr, tpr)\n",
    "\n",
    "plt.figure(figsize=(6, 5), dpi=100)\n",
    "plt.plot(fpr, tpr, marker='.', label='Decision Tree (auc = %0.3f)' % auc_knn)\n",
    "plt.plot([0,1], [0,1], label= 'baseline', color= 'red')\n",
    "plt.xlabel('False Positive Rate')\n",
    "plt.ylabel('True Positive Rate')\n",
    "plt.title('ROC-AUC Curve')\n",
    "\n",
    "plt.legend()"
   ]
  },
  {
   "cell_type": "markdown",
   "metadata": {},
   "source": [
    "## Support Vector Machine"
   ]
  },
  {
   "cell_type": "markdown",
   "metadata": {},
   "source": [
    "### SVM(with linear kernal)"
   ]
  },
  {
   "cell_type": "code",
   "execution_count": 38,
   "metadata": {},
   "outputs": [
    {
     "name": "stdout",
     "output_type": "stream",
     "text": [
      "Training f1 score: 0.016597510373443983\n",
      "Testing f1 score: 0.008264462809917356\n",
      "\t\n",
      "\u001b[1mClassification Report for test data:\u001b[0m\n",
      "              precision    recall  f1-score   support\n",
      "\n",
      "           0       1.00      0.78      0.88      1088\n",
      "           1       0.00      0.25      0.01         4\n",
      "\n",
      "    accuracy                           0.78      1092\n",
      "   macro avg       0.50      0.52      0.44      1092\n",
      "weighted avg       0.99      0.78      0.87      1092\n",
      "\n"
     ]
    }
   ],
   "source": [
    "svm_pred_train, svm_pred_test = Model_Prediction(x_train, y_train, x_test, y_test, model=SVC(kernel= 'linear'), mtype='svm')\n"
   ]
  },
  {
   "cell_type": "markdown",
   "metadata": {},
   "source": [
    "**Observartions:**\n",
    "* The model is underfiiting as both train and test score is very low.\n",
    "* We are getting 0 f1 score for class 1.\n",
    "* Precision is also 0 and recall is only 0.25.\n",
    "* On the contrary model is predicting very good for the class 1.\n",
    "* As it is a class imbalance problem we might need to balance th weights so that model can capture patterns of minority class.\n"
   ]
  },
  {
   "cell_type": "markdown",
   "metadata": {},
   "source": [
    "### SVM(with linear kernal and balanced classes)"
   ]
  },
  {
   "cell_type": "code",
   "execution_count": 39,
   "metadata": {},
   "outputs": [
    {
     "name": "stdout",
     "output_type": "stream",
     "text": [
      "Training f1 score: 0.4768\n",
      "Testing f1 score: 0.44112769485903813\n",
      "\t\n",
      "\u001b[1mClassification Report for test data:\u001b[0m\n",
      "              precision    recall  f1-score   support\n",
      "\n",
      "           0       0.73      0.86      0.79       727\n",
      "           1       0.56      0.36      0.44       365\n",
      "\n",
      "    accuracy                           0.69      1092\n",
      "   macro avg       0.64      0.61      0.61      1092\n",
      "weighted avg       0.67      0.69      0.67      1092\n",
      "\n"
     ]
    }
   ],
   "source": [
    "svm_pred_train, svm_pred_test = Model_Prediction(x_train, y_train, x_test, y_test, model=SVC(kernel='linear', class_weight='balanced'), mtype='svm')"
   ]
  },
  {
   "cell_type": "markdown",
   "metadata": {},
   "source": [
    "**Observations:**\n",
    "* Both train and scores has been increased exponentially after balancing the weights for classes.\n",
    "* Precision and recall score also has been increased.\n"
   ]
  },
  {
   "cell_type": "markdown",
   "metadata": {},
   "source": [
    "**Using Top 30 features from decision tree**"
   ]
  },
  {
   "cell_type": "code",
   "execution_count": 40,
   "metadata": {},
   "outputs": [],
   "source": [
    "x_train_selected = x_train[top_features]\n",
    "x_test_selected = x_test[top_features]"
   ]
  },
  {
   "cell_type": "code",
   "execution_count": 41,
   "metadata": {},
   "outputs": [
    {
     "name": "stdout",
     "output_type": "stream",
     "text": [
      "Training f1 score: 0.44241119483315394\n",
      "Testing f1 score: 0.43986254295532645\n",
      "\t\n",
      "\u001b[1mClassification Report for test data:\u001b[0m\n",
      "              precision    recall  f1-score   support\n",
      "\n",
      "           0       0.75      0.85      0.80       748\n",
      "           1       0.54      0.37      0.44       344\n",
      "\n",
      "    accuracy                           0.70      1092\n",
      "   macro avg       0.64      0.61      0.62      1092\n",
      "weighted avg       0.68      0.70      0.68      1092\n",
      "\n"
     ]
    }
   ],
   "source": [
    "svm_pred_train, svm_pred_test =Model_Prediction(x_train_selected, y_train, x_test_selected, y_test, model=SVC(kernel='linear', class_weight='balanced'), mtype='svm')"
   ]
  },
  {
   "cell_type": "code",
   "execution_count": 42,
   "metadata": {},
   "outputs": [],
   "source": [
    "param_grid = {'C': [0.001,0.1,1.0,10,20, 100], 'gamma': [0.001,0.1,1.0,10,20,100]}"
   ]
  },
  {
   "cell_type": "code",
   "execution_count": 43,
   "metadata": {},
   "outputs": [],
   "source": [
    "svc = SVC(class_weight='balanced', kernel='linear')\n",
    "grid_search = GridSearchCV(estimator=svc, param_grid=param_grid, cv=StratifiedKFold(n_splits=4), scoring='f1', n_jobs=-1).fit(x_train_selected, y_train)"
   ]
  },
  {
   "cell_type": "code",
   "execution_count": 44,
   "metadata": {},
   "outputs": [
    {
     "data": {
      "text/plain": [
       "0.43982056388296814"
      ]
     },
     "execution_count": 44,
     "metadata": {},
     "output_type": "execute_result"
    }
   ],
   "source": [
    "grid_search.best_score_"
   ]
  },
  {
   "cell_type": "code",
   "execution_count": 45,
   "metadata": {},
   "outputs": [
    {
     "data": {
      "text/plain": [
       "{'C': 0.001, 'gamma': 0.001}"
      ]
     },
     "execution_count": 45,
     "metadata": {},
     "output_type": "execute_result"
    }
   ],
   "source": [
    "grid_search.best_params_"
   ]
  },
  {
   "cell_type": "code",
   "execution_count": 46,
   "metadata": {},
   "outputs": [],
   "source": [
    "svc = SVC(class_weight='balanced', kernel='rbf')\n",
    "grid_search = GridSearchCV(estimator=svc, param_grid=param_grid, cv=StratifiedKFold(n_splits=4), scoring='f1', n_jobs=-1).fit(x_train_selected, y_train)"
   ]
  },
  {
   "cell_type": "code",
   "execution_count": 48,
   "metadata": {},
   "outputs": [
    {
     "data": {
      "text/plain": [
       "(0.4457183918938438, {'C': 10, 'gamma': 0.001})"
      ]
     },
     "execution_count": 48,
     "metadata": {},
     "output_type": "execute_result"
    }
   ],
   "source": [
    "grid_search.best_score_, grid_search.best_params_\n"
   ]
  },
  {
   "cell_type": "code",
   "execution_count": 50,
   "metadata": {},
   "outputs": [
    {
     "name": "stdout",
     "output_type": "stream",
     "text": [
      "Training f1 score: 0.4611923509561304\n",
      "Testing f1 score: 0.4444444444444445\n",
      "\t\n",
      "\u001b[1mClassification Report for test data:\u001b[0m\n",
      "              precision    recall  f1-score   support\n",
      "\n",
      "           0       0.76      0.85      0.81       763\n",
      "           1       0.53      0.38      0.44       329\n",
      "\n",
      "    accuracy                           0.71      1092\n",
      "   macro avg       0.65      0.62      0.62      1092\n",
      "weighted avg       0.69      0.71      0.70      1092\n",
      "\n"
     ]
    }
   ],
   "source": [
    "svm_pred_train, svm_pred_test =Model_Prediction(x_train_selected, y_train, x_test_selected, y_test, model=SVC(kernel='rbf', class_weight='balanced', C=10, gamma=0.001), mtype='svm')"
   ]
  },
  {
   "cell_type": "markdown",
   "metadata": {},
   "source": [
    "## Ensemble Models"
   ]
  },
  {
   "cell_type": "markdown",
   "metadata": {},
   "source": [
    "### Max Voting:\n",
    "For max voting we going to take 4 models i.e.\n",
    "1. Logestic Regression\n",
    "2. KNN Classifier \n",
    "3. Decision Tree Classification\n",
    "4. SVM Classifier"
   ]
  },
  {
   "cell_type": "markdown",
   "metadata": {},
   "source": [
    "#### Logistic Regression Model"
   ]
  },
  {
   "cell_type": "code",
   "execution_count": null,
   "metadata": {},
   "outputs": [],
   "source": [
    "model1 = LogisticRegression(class_weight='balanced', penalty='l1', C=1, solver='liblinear')\n",
    "model1.fit(x_train_selected, y_train)\n",
    "pred1= model1.predict(x_test_selected)\n",
    "pred1[:10], f1_score(y_test, pred1)"
   ]
  },
  {
   "cell_type": "markdown",
   "metadata": {},
   "source": [
    "#### KNN Classifier Model"
   ]
  },
  {
   "cell_type": "code",
   "execution_count": null,
   "metadata": {},
   "outputs": [],
   "source": [
    "model2 = KNeighborsClassifier(n_neighbors=24)\n",
    "model2.fit(x_train_selected, y_train)\n",
    "pred2= model2.predict(x_test_selected)\n",
    "pred2[:10], f1_score(y_test, pred2)"
   ]
  },
  {
   "cell_type": "markdown",
   "metadata": {},
   "source": [
    "#### Decision Tree Model"
   ]
  },
  {
   "cell_type": "code",
   "execution_count": null,
   "metadata": {},
   "outputs": [],
   "source": [
    "model3 = DecisionTreeClassifier(max_depth=5, min_samples_split=50, min_samples_leaf=12, class_weight='balanced')\n",
    "model3.fit(x_train_selected, y_train)\n",
    "pred3= model3.predict(x_test_selected)\n",
    "pred3[:10], f1_score(y_test, pred3)"
   ]
  },
  {
   "cell_type": "markdown",
   "metadata": {},
   "source": [
    "#### SVM Classifier Model"
   ]
  },
  {
   "cell_type": "code",
   "execution_count": null,
   "metadata": {},
   "outputs": [],
   "source": [
    "model4 = SVC(kernel='linear', class_weight='balanced')\n",
    "model4.fit(x_train_selected, y_train)\n",
    "pred4= model4.predict(x_test_selected)\n",
    "pred4[:10], f1_score(y_test, pred4)"
   ]
  },
  {
   "cell_type": "markdown",
   "metadata": {},
   "source": [
    "#### Evaluating model performance using all the models"
   ]
  },
  {
   "cell_type": "code",
   "execution_count": null,
   "metadata": {},
   "outputs": [],
   "source": [
    "from statistics import mode\n",
    "final_pred = np.array([])\n",
    "for i in range(0,len(x_test)):\n",
    "    final_pred = np.append(final_pred, mode([pred1[i], pred2[i], pred3[i], pred4[i], pred1[i], pred3[i], pred4[i]]))"
   ]
  },
  {
   "cell_type": "code",
   "execution_count": null,
   "metadata": {},
   "outputs": [],
   "source": [
    "f1_score(y_test, final_pred)"
   ]
  },
  {
   "cell_type": "markdown",
   "metadata": {},
   "source": [
    "### Stacking: "
   ]
  },
  {
   "cell_type": "code",
   "execution_count": null,
   "metadata": {},
   "outputs": [],
   "source": [
    "#Creating a New train dataframe\n",
    "train_prediction = {\n",
    "              'LR': lr_train_pred,\n",
    "              'DT': dt_pred_train,\n",
    "              'knn': knn_pred_train,\n",
    "              'svm': svm_pred_train\n",
    "            }\n",
    "train_predictions = pd.DataFrame(train_prediction)\n",
    "train_predictions.head()"
   ]
  },
  {
   "cell_type": "code",
   "execution_count": null,
   "metadata": {},
   "outputs": [],
   "source": [
    "#Creating a New test dataframe\n",
    "test_prediction = {\n",
    "              'LR': lr_test_pred,\n",
    "              'DT': dt_pred_test,\n",
    "              'knn': knn_pred_test,\n",
    "              'svm': svm_pred_test\n",
    "            }\n",
    "test_predictions = pd.DataFrame(test_prediction)\n",
    "test_predictions.head()"
   ]
  },
  {
   "cell_type": "code",
   "execution_count": null,
   "metadata": {},
   "outputs": [],
   "source": [
    "# Stacker knn Model\n",
    "model = KNeighborsClassifier()\n",
    "model.fit(train_predictions, y_train)\n",
    "stack_pred_test = model.predict(test_predictions)\n",
    "f1_score(stack_pred_test,y_test)"
   ]
  },
  {
   "cell_type": "code",
   "execution_count": null,
   "metadata": {},
   "outputs": [],
   "source": [
    "# Stacker logistic regression Model\n",
    "model = LogisticRegression(class_weight='balanced')\n",
    "model.fit(train_predictions, y_train)\n",
    "stack_pred_test = model.predict(test_predictions)\n",
    "f1_score(stack_pred_test,y_test)"
   ]
  },
  {
   "cell_type": "markdown",
   "metadata": {},
   "source": [
    "### Stacking with StratifiedKFolds"
   ]
  },
  {
   "cell_type": "code",
   "execution_count": null,
   "metadata": {},
   "outputs": [],
   "source": [
    "from sklearn.model_selection import StratifiedKFold\n",
    "\n",
    "def kfold_predictions( model , n_splits , train_x , train_y, test_x ):\n",
    "    ## Initializing empty Numpy Arrays\n",
    "    train_pred = np.empty((0,0) , int)\n",
    "    skfold = StratifiedKFold(n_splits, random_state = 9)\n",
    "  \n",
    "    #For every permutation of KFold\n",
    "    for i,j in skfold.split(train_x, train_y):\n",
    "        x_train, x_test = train_x.iloc[i], train_x.iloc[j]\n",
    "        y_train, y_test = train_y.iloc[i], train_y.iloc[j]\n",
    "    \n",
    "        #Train a model on training set\n",
    "        model.fit( X = x_train, y = y_train)\n",
    "    \n",
    "        #Predict on Chosen Group\n",
    "        tmp = model.predict(x_test)\n",
    "    \n",
    "        #Storing train predictions\n",
    "        train_pred = np.append(train_pred, tmp)\n",
    "    \n",
    "    #Training on complete data and generating Predictionson Test set\n",
    "    model.fit(train_x, train_y)\n",
    "    test_pred = model.predict(test_x)\n",
    "  \n",
    "    return train_pred, test_pred"
   ]
  },
  {
   "cell_type": "markdown",
   "metadata": {},
   "source": [
    "#### Logestic Regression"
   ]
  },
  {
   "cell_type": "code",
   "execution_count": null,
   "metadata": {},
   "outputs": [],
   "source": [
    "LR = LogisticRegression(class_weight='balanced', penalty='l1', C=1, solver='liblinear')\n",
    "M1_train, M1_test = kfold_predictions( LR, 10, x_train_selected, y_train, x_test_selected) "
   ]
  },
  {
   "cell_type": "code",
   "execution_count": null,
   "metadata": {},
   "outputs": [],
   "source": [
    "KNN = KNeighborsClassifier(n_neighbors=24)\n",
    "M2_train, M2_test = kfold_predictions(KNN, 10, x_train_selected, y_train, x_test_selected) "
   ]
  },
  {
   "cell_type": "code",
   "execution_count": null,
   "metadata": {},
   "outputs": [],
   "source": [
    "DT = DecisionTreeClassifier(max_depth=5, min_samples_split=50, min_samples_leaf=12, class_weight='balanced')\n",
    "M3_train, M3_test = kfold_predictions(DT, 10, x_train_selected, y_train, x_test_selected) "
   ]
  },
  {
   "cell_type": "code",
   "execution_count": null,
   "metadata": {},
   "outputs": [],
   "source": [
    "SVM = SVC(kernel='linear', class_weight='balanced')\n",
    "M4_train, M4_test = kfold_predictions(SVM, 10, x_train_selected, y_train, x_test_selected) "
   ]
  },
  {
   "cell_type": "markdown",
   "metadata": {},
   "source": [
    "## Data Blending"
   ]
  },
  {
   "cell_type": "code",
   "execution_count": 52,
   "metadata": {},
   "outputs": [],
   "source": [
    "def blending(model, x_train, y_train, x_test):\n",
    "    #train validation split\n",
    "    train_x, valid_x, train_y, valid_y = train_test_split(x_train, y_train, random_state=101)\n",
    "    \n",
    "    #fit on training\n",
    "    model.fit(train_x, train_y)\n",
    "    \n",
    "    #predict on validation and test\n",
    "    valid_pred = model.predict(valid_x)\n",
    "    score= f1_score(valid_y, valid_pred)\n",
    "    print('Validation Score', score)\n",
    "    \n",
    "    test_pred=model.predict(x_test)\n",
    "    #return validation pred, test pred\n",
    "    return valid_pred, valid_y, test_pred"
   ]
  },
  {
   "cell_type": "code",
   "execution_count": 65,
   "metadata": {},
   "outputs": [
    {
     "name": "stdout",
     "output_type": "stream",
     "text": [
      "Validation Score 0.42677824267782427\n"
     ]
    }
   ],
   "source": [
    "#Model1 = Logistic Regression\n",
    "LR=LogisticRegression(class_weight='balanced', penalty='l1', C=1, solver='liblinear')\n",
    "M1_valid, M1_target, M1_test = blending(LR, x_train_selected, y_train, x_test_selected)"
   ]
  },
  {
   "cell_type": "code",
   "execution_count": 66,
   "metadata": {},
   "outputs": [
    {
     "name": "stdout",
     "output_type": "stream",
     "text": [
      "Validation Score 0.4269662921348315\n"
     ]
    }
   ],
   "source": [
    "#Model 2= Decision Tree\n",
    "DT=DecisionTreeClassifier(max_depth=5, min_samples_split=50, min_samples_leaf=12, class_weight='balanced')\n",
    "M2_valid, M2_target, M2_test = blending(DT, x_train, y_train, x_test)"
   ]
  },
  {
   "cell_type": "code",
   "execution_count": 67,
   "metadata": {},
   "outputs": [
    {
     "name": "stdout",
     "output_type": "stream",
     "text": [
      "Validation Score 0.1683168316831683\n"
     ]
    }
   ],
   "source": [
    "#Model 3 = K Nearest Neighbour\n",
    "knn=KNeighborsClassifier(n_neighbors=24)\n",
    "M3_valid, M3_target, M3_test = blending(knn, x_train, y_train, x_test)"
   ]
  },
  {
   "cell_type": "code",
   "execution_count": 68,
   "metadata": {},
   "outputs": [
    {
     "name": "stdout",
     "output_type": "stream",
     "text": [
      "Validation Score 0.42411642411642414\n"
     ]
    }
   ],
   "source": [
    "#Model 4 = Support Vector Machine\n",
    "svc= SVC(kernel='linear', class_weight='balanced')\n",
    "M4_valid, M4_target, M4_test = blending(svc, x_train, y_train, x_test)"
   ]
  },
  {
   "cell_type": "code",
   "execution_count": 71,
   "metadata": {},
   "outputs": [
    {
     "data": {
      "text/html": [
       "<div>\n",
       "<style scoped>\n",
       "    .dataframe tbody tr th:only-of-type {\n",
       "        vertical-align: middle;\n",
       "    }\n",
       "\n",
       "    .dataframe tbody tr th {\n",
       "        vertical-align: top;\n",
       "    }\n",
       "\n",
       "    .dataframe thead th {\n",
       "        text-align: right;\n",
       "    }\n",
       "</style>\n",
       "<table border=\"1\" class=\"dataframe\">\n",
       "  <thead>\n",
       "    <tr style=\"text-align: right;\">\n",
       "      <th></th>\n",
       "      <th>LR</th>\n",
       "      <th>DT</th>\n",
       "      <th>svm</th>\n",
       "    </tr>\n",
       "  </thead>\n",
       "  <tbody>\n",
       "    <tr>\n",
       "      <th>0</th>\n",
       "      <td>1</td>\n",
       "      <td>1</td>\n",
       "      <td>1</td>\n",
       "    </tr>\n",
       "    <tr>\n",
       "      <th>1</th>\n",
       "      <td>0</td>\n",
       "      <td>0</td>\n",
       "      <td>0</td>\n",
       "    </tr>\n",
       "    <tr>\n",
       "      <th>2</th>\n",
       "      <td>1</td>\n",
       "      <td>1</td>\n",
       "      <td>1</td>\n",
       "    </tr>\n",
       "    <tr>\n",
       "      <th>3</th>\n",
       "      <td>0</td>\n",
       "      <td>0</td>\n",
       "      <td>1</td>\n",
       "    </tr>\n",
       "    <tr>\n",
       "      <th>4</th>\n",
       "      <td>0</td>\n",
       "      <td>0</td>\n",
       "      <td>0</td>\n",
       "    </tr>\n",
       "  </tbody>\n",
       "</table>\n",
       "</div>"
      ],
      "text/plain": [
       "   LR  DT  svm\n",
       "0   1   1    1\n",
       "1   0   0    0\n",
       "2   1   1    1\n",
       "3   0   0    1\n",
       "4   0   0    0"
      ]
     },
     "execution_count": 71,
     "metadata": {},
     "output_type": "execute_result"
    }
   ],
   "source": [
    "valid_prediction = {\n",
    "              'LR': M1_valid,\n",
    "              'DT': M2_valid,\n",
    "              #'knn': M3_valid,\n",
    "              'svm': M4_valid\n",
    "              }\n",
    "new_train = pd.DataFrame(valid_prediction)\n",
    "new_train.head()"
   ]
  },
  {
   "cell_type": "code",
   "execution_count": 72,
   "metadata": {},
   "outputs": [
    {
     "data": {
      "text/html": [
       "<div>\n",
       "<style scoped>\n",
       "    .dataframe tbody tr th:only-of-type {\n",
       "        vertical-align: middle;\n",
       "    }\n",
       "\n",
       "    .dataframe tbody tr th {\n",
       "        vertical-align: top;\n",
       "    }\n",
       "\n",
       "    .dataframe thead th {\n",
       "        text-align: right;\n",
       "    }\n",
       "</style>\n",
       "<table border=\"1\" class=\"dataframe\">\n",
       "  <thead>\n",
       "    <tr style=\"text-align: right;\">\n",
       "      <th></th>\n",
       "      <th>LR</th>\n",
       "      <th>DT</th>\n",
       "      <th>svm</th>\n",
       "    </tr>\n",
       "  </thead>\n",
       "  <tbody>\n",
       "    <tr>\n",
       "      <th>0</th>\n",
       "      <td>1</td>\n",
       "      <td>1</td>\n",
       "      <td>1</td>\n",
       "    </tr>\n",
       "    <tr>\n",
       "      <th>1</th>\n",
       "      <td>0</td>\n",
       "      <td>0</td>\n",
       "      <td>0</td>\n",
       "    </tr>\n",
       "    <tr>\n",
       "      <th>2</th>\n",
       "      <td>0</td>\n",
       "      <td>0</td>\n",
       "      <td>0</td>\n",
       "    </tr>\n",
       "    <tr>\n",
       "      <th>3</th>\n",
       "      <td>0</td>\n",
       "      <td>1</td>\n",
       "      <td>0</td>\n",
       "    </tr>\n",
       "    <tr>\n",
       "      <th>4</th>\n",
       "      <td>0</td>\n",
       "      <td>0</td>\n",
       "      <td>0</td>\n",
       "    </tr>\n",
       "  </tbody>\n",
       "</table>\n",
       "</div>"
      ],
      "text/plain": [
       "   LR  DT  svm\n",
       "0   1   1    1\n",
       "1   0   0    0\n",
       "2   0   0    0\n",
       "3   0   1    0\n",
       "4   0   0    0"
      ]
     },
     "execution_count": 72,
     "metadata": {},
     "output_type": "execute_result"
    }
   ],
   "source": [
    "test_prediction = {\n",
    "              'LR': M1_test,\n",
    "              'DT': M2_test,\n",
    "              #'knn': M3_test,\n",
    "              'svm': M4_test\n",
    "              }\n",
    "new_test = pd.DataFrame(test_prediction)\n",
    "new_test.head()"
   ]
  },
  {
   "cell_type": "code",
   "execution_count": 73,
   "metadata": {},
   "outputs": [
    {
     "data": {
      "text/plain": [
       "0.4116331096196868"
      ]
     },
     "execution_count": 73,
     "metadata": {},
     "output_type": "execute_result"
    }
   ],
   "source": [
    "# Final Model knn\n",
    "model1 = KNeighborsClassifier()\n",
    "model1.fit(new_train, M1_target)\n",
    "final_pred = model1.predict(new_test)\n",
    "f1_score(y_test, final_pred)"
   ]
  },
  {
   "cell_type": "code",
   "execution_count": 74,
   "metadata": {},
   "outputs": [
    {
     "data": {
      "text/plain": [
       "0.4296296296296296"
      ]
     },
     "execution_count": 74,
     "metadata": {},
     "output_type": "execute_result"
    }
   ],
   "source": [
    "# Final Model logistic regression\n",
    "model2 = LogisticRegression(class_weight='balanced')\n",
    "model2.fit(new_train, M1_target)\n",
    "final_pred = model2.predict(new_test)\n",
    "f1_score(y_test, final_pred)"
   ]
  },
  {
   "cell_type": "markdown",
   "metadata": {},
   "source": [
    "## Gradiant Boosting "
   ]
  },
  {
   "cell_type": "markdown",
   "metadata": {},
   "source": [
    "### GB(with default parameters)"
   ]
  },
  {
   "cell_type": "code",
   "execution_count": 37,
   "metadata": {},
   "outputs": [
    {
     "name": "stdout",
     "output_type": "stream",
     "text": [
      "Training f1 score: 0.4882352941176471\n",
      "Testing f1 score: 0.32432432432432434\n",
      "\t\n",
      "\u001b[1mClassification Report for test data:\u001b[0m\n",
      "              precision    recall  f1-score   support\n",
      "\n",
      "           0       0.95      0.82      0.88       997\n",
      "           1       0.23      0.57      0.32        95\n",
      "\n",
      "    accuracy                           0.79      1092\n",
      "   macro avg       0.59      0.69      0.60      1092\n",
      "weighted avg       0.89      0.79      0.83      1092\n",
      "\n"
     ]
    }
   ],
   "source": [
    "pred_train, pred_test = Model_Prediction(x_train,y_train,x_test,y_test, model=GradientBoostingClassifier(random_state=101), mtype='gb')"
   ]
  },
  {
   "cell_type": "markdown",
   "metadata": {},
   "source": [
    "* Model is overfitting "
   ]
  },
  {
   "cell_type": "markdown",
   "metadata": {},
   "source": [
    "#### Tuning max_depth  "
   ]
  },
  {
   "cell_type": "code",
   "execution_count": 23,
   "metadata": {},
   "outputs": [],
   "source": [
    "from sklearn.model_selection import StratifiedKFold\n",
    "\n",
    "def parameter_optimizer(x, y, par_range, cv=5):\n",
    "    \n",
    "    mean_f1 = []\n",
    "    std_f1 = []\n",
    "    \n",
    "    for i in par_range:\n",
    "        \n",
    "        model = GradientBoostingClassifier(max_depth=i)\n",
    "        score = cross_val_score(estimator=model, X=x, y=y, cv=StratifiedKFold(n_splits=cv), n_jobs=-1, scoring='f1', verbose=2)\n",
    "        mean_f1.append(score.mean())\n",
    "        std_f1.append(score.std())\n",
    "        \n",
    "    # Ploting for f1_scores \n",
    "    plt.rcParams['figure.figsize'] = (10, 10)\n",
    "    plt.subplot(2,1,1)\n",
    "    plt.plot(par_range,mean_f1, label='Validation Score', color='green', marker='o')\n",
    "    plt.xticks()\n",
    "    plt.legend()\n",
    "    \n",
    "    plt.subplot(2,1,2)\n",
    "    plt.plot(par_range, std_f1, label='Std of validation', color='red', marker='o')\n",
    "    plt.xticks()  \n",
    "    plt.legend()\n",
    "    plt.tight_layout()"
   ]
  },
  {
   "cell_type": "code",
   "execution_count": 24,
   "metadata": {},
   "outputs": [
    {
     "name": "stderr",
     "output_type": "stream",
     "text": [
      "[Parallel(n_jobs=-1)]: Using backend LokyBackend with 4 concurrent workers.\n",
      "[Parallel(n_jobs=-1)]: Done   5 out of   5 | elapsed:    5.8s finished\n",
      "[Parallel(n_jobs=-1)]: Using backend LokyBackend with 4 concurrent workers.\n",
      "[Parallel(n_jobs=-1)]: Done   5 out of   5 | elapsed:    5.2s finished\n",
      "[Parallel(n_jobs=-1)]: Using backend LokyBackend with 4 concurrent workers.\n",
      "[Parallel(n_jobs=-1)]: Done   5 out of   5 | elapsed:    7.6s finished\n",
      "[Parallel(n_jobs=-1)]: Using backend LokyBackend with 4 concurrent workers.\n",
      "[Parallel(n_jobs=-1)]: Done   5 out of   5 | elapsed:   10.6s finished\n",
      "[Parallel(n_jobs=-1)]: Using backend LokyBackend with 4 concurrent workers.\n",
      "[Parallel(n_jobs=-1)]: Done   5 out of   5 | elapsed:   13.0s finished\n",
      "[Parallel(n_jobs=-1)]: Using backend LokyBackend with 4 concurrent workers.\n",
      "[Parallel(n_jobs=-1)]: Done   5 out of   5 | elapsed:   16.2s finished\n",
      "[Parallel(n_jobs=-1)]: Using backend LokyBackend with 4 concurrent workers.\n",
      "[Parallel(n_jobs=-1)]: Done   5 out of   5 | elapsed:   18.6s finished\n",
      "[Parallel(n_jobs=-1)]: Using backend LokyBackend with 4 concurrent workers.\n",
      "[Parallel(n_jobs=-1)]: Done   5 out of   5 | elapsed:   22.1s finished\n",
      "[Parallel(n_jobs=-1)]: Using backend LokyBackend with 4 concurrent workers.\n",
      "[Parallel(n_jobs=-1)]: Done   5 out of   5 | elapsed:   25.8s finished\n",
      "[Parallel(n_jobs=-1)]: Using backend LokyBackend with 4 concurrent workers.\n",
      "[Parallel(n_jobs=-1)]: Done   5 out of   5 | elapsed:   29.4s finished\n"
     ]
    },
    {
     "data": {
      "image/png": "[encoded data removed]",
      "text/plain": [
       "<Figure size 720x720 with 2 Axes>"
      ]
     },
     "metadata": {
      "needs_background": "light"
     },
     "output_type": "display_data"
    }
   ],
   "source": [
    "parameter_optimizer(x_train, y_train, range(1,11))       "
   ]
  },
  {
   "cell_type": "code",
   "execution_count": 39,
   "metadata": {},
   "outputs": [],
   "source": [
    "from sklearn.model_selection import StratifiedKFold\n",
    "\n",
    "def parameter_optimizer(x, y, par_range, cv=5):\n",
    "    \n",
    "    mean_f1 = []\n",
    "    std_f1 = []\n",
    "    \n",
    "    for i in par_range:\n",
    "        \n",
    "        model = GradientBoostingClassifier(max_depth=6, n_estimators=i)\n",
    "        score = cross_val_score(estimator=model, X=x, y=y, cv=StratifiedKFold(n_splits=cv), n_jobs=-1, scoring='f1', verbose=2)\n",
    "        mean_f1.append(score.mean())\n",
    "        std_f1.append(score.std())\n",
    "        \n",
    "    # Ploting for f1_scores \n",
    "    plt.rcParams['figure.figsize'] = (10, 10)\n",
    "    plt.subplot(2,1,1)\n",
    "    plt.plot(par_range,mean_f1, label='Validation Score', color='green', marker='o')\n",
    "    plt.xticks()\n",
    "    plt.legend()\n",
    "    \n",
    "    plt.subplot(2,1,2)\n",
    "    plt.plot(par_range, std_f1, label='Std of validation', color='red', marker='o')\n",
    "    plt.xticks()  \n",
    "    plt.legend()\n",
    "    plt.tight_layout()"
   ]
  },
  {
   "cell_type": "code",
   "execution_count": 40,
   "metadata": {},
   "outputs": [
    {
     "name": "stderr",
     "output_type": "stream",
     "text": [
      "[Parallel(n_jobs=-1)]: Using backend LokyBackend with 4 concurrent workers.\n",
      "[Parallel(n_jobs=-1)]: Done   5 out of   5 | elapsed:    3.3s finished\n",
      "[Parallel(n_jobs=-1)]: Using backend LokyBackend with 4 concurrent workers.\n",
      "[Parallel(n_jobs=-1)]: Done   5 out of   5 | elapsed:    4.5s finished\n",
      "[Parallel(n_jobs=-1)]: Using backend LokyBackend with 4 concurrent workers.\n",
      "[Parallel(n_jobs=-1)]: Done   5 out of   5 | elapsed:    8.5s finished\n",
      "[Parallel(n_jobs=-1)]: Using backend LokyBackend with 4 concurrent workers.\n",
      "[Parallel(n_jobs=-1)]: Done   5 out of   5 | elapsed:   12.9s finished\n",
      "[Parallel(n_jobs=-1)]: Using backend LokyBackend with 4 concurrent workers.\n",
      "[Parallel(n_jobs=-1)]: Done   5 out of   5 | elapsed:   16.1s finished\n",
      "[Parallel(n_jobs=-1)]: Using backend LokyBackend with 4 concurrent workers.\n",
      "[Parallel(n_jobs=-1)]: Done   5 out of   5 | elapsed:   20.3s finished\n",
      "[Parallel(n_jobs=-1)]: Using backend LokyBackend with 4 concurrent workers.\n",
      "[Parallel(n_jobs=-1)]: Done   5 out of   5 | elapsed:   24.5s finished\n",
      "[Parallel(n_jobs=-1)]: Using backend LokyBackend with 4 concurrent workers.\n",
      "[Parallel(n_jobs=-1)]: Done   5 out of   5 | elapsed:   28.1s finished\n",
      "[Parallel(n_jobs=-1)]: Using backend LokyBackend with 4 concurrent workers.\n",
      "[Parallel(n_jobs=-1)]: Done   5 out of   5 | elapsed:   36.9s finished\n",
      "[Parallel(n_jobs=-1)]: Using backend LokyBackend with 4 concurrent workers.\n",
      "[Parallel(n_jobs=-1)]: Done   5 out of   5 | elapsed:   36.1s finished\n",
      "[Parallel(n_jobs=-1)]: Using backend LokyBackend with 4 concurrent workers.\n",
      "[Parallel(n_jobs=-1)]: Done   5 out of   5 | elapsed:   40.7s finished\n",
      "[Parallel(n_jobs=-1)]: Using backend LokyBackend with 4 concurrent workers.\n",
      "[Parallel(n_jobs=-1)]: Done   5 out of   5 | elapsed:   44.8s finished\n",
      "[Parallel(n_jobs=-1)]: Using backend LokyBackend with 4 concurrent workers.\n",
      "[Parallel(n_jobs=-1)]: Done   5 out of   5 | elapsed:   47.0s finished\n",
      "[Parallel(n_jobs=-1)]: Using backend LokyBackend with 4 concurrent workers.\n",
      "[Parallel(n_jobs=-1)]: Done   5 out of   5 | elapsed:   52.3s finished\n",
      "[Parallel(n_jobs=-1)]: Using backend LokyBackend with 4 concurrent workers.\n",
      "[Parallel(n_jobs=-1)]: Done   5 out of   5 | elapsed:   57.0s finished\n",
      "[Parallel(n_jobs=-1)]: Using backend LokyBackend with 4 concurrent workers.\n",
      "[Parallel(n_jobs=-1)]: Done   5 out of   5 | elapsed:   58.6s finished\n"
     ]
    },
    {
     "data": {
      "image/png": "[encoded data removed]",
      "text/plain": [
       "<Figure size 720x720 with 2 Axes>"
      ]
     },
     "metadata": {
      "needs_background": "light"
     },
     "output_type": "display_data"
    }
   ],
   "source": [
    "parameter_optimizer(x_train, y_train, range(10,800,50))"
   ]
  },
  {
   "cell_type": "code",
   "execution_count": 42,
   "metadata": {},
   "outputs": [
    {
     "name": "stdout",
     "output_type": "stream",
     "text": [
      "Training f1 score: 0.9190007570022709\n",
      "Testing f1 score: 0.31908831908831914\n",
      "\t\n",
      "\u001b[1mClassification Report for test data:\u001b[0m\n",
      "              precision    recall  f1-score   support\n",
      "\n",
      "           0       0.93      0.81      0.87       979\n",
      "           1       0.24      0.50      0.32       113\n",
      "\n",
      "    accuracy                           0.78      1092\n",
      "   macro avg       0.58      0.65      0.59      1092\n",
      "weighted avg       0.86      0.78      0.81      1092\n",
      "\n"
     ]
    }
   ],
   "source": [
    "pred_train, pred_test = Model_Prediction(x_train, y_train, x_test, y_test, model=GradientBoostingClassifier(max_depth=6, n_estimators=160), mtype='gb')"
   ]
  },
  {
   "cell_type": "code",
   "execution_count": 27,
   "metadata": {},
   "outputs": [],
   "source": [
    "from sklearn.model_selection import StratifiedKFold\n",
    "\n",
    "def parameter_optimizer(x, y, par_range, cv=5):\n",
    "    \n",
    "    mean_f1 = []\n",
    "    std_f1 = []\n",
    "    \n",
    "    for i in par_range:\n",
    "        \n",
    "        model = GradientBoostingClassifier(max_depth=6, n_estimators=225, learning_rate=i)\n",
    "        score = cross_val_score(estimator=model, X=x, y=y, cv=StratifiedKFold(n_splits=cv), n_jobs=-1, scoring='f1', verbose=2)\n",
    "        mean_f1.append(score.mean())\n",
    "        std_f1.append(score.std())\n",
    "        \n",
    "    # Ploting for f1_scores \n",
    "    plt.rcParams['figure.figsize'] = (10, 10)\n",
    "    plt.subplot(2,1,1)\n",
    "    plt.plot(par_range,mean_f1, label='Validation Score', color='green', marker='o')\n",
    "    plt.xticks()\n",
    "    plt.legend()\n",
    "    \n",
    "    plt.subplot(2,1,2)\n",
    "    plt.plot(par_range, std_f1, label='Std of validation', color='red', marker='o')\n",
    "    plt.xticks()  \n",
    "    plt.legend()\n",
    "    plt.tight_layout()"
   ]
  },
  {
   "cell_type": "code",
   "execution_count": 33,
   "metadata": {},
   "outputs": [
    {
     "name": "stderr",
     "output_type": "stream",
     "text": [
      "[Parallel(n_jobs=-1)]: Using backend LokyBackend with 4 concurrent workers.\n",
      "[Parallel(n_jobs=-1)]: Done   5 out of   5 | elapsed:   38.7s finished\n",
      "[Parallel(n_jobs=-1)]: Using backend LokyBackend with 4 concurrent workers.\n",
      "[Parallel(n_jobs=-1)]: Done   5 out of   5 | elapsed:   35.2s finished\n",
      "[Parallel(n_jobs=-1)]: Using backend LokyBackend with 4 concurrent workers.\n",
      "[Parallel(n_jobs=-1)]: Done   5 out of   5 | elapsed:   35.7s finished\n",
      "[Parallel(n_jobs=-1)]: Using backend LokyBackend with 4 concurrent workers.\n",
      "[Parallel(n_jobs=-1)]: Done   5 out of   5 | elapsed:   35.8s finished\n",
      "[Parallel(n_jobs=-1)]: Using backend LokyBackend with 4 concurrent workers.\n",
      "[Parallel(n_jobs=-1)]: Done   5 out of   5 | elapsed:   35.3s finished\n",
      "[Parallel(n_jobs=-1)]: Using backend LokyBackend with 4 concurrent workers.\n",
      "[Parallel(n_jobs=-1)]: Done   5 out of   5 | elapsed:   35.3s finished\n",
      "[Parallel(n_jobs=-1)]: Using backend LokyBackend with 4 concurrent workers.\n",
      "[Parallel(n_jobs=-1)]: Done   5 out of   5 | elapsed:   35.1s finished\n",
      "[Parallel(n_jobs=-1)]: Using backend LokyBackend with 4 concurrent workers.\n",
      "[Parallel(n_jobs=-1)]: Done   5 out of   5 | elapsed:   35.6s finished\n",
      "[Parallel(n_jobs=-1)]: Using backend LokyBackend with 4 concurrent workers.\n",
      "[Parallel(n_jobs=-1)]: Done   5 out of   5 | elapsed:   36.2s finished\n",
      "[Parallel(n_jobs=-1)]: Using backend LokyBackend with 4 concurrent workers.\n",
      "[Parallel(n_jobs=-1)]: Done   5 out of   5 | elapsed:   42.4s finished\n"
     ]
    },
    {
     "data": {
      "image/png": "[encoded data removed]",
      "text/plain": [
       "<Figure size 720x720 with 2 Axes>"
      ]
     },
     "metadata": {
      "needs_background": "light"
     },
     "output_type": "display_data"
    }
   ],
   "source": [
    "parameter_optimizer(x_train, y_train, par_range=np.linspace(0.01,0.5,10))"
   ]
  },
  {
   "cell_type": "code",
   "execution_count": 35,
   "metadata": {},
   "outputs": [],
   "source": [
    "\n",
    "    def parameter_optimizer(x, y, par_range, model, cv=5):\n",
    "        \n",
    "        mean_f1 = []\n",
    "        std_f1 = []\n",
    "        \n",
    "        for i in par_range:\n",
    "            \n",
    "            model = model \n",
    "            score = cross_val_score(estimator=model, X=x, y=y, cv=StratifiedKFold(n_splits=cv), n_jobs=-1, scoring='f1', verbose=2)\n",
    "            mean_f1.append(score.mean())\n",
    "            std_f1.append(score.std())\n",
    "            \n",
    "        # Ploting for mean f1_scores \n",
    "        plt.rcParams['figure.figsize'] = (10, 10)\n",
    "        plt.subplot(2,1,1)\n",
    "        plt.plot(par_range,mean_f1, label='Validation Score', color='green', marker='o')\n",
    "        plt.xticks()\n",
    "        plt.legend()\n",
    "        \n",
    "        #Ploting std for the cv scores\n",
    "        plt.subplot(2,1,2)\n",
    "        plt.plot(par_range, std_f1, label='Std of validation', color='red', marker='o')\n",
    "        plt.xticks()  \n",
    "        plt.legend()\n",
    "        plt.tight_layout()\n",
    "\n",
    "\n"
   ]
  },
  {
   "cell_type": "code",
   "execution_count": 36,
   "metadata": {},
   "outputs": [
    {
     "name": "stderr",
     "output_type": "stream",
     "text": [
      "[Parallel(n_jobs=-1)]: Using backend LokyBackend with 4 concurrent workers.\n",
      "[Parallel(n_jobs=-1)]: Done   5 out of   5 | elapsed:   25.6s finished\n",
      "[Parallel(n_jobs=-1)]: Using backend LokyBackend with 4 concurrent workers.\n",
      "[Parallel(n_jobs=-1)]: Done   5 out of   5 | elapsed:    0.0s finished\n",
      "[Parallel(n_jobs=-1)]: Using backend LokyBackend with 4 concurrent workers.\n",
      "[Parallel(n_jobs=-1)]: Done   5 out of   5 | elapsed:    0.0s finished\n",
      "[Parallel(n_jobs=-1)]: Using backend LokyBackend with 4 concurrent workers.\n",
      "[Parallel(n_jobs=-1)]: Done   5 out of   5 | elapsed:    0.0s finished\n",
      "[Parallel(n_jobs=-1)]: Using backend LokyBackend with 4 concurrent workers.\n",
      "[Parallel(n_jobs=-1)]: Done   5 out of   5 | elapsed:    0.0s finished\n",
      "[Parallel(n_jobs=-1)]: Using backend LokyBackend with 4 concurrent workers.\n",
      "[Parallel(n_jobs=-1)]: Done   5 out of   5 | elapsed:    0.0s finished\n",
      "[Parallel(n_jobs=-1)]: Using backend LokyBackend with 4 concurrent workers.\n",
      "[Parallel(n_jobs=-1)]: Done   5 out of   5 | elapsed:    0.0s finished\n",
      "[Parallel(n_jobs=-1)]: Using backend LokyBackend with 4 concurrent workers.\n",
      "[Parallel(n_jobs=-1)]: Done   5 out of   5 | elapsed:    0.0s finished\n",
      "[Parallel(n_jobs=-1)]: Using backend LokyBackend with 4 concurrent workers.\n",
      "[Parallel(n_jobs=-1)]: Done   5 out of   5 | elapsed:    0.1s finished\n",
      "[Parallel(n_jobs=-1)]: Using backend LokyBackend with 4 concurrent workers.\n",
      "[Parallel(n_jobs=-1)]: Done   5 out of   5 | elapsed:    0.0s finished\n"
     ]
    },
    {
     "data": {
      "image/png": "[encoded data removed]",
      "text/plain": [
       "<Figure size 720x720 with 2 Axes>"
      ]
     },
     "metadata": {
      "needs_background": "light"
     },
     "output_type": "display_data"
    }
   ],
   "source": [
    "parameter_optimizer(x_train, y_train, range(1,11), GradientBoostingClassifier(max_depth=i))"
   ]
  },
  {
   "cell_type": "markdown",
   "metadata": {},
   "source": [
    "## Bagging Model"
   ]
  },
  {
   "cell_type": "markdown",
   "metadata": {},
   "source": [
    "### 1. Bagging Decision Trees(with default parameters)"
   ]
  },
  {
   "cell_type": "code",
   "execution_count": 61,
   "metadata": {},
   "outputs": [
    {
     "name": "stdout",
     "output_type": "stream",
     "text": [
      "Training f1 score: 0.9502923976608186\n",
      "Testing f1 score: 0.26506024096385544\n",
      "\t\n",
      "\u001b[1mClassification Report for test data:\u001b[0m\n",
      "              precision    recall  f1-score   support\n",
      "\n",
      "           0       0.94      0.81      0.87       998\n",
      "           1       0.18      0.47      0.27        94\n",
      "\n",
      "    accuracy                           0.78      1092\n",
      "   macro avg       0.56      0.64      0.57      1092\n",
      "weighted avg       0.88      0.78      0.82      1092\n",
      "\n"
     ]
    }
   ],
   "source": [
    "pred_train, pred_test, bc_dt= Model_Prediction(x_train, y_train, x_test, y_test, \n",
    "                                             model=BaggingClassifier(base_estimator=DecisionTreeClassifier(random_state=101)),\n",
    "                                             mtype='bc')"
   ]
  },
  {
   "cell_type": "markdown",
   "metadata": {},
   "source": [
    "* Model is performing exeptionally well on the training the data but is working very badly on test data in other words model is overfitting. "
   ]
  },
  {
   "cell_type": "code",
   "execution_count": 114,
   "metadata": {},
   "outputs": [],
   "source": [
    "param_grid = {'n_estimators': [int(round(i)) for i in np.linspace(50,1000,50)],\n",
    "              'max_samples': [0.8,0.9,1.0],\n",
    "              'max_features': [0.2,0.4,0.6,0.8,1.0],\n",
    "              'bootstrap':[True,False],\n",
    "              'bootstrap_features':[True,False]}\n",
    "\n",
    "dt = DecisionTreeClassifier(random_state=101, class_weight='balanced')\n",
    "bc_dt = BaggingClassifier(random_state=101, base_estimator=dt)"
   ]
  },
  {
   "cell_type": "code",
   "execution_count": 115,
   "metadata": {},
   "outputs": [
    {
     "name": "stdout",
     "output_type": "stream",
     "text": [
      "Fitting 5 folds for each of 50 candidates, totalling 250 fits\n"
     ]
    },
    {
     "name": "stderr",
     "output_type": "stream",
     "text": [
      "[Parallel(n_jobs=-1)]: Using backend LokyBackend with 4 concurrent workers.\n",
      "[Parallel(n_jobs=-1)]: Done  33 tasks      | elapsed:  5.6min\n",
      "[Parallel(n_jobs=-1)]: Done 154 tasks      | elapsed: 27.3min\n",
      "[Parallel(n_jobs=-1)]: Done 250 out of 250 | elapsed: 46.4min finished\n"
     ]
    }
   ],
   "source": [
    "rsearch = RandomizedSearchCV(estimator=bc_dt, n_iter=50, cv=StratifiedKFold(n_splits=5), \n",
    "                             n_jobs=-1, verbose=2, param_distributions=param_grid, \n",
    "                             random_state=101, scoring='f1').fit(x_train, y_train)"
   ]
  },
  {
   "cell_type": "code",
   "execution_count": 120,
   "metadata": {},
   "outputs": [
    {
     "data": {
      "text/html": [
       "<div>\n",
       "<style scoped>\n",
       "    .dataframe tbody tr th:only-of-type {\n",
       "        vertical-align: middle;\n",
       "    }\n",
       "\n",
       "    .dataframe tbody tr th {\n",
       "        vertical-align: top;\n",
       "    }\n",
       "\n",
       "    .dataframe thead th {\n",
       "        text-align: right;\n",
       "    }\n",
       "</style>\n",
       "<table border=\"1\" class=\"dataframe\">\n",
       "  <thead>\n",
       "    <tr style=\"text-align: right;\">\n",
       "      <th></th>\n",
       "      <th>mean_fit_time</th>\n",
       "      <th>std_fit_time</th>\n",
       "      <th>mean_score_time</th>\n",
       "      <th>std_score_time</th>\n",
       "      <th>param_n_estimators</th>\n",
       "      <th>param_max_samples</th>\n",
       "      <th>param_max_features</th>\n",
       "      <th>param_bootstrap_features</th>\n",
       "      <th>param_bootstrap</th>\n",
       "      <th>params</th>\n",
       "      <th>split0_test_score</th>\n",
       "      <th>split1_test_score</th>\n",
       "      <th>split2_test_score</th>\n",
       "      <th>split3_test_score</th>\n",
       "      <th>split4_test_score</th>\n",
       "      <th>mean_test_score</th>\n",
       "      <th>std_test_score</th>\n",
       "      <th>rank_test_score</th>\n",
       "    </tr>\n",
       "  </thead>\n",
       "  <tbody>\n",
       "    <tr>\n",
       "      <th>23</th>\n",
       "      <td>20.592133</td>\n",
       "      <td>0.503173</td>\n",
       "      <td>0.368812</td>\n",
       "      <td>0.025444</td>\n",
       "      <td>709</td>\n",
       "      <td>1</td>\n",
       "      <td>0.2</td>\n",
       "      <td>True</td>\n",
       "      <td>False</td>\n",
       "      <td>{'n_estimators': 709, 'max_samples': 1.0, 'max...</td>\n",
       "      <td>0.309859</td>\n",
       "      <td>0.303665</td>\n",
       "      <td>0.299517</td>\n",
       "      <td>0.311321</td>\n",
       "      <td>0.301887</td>\n",
       "      <td>0.305250</td>\n",
       "      <td>0.004578</td>\n",
       "      <td>1</td>\n",
       "    </tr>\n",
       "    <tr>\n",
       "      <th>38</th>\n",
       "      <td>61.656499</td>\n",
       "      <td>1.826477</td>\n",
       "      <td>0.441616</td>\n",
       "      <td>0.070683</td>\n",
       "      <td>399</td>\n",
       "      <td>0.9</td>\n",
       "      <td>0.8</td>\n",
       "      <td>False</td>\n",
       "      <td>False</td>\n",
       "      <td>{'n_estimators': 399, 'max_samples': 0.9, 'max...</td>\n",
       "      <td>0.355769</td>\n",
       "      <td>0.313131</td>\n",
       "      <td>0.291457</td>\n",
       "      <td>0.284360</td>\n",
       "      <td>0.278846</td>\n",
       "      <td>0.304713</td>\n",
       "      <td>0.028059</td>\n",
       "      <td>2</td>\n",
       "    </tr>\n",
       "    <tr>\n",
       "      <th>13</th>\n",
       "      <td>51.708541</td>\n",
       "      <td>8.926066</td>\n",
       "      <td>0.427832</td>\n",
       "      <td>0.061946</td>\n",
       "      <td>535</td>\n",
       "      <td>1</td>\n",
       "      <td>0.6</td>\n",
       "      <td>False</td>\n",
       "      <td>False</td>\n",
       "      <td>{'n_estimators': 535, 'max_samples': 1.0, 'max...</td>\n",
       "      <td>0.374384</td>\n",
       "      <td>0.306931</td>\n",
       "      <td>0.256410</td>\n",
       "      <td>0.301887</td>\n",
       "      <td>0.277512</td>\n",
       "      <td>0.303425</td>\n",
       "      <td>0.039829</td>\n",
       "      <td>3</td>\n",
       "    </tr>\n",
       "    <tr>\n",
       "      <th>28</th>\n",
       "      <td>77.847671</td>\n",
       "      <td>10.544647</td>\n",
       "      <td>0.463537</td>\n",
       "      <td>0.095307</td>\n",
       "      <td>418</td>\n",
       "      <td>1</td>\n",
       "      <td>1</td>\n",
       "      <td>True</td>\n",
       "      <td>False</td>\n",
       "      <td>{'n_estimators': 418, 'max_samples': 1.0, 'max...</td>\n",
       "      <td>0.360976</td>\n",
       "      <td>0.295567</td>\n",
       "      <td>0.290000</td>\n",
       "      <td>0.284360</td>\n",
       "      <td>0.272300</td>\n",
       "      <td>0.300641</td>\n",
       "      <td>0.031137</td>\n",
       "      <td>4</td>\n",
       "    </tr>\n",
       "    <tr>\n",
       "      <th>24</th>\n",
       "      <td>5.720684</td>\n",
       "      <td>0.165857</td>\n",
       "      <td>0.045276</td>\n",
       "      <td>0.002326</td>\n",
       "      <td>69</td>\n",
       "      <td>0.8</td>\n",
       "      <td>0.8</td>\n",
       "      <td>True</td>\n",
       "      <td>False</td>\n",
       "      <td>{'n_estimators': 69, 'max_samples': 0.8, 'max_...</td>\n",
       "      <td>0.331707</td>\n",
       "      <td>0.285714</td>\n",
       "      <td>0.278351</td>\n",
       "      <td>0.271845</td>\n",
       "      <td>0.325359</td>\n",
       "      <td>0.298595</td>\n",
       "      <td>0.024916</td>\n",
       "      <td>5</td>\n",
       "    </tr>\n",
       "  </tbody>\n",
       "</table>\n",
       "</div>"
      ],
      "text/plain": [
       "    mean_fit_time  std_fit_time  mean_score_time  std_score_time  \\\n",
       "23      20.592133      0.503173         0.368812        0.025444   \n",
       "38      61.656499      1.826477         0.441616        0.070683   \n",
       "13      51.708541      8.926066         0.427832        0.061946   \n",
       "28      77.847671     10.544647         0.463537        0.095307   \n",
       "24       5.720684      0.165857         0.045276        0.002326   \n",
       "\n",
       "   param_n_estimators param_max_samples param_max_features  \\\n",
       "23                709                 1                0.2   \n",
       "38                399               0.9                0.8   \n",
       "13                535                 1                0.6   \n",
       "28                418                 1                  1   \n",
       "24                 69               0.8                0.8   \n",
       "\n",
       "   param_bootstrap_features param_bootstrap  \\\n",
       "23                     True           False   \n",
       "38                    False           False   \n",
       "13                    False           False   \n",
       "28                     True           False   \n",
       "24                     True           False   \n",
       "\n",
       "                                               params  split0_test_score  \\\n",
       "23  {'n_estimators': 709, 'max_samples': 1.0, 'max...           0.309859   \n",
       "38  {'n_estimators': 399, 'max_samples': 0.9, 'max...           0.355769   \n",
       "13  {'n_estimators': 535, 'max_samples': 1.0, 'max...           0.374384   \n",
       "28  {'n_estimators': 418, 'max_samples': 1.0, 'max...           0.360976   \n",
       "24  {'n_estimators': 69, 'max_samples': 0.8, 'max_...           0.331707   \n",
       "\n",
       "    split1_test_score  split2_test_score  split3_test_score  \\\n",
       "23           0.303665           0.299517           0.311321   \n",
       "38           0.313131           0.291457           0.284360   \n",
       "13           0.306931           0.256410           0.301887   \n",
       "28           0.295567           0.290000           0.284360   \n",
       "24           0.285714           0.278351           0.271845   \n",
       "\n",
       "    split4_test_score  mean_test_score  std_test_score  rank_test_score  \n",
       "23           0.301887         0.305250        0.004578                1  \n",
       "38           0.278846         0.304713        0.028059                2  \n",
       "13           0.277512         0.303425        0.039829                3  \n",
       "28           0.272300         0.300641        0.031137                4  \n",
       "24           0.325359         0.298595        0.024916                5  "
      ]
     },
     "execution_count": 120,
     "metadata": {},
     "output_type": "execute_result"
    }
   ],
   "source": [
    "pd.DataFrame(rsearch.cv_results_).sort_values(by=['mean_test_score','std_test_score'], ascending=[False,True]).head(5)"
   ]
  },
  {
   "cell_type": "code",
   "execution_count": 133,
   "metadata": {},
   "outputs": [
    {
     "data": {
      "text/plain": [
       "BaggingClassifier(base_estimator=DecisionTreeClassifier(ccp_alpha=0.0,\n",
       "                                                        class_weight='balanced',\n",
       "                                                        criterion='gini',\n",
       "                                                        max_depth=None,\n",
       "                                                        max_features=None,\n",
       "                                                        max_leaf_nodes=None,\n",
       "                                                        min_impurity_decrease=0.0,\n",
       "                                                        min_impurity_split=None,\n",
       "                                                        min_samples_leaf=1,\n",
       "                                                        min_samples_split=2,\n",
       "                                                        min_weight_fraction_leaf=0.0,\n",
       "                                                        presort='deprecated',\n",
       "                                                        random_state=101,\n",
       "                                                        splitter='best'),\n",
       "                  bootstrap=False, bootstrap_features=True, max_features=0.2,\n",
       "                  max_samples=1.0, n_estimators=709, n_jobs=None,\n",
       "                  oob_score=False, random_state=101, verbose=0,\n",
       "                  warm_start=False)"
      ]
     },
     "execution_count": 133,
     "metadata": {},
     "output_type": "execute_result"
    }
   ],
   "source": [
    "rsearch.best_estimator_\n"
   ]
  },
  {
   "cell_type": "code",
   "execution_count": 130,
   "metadata": {},
   "outputs": [
    {
     "name": "stdout",
     "output_type": "stream",
     "text": [
      "Training f1 score: 0.0\n",
      "Testing f1 score: 0.0\n",
      "\t\n",
      "\u001b[1mClassification Report for test data:\u001b[0m\n",
      "              precision    recall  f1-score   support\n",
      "\n",
      "           0       1.00      0.78      0.88      1092\n",
      "           1       0.00      0.00      0.00         0\n",
      "\n",
      "    accuracy                           0.78      1092\n",
      "   macro avg       0.50      0.39      0.44      1092\n",
      "weighted avg       1.00      0.78      0.88      1092\n",
      "\n"
     ]
    },
    {
     "data": {
      "image/png": "[encoded data removed]",
      "text/plain": [
       "<Figure size 720x720 with 2 Axes>"
      ]
     },
     "metadata": {
      "needs_background": "light"
     },
     "output_type": "display_data"
    }
   ],
   "source": [
    "pred_train, pred_test, bc_dt = Model_Prediction(x_train, y_train, x_test, y_test, \n",
    "                                                BaggingClassifier(base_estimator= DecisionTreeClassifier(random_state=101, class_weight='balanced'),\n",
    "                                                                                            n_estimators=709,\n",
    "                                                                                            max_samples=1,\n",
    "                                                                                            max_features=0.2,\n",
    "                                                                                            bootstrap_features=True,\n",
    "                                                                                            bootstrap=False),\n",
    "                                        con_mat=True)"
   ]
  },
  {
   "cell_type": "code",
   "execution_count": 129,
   "metadata": {},
   "outputs": [
    {
     "data": {
      "text/plain": [
       "DecisionTreeClassifier(ccp_alpha=0.0, class_weight='balanced', criterion='gini',\n",
       "                       max_depth=None, max_features=None, max_leaf_nodes=None,\n",
       "                       min_impurity_decrease=0.0, min_impurity_split=None,\n",
       "                       min_samples_leaf=1, min_samples_split=2,\n",
       "                       min_weight_fraction_leaf=0.0, presort='deprecated',\n",
       "                       random_state=101, splitter='best')"
      ]
     },
     "execution_count": 129,
     "metadata": {},
     "output_type": "execute_result"
    }
   ],
   "source": []
  },
  {
   "cell_type": "markdown",
   "metadata": {},
   "source": [
    "## Random Forest Model"
   ]
  },
  {
   "cell_type": "code",
   "execution_count": 137,
   "metadata": {},
   "outputs": [
    {
     "name": "stdout",
     "output_type": "stream",
     "text": [
      "Training f1 score: 1.0\n",
      "Testing f1 score: 0.30624999999999997\n",
      "\t\n",
      "\u001b[1mClassification Report for test data:\u001b[0m\n",
      "              precision    recall  f1-score   support\n",
      "\n",
      "           0       0.96      0.81      0.88      1010\n",
      "           1       0.21      0.60      0.31        82\n",
      "\n",
      "    accuracy                           0.80      1092\n",
      "   macro avg       0.58      0.71      0.59      1092\n",
      "weighted avg       0.90      0.80      0.84      1092\n",
      "\n"
     ]
    }
   ],
   "source": [
    "from sklearn.ensemble import RandomForestClassifier\n",
    "rfm = RandomForestClassifier(random_state=101, class_weight='balanced')\n",
    "pred_train, pred_test, rf = Model_Prediction(x_train, y_train, x_test, y_test, rfm)"
   ]
  },
  {
   "cell_type": "code",
   "execution_count": 140,
   "metadata": {},
   "outputs": [],
   "source": [
    "from sklearn.model_selection import StratifiedKFold\n",
    "\n",
    "def parameter_optimizer(x, y, par_range, cv=5):\n",
    "    \n",
    "    mean_f1 = []\n",
    "    std_f1 = []\n",
    "    \n",
    "    for i in par_range:\n",
    "        \n",
    "        model = RandomForestClassifier(max_depth=i, random_state=101, class_weight='balanced')\n",
    "        score = cross_val_score(estimator=model, X=x, y=y, cv=StratifiedKFold(n_splits=cv), n_jobs=-1, scoring='f1', verbose=2)\n",
    "        mean_f1.append(score.mean())\n",
    "        std_f1.append(score.std())\n",
    "        \n",
    "    # Ploting for f1_scores \n",
    "    plt.rcParams['figure.figsize'] = (10, 10)\n",
    "    plt.subplot(2,1,1)\n",
    "    plt.plot(par_range,mean_f1, label='Validation Score', color='green', marker='o')\n",
    "    plt.xticks()\n",
    "    plt.legend()\n",
    "    \n",
    "    plt.subplot(2,1,2)\n",
    "    plt.plot(par_range, std_f1, label='Std of validation', color='red', marker='o')\n",
    "    plt.xticks()  \n",
    "    plt.legend()\n",
    "    plt.tight_layout()"
   ]
  },
  {
   "cell_type": "code",
   "execution_count": 141,
   "metadata": {},
   "outputs": [
    {
     "name": "stderr",
     "output_type": "stream",
     "text": [
      "[Parallel(n_jobs=-1)]: Using backend LokyBackend with 4 concurrent workers.\n",
      "[Parallel(n_jobs=-1)]: Done   5 out of   5 | elapsed:    6.2s finished\n",
      "[Parallel(n_jobs=-1)]: Using backend LokyBackend with 4 concurrent workers.\n",
      "[Parallel(n_jobs=-1)]: Done   5 out of   5 | elapsed:    1.3s finished\n",
      "[Parallel(n_jobs=-1)]: Using backend LokyBackend with 4 concurrent workers.\n",
      "[Parallel(n_jobs=-1)]: Done   5 out of   5 | elapsed:    0.8s finished\n",
      "[Parallel(n_jobs=-1)]: Using backend LokyBackend with 4 concurrent workers.\n",
      "[Parallel(n_jobs=-1)]: Done   5 out of   5 | elapsed:    0.9s finished\n",
      "[Parallel(n_jobs=-1)]: Using backend LokyBackend with 4 concurrent workers.\n",
      "[Parallel(n_jobs=-1)]: Done   5 out of   5 | elapsed:    1.0s finished\n",
      "[Parallel(n_jobs=-1)]: Using backend LokyBackend with 4 concurrent workers.\n",
      "[Parallel(n_jobs=-1)]: Done   5 out of   5 | elapsed:    1.1s finished\n",
      "[Parallel(n_jobs=-1)]: Using backend LokyBackend with 4 concurrent workers.\n",
      "[Parallel(n_jobs=-1)]: Done   5 out of   5 | elapsed:    1.2s finished\n",
      "[Parallel(n_jobs=-1)]: Using backend LokyBackend with 4 concurrent workers.\n",
      "[Parallel(n_jobs=-1)]: Done   5 out of   5 | elapsed:    1.2s finished\n",
      "[Parallel(n_jobs=-1)]: Using backend LokyBackend with 4 concurrent workers.\n",
      "[Parallel(n_jobs=-1)]: Done   5 out of   5 | elapsed:    1.4s finished\n",
      "[Parallel(n_jobs=-1)]: Using backend LokyBackend with 4 concurrent workers.\n",
      "[Parallel(n_jobs=-1)]: Done   5 out of   5 | elapsed:    1.5s finished\n",
      "[Parallel(n_jobs=-1)]: Using backend LokyBackend with 4 concurrent workers.\n",
      "[Parallel(n_jobs=-1)]: Done   5 out of   5 | elapsed:    1.6s finished\n",
      "[Parallel(n_jobs=-1)]: Using backend LokyBackend with 4 concurrent workers.\n",
      "[Parallel(n_jobs=-1)]: Done   5 out of   5 | elapsed:    1.7s finished\n",
      "[Parallel(n_jobs=-1)]: Using backend LokyBackend with 4 concurrent workers.\n",
      "[Parallel(n_jobs=-1)]: Done   5 out of   5 | elapsed:    1.5s finished\n",
      "[Parallel(n_jobs=-1)]: Using backend LokyBackend with 4 concurrent workers.\n",
      "[Parallel(n_jobs=-1)]: Done   5 out of   5 | elapsed:    1.6s finished\n",
      "[Parallel(n_jobs=-1)]: Using backend LokyBackend with 4 concurrent workers.\n",
      "[Parallel(n_jobs=-1)]: Done   5 out of   5 | elapsed:    1.7s finished\n",
      "[Parallel(n_jobs=-1)]: Using backend LokyBackend with 4 concurrent workers.\n",
      "[Parallel(n_jobs=-1)]: Done   5 out of   5 | elapsed:    1.6s finished\n",
      "[Parallel(n_jobs=-1)]: Using backend LokyBackend with 4 concurrent workers.\n",
      "[Parallel(n_jobs=-1)]: Done   5 out of   5 | elapsed:    1.6s finished\n",
      "[Parallel(n_jobs=-1)]: Using backend LokyBackend with 4 concurrent workers.\n",
      "[Parallel(n_jobs=-1)]: Done   5 out of   5 | elapsed:    1.8s finished\n"
     ]
    },
    {
     "data": {
      "image/png": "[encoded data removed]",
      "text/plain": [
       "<Figure size 720x720 with 2 Axes>"
      ]
     },
     "metadata": {
      "needs_background": "light"
     },
     "output_type": "display_data"
    }
   ],
   "source": [
    "parameter_optimizer(x_train, y_train, par_range=range(2,20))"
   ]
  },
  {
   "cell_type": "code",
   "execution_count": 145,
   "metadata": {},
   "outputs": [
    {
     "name": "stdout",
     "output_type": "stream",
     "text": [
      "Training f1 score: 0.6\n",
      "Testing f1 score: 0.4260869565217391\n",
      "\t\n",
      "\u001b[1mClassification Report for test data:\u001b[0m\n",
      "              precision    recall  f1-score   support\n",
      "\n",
      "           0       0.85      0.84      0.85       870\n",
      "           1       0.41      0.44      0.43       222\n",
      "\n",
      "    accuracy                           0.76      1092\n",
      "   macro avg       0.63      0.64      0.64      1092\n",
      "weighted avg       0.76      0.76      0.76      1092\n",
      "\n"
     ]
    }
   ],
   "source": [
    "rfm = RandomForestClassifier(random_state=101, class_weight='balanced', max_depth=7)\n",
    "pred_train, pred_test, rf = Model_Prediction(x_train, y_train, x_test, y_test, rfm)"
   ]
  },
  {
   "cell_type": "code",
   "execution_count": 146,
   "metadata": {},
   "outputs": [],
   "source": [
    "from sklearn.model_selection import StratifiedKFold\n",
    "\n",
    "def parameter_optimizer(x, y, par_range, cv=5):\n",
    "    \n",
    "    mean_f1 = []\n",
    "    std_f1 = []\n",
    "    \n",
    "    for i in par_range:\n",
    "        \n",
    "        model = RandomForestClassifier(max_depth=7, random_state=101, class_weight='balanced', n_estimators=i)\n",
    "        score = cross_val_score(estimator=model, X=x, y=y, cv=StratifiedKFold(n_splits=cv), n_jobs=-1, scoring='f1', verbose=2)\n",
    "        mean_f1.append(score.mean())\n",
    "        std_f1.append(score.std())\n",
    "        \n",
    "    # Ploting for f1_scores \n",
    "    plt.rcParams['figure.figsize'] = (10, 10)\n",
    "    plt.subplot(2,1,1)\n",
    "    plt.plot(par_range,mean_f1, label='Validation Score', color='green', marker='o')\n",
    "    plt.xticks()\n",
    "    plt.legend()\n",
    "    \n",
    "    plt.subplot(2,1,2)\n",
    "    plt.plot(par_range, std_f1, label='Std of validation', color='red', marker='o')\n",
    "    plt.xticks()  \n",
    "    plt.legend()\n",
    "    plt.tight_layout()"
   ]
  },
  {
   "cell_type": "code",
   "execution_count": 147,
   "metadata": {
    "scrolled": false
   },
   "outputs": [
    {
     "name": "stderr",
     "output_type": "stream",
     "text": [
      "[Parallel(n_jobs=-1)]: Using backend LokyBackend with 4 concurrent workers.\n",
      "[Parallel(n_jobs=-1)]: Done   5 out of   5 | elapsed:    0.6s finished\n",
      "[Parallel(n_jobs=-1)]: Using backend LokyBackend with 4 concurrent workers.\n",
      "[Parallel(n_jobs=-1)]: Done   5 out of   5 | elapsed:    1.0s finished\n",
      "[Parallel(n_jobs=-1)]: Using backend LokyBackend with 4 concurrent workers.\n",
      "[Parallel(n_jobs=-1)]: Done   5 out of   5 | elapsed:    1.9s finished\n",
      "[Parallel(n_jobs=-1)]: Using backend LokyBackend with 4 concurrent workers.\n",
      "[Parallel(n_jobs=-1)]: Done   5 out of   5 | elapsed:    2.2s finished\n",
      "[Parallel(n_jobs=-1)]: Using backend LokyBackend with 4 concurrent workers.\n",
      "[Parallel(n_jobs=-1)]: Done   5 out of   5 | elapsed:    2.7s finished\n",
      "[Parallel(n_jobs=-1)]: Using backend LokyBackend with 4 concurrent workers.\n",
      "[Parallel(n_jobs=-1)]: Done   5 out of   5 | elapsed:    3.4s finished\n",
      "[Parallel(n_jobs=-1)]: Using backend LokyBackend with 4 concurrent workers.\n",
      "[Parallel(n_jobs=-1)]: Done   5 out of   5 | elapsed:    3.8s finished\n",
      "[Parallel(n_jobs=-1)]: Using backend LokyBackend with 4 concurrent workers.\n",
      "[Parallel(n_jobs=-1)]: Done   5 out of   5 | elapsed:    4.3s finished\n",
      "[Parallel(n_jobs=-1)]: Using backend LokyBackend with 4 concurrent workers.\n",
      "[Parallel(n_jobs=-1)]: Done   5 out of   5 | elapsed:    4.9s finished\n",
      "[Parallel(n_jobs=-1)]: Using backend LokyBackend with 4 concurrent workers.\n",
      "[Parallel(n_jobs=-1)]: Done   5 out of   5 | elapsed:    5.5s finished\n",
      "[Parallel(n_jobs=-1)]: Using backend LokyBackend with 4 concurrent workers.\n",
      "[Parallel(n_jobs=-1)]: Done   5 out of   5 | elapsed:    6.0s finished\n",
      "[Parallel(n_jobs=-1)]: Using backend LokyBackend with 4 concurrent workers.\n",
      "[Parallel(n_jobs=-1)]: Done   5 out of   5 | elapsed:    6.7s finished\n",
      "[Parallel(n_jobs=-1)]: Using backend LokyBackend with 4 concurrent workers.\n",
      "[Parallel(n_jobs=-1)]: Done   5 out of   5 | elapsed:    7.2s finished\n",
      "[Parallel(n_jobs=-1)]: Using backend LokyBackend with 4 concurrent workers.\n",
      "[Parallel(n_jobs=-1)]: Done   5 out of   5 | elapsed:    7.6s finished\n",
      "[Parallel(n_jobs=-1)]: Using backend LokyBackend with 4 concurrent workers.\n",
      "[Parallel(n_jobs=-1)]: Done   5 out of   5 | elapsed:    9.0s finished\n",
      "[Parallel(n_jobs=-1)]: Using backend LokyBackend with 4 concurrent workers.\n",
      "[Parallel(n_jobs=-1)]: Done   5 out of   5 | elapsed:    8.8s finished\n",
      "[Parallel(n_jobs=-1)]: Using backend LokyBackend with 4 concurrent workers.\n",
      "[Parallel(n_jobs=-1)]: Done   5 out of   5 | elapsed:    9.3s finished\n",
      "[Parallel(n_jobs=-1)]: Using backend LokyBackend with 4 concurrent workers.\n",
      "[Parallel(n_jobs=-1)]: Done   5 out of   5 | elapsed:   10.2s finished\n",
      "[Parallel(n_jobs=-1)]: Using backend LokyBackend with 4 concurrent workers.\n",
      "[Parallel(n_jobs=-1)]: Done   5 out of   5 | elapsed:   10.5s finished\n",
      "[Parallel(n_jobs=-1)]: Using backend LokyBackend with 4 concurrent workers.\n",
      "[Parallel(n_jobs=-1)]: Done   5 out of   5 | elapsed:   11.0s finished\n",
      "[Parallel(n_jobs=-1)]: Using backend LokyBackend with 4 concurrent workers.\n",
      "[Parallel(n_jobs=-1)]: Done   5 out of   5 | elapsed:   12.0s finished\n",
      "[Parallel(n_jobs=-1)]: Using backend LokyBackend with 4 concurrent workers.\n",
      "[Parallel(n_jobs=-1)]: Done   5 out of   5 | elapsed:   12.1s finished\n",
      "[Parallel(n_jobs=-1)]: Using backend LokyBackend with 4 concurrent workers.\n",
      "[Parallel(n_jobs=-1)]: Done   5 out of   5 | elapsed:   12.8s finished\n",
      "[Parallel(n_jobs=-1)]: Using backend LokyBackend with 4 concurrent workers.\n",
      "[Parallel(n_jobs=-1)]: Done   5 out of   5 | elapsed:   13.1s finished\n",
      "[Parallel(n_jobs=-1)]: Using backend LokyBackend with 4 concurrent workers.\n",
      "[Parallel(n_jobs=-1)]: Done   5 out of   5 | elapsed:   13.6s finished\n",
      "[Parallel(n_jobs=-1)]: Using backend LokyBackend with 4 concurrent workers.\n",
      "[Parallel(n_jobs=-1)]: Done   5 out of   5 | elapsed:   14.2s finished\n",
      "[Parallel(n_jobs=-1)]: Using backend LokyBackend with 4 concurrent workers.\n",
      "[Parallel(n_jobs=-1)]: Done   5 out of   5 | elapsed:   14.8s finished\n",
      "[Parallel(n_jobs=-1)]: Using backend LokyBackend with 4 concurrent workers.\n",
      "[Parallel(n_jobs=-1)]: Done   5 out of   5 | elapsed:   15.5s finished\n",
      "[Parallel(n_jobs=-1)]: Using backend LokyBackend with 4 concurrent workers.\n",
      "[Parallel(n_jobs=-1)]: Done   5 out of   5 | elapsed:   16.2s finished\n",
      "[Parallel(n_jobs=-1)]: Using backend LokyBackend with 4 concurrent workers.\n",
      "[Parallel(n_jobs=-1)]: Done   5 out of   5 | elapsed:   16.6s finished\n",
      "[Parallel(n_jobs=-1)]: Using backend LokyBackend with 4 concurrent workers.\n",
      "[Parallel(n_jobs=-1)]: Done   5 out of   5 | elapsed:   17.1s finished\n",
      "[Parallel(n_jobs=-1)]: Using backend LokyBackend with 4 concurrent workers.\n",
      "[Parallel(n_jobs=-1)]: Done   5 out of   5 | elapsed:   18.2s finished\n",
      "[Parallel(n_jobs=-1)]: Using backend LokyBackend with 4 concurrent workers.\n",
      "[Parallel(n_jobs=-1)]: Done   5 out of   5 | elapsed:   19.5s finished\n",
      "[Parallel(n_jobs=-1)]: Using backend LokyBackend with 4 concurrent workers.\n",
      "[Parallel(n_jobs=-1)]: Done   5 out of   5 | elapsed:   18.7s finished\n",
      "[Parallel(n_jobs=-1)]: Using backend LokyBackend with 4 concurrent workers.\n",
      "[Parallel(n_jobs=-1)]: Done   5 out of   5 | elapsed:   19.2s finished\n",
      "[Parallel(n_jobs=-1)]: Using backend LokyBackend with 4 concurrent workers.\n",
      "[Parallel(n_jobs=-1)]: Done   5 out of   5 | elapsed:   20.7s finished\n",
      "[Parallel(n_jobs=-1)]: Using backend LokyBackend with 4 concurrent workers.\n",
      "[Parallel(n_jobs=-1)]: Done   5 out of   5 | elapsed:   20.6s finished\n",
      "[Parallel(n_jobs=-1)]: Using backend LokyBackend with 4 concurrent workers.\n",
      "[Parallel(n_jobs=-1)]: Done   5 out of   5 | elapsed:   21.2s finished\n",
      "[Parallel(n_jobs=-1)]: Using backend LokyBackend with 4 concurrent workers.\n",
      "[Parallel(n_jobs=-1)]: Done   5 out of   5 | elapsed:   21.7s finished\n",
      "[Parallel(n_jobs=-1)]: Using backend LokyBackend with 4 concurrent workers.\n",
      "[Parallel(n_jobs=-1)]: Done   5 out of   5 | elapsed:   48.6s finished\n"
     ]
    },
    {
     "data": {
      "image/png": "[encoded data removed]",
      "text/plain": [
       "<Figure size 720x720 with 2 Axes>"
      ]
     },
     "metadata": {
      "needs_background": "light"
     },
     "output_type": "display_data"
    }
   ],
   "source": [
    "parameter_optimizer(x_train, y_train, range(50, 2001, 50))"
   ]
  },
  {
   "cell_type": "code",
   "execution_count": 150,
   "metadata": {},
   "outputs": [
    {
     "name": "stdout",
     "output_type": "stream",
     "text": [
      "Training f1 score: 0.6050870147255689\n",
      "Testing f1 score: 0.4329004329004329\n",
      "\t\n",
      "\u001b[1mClassification Report for test data:\u001b[0m\n",
      "              precision    recall  f1-score   support\n",
      "\n",
      "           0       0.85      0.84      0.85       868\n",
      "           1       0.42      0.45      0.43       224\n",
      "\n",
      "    accuracy                           0.76      1092\n",
      "   macro avg       0.64      0.64      0.64      1092\n",
      "weighted avg       0.77      0.76      0.76      1092\n",
      "\n"
     ]
    }
   ],
   "source": [
    "rfm = RandomForestClassifier(random_state=101, class_weight='balanced', max_depth=7,n_estimators=1100)\n",
    "pred_train, pred_test, rf = Model_Prediction(x_train, y_train, x_test, y_test, rfm)"
   ]
  },
  {
   "cell_type": "code",
   "execution_count": 151,
   "metadata": {},
   "outputs": [],
   "source": [
    "param_grid = {'n_estimators': [int(round(i)) for i in np.linspace(50,2500,100)],\n",
    "              'criterion': ['gini', 'entropy'],\n",
    "              'max_depth': [i for i in range(2,10)],\n",
    "              'min_samples_split': [i for i in range(25,1000, 25)],\n",
    "              'min_samples_leaf': [i for i in range(12,500, 15)],\n",
    "              'max_features': ['auto', 'sqrt', 'log2'],\n",
    "              'bootstrap': [True, False]\n",
    "}"
   ]
  },
  {
   "cell_type": "code",
   "execution_count": 152,
   "metadata": {},
   "outputs": [
    {
     "name": "stdout",
     "output_type": "stream",
     "text": [
      "Fitting 5 folds for each of 100 candidates, totalling 500 fits\n"
     ]
    },
    {
     "name": "stderr",
     "output_type": "stream",
     "text": [
      "[Parallel(n_jobs=-1)]: Using backend LokyBackend with 4 concurrent workers.\n",
      "[Parallel(n_jobs=-1)]: Done  33 tasks      | elapsed:  1.4min\n",
      "[Parallel(n_jobs=-1)]: Done 154 tasks      | elapsed:  4.6min\n",
      "[Parallel(n_jobs=-1)]: Done 357 tasks      | elapsed:  9.0min\n",
      "[Parallel(n_jobs=-1)]: Done 500 out of 500 | elapsed: 13.5min finished\n"
     ]
    }
   ],
   "source": [
    "rf = RandomForestClassifier(random_state=101, class_weight='balanced')\n",
    "rsearch_rf = RandomizedSearchCV(estimator=rf, n_iter=100, cv=StratifiedKFold(n_splits=5), \n",
    "                             n_jobs=-1, verbose=2, param_distributions=param_grid, \n",
    "                             random_state=101, scoring='f1').fit(x_train, y_train)"
   ]
  },
  {
   "cell_type": "code",
   "execution_count": 153,
   "metadata": {},
   "outputs": [
    {
     "data": {
      "text/plain": [
       "0.45918583406490165"
      ]
     },
     "execution_count": 153,
     "metadata": {},
     "output_type": "execute_result"
    }
   ],
   "source": [
    "rsearch_rf.best_score_"
   ]
  },
  {
   "cell_type": "code",
   "execution_count": 188,
   "metadata": {},
   "outputs": [
    {
     "data": {
      "text/html": [
       "<div>\n",
       "<style scoped>\n",
       "    .dataframe tbody tr th:only-of-type {\n",
       "        vertical-align: middle;\n",
       "    }\n",
       "\n",
       "    .dataframe tbody tr th {\n",
       "        vertical-align: top;\n",
       "    }\n",
       "\n",
       "    .dataframe thead th {\n",
       "        text-align: right;\n",
       "    }\n",
       "</style>\n",
       "<table border=\"1\" class=\"dataframe\">\n",
       "  <thead>\n",
       "    <tr style=\"text-align: right;\">\n",
       "      <th></th>\n",
       "      <th>mean_fit_time</th>\n",
       "      <th>std_fit_time</th>\n",
       "      <th>mean_score_time</th>\n",
       "      <th>std_score_time</th>\n",
       "      <th>param_n_estimators</th>\n",
       "      <th>param_min_samples_split</th>\n",
       "      <th>param_min_samples_leaf</th>\n",
       "      <th>param_max_features</th>\n",
       "      <th>param_max_depth</th>\n",
       "      <th>param_criterion</th>\n",
       "      <th>param_bootstrap</th>\n",
       "      <th>params</th>\n",
       "      <th>split0_test_score</th>\n",
       "      <th>split1_test_score</th>\n",
       "      <th>split2_test_score</th>\n",
       "      <th>split3_test_score</th>\n",
       "      <th>split4_test_score</th>\n",
       "      <th>mean_test_score</th>\n",
       "      <th>std_test_score</th>\n",
       "      <th>rank_test_score</th>\n",
       "    </tr>\n",
       "  </thead>\n",
       "  <tbody>\n",
       "    <tr>\n",
       "      <th>0</th>\n",
       "      <td>6.208199</td>\n",
       "      <td>0.107417</td>\n",
       "      <td>0.285836</td>\n",
       "      <td>0.023008</td>\n",
       "      <td>916</td>\n",
       "      <td>300</td>\n",
       "      <td>57</td>\n",
       "      <td>log2</td>\n",
       "      <td>4</td>\n",
       "      <td>entropy</td>\n",
       "      <td>True</td>\n",
       "      <td>{'n_estimators': 916, 'min_samples_split': 300...</td>\n",
       "      <td>0.477612</td>\n",
       "      <td>0.437870</td>\n",
       "      <td>0.452012</td>\n",
       "      <td>0.439759</td>\n",
       "      <td>0.448598</td>\n",
       "      <td>0.451170</td>\n",
       "      <td>0.014238</td>\n",
       "      <td>15</td>\n",
       "    </tr>\n",
       "    <tr>\n",
       "      <th>1</th>\n",
       "      <td>10.931169</td>\n",
       "      <td>0.152050</td>\n",
       "      <td>0.556512</td>\n",
       "      <td>0.011301</td>\n",
       "      <td>2401</td>\n",
       "      <td>375</td>\n",
       "      <td>87</td>\n",
       "      <td>log2</td>\n",
       "      <td>5</td>\n",
       "      <td>gini</td>\n",
       "      <td>False</td>\n",
       "      <td>{'n_estimators': 2401, 'min_samples_split': 37...</td>\n",
       "      <td>0.479290</td>\n",
       "      <td>0.435028</td>\n",
       "      <td>0.452381</td>\n",
       "      <td>0.448276</td>\n",
       "      <td>0.447059</td>\n",
       "      <td>0.452407</td>\n",
       "      <td>0.014631</td>\n",
       "      <td>8</td>\n",
       "    </tr>\n",
       "    <tr>\n",
       "      <th>2</th>\n",
       "      <td>8.914960</td>\n",
       "      <td>0.142082</td>\n",
       "      <td>0.505249</td>\n",
       "      <td>0.019387</td>\n",
       "      <td>2327</td>\n",
       "      <td>975</td>\n",
       "      <td>12</td>\n",
       "      <td>log2</td>\n",
       "      <td>4</td>\n",
       "      <td>gini</td>\n",
       "      <td>True</td>\n",
       "      <td>{'n_estimators': 2327, 'min_samples_split': 97...</td>\n",
       "      <td>0.477876</td>\n",
       "      <td>0.439169</td>\n",
       "      <td>0.455090</td>\n",
       "      <td>0.439024</td>\n",
       "      <td>0.438272</td>\n",
       "      <td>0.449886</td>\n",
       "      <td>0.015351</td>\n",
       "      <td>23</td>\n",
       "    </tr>\n",
       "    <tr>\n",
       "      <th>3</th>\n",
       "      <td>9.790619</td>\n",
       "      <td>0.167263</td>\n",
       "      <td>0.485103</td>\n",
       "      <td>0.064704</td>\n",
       "      <td>1312</td>\n",
       "      <td>350</td>\n",
       "      <td>177</td>\n",
       "      <td>log2</td>\n",
       "      <td>6</td>\n",
       "      <td>entropy</td>\n",
       "      <td>False</td>\n",
       "      <td>{'n_estimators': 1312, 'min_samples_split': 35...</td>\n",
       "      <td>0.475921</td>\n",
       "      <td>0.443243</td>\n",
       "      <td>0.457971</td>\n",
       "      <td>0.430168</td>\n",
       "      <td>0.445104</td>\n",
       "      <td>0.450481</td>\n",
       "      <td>0.015474</td>\n",
       "      <td>20</td>\n",
       "    </tr>\n",
       "    <tr>\n",
       "      <th>4</th>\n",
       "      <td>6.138785</td>\n",
       "      <td>0.206583</td>\n",
       "      <td>0.289626</td>\n",
       "      <td>0.014693</td>\n",
       "      <td>867</td>\n",
       "      <td>425</td>\n",
       "      <td>147</td>\n",
       "      <td>log2</td>\n",
       "      <td>5</td>\n",
       "      <td>entropy</td>\n",
       "      <td>False</td>\n",
       "      <td>{'n_estimators': 867, 'min_samples_split': 425...</td>\n",
       "      <td>0.469565</td>\n",
       "      <td>0.441989</td>\n",
       "      <td>0.470930</td>\n",
       "      <td>0.435530</td>\n",
       "      <td>0.439169</td>\n",
       "      <td>0.451437</td>\n",
       "      <td>0.015501</td>\n",
       "      <td>13</td>\n",
       "    </tr>\n",
       "    <tr>\n",
       "      <th>5</th>\n",
       "      <td>3.923109</td>\n",
       "      <td>0.059562</td>\n",
       "      <td>0.206648</td>\n",
       "      <td>0.014513</td>\n",
       "      <td>792</td>\n",
       "      <td>275</td>\n",
       "      <td>132</td>\n",
       "      <td>log2</td>\n",
       "      <td>9</td>\n",
       "      <td>gini</td>\n",
       "      <td>False</td>\n",
       "      <td>{'n_estimators': 792, 'min_samples_split': 275...</td>\n",
       "      <td>0.477778</td>\n",
       "      <td>0.446866</td>\n",
       "      <td>0.463768</td>\n",
       "      <td>0.435754</td>\n",
       "      <td>0.441176</td>\n",
       "      <td>0.453069</td>\n",
       "      <td>0.015522</td>\n",
       "      <td>6</td>\n",
       "    </tr>\n",
       "    <tr>\n",
       "      <th>6</th>\n",
       "      <td>5.716912</td>\n",
       "      <td>0.109224</td>\n",
       "      <td>0.300398</td>\n",
       "      <td>0.012979</td>\n",
       "      <td>1263</td>\n",
       "      <td>550</td>\n",
       "      <td>132</td>\n",
       "      <td>log2</td>\n",
       "      <td>6</td>\n",
       "      <td>gini</td>\n",
       "      <td>False</td>\n",
       "      <td>{'n_estimators': 1263, 'min_samples_split': 55...</td>\n",
       "      <td>0.479769</td>\n",
       "      <td>0.444444</td>\n",
       "      <td>0.475645</td>\n",
       "      <td>0.441261</td>\n",
       "      <td>0.454810</td>\n",
       "      <td>0.459186</td>\n",
       "      <td>0.015826</td>\n",
       "      <td>1</td>\n",
       "    </tr>\n",
       "  </tbody>\n",
       "</table>\n",
       "</div>"
      ],
      "text/plain": [
       "   mean_fit_time  std_fit_time  mean_score_time  std_score_time  \\\n",
       "0       6.208199      0.107417         0.285836        0.023008   \n",
       "1      10.931169      0.152050         0.556512        0.011301   \n",
       "2       8.914960      0.142082         0.505249        0.019387   \n",
       "3       9.790619      0.167263         0.485103        0.064704   \n",
       "4       6.138785      0.206583         0.289626        0.014693   \n",
       "5       3.923109      0.059562         0.206648        0.014513   \n",
       "6       5.716912      0.109224         0.300398        0.012979   \n",
       "\n",
       "  param_n_estimators param_min_samples_split param_min_samples_leaf  \\\n",
       "0                916                     300                     57   \n",
       "1               2401                     375                     87   \n",
       "2               2327                     975                     12   \n",
       "3               1312                     350                    177   \n",
       "4                867                     425                    147   \n",
       "5                792                     275                    132   \n",
       "6               1263                     550                    132   \n",
       "\n",
       "  param_max_features param_max_depth param_criterion param_bootstrap  \\\n",
       "0               log2               4         entropy            True   \n",
       "1               log2               5            gini           False   \n",
       "2               log2               4            gini            True   \n",
       "3               log2               6         entropy           False   \n",
       "4               log2               5         entropy           False   \n",
       "5               log2               9            gini           False   \n",
       "6               log2               6            gini           False   \n",
       "\n",
       "                                              params  split0_test_score  \\\n",
       "0  {'n_estimators': 916, 'min_samples_split': 300...           0.477612   \n",
       "1  {'n_estimators': 2401, 'min_samples_split': 37...           0.479290   \n",
       "2  {'n_estimators': 2327, 'min_samples_split': 97...           0.477876   \n",
       "3  {'n_estimators': 1312, 'min_samples_split': 35...           0.475921   \n",
       "4  {'n_estimators': 867, 'min_samples_split': 425...           0.469565   \n",
       "5  {'n_estimators': 792, 'min_samples_split': 275...           0.477778   \n",
       "6  {'n_estimators': 1263, 'min_samples_split': 55...           0.479769   \n",
       "\n",
       "   split1_test_score  split2_test_score  split3_test_score  split4_test_score  \\\n",
       "0           0.437870           0.452012           0.439759           0.448598   \n",
       "1           0.435028           0.452381           0.448276           0.447059   \n",
       "2           0.439169           0.455090           0.439024           0.438272   \n",
       "3           0.443243           0.457971           0.430168           0.445104   \n",
       "4           0.441989           0.470930           0.435530           0.439169   \n",
       "5           0.446866           0.463768           0.435754           0.441176   \n",
       "6           0.444444           0.475645           0.441261           0.454810   \n",
       "\n",
       "   mean_test_score  std_test_score  rank_test_score  \n",
       "0         0.451170        0.014238               15  \n",
       "1         0.452407        0.014631                8  \n",
       "2         0.449886        0.015351               23  \n",
       "3         0.450481        0.015474               20  \n",
       "4         0.451437        0.015501               13  \n",
       "5         0.453069        0.015522                6  \n",
       "6         0.459186        0.015826                1  "
      ]
     },
     "execution_count": 188,
     "metadata": {},
     "output_type": "execute_result"
    }
   ],
   "source": [
    "eval_data = pd.DataFrame(rsearch_rf.cv_results_).sort_values(by=['std_test_score'],\n",
    "                                                 ascending=True).reset_index(drop=True)\n",
    "eval_data.head(7)"
   ]
  },
  {
   "cell_type": "code",
   "execution_count": 192,
   "metadata": {},
   "outputs": [
    {
     "data": {
      "text/plain": [
       "mean_fit_time                                                        5.71691\n",
       "std_fit_time                                                        0.109224\n",
       "mean_score_time                                                     0.300398\n",
       "std_score_time                                                     0.0129793\n",
       "param_n_estimators                                                      1263\n",
       "param_min_samples_split                                                  550\n",
       "param_min_samples_leaf                                                   132\n",
       "param_max_features                                                      log2\n",
       "param_max_depth                                                            6\n",
       "param_criterion                                                         gini\n",
       "param_bootstrap                                                        False\n",
       "params                     {'n_estimators': 1263, 'min_samples_split': 55...\n",
       "split0_test_score                                                   0.479769\n",
       "split1_test_score                                                   0.444444\n",
       "split2_test_score                                                   0.475645\n",
       "split3_test_score                                                   0.441261\n",
       "split4_test_score                                                    0.45481\n",
       "mean_test_score                                                     0.459186\n",
       "std_test_score                                                      0.015826\n",
       "rank_test_score                                                            1\n",
       "Name: 6, dtype: object"
      ]
     },
     "execution_count": 192,
     "metadata": {},
     "output_type": "execute_result"
    }
   ],
   "source": [
    "eval_data.iloc[6,:]"
   ]
  },
  {
   "cell_type": "code",
   "execution_count": 194,
   "metadata": {},
   "outputs": [
    {
     "name": "stdout",
     "output_type": "stream",
     "text": [
      "Training f1 score: 0.47165532879818595\n",
      "Testing f1 score: 0.42391304347826086\n",
      "\t\n",
      "\u001b[1mClassification Report for test data:\u001b[0m\n",
      "              precision    recall  f1-score   support\n",
      "\n",
      "           0       0.77      0.84      0.81       778\n",
      "           1       0.49      0.37      0.42       314\n",
      "\n",
      "    accuracy                           0.71      1092\n",
      "   macro avg       0.63      0.61      0.61      1092\n",
      "weighted avg       0.69      0.71      0.70      1092\n",
      "\n"
     ]
    }
   ],
   "source": [
    "rfm = RandomForestClassifier(random_state=101, n_estimators = 1263,\n",
    " min_samples_split = 550,\n",
    " min_samples_leaf =  132,\n",
    " max_features = 'log2',\n",
    " max_depth = 6,\n",
    " criterion ='gini',\n",
    " bootstrap = False, class_weight='balanced')\n",
    "pred_train, pred_test, rf = Model_Prediction(x_train, y_train, x_test, y_test, rfm)"
   ]
  },
  {
   "cell_type": "code",
   "execution_count": 195,
   "metadata": {},
   "outputs": [
    {
     "data": {
      "text/plain": [
       "<matplotlib.legend.Legend at 0x2528bad2d88>"
      ]
     },
     "execution_count": 195,
     "metadata": {},
     "output_type": "execute_result"
    },
    {
     "data": {
      "image/png": "[encoded data removed]",
      "text/plain": [
       "<Figure size 600x500 with 1 Axes>"
      ]
     },
     "metadata": {},
     "output_type": "display_data"
    }
   ],
   "source": [
    "prob_test = rf.predict_proba(x_test)\n",
    "\n",
    "#Values for precision, recall and thresholds\n",
    "precision, recall, thresholds = precision_recall_curve(y_test, prob_test[:,1])\n",
    "\n",
    "#Ploting precision-recall curve\n",
    "plt.figure(figsize=(6,5), dpi=100)\n",
    "sns.set_style('whitegrid')\n",
    "plt.plot(thresholds, precision[:-1], color='green', label='Precision Curve')\n",
    "plt.plot(thresholds, recall[:-1], color='orange', label='Recall Curve')\n",
    "plt.xlabel('Threshold Points')\n",
    "plt.ylabel('F1-Score')\n",
    "plt.title('Precision-Recall tradeoff')\n",
    "plt.legend()\n"
   ]
  },
  {
   "cell_type": "code",
   "execution_count": 211,
   "metadata": {},
   "outputs": [
    {
     "name": "stdout",
     "output_type": "stream",
     "text": [
      "Training f1 score: 0.4736490993995997\n",
      "Testing f1 score: 0.42857142857142855\n",
      "\t\n",
      "\u001b[1mClassification Report for test data:\u001b[0m\n",
      "              precision    recall  f1-score   support\n",
      "\n",
      "           0       0.84      0.84      0.84       854\n",
      "           1       0.43      0.43      0.43       238\n",
      "\n",
      "    accuracy                           0.75      1092\n",
      "   macro avg       0.63      0.63      0.63      1092\n",
      "weighted avg       0.75      0.75      0.75      1092\n",
      "\n"
     ]
    },
    {
     "data": {
      "text/plain": [
       "<Figure size 144x144 with 0 Axes>"
      ]
     },
     "metadata": {},
     "output_type": "display_data"
    },
    {
     "data": {
      "image/png": "[encoded data removed]",
      "text/plain": [
       "<Figure size 720x720 with 2 Axes>"
      ]
     },
     "metadata": {},
     "output_type": "display_data"
    }
   ],
   "source": [
    "rfm = RandomForestClassifier(random_state=101, n_estimators = 1263,\n",
    " min_samples_split = 550,\n",
    " min_samples_leaf =  132,\n",
    " max_features = 'log2',\n",
    " max_depth = 6,\n",
    " criterion ='gini',\n",
    " bootstrap = False, class_weight='balanced')\n",
    "pred_train, pred_test, rf = Model_Prediction(x_train, y_train, x_test, y_test, rfm, thresh=0.54, con_mat=True)"
   ]
  },
  {
   "cell_type": "code",
   "execution_count": 175,
   "metadata": {},
   "outputs": [
    {
     "name": "stdout",
     "output_type": "stream",
     "text": [
      "Fitting 5 folds for each of 100 candidates, totalling 500 fits\n"
     ]
    },
    {
     "name": "stderr",
     "output_type": "stream",
     "text": [
      "[Parallel(n_jobs=-1)]: Using backend LokyBackend with 4 concurrent workers.\n",
      "[Parallel(n_jobs=-1)]: Done  33 tasks      | elapsed:  1.2min\n",
      "[Parallel(n_jobs=-1)]: Done 154 tasks      | elapsed:  4.9min\n",
      "[Parallel(n_jobs=-1)]: Done 357 tasks      | elapsed: 10.2min\n",
      "[Parallel(n_jobs=-1)]: Done 500 out of 500 | elapsed: 16.6min finished\n"
     ]
    }
   ],
   "source": [
    "rsearch_cw = RandomizedSearchCV(estimator=rfm, param_distributions={'class_weight':[{0:i, 1:1.0-i} for i in np.linspace(0,1,100)]},\n",
    "                                n_iter=100, n_jobs=-1, verbose=2, scoring='f1', cv=StratifiedKFold(n_splits=5)).fit(x_train,y_train)"
   ]
  },
  {
   "cell_type": "code",
   "execution_count": 202,
   "metadata": {},
   "outputs": [
    {
     "data": {
      "text/html": [
       "<div>\n",
       "<style scoped>\n",
       "    .dataframe tbody tr th:only-of-type {\n",
       "        vertical-align: middle;\n",
       "    }\n",
       "\n",
       "    .dataframe tbody tr th {\n",
       "        vertical-align: top;\n",
       "    }\n",
       "\n",
       "    .dataframe thead th {\n",
       "        text-align: right;\n",
       "    }\n",
       "</style>\n",
       "<table border=\"1\" class=\"dataframe\">\n",
       "  <thead>\n",
       "    <tr style=\"text-align: right;\">\n",
       "      <th></th>\n",
       "      <th>mean_fit_time</th>\n",
       "      <th>std_fit_time</th>\n",
       "      <th>mean_score_time</th>\n",
       "      <th>std_score_time</th>\n",
       "      <th>param_class_weight</th>\n",
       "      <th>params</th>\n",
       "      <th>split0_test_score</th>\n",
       "      <th>split1_test_score</th>\n",
       "      <th>split2_test_score</th>\n",
       "      <th>split3_test_score</th>\n",
       "      <th>split4_test_score</th>\n",
       "      <th>mean_test_score</th>\n",
       "      <th>std_test_score</th>\n",
       "      <th>rank_test_score</th>\n",
       "    </tr>\n",
       "  </thead>\n",
       "  <tbody>\n",
       "    <tr>\n",
       "      <th>0</th>\n",
       "      <td>6.625404</td>\n",
       "      <td>0.059394</td>\n",
       "      <td>0.363804</td>\n",
       "      <td>0.022637</td>\n",
       "      <td>{0: 0.21212121212121213, 1: 0.7878787878787878}</td>\n",
       "      <td>{'class_weight': {0: 0.21212121212121213, 1: 0...</td>\n",
       "      <td>0.481994</td>\n",
       "      <td>0.439791</td>\n",
       "      <td>0.462396</td>\n",
       "      <td>0.433333</td>\n",
       "      <td>0.450867</td>\n",
       "      <td>0.453676</td>\n",
       "      <td>0.017277</td>\n",
       "      <td>1</td>\n",
       "    </tr>\n",
       "    <tr>\n",
       "      <th>1</th>\n",
       "      <td>6.628587</td>\n",
       "      <td>0.128076</td>\n",
       "      <td>0.354615</td>\n",
       "      <td>0.021551</td>\n",
       "      <td>{0: 0.22222222222222224, 1: 0.7777777777777778}</td>\n",
       "      <td>{'class_weight': {0: 0.22222222222222224, 1: 0...</td>\n",
       "      <td>0.476471</td>\n",
       "      <td>0.440678</td>\n",
       "      <td>0.472303</td>\n",
       "      <td>0.428986</td>\n",
       "      <td>0.443787</td>\n",
       "      <td>0.452445</td>\n",
       "      <td>0.018630</td>\n",
       "      <td>2</td>\n",
       "    </tr>\n",
       "    <tr>\n",
       "      <th>2</th>\n",
       "      <td>6.534168</td>\n",
       "      <td>0.075997</td>\n",
       "      <td>0.359015</td>\n",
       "      <td>0.039904</td>\n",
       "      <td>{0: 0.24242424242424243, 1: 0.7575757575757576}</td>\n",
       "      <td>{'class_weight': {0: 0.24242424242424243, 1: 0...</td>\n",
       "      <td>0.479233</td>\n",
       "      <td>0.443038</td>\n",
       "      <td>0.465116</td>\n",
       "      <td>0.425249</td>\n",
       "      <td>0.442308</td>\n",
       "      <td>0.450989</td>\n",
       "      <td>0.018965</td>\n",
       "      <td>3</td>\n",
       "    </tr>\n",
       "    <tr>\n",
       "      <th>3</th>\n",
       "      <td>6.638178</td>\n",
       "      <td>0.061674</td>\n",
       "      <td>0.346302</td>\n",
       "      <td>0.016108</td>\n",
       "      <td>{0: 0.23232323232323235, 1: 0.7676767676767676}</td>\n",
       "      <td>{'class_weight': {0: 0.23232323232323235, 1: 0...</td>\n",
       "      <td>0.477341</td>\n",
       "      <td>0.431953</td>\n",
       "      <td>0.465409</td>\n",
       "      <td>0.439628</td>\n",
       "      <td>0.440367</td>\n",
       "      <td>0.450940</td>\n",
       "      <td>0.017359</td>\n",
       "      <td>4</td>\n",
       "    </tr>\n",
       "    <tr>\n",
       "      <th>4</th>\n",
       "      <td>6.515509</td>\n",
       "      <td>0.102164</td>\n",
       "      <td>0.337302</td>\n",
       "      <td>0.016380</td>\n",
       "      <td>{0: 0.25252525252525254, 1: 0.7474747474747474}</td>\n",
       "      <td>{'class_weight': {0: 0.25252525252525254, 1: 0...</td>\n",
       "      <td>0.479452</td>\n",
       "      <td>0.445183</td>\n",
       "      <td>0.441281</td>\n",
       "      <td>0.418118</td>\n",
       "      <td>0.436242</td>\n",
       "      <td>0.444055</td>\n",
       "      <td>0.019978</td>\n",
       "      <td>5</td>\n",
       "    </tr>\n",
       "    <tr>\n",
       "      <th>5</th>\n",
       "      <td>6.672176</td>\n",
       "      <td>0.103129</td>\n",
       "      <td>0.343796</td>\n",
       "      <td>0.016923</td>\n",
       "      <td>{0: 0.26262626262626265, 1: 0.7373737373737373}</td>\n",
       "      <td>{'class_weight': {0: 0.26262626262626265, 1: 0...</td>\n",
       "      <td>0.489510</td>\n",
       "      <td>0.458904</td>\n",
       "      <td>0.411765</td>\n",
       "      <td>0.421429</td>\n",
       "      <td>0.435986</td>\n",
       "      <td>0.443519</td>\n",
       "      <td>0.027946</td>\n",
       "      <td>6</td>\n",
       "    </tr>\n",
       "    <tr>\n",
       "      <th>6</th>\n",
       "      <td>6.582194</td>\n",
       "      <td>0.083213</td>\n",
       "      <td>0.356649</td>\n",
       "      <td>0.013894</td>\n",
       "      <td>{0: 0.18181818181818182, 1: 0.8181818181818181}</td>\n",
       "      <td>{'class_weight': {0: 0.18181818181818182, 1: 0...</td>\n",
       "      <td>0.483871</td>\n",
       "      <td>0.421286</td>\n",
       "      <td>0.461538</td>\n",
       "      <td>0.399038</td>\n",
       "      <td>0.447174</td>\n",
       "      <td>0.442582</td>\n",
       "      <td>0.029782</td>\n",
       "      <td>7</td>\n",
       "    </tr>\n",
       "  </tbody>\n",
       "</table>\n",
       "</div>"
      ],
      "text/plain": [
       "   mean_fit_time  std_fit_time  mean_score_time  std_score_time  \\\n",
       "0       6.625404      0.059394         0.363804        0.022637   \n",
       "1       6.628587      0.128076         0.354615        0.021551   \n",
       "2       6.534168      0.075997         0.359015        0.039904   \n",
       "3       6.638178      0.061674         0.346302        0.016108   \n",
       "4       6.515509      0.102164         0.337302        0.016380   \n",
       "5       6.672176      0.103129         0.343796        0.016923   \n",
       "6       6.582194      0.083213         0.356649        0.013894   \n",
       "\n",
       "                                param_class_weight  \\\n",
       "0  {0: 0.21212121212121213, 1: 0.7878787878787878}   \n",
       "1  {0: 0.22222222222222224, 1: 0.7777777777777778}   \n",
       "2  {0: 0.24242424242424243, 1: 0.7575757575757576}   \n",
       "3  {0: 0.23232323232323235, 1: 0.7676767676767676}   \n",
       "4  {0: 0.25252525252525254, 1: 0.7474747474747474}   \n",
       "5  {0: 0.26262626262626265, 1: 0.7373737373737373}   \n",
       "6  {0: 0.18181818181818182, 1: 0.8181818181818181}   \n",
       "\n",
       "                                              params  split0_test_score  \\\n",
       "0  {'class_weight': {0: 0.21212121212121213, 1: 0...           0.481994   \n",
       "1  {'class_weight': {0: 0.22222222222222224, 1: 0...           0.476471   \n",
       "2  {'class_weight': {0: 0.24242424242424243, 1: 0...           0.479233   \n",
       "3  {'class_weight': {0: 0.23232323232323235, 1: 0...           0.477341   \n",
       "4  {'class_weight': {0: 0.25252525252525254, 1: 0...           0.479452   \n",
       "5  {'class_weight': {0: 0.26262626262626265, 1: 0...           0.489510   \n",
       "6  {'class_weight': {0: 0.18181818181818182, 1: 0...           0.483871   \n",
       "\n",
       "   split1_test_score  split2_test_score  split3_test_score  split4_test_score  \\\n",
       "0           0.439791           0.462396           0.433333           0.450867   \n",
       "1           0.440678           0.472303           0.428986           0.443787   \n",
       "2           0.443038           0.465116           0.425249           0.442308   \n",
       "3           0.431953           0.465409           0.439628           0.440367   \n",
       "4           0.445183           0.441281           0.418118           0.436242   \n",
       "5           0.458904           0.411765           0.421429           0.435986   \n",
       "6           0.421286           0.461538           0.399038           0.447174   \n",
       "\n",
       "   mean_test_score  std_test_score  rank_test_score  \n",
       "0         0.453676        0.017277                1  \n",
       "1         0.452445        0.018630                2  \n",
       "2         0.450989        0.018965                3  \n",
       "3         0.450940        0.017359                4  \n",
       "4         0.444055        0.019978                5  \n",
       "5         0.443519        0.027946                6  \n",
       "6         0.442582        0.029782                7  "
      ]
     },
     "execution_count": 202,
     "metadata": {},
     "output_type": "execute_result"
    }
   ],
   "source": [
    "eval_data = pd.DataFrame(rsearch_cw.cv_results_).sort_values(by=['mean_test_score'],\n",
    "                                                 ascending=False).reset_index(drop=True)\n",
    "eval_data.head(7)"
   ]
  },
  {
   "cell_type": "code",
   "execution_count": 177,
   "metadata": {},
   "outputs": [
    {
     "data": {
      "text/plain": [
       "RandomForestClassifier(bootstrap=False, ccp_alpha=0.0,\n",
       "                       class_weight={0: 0.21212121212121213,\n",
       "                                     1: 0.7878787878787878},\n",
       "                       criterion='gini', max_depth=6, max_features='log2',\n",
       "                       max_leaf_nodes=None, max_samples=None,\n",
       "                       min_impurity_decrease=0.0, min_impurity_split=None,\n",
       "                       min_samples_leaf=132, min_samples_split=550,\n",
       "                       min_weight_fraction_leaf=0.0, n_estimators=1263,\n",
       "                       n_jobs=None, oob_score=False, random_state=101,\n",
       "                       verbose=0, warm_start=False)"
      ]
     },
     "execution_count": 177,
     "metadata": {},
     "output_type": "execute_result"
    }
   ],
   "source": [
    "rsearch_cw.best_estimator_"
   ]
  },
  {
   "cell_type": "code",
   "execution_count": 179,
   "metadata": {},
   "outputs": [
    {
     "name": "stdout",
     "output_type": "stream",
     "text": [
      "Training f1 score: 0.4657079646017699\n",
      "Testing f1 score: 0.4219858156028369\n",
      "\t\n",
      "\u001b[1mClassification Report for test data:\u001b[0m\n",
      "              precision    recall  f1-score   support\n",
      "\n",
      "           0       0.76      0.84      0.80       766\n",
      "           1       0.50      0.37      0.42       326\n",
      "\n",
      "    accuracy                           0.70      1092\n",
      "   macro avg       0.63      0.60      0.61      1092\n",
      "weighted avg       0.68      0.70      0.69      1092\n",
      "\n"
     ]
    }
   ],
   "source": [
    "rfm = RandomForestClassifier(random_state=101, n_estimators = 1263,\n",
    " min_samples_split = 550,\n",
    " min_samples_leaf =  132,\n",
    " max_features = 'log2',\n",
    " max_depth = 6,\n",
    " criterion ='gini',\n",
    " bootstrap = False, class_weight={0: 0.21212121212121213, 1: 0.7878787878787878})\n",
    "\n",
    "pred_train, pred_test, rf = Model_Prediction(x_train, y_train, x_test, y_test, rfm)"
   ]
  },
  {
   "cell_type": "code",
   "execution_count": 210,
   "metadata": {},
   "outputs": [
    {
     "name": "stdout",
     "output_type": "stream",
     "text": [
      "Training f1 score: 0.4736490993995997\n",
      "Testing f1 score: 0.42857142857142855\n",
      "\t\n",
      "\u001b[1mClassification Report for test data:\u001b[0m\n",
      "              precision    recall  f1-score   support\n",
      "\n",
      "           0       0.84      0.84      0.84       854\n",
      "           1       0.43      0.43      0.43       238\n",
      "\n",
      "    accuracy                           0.75      1092\n",
      "   macro avg       0.63      0.63      0.63      1092\n",
      "weighted avg       0.75      0.75      0.75      1092\n",
      "\n"
     ]
    },
    {
     "data": {
      "text/plain": [
       "<Figure size 144x144 with 0 Axes>"
      ]
     },
     "metadata": {},
     "output_type": "display_data"
    },
    {
     "data": {
      "image/png": "[encoded data removed]",
      "text/plain": [
       "<Figure size 720x720 with 2 Axes>"
      ]
     },
     "metadata": {},
     "output_type": "display_data"
    }
   ],
   "source": [
    "pred_train, pred_test, rf = Model_Prediction(x_train, y_train, x_test, y_test, rfm, thresh=0.54, con_mat=True)"
   ]
  },
  {
   "cell_type": "markdown",
   "metadata": {},
   "source": [
    "## XGBoost "
   ]
  },
  {
   "cell_type": "markdown",
   "metadata": {},
   "source": [
    "### XGBoost(Default Parameters)"
   ]
  },
  {
   "cell_type": "code",
   "execution_count": 212,
   "metadata": {},
   "outputs": [
    {
     "name": "stdout",
     "output_type": "stream",
     "text": [
      "Collecting xgboost\n",
      "  Downloading xgboost-1.2.0-py3-none-win_amd64.whl (86.5 MB)\n",
      "Requirement already satisfied: numpy in c:\\users\\hp\\anaconda3\\lib\\site-packages (from xgboost) (1.18.1)\n",
      "Requirement already satisfied: scipy in c:\\users\\hp\\anaconda3\\lib\\site-packages (from xgboost) (1.4.1)\n",
      "Installing collected packages: xgboost\n",
      "Successfully installed xgboost-1.2.0\n"
     ]
    }
   ],
   "source": [
    "!pip install xgboost"
   ]
  },
  {
   "cell_type": "code",
   "execution_count": 214,
   "metadata": {},
   "outputs": [
    {
     "name": "stdout",
     "output_type": "stream",
     "text": [
      "Training f1 score: 0.9711815561959654\n",
      "Testing f1 score: 0.3094555873925502\n",
      "\t\n",
      "\u001b[1mClassification Report for test data:\u001b[0m\n",
      "              precision    recall  f1-score   support\n",
      "\n",
      "           0       0.93      0.81      0.87       981\n",
      "           1       0.23      0.49      0.31       111\n",
      "\n",
      "    accuracy                           0.78      1092\n",
      "   macro avg       0.58      0.65      0.59      1092\n",
      "weighted avg       0.86      0.78      0.81      1092\n",
      "\n"
     ]
    }
   ],
   "source": [
    "from xgboost import XGBClassifier\n",
    "xgb = XGBClassifier(objective='binary:logistic', seed=101)\n",
    "x_train, y_train, xgb_mod = Model_Prediction(x_train, y_train, x_test, y_test, xgb)"
   ]
  },
  {
   "cell_type": "code",
   "execution_count": null,
   "metadata": {},
   "outputs": [],
   "source": []
  }
 ],
 "metadata": {
  "kernelspec": {
   "display_name": "Python 3",
   "language": "python",
   "name": "python3"
  },
  "language_info": {
   "codemirror_mode": {
    "name": "ipython",
    "version": 3
   },
   "file_extension": ".py",
   "mimetype": "text/x-python",
   "name": "python",
   "nbconvert_exporter": "python",
   "pygments_lexer": "ipython3",
   "version": "3.7.6"
  }
 },
 "nbformat": 4,
 "nbformat_minor": 4
}
