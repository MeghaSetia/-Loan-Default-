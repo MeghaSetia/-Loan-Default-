{
 "cells": [
  {
   "cell_type": "markdown",
   "metadata": {},
   "source": [
    "### INTRODUCTION"
   ]
  },
  {
   "cell_type": "markdown",
   "metadata": {},
   "source": [
    "A Bagging classifier is an ensemble meta-estimator that fits base classifiers each on random subsets of the original dataset and then aggregate their individual predictions (either by voting or by averaging) to form a final prediction"
   ]
  },
  {
   "attachments": {
    "image.png": {
     "image/png": "[encoded data removed]"
    }
   },
   "cell_type": "markdown",
   "metadata": {},
   "source": [
    "![image.png](attachment:image.png)"
   ]
  },
  {
   "cell_type": "markdown",
   "metadata": {},
   "source": [
    "# Importing Libraries"
   ]
  },
  {
   "cell_type": "code",
   "execution_count": 1,
   "metadata": {},
   "outputs": [],
   "source": [
    "#Importing required libraries\n",
    "import pandas as pd \n",
    "import numpy as np\n",
    "import matplotlib.pyplot as plt\n",
    "%matplotlib inline\n",
    "\n",
    "from sklearn.metrics import f1_score,classification_report\n",
    "\n",
    "import warnings\n",
    "warnings.filterwarnings('ignore')"
   ]
  },
  {
   "cell_type": "markdown",
   "metadata": {},
   "source": [
    "### Loading the dataset"
   ]
  },
  {
   "cell_type": "code",
   "execution_count": 2,
   "metadata": {},
   "outputs": [],
   "source": [
    "#reading the data\n",
    "data=pd.read_csv('Loan data cleaned.csv')"
   ]
  },
  {
   "cell_type": "code",
   "execution_count": 3,
   "metadata": {},
   "outputs": [
    {
     "data": {
      "text/plain": [
       "(4368, 64)"
      ]
     },
     "execution_count": 3,
     "metadata": {},
     "output_type": "execute_result"
    }
   ],
   "source": [
    "#shape of the data\n",
    "data.shape"
   ]
  },
  {
   "cell_type": "code",
   "execution_count": 4,
   "metadata": {},
   "outputs": [
    {
     "data": {
      "text/html": [
       "<div>\n",
       "<style scoped>\n",
       "    .dataframe tbody tr th:only-of-type {\n",
       "        vertical-align: middle;\n",
       "    }\n",
       "\n",
       "    .dataframe tbody tr th {\n",
       "        vertical-align: top;\n",
       "    }\n",
       "\n",
       "    .dataframe thead th {\n",
       "        text-align: right;\n",
       "    }\n",
       "</style>\n",
       "<table border=\"1\" class=\"dataframe\">\n",
       "  <thead>\n",
       "    <tr style=\"text-align: right;\">\n",
       "      <th></th>\n",
       "      <th>loannumber</th>\n",
       "      <th>loanamount</th>\n",
       "      <th>totaldue</th>\n",
       "      <th>termdays</th>\n",
       "      <th>good_bad_flag</th>\n",
       "      <th>bank_account_type</th>\n",
       "      <th>longitude_gps</th>\n",
       "      <th>latitude_gps</th>\n",
       "      <th>bank_name_clients</th>\n",
       "      <th>employment_status_clients</th>\n",
       "      <th>...</th>\n",
       "      <th>ploan_additional charges_50%_x</th>\n",
       "      <th>ploan_additional charges_75%_x</th>\n",
       "      <th>ploan_additional charges_max_x</th>\n",
       "      <th>ploan_additional charges_mean_y</th>\n",
       "      <th>ploan_additional charges_min_y</th>\n",
       "      <th>ploan_additional charges_25%_y</th>\n",
       "      <th>ploan_additional charges_50%_y</th>\n",
       "      <th>ploan_additional charges_75%_y</th>\n",
       "      <th>ploan_additional charges_max_y</th>\n",
       "      <th>not_repaid_percentage</th>\n",
       "    </tr>\n",
       "  </thead>\n",
       "  <tbody>\n",
       "    <tr>\n",
       "      <th>0</th>\n",
       "      <td>12</td>\n",
       "      <td>30000.0</td>\n",
       "      <td>34500.0</td>\n",
       "      <td>30</td>\n",
       "      <td>Good</td>\n",
       "      <td>Other</td>\n",
       "      <td>3.432010</td>\n",
       "      <td>6.433055</td>\n",
       "      <td>Diamond Bank</td>\n",
       "      <td>Permanent</td>\n",
       "      <td>...</td>\n",
       "      <td>3800.000000</td>\n",
       "      <td>4500.000000</td>\n",
       "      <td>4500.000000</td>\n",
       "      <td>3900.000000</td>\n",
       "      <td>3000.000000</td>\n",
       "      <td>3400.000000</td>\n",
       "      <td>3800.000000</td>\n",
       "      <td>4500.000000</td>\n",
       "      <td>4500.000000</td>\n",
       "      <td>64.000000</td>\n",
       "    </tr>\n",
       "    <tr>\n",
       "      <th>1</th>\n",
       "      <td>2</td>\n",
       "      <td>15000.0</td>\n",
       "      <td>17250.0</td>\n",
       "      <td>30</td>\n",
       "      <td>Good</td>\n",
       "      <td>Savings</td>\n",
       "      <td>3.885298</td>\n",
       "      <td>7.320700</td>\n",
       "      <td>GT Bank</td>\n",
       "      <td>Permanent</td>\n",
       "      <td>...</td>\n",
       "      <td>2665.558293</td>\n",
       "      <td>3037.525723</td>\n",
       "      <td>3543.851778</td>\n",
       "      <td>2730.359972</td>\n",
       "      <td>2102.661161</td>\n",
       "      <td>2364.738902</td>\n",
       "      <td>2665.558293</td>\n",
       "      <td>3037.525723</td>\n",
       "      <td>3543.851778</td>\n",
       "      <td>63.573297</td>\n",
       "    </tr>\n",
       "    <tr>\n",
       "      <th>2</th>\n",
       "      <td>7</td>\n",
       "      <td>20000.0</td>\n",
       "      <td>22250.0</td>\n",
       "      <td>15</td>\n",
       "      <td>Good</td>\n",
       "      <td>Other</td>\n",
       "      <td>11.139350</td>\n",
       "      <td>10.292041</td>\n",
       "      <td>EcoBank</td>\n",
       "      <td>Permanent</td>\n",
       "      <td>...</td>\n",
       "      <td>1500.000000</td>\n",
       "      <td>1500.000000</td>\n",
       "      <td>3000.000000</td>\n",
       "      <td>1750.000000</td>\n",
       "      <td>1500.000000</td>\n",
       "      <td>1500.000000</td>\n",
       "      <td>1500.000000</td>\n",
       "      <td>1500.000000</td>\n",
       "      <td>3000.000000</td>\n",
       "      <td>50.000000</td>\n",
       "    </tr>\n",
       "    <tr>\n",
       "      <th>3</th>\n",
       "      <td>3</td>\n",
       "      <td>10000.0</td>\n",
       "      <td>11500.0</td>\n",
       "      <td>15</td>\n",
       "      <td>Good</td>\n",
       "      <td>Savings</td>\n",
       "      <td>3.985770</td>\n",
       "      <td>7.491708</td>\n",
       "      <td>First Bank</td>\n",
       "      <td>Permanent</td>\n",
       "      <td>...</td>\n",
       "      <td>2250.000000</td>\n",
       "      <td>2625.000000</td>\n",
       "      <td>3000.000000</td>\n",
       "      <td>2250.000000</td>\n",
       "      <td>1500.000000</td>\n",
       "      <td>1875.000000</td>\n",
       "      <td>2250.000000</td>\n",
       "      <td>2625.000000</td>\n",
       "      <td>3000.000000</td>\n",
       "      <td>0.000000</td>\n",
       "    </tr>\n",
       "    <tr>\n",
       "      <th>4</th>\n",
       "      <td>9</td>\n",
       "      <td>40000.0</td>\n",
       "      <td>44000.0</td>\n",
       "      <td>30</td>\n",
       "      <td>Good</td>\n",
       "      <td>Other</td>\n",
       "      <td>7.457913</td>\n",
       "      <td>9.076574</td>\n",
       "      <td>GT Bank</td>\n",
       "      <td>Permanent</td>\n",
       "      <td>...</td>\n",
       "      <td>3800.000000</td>\n",
       "      <td>5100.000000</td>\n",
       "      <td>9000.000000</td>\n",
       "      <td>4800.000000</td>\n",
       "      <td>3000.000000</td>\n",
       "      <td>3000.000000</td>\n",
       "      <td>3800.000000</td>\n",
       "      <td>5100.000000</td>\n",
       "      <td>9000.000000</td>\n",
       "      <td>100.000000</td>\n",
       "    </tr>\n",
       "  </tbody>\n",
       "</table>\n",
       "<p>5 rows × 64 columns</p>\n",
       "</div>"
      ],
      "text/plain": [
       "   loannumber  loanamount  totaldue  termdays good_bad_flag bank_account_type  \\\n",
       "0          12     30000.0   34500.0        30          Good             Other   \n",
       "1           2     15000.0   17250.0        30          Good           Savings   \n",
       "2           7     20000.0   22250.0        15          Good             Other   \n",
       "3           3     10000.0   11500.0        15          Good           Savings   \n",
       "4           9     40000.0   44000.0        30          Good             Other   \n",
       "\n",
       "   longitude_gps  latitude_gps bank_name_clients employment_status_clients  \\\n",
       "0       3.432010      6.433055      Diamond Bank                 Permanent   \n",
       "1       3.885298      7.320700           GT Bank                 Permanent   \n",
       "2      11.139350     10.292041           EcoBank                 Permanent   \n",
       "3       3.985770      7.491708        First Bank                 Permanent   \n",
       "4       7.457913      9.076574           GT Bank                 Permanent   \n",
       "\n",
       "   ...  ploan_additional charges_50%_x  ploan_additional charges_75%_x  \\\n",
       "0  ...                     3800.000000                     4500.000000   \n",
       "1  ...                     2665.558293                     3037.525723   \n",
       "2  ...                     1500.000000                     1500.000000   \n",
       "3  ...                     2250.000000                     2625.000000   \n",
       "4  ...                     3800.000000                     5100.000000   \n",
       "\n",
       "   ploan_additional charges_max_x  ploan_additional charges_mean_y  \\\n",
       "0                     4500.000000                      3900.000000   \n",
       "1                     3543.851778                      2730.359972   \n",
       "2                     3000.000000                      1750.000000   \n",
       "3                     3000.000000                      2250.000000   \n",
       "4                     9000.000000                      4800.000000   \n",
       "\n",
       "   ploan_additional charges_min_y  ploan_additional charges_25%_y  \\\n",
       "0                     3000.000000                     3400.000000   \n",
       "1                     2102.661161                     2364.738902   \n",
       "2                     1500.000000                     1500.000000   \n",
       "3                     1500.000000                     1875.000000   \n",
       "4                     3000.000000                     3000.000000   \n",
       "\n",
       "   ploan_additional charges_50%_y  ploan_additional charges_75%_y  \\\n",
       "0                     3800.000000                     4500.000000   \n",
       "1                     2665.558293                     3037.525723   \n",
       "2                     1500.000000                     1500.000000   \n",
       "3                     2250.000000                     2625.000000   \n",
       "4                     3800.000000                     5100.000000   \n",
       "\n",
       "   ploan_additional charges_max_y  not_repaid_percentage  \n",
       "0                     4500.000000              64.000000  \n",
       "1                     3543.851778              63.573297  \n",
       "2                     3000.000000              50.000000  \n",
       "3                     3000.000000               0.000000  \n",
       "4                     9000.000000             100.000000  \n",
       "\n",
       "[5 rows x 64 columns]"
      ]
     },
     "execution_count": 4,
     "metadata": {},
     "output_type": "execute_result"
    }
   ],
   "source": [
    "#first five rows of the data\n",
    "data.head()"
   ]
  },
  {
   "cell_type": "code",
   "execution_count": 5,
   "metadata": {},
   "outputs": [
    {
     "data": {
      "text/plain": [
       "loannumber                        0\n",
       "loanamount                        0\n",
       "totaldue                          0\n",
       "termdays                          0\n",
       "good_bad_flag                     0\n",
       "                                 ..\n",
       "ploan_additional charges_25%_y    0\n",
       "ploan_additional charges_50%_y    0\n",
       "ploan_additional charges_75%_y    0\n",
       "ploan_additional charges_max_y    0\n",
       "not_repaid_percentage             0\n",
       "Length: 64, dtype: int64"
      ]
     },
     "execution_count": 5,
     "metadata": {},
     "output_type": "execute_result"
    }
   ],
   "source": [
    "#checking missing values in the data\n",
    "data.isnull().sum()"
   ]
  },
  {
   "cell_type": "code",
   "execution_count": 6,
   "metadata": {},
   "outputs": [],
   "source": [
    "#make dummies of categorical columns('bank_account_type','bank_name_clients','employment_status_clients')\n",
    "data=pd.get_dummies(data=data,columns=['bank_account_type','bank_name_clients','employment_status_clients'],drop_first=True)"
   ]
  },
  {
   "cell_type": "markdown",
   "metadata": {},
   "source": [
    "### Separating independent and dependent variables."
   ]
  },
  {
   "cell_type": "code",
   "execution_count": 7,
   "metadata": {},
   "outputs": [],
   "source": [
    "x = data.drop(['good_bad_flag'], axis=1)\n",
    "y = data['good_bad_flag'].replace({'Good':0, 'Bad':1})"
   ]
  },
  {
   "cell_type": "markdown",
   "metadata": {},
   "source": [
    "### Creating the train and test dataset"
   ]
  },
  {
   "cell_type": "code",
   "execution_count": 8,
   "metadata": {},
   "outputs": [],
   "source": [
    "#import the train-test split\n",
    "from sklearn.model_selection import train_test_split"
   ]
  },
  {
   "cell_type": "code",
   "execution_count": 9,
   "metadata": {},
   "outputs": [],
   "source": [
    "#divide into train and test sets\n",
    "train_x,test_x,train_y,test_y = train_test_split(x,y, random_state = 101, stratify=y)"
   ]
  },
  {
   "cell_type": "code",
   "execution_count": 10,
   "metadata": {},
   "outputs": [],
   "source": [
    "#Scalig the train and testing datasets\n",
    "from sklearn.preprocessing import StandardScaler\n",
    "scaler = StandardScaler()\n",
    "x_train_scaled = scaler.fit_transform(train_x)\n",
    "train_x = pd.DataFrame(x_train_scaled, columns=train_x.columns)\n",
    "\n",
    "x_test_scaled = scaler.transform(test_x)\n",
    "test_x = pd.DataFrame(x_test_scaled, columns=test_x.columns)"
   ]
  },
  {
   "cell_type": "markdown",
   "metadata": {},
   "source": [
    "## Building a Model"
   ]
  },
  {
   "cell_type": "code",
   "execution_count": 11,
   "metadata": {},
   "outputs": [],
   "source": [
    "from sklearn.ensemble import BaggingClassifier"
   ]
  },
  {
   "cell_type": "markdown",
   "metadata": {},
   "source": [
    "### --Taking Logistic Regression as base estimator"
   ]
  },
  {
   "cell_type": "code",
   "execution_count": 12,
   "metadata": {},
   "outputs": [],
   "source": [
    "from sklearn.linear_model import LogisticRegression"
   ]
  },
  {
   "cell_type": "code",
   "execution_count": 13,
   "metadata": {},
   "outputs": [],
   "source": [
    "clf = BaggingClassifier(base_estimator=LogisticRegression(class_weight='balanced',random_state=101),n_estimators=10, random_state=101).fit(train_x, train_y)"
   ]
  },
  {
   "cell_type": "code",
   "execution_count": 14,
   "metadata": {},
   "outputs": [],
   "source": [
    "pred_train=clf.predict(train_x)\n",
    "pred_test=clf.predict(test_x)"
   ]
  },
  {
   "cell_type": "code",
   "execution_count": 15,
   "metadata": {},
   "outputs": [
    {
     "name": "stdout",
     "output_type": "stream",
     "text": [
      "\u001b[1m Classification Report for training data \u001b[0m\n",
      "              precision    recall  f1-score   support\n",
      "\n",
      "           0       0.72      0.87      0.79      2111\n",
      "           1       0.62      0.38      0.47      1165\n",
      "\n",
      "    accuracy                           0.70      3276\n",
      "   macro avg       0.67      0.63      0.63      3276\n",
      "weighted avg       0.68      0.70      0.68      3276\n",
      "\n"
     ]
    }
   ],
   "source": [
    "print('\\033[1m',\"Classification Report for training data\",'\\033[0m')\n",
    "print(classification_report(pred_train, train_y))"
   ]
  },
  {
   "cell_type": "code",
   "execution_count": 16,
   "metadata": {},
   "outputs": [
    {
     "name": "stdout",
     "output_type": "stream",
     "text": [
      "\u001b[1m Classification Report for test data \u001b[0m\n",
      "              precision    recall  f1-score   support\n",
      "\n",
      "           0       0.72      0.85      0.78       718\n",
      "           1       0.55      0.35      0.43       374\n",
      "\n",
      "    accuracy                           0.68      1092\n",
      "   macro avg       0.64      0.60      0.60      1092\n",
      "weighted avg       0.66      0.68      0.66      1092\n",
      "\n"
     ]
    }
   ],
   "source": [
    "print('\\033[1m',\"Classification Report for test data\",'\\033[0m')\n",
    "print(classification_report(pred_test, test_y))"
   ]
  },
  {
   "cell_type": "markdown",
   "metadata": {},
   "source": [
    "###  --Taking DT as base estimator"
   ]
  },
  {
   "cell_type": "markdown",
   "metadata": {},
   "source": [
    "### 1. Bagging Decision Trees(with default parameters)"
   ]
  },
  {
   "cell_type": "code",
   "execution_count": 22,
   "metadata": {},
   "outputs": [],
   "source": [
    "from sklearn.tree import DecisionTreeClassifier as dt"
   ]
  },
  {
   "cell_type": "code",
   "execution_count": 20,
   "metadata": {},
   "outputs": [],
   "source": [
    "clf = BaggingClassifier(base_estimator=dt(random_state=101)).fit(train_x, train_y)"
   ]
  },
  {
   "cell_type": "code",
   "execution_count": 21,
   "metadata": {},
   "outputs": [],
   "source": [
    "pred_train=clf.predict(train_x)\n",
    "pred_test=clf.predict(test_x)"
   ]
  },
  {
   "cell_type": "code",
   "execution_count": 24,
   "metadata": {},
   "outputs": [
    {
     "name": "stdout",
     "output_type": "stream",
     "text": [
      "\u001b[1m Classification Report for training data \u001b[0m\n",
      "              precision    recall  f1-score   support\n",
      "\n",
      "           0       1.00      0.97      0.99      2631\n",
      "           1       0.90      1.00      0.94       645\n",
      "\n",
      "    accuracy                           0.98      3276\n",
      "   macro avg       0.95      0.98      0.97      3276\n",
      "weighted avg       0.98      0.98      0.98      3276\n",
      "\n"
     ]
    }
   ],
   "source": [
    "print('\\033[1m',\"Classification Report for training data\",'\\033[0m')\n",
    "print(classification_report(pred_train, train_y))"
   ]
  },
  {
   "cell_type": "code",
   "execution_count": 25,
   "metadata": {},
   "outputs": [
    {
     "name": "stdout",
     "output_type": "stream",
     "text": [
      "\u001b[1m Classification Report for test data \u001b[0m\n",
      "              precision    recall  f1-score   support\n",
      "\n",
      "           0       0.95      0.81      0.87      1001\n",
      "           1       0.20      0.52      0.29        91\n",
      "\n",
      "    accuracy                           0.78      1092\n",
      "   macro avg       0.57      0.66      0.58      1092\n",
      "weighted avg       0.89      0.78      0.82      1092\n",
      "\n"
     ]
    }
   ],
   "source": [
    "print('\\033[1m',\"Classification Report for test data\",'\\033[0m')\n",
    "print(classification_report(pred_test, test_y))"
   ]
  },
  {
   "cell_type": "markdown",
   "metadata": {},
   "source": [
    "### 2. Bagging Decision Trees (with previous tunned parameters)"
   ]
  },
  {
   "cell_type": "code",
   "execution_count": 26,
   "metadata": {},
   "outputs": [],
   "source": [
    "clf = BaggingClassifier(base_estimator=dt(class_weight='balanced',random_state=101,criterion='gini',max_depth=4,max_leaf_nodes=15,min_samples_split=30),n_estimators=20, random_state=101).fit(train_x, train_y)"
   ]
  },
  {
   "cell_type": "code",
   "execution_count": 27,
   "metadata": {},
   "outputs": [],
   "source": [
    "pred_train=clf.predict(train_x)\n",
    "pred_test=clf.predict(test_x)"
   ]
  },
  {
   "cell_type": "code",
   "execution_count": 28,
   "metadata": {},
   "outputs": [
    {
     "name": "stdout",
     "output_type": "stream",
     "text": [
      "\u001b[1m Classification Report for training data \u001b[0m\n",
      "              precision    recall  f1-score   support\n",
      "\n",
      "           0       0.84      0.88      0.86      2453\n",
      "           1       0.58      0.50      0.53       823\n",
      "\n",
      "    accuracy                           0.78      3276\n",
      "   macro avg       0.71      0.69      0.70      3276\n",
      "weighted avg       0.77      0.78      0.78      3276\n",
      "\n"
     ]
    }
   ],
   "source": [
    "print('\\033[1m',\"Classification Report for training data\",'\\033[0m')\n",
    "print(classification_report(pred_train, train_y))"
   ]
  },
  {
   "cell_type": "code",
   "execution_count": 29,
   "metadata": {},
   "outputs": [
    {
     "name": "stdout",
     "output_type": "stream",
     "text": [
      "\u001b[1m Classification Report for test data \u001b[0m\n",
      "              precision    recall  f1-score   support\n",
      "\n",
      "           0       0.85      0.85      0.85       855\n",
      "           1       0.45      0.45      0.45       237\n",
      "\n",
      "    accuracy                           0.76      1092\n",
      "   macro avg       0.65      0.65      0.65      1092\n",
      "weighted avg       0.76      0.76      0.76      1092\n",
      "\n"
     ]
    }
   ],
   "source": [
    "print('\\033[1m',\"Classification Report for test data\",'\\033[0m')\n",
    "print(classification_report(pred_test, test_y))"
   ]
  },
  {
   "cell_type": "markdown",
   "metadata": {},
   "source": [
    "### 3.  Bagging Decision Trees (using Random Search)"
   ]
  },
  {
   "cell_type": "code",
   "execution_count": 13,
   "metadata": {},
   "outputs": [],
   "source": [
    "from sklearn.model_selection import RandomizedSearchCV\n",
    "from sklearn.model_selection import StratifiedKFold"
   ]
  },
  {
   "cell_type": "code",
   "execution_count": 14,
   "metadata": {},
   "outputs": [],
   "source": [
    "param_grid = {'n_estimators': [int(round(i)) for i in np.linspace(50,1000,50)],\n",
    "              'max_samples': [0.8,0.9,1.0],\n",
    "              'max_features': [0.2,0.4,0.6,0.8,1.0],\n",
    "              'bootstrap':[True,False],\n",
    "              'bootstrap_features':[True,False]}"
   ]
  },
  {
   "cell_type": "code",
   "execution_count": 15,
   "metadata": {},
   "outputs": [],
   "source": [
    "dt = dt(random_state=101, class_weight='balanced')\n",
    "bc_dt = BaggingClassifier(random_state=101, base_estimator=dt)"
   ]
  },
  {
   "cell_type": "code",
   "execution_count": 16,
   "metadata": {},
   "outputs": [
    {
     "name": "stdout",
     "output_type": "stream",
     "text": [
      "Fitting 5 folds for each of 50 candidates, totalling 250 fits\n"
     ]
    },
    {
     "name": "stderr",
     "output_type": "stream",
     "text": [
      "[Parallel(n_jobs=-1)]: Using backend LokyBackend with 8 concurrent workers.\n",
      "[Parallel(n_jobs=-1)]: Done  25 tasks      | elapsed:  1.3min\n",
      "[Parallel(n_jobs=-1)]: Done 146 tasks      | elapsed:  8.3min\n",
      "[Parallel(n_jobs=-1)]: Done 250 out of 250 | elapsed: 14.7min finished\n"
     ]
    }
   ],
   "source": [
    "rsearch = RandomizedSearchCV(estimator=bc_dt, n_iter=50, cv=StratifiedKFold(n_splits=5), \n",
    "                             n_jobs=-1, verbose=2, param_distributions=param_grid, \n",
    "                             random_state=101, scoring='f1').fit(train_x, train_y)"
   ]
  },
  {
   "cell_type": "code",
   "execution_count": 20,
   "metadata": {},
   "outputs": [
    {
     "data": {
      "text/plain": [
       "{'n_estimators': 922,\n",
       " 'max_samples': 0.8,\n",
       " 'max_features': 0.2,\n",
       " 'bootstrap_features': True,\n",
       " 'bootstrap': True}"
      ]
     },
     "execution_count": 20,
     "metadata": {},
     "output_type": "execute_result"
    }
   ],
   "source": [
    "rsearch.best_params_"
   ]
  },
  {
   "cell_type": "code",
   "execution_count": 23,
   "metadata": {},
   "outputs": [],
   "source": [
    "clf = BaggingClassifier(base_estimator=dt(class_weight='balanced',random_state=101),n_estimators=922,bootstrap_features=True,bootstrap=True,max_samples=0.8,max_features=0.2, random_state=101).fit(train_x, train_y)"
   ]
  },
  {
   "cell_type": "code",
   "execution_count": 24,
   "metadata": {},
   "outputs": [],
   "source": [
    "pred_train=clf.predict(train_x)\n",
    "pred_test=clf.predict(test_x)"
   ]
  },
  {
   "cell_type": "code",
   "execution_count": 25,
   "metadata": {},
   "outputs": [
    {
     "name": "stdout",
     "output_type": "stream",
     "text": [
      "\u001b[1m Classification Report for training data \u001b[0m\n",
      "              precision    recall  f1-score   support\n",
      "\n",
      "           0       1.00      1.00      1.00      2568\n",
      "           1       0.99      1.00      0.99       708\n",
      "\n",
      "    accuracy                           1.00      3276\n",
      "   macro avg       0.99      1.00      1.00      3276\n",
      "weighted avg       1.00      1.00      1.00      3276\n",
      "\n"
     ]
    }
   ],
   "source": [
    "print('\\033[1m',\"Classification Report for training data\",'\\033[0m')\n",
    "print(classification_report(pred_train, train_y))"
   ]
  },
  {
   "cell_type": "code",
   "execution_count": 26,
   "metadata": {},
   "outputs": [
    {
     "name": "stdout",
     "output_type": "stream",
     "text": [
      "\u001b[1m Classification Report for test data \u001b[0m\n",
      "              precision    recall  f1-score   support\n",
      "\n",
      "           0       0.95      0.81      0.88      1000\n",
      "           1       0.22      0.58      0.32        92\n",
      "\n",
      "    accuracy                           0.79      1092\n",
      "   macro avg       0.59      0.70      0.60      1092\n",
      "weighted avg       0.89      0.79      0.83      1092\n",
      "\n"
     ]
    }
   ],
   "source": [
    "print('\\033[1m',\"Classification Report for test data\",'\\033[0m')\n",
    "print(classification_report(pred_test, test_y))"
   ]
  },
  {
   "cell_type": "code",
   "execution_count": null,
   "metadata": {},
   "outputs": [],
   "source": []
  },
  {
   "cell_type": "markdown",
   "metadata": {},
   "source": [
    "###  --KNN as base estimator"
   ]
  },
  {
   "cell_type": "code",
   "execution_count": 12,
   "metadata": {},
   "outputs": [],
   "source": [
    "from sklearn.neighbors import KNeighborsClassifier as knn"
   ]
  },
  {
   "cell_type": "code",
   "execution_count": 13,
   "metadata": {},
   "outputs": [],
   "source": [
    "n_neigh=[5,7,10,15,20,30]\n",
    "train_score=[]\n",
    "test_score=[]\n",
    "for i in n_neigh:\n",
    "    clf = BaggingClassifier(base_estimator=knn(n_neighbors=i)).fit(train_x, train_y)\n",
    "    pred_train=clf.predict(train_x)\n",
    "    pred_test=clf.predict(test_x)\n",
    "    f1_train=f1_score(train_y,pred_train)\n",
    "    f1_test=f1_score(test_y,pred_test)\n",
    "    train_score.append(f1_train)\n",
    "    test_score.append(f1_test)"
   ]
  },
  {
   "cell_type": "code",
   "execution_count": 15,
   "metadata": {},
   "outputs": [
    {
     "data": {
      "text/plain": [
       "<matplotlib.legend.Legend at 0x2a88113d308>"
      ]
     },
     "execution_count": 15,
     "metadata": {},
     "output_type": "execute_result"
    },
    {
     "data": {
      "image/png": "[encoded data removed]",
      "text/plain": [
       "<Figure size 432x288 with 1 Axes>"
      ]
     },
     "metadata": {
      "needs_background": "light"
     },
     "output_type": "display_data"
    }
   ],
   "source": [
    "plt.plot(n_neigh, train_score, 'b', label=\"Train F1\")\n",
    "plt.plot(n_neigh, test_score, 'r', label=\"Test F1\")\n",
    "plt.xlabel(\"n_neighbors\")\n",
    "plt.ylabel(\"F1_Score\")\n",
    "plt.legend()"
   ]
  },
  {
   "cell_type": "code",
   "execution_count": 41,
   "metadata": {},
   "outputs": [],
   "source": [
    "clf = BaggingClassifier(base_estimator=knn(n_neighbors=10)).fit(train_x, train_y)"
   ]
  },
  {
   "cell_type": "code",
   "execution_count": 42,
   "metadata": {},
   "outputs": [],
   "source": [
    "pred_train=clf.predict(train_x)\n",
    "pred_test=clf.predict(test_x)"
   ]
  },
  {
   "cell_type": "code",
   "execution_count": 43,
   "metadata": {},
   "outputs": [
    {
     "name": "stdout",
     "output_type": "stream",
     "text": [
      "\u001b[1m Classification Report for training data \u001b[0m\n",
      "              precision    recall  f1-score   support\n",
      "\n",
      "           0       0.97      0.82      0.89      3048\n",
      "           1       0.21      0.67      0.32       228\n",
      "\n",
      "    accuracy                           0.81      3276\n",
      "   macro avg       0.59      0.74      0.61      3276\n",
      "weighted avg       0.92      0.81      0.85      3276\n",
      "\n"
     ]
    }
   ],
   "source": [
    "print('\\033[1m',\"Classification Report for training data\",'\\033[0m')\n",
    "print(classification_report(pred_train, train_y))"
   ]
  },
  {
   "cell_type": "code",
   "execution_count": 44,
   "metadata": {},
   "outputs": [
    {
     "name": "stdout",
     "output_type": "stream",
     "text": [
      "\u001b[1m Classification Report for test data \u001b[0m\n",
      "              precision    recall  f1-score   support\n",
      "\n",
      "           0       0.96      0.80      0.87      1026\n",
      "           1       0.14      0.52      0.22        66\n",
      "\n",
      "    accuracy                           0.78      1092\n",
      "   macro avg       0.55      0.66      0.55      1092\n",
      "weighted avg       0.91      0.78      0.84      1092\n",
      "\n"
     ]
    }
   ],
   "source": [
    "print('\\033[1m',\"Classification Report for test data\",'\\033[0m')\n",
    "print(classification_report(pred_test, test_y))"
   ]
  },
  {
   "cell_type": "code",
   "execution_count": null,
   "metadata": {},
   "outputs": [],
   "source": []
  }
 ],
 "metadata": {
  "kernelspec": {
   "display_name": "Python 3",
   "language": "python",
   "name": "python3"
  },
  "language_info": {
   "codemirror_mode": {
    "name": "ipython",
    "version": 3
   },
   "file_extension": ".py",
   "mimetype": "text/x-python",
   "name": "python",
   "nbconvert_exporter": "python",
   "pygments_lexer": "ipython3",
   "version": "3.7.6"
  }
 },
 "nbformat": 4,
 "nbformat_minor": 4
}
