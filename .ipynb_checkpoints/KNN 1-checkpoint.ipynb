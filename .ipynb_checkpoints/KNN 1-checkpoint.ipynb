{
 "cells": [
  {
   "cell_type": "markdown",
   "metadata": {},
   "source": [
    "### Importing Libraries"
   ]
  },
  {
   "cell_type": "code",
   "execution_count": 16,
   "metadata": {},
   "outputs": [],
   "source": [
    "#importing libraries \n",
    "import pandas as pd \n",
    "import numpy as np\n",
    "import matplotlib.pyplot as plt\n",
    "%matplotlib inline\n",
    "\n",
    "import warnings\n",
    "warnings.filterwarnings(\"ignore\")\n",
    "\n",
    "# Importing the train test split function\n",
    "from sklearn.model_selection import train_test_split"
   ]
  },
  {
   "cell_type": "markdown",
   "metadata": {},
   "source": [
    "### Load the data"
   ]
  },
  {
   "cell_type": "code",
   "execution_count": 2,
   "metadata": {},
   "outputs": [
    {
     "data": {
      "text/plain": [
       "(4368, 79)"
      ]
     },
     "execution_count": 2,
     "metadata": {},
     "output_type": "execute_result"
    }
   ],
   "source": [
    "data = pd.read_csv('cleaned_loan.csv')\n",
    "data.shape"
   ]
  },
  {
   "cell_type": "code",
   "execution_count": 3,
   "metadata": {},
   "outputs": [
    {
     "data": {
      "text/html": [
       "<div>\n",
       "<style scoped>\n",
       "    .dataframe tbody tr th:only-of-type {\n",
       "        vertical-align: middle;\n",
       "    }\n",
       "\n",
       "    .dataframe tbody tr th {\n",
       "        vertical-align: top;\n",
       "    }\n",
       "\n",
       "    .dataframe thead th {\n",
       "        text-align: right;\n",
       "    }\n",
       "</style>\n",
       "<table border=\"1\" class=\"dataframe\">\n",
       "  <thead>\n",
       "    <tr style=\"text-align: right;\">\n",
       "      <th></th>\n",
       "      <th>Unnamed: 0</th>\n",
       "      <th>loannumber</th>\n",
       "      <th>loanamount</th>\n",
       "      <th>totaldue</th>\n",
       "      <th>termdays</th>\n",
       "      <th>bank_account_type</th>\n",
       "      <th>longitude_gps</th>\n",
       "      <th>latitude_gps</th>\n",
       "      <th>employment_status_clients</th>\n",
       "      <th>creationdate_dow</th>\n",
       "      <th>...</th>\n",
       "      <th>bank_name_clients_Keystone Bank</th>\n",
       "      <th>bank_name_clients_Skye Bank</th>\n",
       "      <th>bank_name_clients_Stanbic IBTC</th>\n",
       "      <th>bank_name_clients_Standard Chartered</th>\n",
       "      <th>bank_name_clients_Sterling Bank</th>\n",
       "      <th>bank_name_clients_UBA</th>\n",
       "      <th>bank_name_clients_Union Bank</th>\n",
       "      <th>bank_name_clients_Unity Bank</th>\n",
       "      <th>bank_name_clients_Wema Bank</th>\n",
       "      <th>bank_name_clients_Zenith Bank</th>\n",
       "    </tr>\n",
       "  </thead>\n",
       "  <tbody>\n",
       "    <tr>\n",
       "      <th>0</th>\n",
       "      <td>0</td>\n",
       "      <td>12.0</td>\n",
       "      <td>30000.0</td>\n",
       "      <td>34500.0</td>\n",
       "      <td>30.0</td>\n",
       "      <td>0.0</td>\n",
       "      <td>3.432010</td>\n",
       "      <td>6.433055</td>\n",
       "      <td>0.0</td>\n",
       "      <td>1.0</td>\n",
       "      <td>...</td>\n",
       "      <td>0</td>\n",
       "      <td>0</td>\n",
       "      <td>0</td>\n",
       "      <td>0</td>\n",
       "      <td>0</td>\n",
       "      <td>0</td>\n",
       "      <td>0</td>\n",
       "      <td>0</td>\n",
       "      <td>0</td>\n",
       "      <td>0</td>\n",
       "    </tr>\n",
       "    <tr>\n",
       "      <th>1</th>\n",
       "      <td>1</td>\n",
       "      <td>2.0</td>\n",
       "      <td>15000.0</td>\n",
       "      <td>17250.0</td>\n",
       "      <td>30.0</td>\n",
       "      <td>1.0</td>\n",
       "      <td>3.885298</td>\n",
       "      <td>7.320700</td>\n",
       "      <td>0.0</td>\n",
       "      <td>2.0</td>\n",
       "      <td>...</td>\n",
       "      <td>0</td>\n",
       "      <td>0</td>\n",
       "      <td>0</td>\n",
       "      <td>0</td>\n",
       "      <td>0</td>\n",
       "      <td>0</td>\n",
       "      <td>0</td>\n",
       "      <td>0</td>\n",
       "      <td>0</td>\n",
       "      <td>0</td>\n",
       "    </tr>\n",
       "    <tr>\n",
       "      <th>2</th>\n",
       "      <td>2</td>\n",
       "      <td>7.0</td>\n",
       "      <td>20000.0</td>\n",
       "      <td>22250.0</td>\n",
       "      <td>15.0</td>\n",
       "      <td>0.0</td>\n",
       "      <td>11.139350</td>\n",
       "      <td>10.292041</td>\n",
       "      <td>0.0</td>\n",
       "      <td>3.0</td>\n",
       "      <td>...</td>\n",
       "      <td>0</td>\n",
       "      <td>0</td>\n",
       "      <td>0</td>\n",
       "      <td>0</td>\n",
       "      <td>0</td>\n",
       "      <td>0</td>\n",
       "      <td>0</td>\n",
       "      <td>0</td>\n",
       "      <td>0</td>\n",
       "      <td>0</td>\n",
       "    </tr>\n",
       "    <tr>\n",
       "      <th>3</th>\n",
       "      <td>3</td>\n",
       "      <td>3.0</td>\n",
       "      <td>10000.0</td>\n",
       "      <td>11500.0</td>\n",
       "      <td>15.0</td>\n",
       "      <td>1.0</td>\n",
       "      <td>3.985770</td>\n",
       "      <td>7.491708</td>\n",
       "      <td>0.0</td>\n",
       "      <td>3.0</td>\n",
       "      <td>...</td>\n",
       "      <td>0</td>\n",
       "      <td>0</td>\n",
       "      <td>0</td>\n",
       "      <td>0</td>\n",
       "      <td>0</td>\n",
       "      <td>0</td>\n",
       "      <td>0</td>\n",
       "      <td>0</td>\n",
       "      <td>0</td>\n",
       "      <td>0</td>\n",
       "    </tr>\n",
       "    <tr>\n",
       "      <th>4</th>\n",
       "      <td>4</td>\n",
       "      <td>9.0</td>\n",
       "      <td>40000.0</td>\n",
       "      <td>44000.0</td>\n",
       "      <td>30.0</td>\n",
       "      <td>0.0</td>\n",
       "      <td>7.457913</td>\n",
       "      <td>9.076574</td>\n",
       "      <td>0.0</td>\n",
       "      <td>0.0</td>\n",
       "      <td>...</td>\n",
       "      <td>0</td>\n",
       "      <td>0</td>\n",
       "      <td>0</td>\n",
       "      <td>0</td>\n",
       "      <td>0</td>\n",
       "      <td>0</td>\n",
       "      <td>0</td>\n",
       "      <td>0</td>\n",
       "      <td>0</td>\n",
       "      <td>0</td>\n",
       "    </tr>\n",
       "  </tbody>\n",
       "</table>\n",
       "<p>5 rows × 79 columns</p>\n",
       "</div>"
      ],
      "text/plain": [
       "   Unnamed: 0  loannumber  loanamount  totaldue  termdays  bank_account_type  \\\n",
       "0           0        12.0     30000.0   34500.0      30.0                0.0   \n",
       "1           1         2.0     15000.0   17250.0      30.0                1.0   \n",
       "2           2         7.0     20000.0   22250.0      15.0                0.0   \n",
       "3           3         3.0     10000.0   11500.0      15.0                1.0   \n",
       "4           4         9.0     40000.0   44000.0      30.0                0.0   \n",
       "\n",
       "   longitude_gps  latitude_gps  employment_status_clients  creationdate_dow  \\\n",
       "0       3.432010      6.433055                        0.0               1.0   \n",
       "1       3.885298      7.320700                        0.0               2.0   \n",
       "2      11.139350     10.292041                        0.0               3.0   \n",
       "3       3.985770      7.491708                        0.0               3.0   \n",
       "4       7.457913      9.076574                        0.0               0.0   \n",
       "\n",
       "   ...  bank_name_clients_Keystone Bank  bank_name_clients_Skye Bank  \\\n",
       "0  ...                                0                            0   \n",
       "1  ...                                0                            0   \n",
       "2  ...                                0                            0   \n",
       "3  ...                                0                            0   \n",
       "4  ...                                0                            0   \n",
       "\n",
       "   bank_name_clients_Stanbic IBTC  bank_name_clients_Standard Chartered  \\\n",
       "0                               0                                     0   \n",
       "1                               0                                     0   \n",
       "2                               0                                     0   \n",
       "3                               0                                     0   \n",
       "4                               0                                     0   \n",
       "\n",
       "   bank_name_clients_Sterling Bank  bank_name_clients_UBA  \\\n",
       "0                                0                      0   \n",
       "1                                0                      0   \n",
       "2                                0                      0   \n",
       "3                                0                      0   \n",
       "4                                0                      0   \n",
       "\n",
       "   bank_name_clients_Union Bank  bank_name_clients_Unity Bank  \\\n",
       "0                             0                             0   \n",
       "1                             0                             0   \n",
       "2                             0                             0   \n",
       "3                             0                             0   \n",
       "4                             0                             0   \n",
       "\n",
       "   bank_name_clients_Wema Bank  bank_name_clients_Zenith Bank  \n",
       "0                            0                              0  \n",
       "1                            0                              0  \n",
       "2                            0                              0  \n",
       "3                            0                              0  \n",
       "4                            0                              0  \n",
       "\n",
       "[5 rows x 79 columns]"
      ]
     },
     "execution_count": 3,
     "metadata": {},
     "output_type": "execute_result"
    }
   ],
   "source": [
    "data.head()"
   ]
  },
  {
   "cell_type": "code",
   "execution_count": 10,
   "metadata": {},
   "outputs": [
    {
     "data": {
      "text/plain": [
       "Index(['Unnamed: 0', 'loannumber', 'loanamount', 'totaldue', 'termdays',\n",
       "       'bank_account_type', 'longitude_gps', 'latitude_gps',\n",
       "       'employment_status_clients', 'creationdate_dow', 'additional_charges',\n",
       "       'is_referred', 'age', 'ploan_loanamount_mean', 'ploan_loanamount_min',\n",
       "       'ploan_loanamount_25%', 'ploan_loanamount_50%', 'ploan_loanamount_75%',\n",
       "       'ploan_loanamount_max', 'ploan_totaldue_mean', 'ploan_totaldue_min',\n",
       "       'ploan_totaldue_25%', 'ploan_totaldue_50%', 'ploan_totaldue_75%',\n",
       "       'ploan_totaldue_max', 'ploan_termdays_mean', 'ploan_termdays_min',\n",
       "       'ploan_termdays_25%', 'ploan_termdays_50%', 'ploan_termdays_75%',\n",
       "       'ploan_termdays_max', 'ploan_approval_time_mean',\n",
       "       'ploan_approval_time_min', 'ploan_approval_time_25%',\n",
       "       'ploan_approval_time_50%', 'ploan_approval_time_75%',\n",
       "       'ploan_approval_time_max', 'ploan_return_days_mean_x',\n",
       "       'ploan_return_days_min_x', 'ploan_return_days_25%_x',\n",
       "       'ploan_return_days_50%_x', 'ploan_return_days_75%_x',\n",
       "       'ploan_return_days_max_x', 'ploan_return_days_mean_y',\n",
       "       'ploan_return_days_min_y', 'ploan_return_days_25%_y',\n",
       "       'ploan_return_days_50%_y', 'ploan_return_days_75%_y',\n",
       "       'ploan_return_days_max_y', 'ploan_first_return_days_mean',\n",
       "       'ploan_first_return_days_min', 'ploan_first_return_days_25%',\n",
       "       'ploan_first_return_days_50%', 'ploan_first_return_days_75%',\n",
       "       'ploan_first_return_days_max', 'ploan_additional charges_mean',\n",
       "       'ploan_additional charges_min', 'ploan_additional charges_25%',\n",
       "       'ploan_additional charges_50%', 'ploan_additional charges_75%',\n",
       "       'ploan_additional charges_max', 'good_bad_flag',\n",
       "       'bank_name_clients_Diamond Bank', 'bank_name_clients_EcoBank',\n",
       "       'bank_name_clients_FCMB', 'bank_name_clients_Fidelity Bank',\n",
       "       'bank_name_clients_First Bank', 'bank_name_clients_GT Bank',\n",
       "       'bank_name_clients_Heritage Bank', 'bank_name_clients_Keystone Bank',\n",
       "       'bank_name_clients_Skye Bank', 'bank_name_clients_Stanbic IBTC',\n",
       "       'bank_name_clients_Standard Chartered',\n",
       "       'bank_name_clients_Sterling Bank', 'bank_name_clients_UBA',\n",
       "       'bank_name_clients_Union Bank', 'bank_name_clients_Unity Bank',\n",
       "       'bank_name_clients_Wema Bank', 'bank_name_clients_Zenith Bank'],\n",
       "      dtype='object')"
      ]
     },
     "execution_count": 10,
     "metadata": {},
     "output_type": "execute_result"
    }
   ],
   "source": [
    "data.columns"
   ]
  },
  {
   "cell_type": "code",
   "execution_count": 11,
   "metadata": {},
   "outputs": [],
   "source": [
    "data.drop('Unnamed: 0',inplace=True,axis=1)"
   ]
  },
  {
   "cell_type": "code",
   "execution_count": 12,
   "metadata": {},
   "outputs": [
    {
     "data": {
      "text/plain": [
       "Index(['loannumber', 'loanamount', 'totaldue', 'termdays', 'bank_account_type',\n",
       "       'longitude_gps', 'latitude_gps', 'employment_status_clients',\n",
       "       'creationdate_dow', 'additional_charges', 'is_referred', 'age',\n",
       "       'ploan_loanamount_mean', 'ploan_loanamount_min', 'ploan_loanamount_25%',\n",
       "       'ploan_loanamount_50%', 'ploan_loanamount_75%', 'ploan_loanamount_max',\n",
       "       'ploan_totaldue_mean', 'ploan_totaldue_min', 'ploan_totaldue_25%',\n",
       "       'ploan_totaldue_50%', 'ploan_totaldue_75%', 'ploan_totaldue_max',\n",
       "       'ploan_termdays_mean', 'ploan_termdays_min', 'ploan_termdays_25%',\n",
       "       'ploan_termdays_50%', 'ploan_termdays_75%', 'ploan_termdays_max',\n",
       "       'ploan_approval_time_mean', 'ploan_approval_time_min',\n",
       "       'ploan_approval_time_25%', 'ploan_approval_time_50%',\n",
       "       'ploan_approval_time_75%', 'ploan_approval_time_max',\n",
       "       'ploan_return_days_mean_x', 'ploan_return_days_min_x',\n",
       "       'ploan_return_days_25%_x', 'ploan_return_days_50%_x',\n",
       "       'ploan_return_days_75%_x', 'ploan_return_days_max_x',\n",
       "       'ploan_return_days_mean_y', 'ploan_return_days_min_y',\n",
       "       'ploan_return_days_25%_y', 'ploan_return_days_50%_y',\n",
       "       'ploan_return_days_75%_y', 'ploan_return_days_max_y',\n",
       "       'ploan_first_return_days_mean', 'ploan_first_return_days_min',\n",
       "       'ploan_first_return_days_25%', 'ploan_first_return_days_50%',\n",
       "       'ploan_first_return_days_75%', 'ploan_first_return_days_max',\n",
       "       'ploan_additional charges_mean', 'ploan_additional charges_min',\n",
       "       'ploan_additional charges_25%', 'ploan_additional charges_50%',\n",
       "       'ploan_additional charges_75%', 'ploan_additional charges_max',\n",
       "       'good_bad_flag', 'bank_name_clients_Diamond Bank',\n",
       "       'bank_name_clients_EcoBank', 'bank_name_clients_FCMB',\n",
       "       'bank_name_clients_Fidelity Bank', 'bank_name_clients_First Bank',\n",
       "       'bank_name_clients_GT Bank', 'bank_name_clients_Heritage Bank',\n",
       "       'bank_name_clients_Keystone Bank', 'bank_name_clients_Skye Bank',\n",
       "       'bank_name_clients_Stanbic IBTC',\n",
       "       'bank_name_clients_Standard Chartered',\n",
       "       'bank_name_clients_Sterling Bank', 'bank_name_clients_UBA',\n",
       "       'bank_name_clients_Union Bank', 'bank_name_clients_Unity Bank',\n",
       "       'bank_name_clients_Wema Bank', 'bank_name_clients_Zenith Bank'],\n",
       "      dtype='object')"
      ]
     },
     "execution_count": 12,
     "metadata": {},
     "output_type": "execute_result"
    }
   ],
   "source": [
    "data.columns"
   ]
  },
  {
   "cell_type": "markdown",
   "metadata": {},
   "source": [
    "### Segregating variables: Independent and Dependent Variables"
   ]
  },
  {
   "cell_type": "code",
   "execution_count": 14,
   "metadata": {},
   "outputs": [
    {
     "data": {
      "text/plain": [
       "((4368, 77), (4368,))"
      ]
     },
     "execution_count": 14,
     "metadata": {},
     "output_type": "execute_result"
    }
   ],
   "source": [
    "#seperating independent and dependent variables\n",
    "x = data.drop(['good_bad_flag'], axis=1)\n",
    "y = data['good_bad_flag'].replace({'Good':1, 'Bad':0})\n",
    "x.shape, y.shape"
   ]
  },
  {
   "cell_type": "code",
   "execution_count": 17,
   "metadata": {},
   "outputs": [],
   "source": [
    "x_train, x_test, y_train, y_test = train_test_split(x, y, random_state=101, test_size=0.2, stratify=y)\n",
    "\n",
    "from sklearn.preprocessing import StandardScaler\n",
    "scaler = StandardScaler()\n",
    "x_train_scaled = scaler.fit_transform(x_train)\n",
    "x_train = pd.DataFrame(x_train_scaled, columns=x_train.columns)\n",
    "\n",
    "x_test_scaled = scaler.transform(x_test)\n",
    "x_test = pd.DataFrame(x_test_scaled, columns=x_test.columns)"
   ]
  },
  {
   "cell_type": "markdown",
   "metadata": {},
   "source": [
    "### Implementing KNN Classifier"
   ]
  },
  {
   "cell_type": "code",
   "execution_count": 18,
   "metadata": {},
   "outputs": [],
   "source": [
    "#importing KNN classifier and metric F1score\n",
    "from sklearn.neighbors import KNeighborsClassifier as KNN\n",
    "from sklearn.metrics import f1_score"
   ]
  },
  {
   "cell_type": "code",
   "execution_count": 19,
   "metadata": {},
   "outputs": [
    {
     "name": "stdout",
     "output_type": "stream",
     "text": [
      "Test F1 Score     0.8756756756756756\n"
     ]
    }
   ],
   "source": [
    "# Creating instance of KNN\n",
    "clf = KNN(n_neighbors = 10)\n",
    "\n",
    "# Fitting the model\n",
    "clf.fit(x_train, y_train)\n",
    "\n",
    "# Predicting over the Train Set and calculating F1\n",
    "test_predict = clf.predict(x_test)\n",
    "k = f1_score(test_predict, y_test)\n",
    "print('Test F1 Score    ', k )"
   ]
  },
  {
   "cell_type": "code",
   "execution_count": 23,
   "metadata": {},
   "outputs": [],
   "source": [
    "def Elbow(K):\n",
    "    #initiating empty list\n",
    "    test_error = []\n",
    "   \n",
    "    #training model for evey value of K\n",
    "    for i in K:\n",
    "        #Instance oh KNN\n",
    "        clf = KNN(n_neighbors = i)\n",
    "        clf.fit(x_train, y_train)\n",
    "        # Appending F1 scores to empty list claculated using the predictions\n",
    "        tmp = clf.predict(x_test)\n",
    "        tmp = f1_score(tmp,y_test)\n",
    "        error = 1-tmp\n",
    "        test_error.append(error)\n",
    "    \n",
    "    return test_error"
   ]
  },
  {
   "cell_type": "code",
   "execution_count": 66,
   "metadata": {},
   "outputs": [],
   "source": [
    "#Defining K range\n",
    "k = range(6,150, 2)"
   ]
  },
  {
   "cell_type": "code",
   "execution_count": 67,
   "metadata": {},
   "outputs": [],
   "source": [
    "# calling above defined function\n",
    "test = Elbow(k)"
   ]
  },
  {
   "cell_type": "code",
   "execution_count": 68,
   "metadata": {},
   "outputs": [
    {
     "data": {
      "text/plain": [
       "Text(0.5, 1.0, 'Elbow Curve for test')"
      ]
     },
     "execution_count": 68,
     "metadata": {},
     "output_type": "execute_result"
    },
    {
     "data": {
      "image/png": "[encoded data removed]",
      "text/plain": [
       "<Figure size 432x288 with 1 Axes>"
      ]
     },
     "metadata": {
      "needs_background": "light"
     },
     "output_type": "display_data"
    }
   ],
   "source": [
    "# plotting the Curves\n",
    "plt.plot(k, test)\n",
    "plt.xlabel('K Neighbors')\n",
    "plt.ylabel('Test error')\n",
    "plt.title('Elbow Curve for test')"
   ]
  },
  {
   "cell_type": "code",
   "execution_count": 61,
   "metadata": {},
   "outputs": [
    {
     "name": "stdout",
     "output_type": "stream",
     "text": [
      "Test F1 Score   0.8860759493670887\n"
     ]
    }
   ],
   "source": [
    "# Creating instance of KNN\n",
    "clf = KNN(n_neighbors =20)\n",
    "\n",
    "# Fitting the model\n",
    "clf.fit(x_train, y_train)\n",
    "\n",
    "# Predicting over the Train Set and calculating F1\n",
    "test_predict = clf.predict(x_test)\n",
    "k = f1_score(test_predict, y_test)\n",
    "print('Test F1 Score  ', k )"
   ]
  },
  {
   "cell_type": "code",
   "execution_count": null,
   "metadata": {},
   "outputs": [],
   "source": []
  }
 ],
 "metadata": {
  "kernelspec": {
   "display_name": "Python 3",
   "language": "python",
   "name": "python3"
  },
  "language_info": {
   "codemirror_mode": {
    "name": "ipython",
    "version": 3
   },
   "file_extension": ".py",
   "mimetype": "text/x-python",
   "name": "python",
   "nbconvert_exporter": "python",
   "pygments_lexer": "ipython3",
   "version": "3.7.6"
  }
 },
 "nbformat": 4,
 "nbformat_minor": 4
}
