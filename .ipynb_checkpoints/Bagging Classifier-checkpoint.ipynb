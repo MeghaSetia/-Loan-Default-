{
 "cells": [
  {
   "cell_type": "markdown",
   "metadata": {},
   "source": [
    "# Importing Libraries"
   ]
  },
  {
   "cell_type": "code",
   "execution_count": 4,
   "metadata": {},
   "outputs": [],
   "source": [
    "#Importing required libraries\n",
    "import pandas as pd \n",
    "import numpy as np\n",
    "\n",
    "from sklearn.metrics import f1_score"
   ]
  },
  {
   "cell_type": "markdown",
   "metadata": {},
   "source": [
    "### Loading the dataset"
   ]
  },
  {
   "cell_type": "code",
   "execution_count": 5,
   "metadata": {},
   "outputs": [],
   "source": [
    "#reading the data\n",
    "data=pd.read_csv('Loan data cleaned.csv')"
   ]
  },
  {
   "cell_type": "code",
   "execution_count": 6,
   "metadata": {},
   "outputs": [
    {
     "data": {
      "text/plain": [
       "(4368, 64)"
      ]
     },
     "execution_count": 6,
     "metadata": {},
     "output_type": "execute_result"
    }
   ],
   "source": [
    "#shape of the data\n",
    "data.shape"
   ]
  },
  {
   "cell_type": "code",
   "execution_count": 7,
   "metadata": {},
   "outputs": [
    {
     "data": {
      "text/html": [
       "<div>\n",
       "<style scoped>\n",
       "    .dataframe tbody tr th:only-of-type {\n",
       "        vertical-align: middle;\n",
       "    }\n",
       "\n",
       "    .dataframe tbody tr th {\n",
       "        vertical-align: top;\n",
       "    }\n",
       "\n",
       "    .dataframe thead th {\n",
       "        text-align: right;\n",
       "    }\n",
       "</style>\n",
       "<table border=\"1\" class=\"dataframe\">\n",
       "  <thead>\n",
       "    <tr style=\"text-align: right;\">\n",
       "      <th></th>\n",
       "      <th>loannumber</th>\n",
       "      <th>loanamount</th>\n",
       "      <th>totaldue</th>\n",
       "      <th>termdays</th>\n",
       "      <th>good_bad_flag</th>\n",
       "      <th>bank_account_type</th>\n",
       "      <th>longitude_gps</th>\n",
       "      <th>latitude_gps</th>\n",
       "      <th>bank_name_clients</th>\n",
       "      <th>employment_status_clients</th>\n",
       "      <th>...</th>\n",
       "      <th>ploan_additional charges_50%_x</th>\n",
       "      <th>ploan_additional charges_75%_x</th>\n",
       "      <th>ploan_additional charges_max_x</th>\n",
       "      <th>ploan_additional charges_mean_y</th>\n",
       "      <th>ploan_additional charges_min_y</th>\n",
       "      <th>ploan_additional charges_25%_y</th>\n",
       "      <th>ploan_additional charges_50%_y</th>\n",
       "      <th>ploan_additional charges_75%_y</th>\n",
       "      <th>ploan_additional charges_max_y</th>\n",
       "      <th>not_repaid_percentage</th>\n",
       "    </tr>\n",
       "  </thead>\n",
       "  <tbody>\n",
       "    <tr>\n",
       "      <th>0</th>\n",
       "      <td>12</td>\n",
       "      <td>30000.0</td>\n",
       "      <td>34500.0</td>\n",
       "      <td>30</td>\n",
       "      <td>Good</td>\n",
       "      <td>Other</td>\n",
       "      <td>3.432010</td>\n",
       "      <td>6.433055</td>\n",
       "      <td>Diamond Bank</td>\n",
       "      <td>Permanent</td>\n",
       "      <td>...</td>\n",
       "      <td>3800.000000</td>\n",
       "      <td>4500.000000</td>\n",
       "      <td>4500.000000</td>\n",
       "      <td>3900.000000</td>\n",
       "      <td>3000.000000</td>\n",
       "      <td>3400.000000</td>\n",
       "      <td>3800.000000</td>\n",
       "      <td>4500.000000</td>\n",
       "      <td>4500.000000</td>\n",
       "      <td>64.000000</td>\n",
       "    </tr>\n",
       "    <tr>\n",
       "      <th>1</th>\n",
       "      <td>2</td>\n",
       "      <td>15000.0</td>\n",
       "      <td>17250.0</td>\n",
       "      <td>30</td>\n",
       "      <td>Good</td>\n",
       "      <td>Savings</td>\n",
       "      <td>3.885298</td>\n",
       "      <td>7.320700</td>\n",
       "      <td>GT Bank</td>\n",
       "      <td>Permanent</td>\n",
       "      <td>...</td>\n",
       "      <td>2665.558293</td>\n",
       "      <td>3037.525723</td>\n",
       "      <td>3543.851778</td>\n",
       "      <td>2730.359972</td>\n",
       "      <td>2102.661161</td>\n",
       "      <td>2364.738902</td>\n",
       "      <td>2665.558293</td>\n",
       "      <td>3037.525723</td>\n",
       "      <td>3543.851778</td>\n",
       "      <td>63.573297</td>\n",
       "    </tr>\n",
       "    <tr>\n",
       "      <th>2</th>\n",
       "      <td>7</td>\n",
       "      <td>20000.0</td>\n",
       "      <td>22250.0</td>\n",
       "      <td>15</td>\n",
       "      <td>Good</td>\n",
       "      <td>Other</td>\n",
       "      <td>11.139350</td>\n",
       "      <td>10.292041</td>\n",
       "      <td>EcoBank</td>\n",
       "      <td>Permanent</td>\n",
       "      <td>...</td>\n",
       "      <td>1500.000000</td>\n",
       "      <td>1500.000000</td>\n",
       "      <td>3000.000000</td>\n",
       "      <td>1750.000000</td>\n",
       "      <td>1500.000000</td>\n",
       "      <td>1500.000000</td>\n",
       "      <td>1500.000000</td>\n",
       "      <td>1500.000000</td>\n",
       "      <td>3000.000000</td>\n",
       "      <td>50.000000</td>\n",
       "    </tr>\n",
       "    <tr>\n",
       "      <th>3</th>\n",
       "      <td>3</td>\n",
       "      <td>10000.0</td>\n",
       "      <td>11500.0</td>\n",
       "      <td>15</td>\n",
       "      <td>Good</td>\n",
       "      <td>Savings</td>\n",
       "      <td>3.985770</td>\n",
       "      <td>7.491708</td>\n",
       "      <td>First Bank</td>\n",
       "      <td>Permanent</td>\n",
       "      <td>...</td>\n",
       "      <td>2250.000000</td>\n",
       "      <td>2625.000000</td>\n",
       "      <td>3000.000000</td>\n",
       "      <td>2250.000000</td>\n",
       "      <td>1500.000000</td>\n",
       "      <td>1875.000000</td>\n",
       "      <td>2250.000000</td>\n",
       "      <td>2625.000000</td>\n",
       "      <td>3000.000000</td>\n",
       "      <td>0.000000</td>\n",
       "    </tr>\n",
       "    <tr>\n",
       "      <th>4</th>\n",
       "      <td>9</td>\n",
       "      <td>40000.0</td>\n",
       "      <td>44000.0</td>\n",
       "      <td>30</td>\n",
       "      <td>Good</td>\n",
       "      <td>Other</td>\n",
       "      <td>7.457913</td>\n",
       "      <td>9.076574</td>\n",
       "      <td>GT Bank</td>\n",
       "      <td>Permanent</td>\n",
       "      <td>...</td>\n",
       "      <td>3800.000000</td>\n",
       "      <td>5100.000000</td>\n",
       "      <td>9000.000000</td>\n",
       "      <td>4800.000000</td>\n",
       "      <td>3000.000000</td>\n",
       "      <td>3000.000000</td>\n",
       "      <td>3800.000000</td>\n",
       "      <td>5100.000000</td>\n",
       "      <td>9000.000000</td>\n",
       "      <td>100.000000</td>\n",
       "    </tr>\n",
       "  </tbody>\n",
       "</table>\n",
       "<p>5 rows × 64 columns</p>\n",
       "</div>"
      ],
      "text/plain": [
       "   loannumber  loanamount  totaldue  termdays good_bad_flag bank_account_type  \\\n",
       "0          12     30000.0   34500.0        30          Good             Other   \n",
       "1           2     15000.0   17250.0        30          Good           Savings   \n",
       "2           7     20000.0   22250.0        15          Good             Other   \n",
       "3           3     10000.0   11500.0        15          Good           Savings   \n",
       "4           9     40000.0   44000.0        30          Good             Other   \n",
       "\n",
       "   longitude_gps  latitude_gps bank_name_clients employment_status_clients  \\\n",
       "0       3.432010      6.433055      Diamond Bank                 Permanent   \n",
       "1       3.885298      7.320700           GT Bank                 Permanent   \n",
       "2      11.139350     10.292041           EcoBank                 Permanent   \n",
       "3       3.985770      7.491708        First Bank                 Permanent   \n",
       "4       7.457913      9.076574           GT Bank                 Permanent   \n",
       "\n",
       "   ...  ploan_additional charges_50%_x  ploan_additional charges_75%_x  \\\n",
       "0  ...                     3800.000000                     4500.000000   \n",
       "1  ...                     2665.558293                     3037.525723   \n",
       "2  ...                     1500.000000                     1500.000000   \n",
       "3  ...                     2250.000000                     2625.000000   \n",
       "4  ...                     3800.000000                     5100.000000   \n",
       "\n",
       "   ploan_additional charges_max_x  ploan_additional charges_mean_y  \\\n",
       "0                     4500.000000                      3900.000000   \n",
       "1                     3543.851778                      2730.359972   \n",
       "2                     3000.000000                      1750.000000   \n",
       "3                     3000.000000                      2250.000000   \n",
       "4                     9000.000000                      4800.000000   \n",
       "\n",
       "   ploan_additional charges_min_y  ploan_additional charges_25%_y  \\\n",
       "0                     3000.000000                     3400.000000   \n",
       "1                     2102.661161                     2364.738902   \n",
       "2                     1500.000000                     1500.000000   \n",
       "3                     1500.000000                     1875.000000   \n",
       "4                     3000.000000                     3000.000000   \n",
       "\n",
       "   ploan_additional charges_50%_y  ploan_additional charges_75%_y  \\\n",
       "0                     3800.000000                     4500.000000   \n",
       "1                     2665.558293                     3037.525723   \n",
       "2                     1500.000000                     1500.000000   \n",
       "3                     2250.000000                     2625.000000   \n",
       "4                     3800.000000                     5100.000000   \n",
       "\n",
       "   ploan_additional charges_max_y  not_repaid_percentage  \n",
       "0                     4500.000000              64.000000  \n",
       "1                     3543.851778              63.573297  \n",
       "2                     3000.000000              50.000000  \n",
       "3                     3000.000000               0.000000  \n",
       "4                     9000.000000             100.000000  \n",
       "\n",
       "[5 rows x 64 columns]"
      ]
     },
     "execution_count": 7,
     "metadata": {},
     "output_type": "execute_result"
    }
   ],
   "source": [
    "#first five rows of the data\n",
    "data.head()"
   ]
  },
  {
   "cell_type": "code",
   "execution_count": 8,
   "metadata": {},
   "outputs": [
    {
     "data": {
      "text/plain": [
       "loannumber                        0\n",
       "loanamount                        0\n",
       "totaldue                          0\n",
       "termdays                          0\n",
       "good_bad_flag                     0\n",
       "                                 ..\n",
       "ploan_additional charges_25%_y    0\n",
       "ploan_additional charges_50%_y    0\n",
       "ploan_additional charges_75%_y    0\n",
       "ploan_additional charges_max_y    0\n",
       "not_repaid_percentage             0\n",
       "Length: 64, dtype: int64"
      ]
     },
     "execution_count": 8,
     "metadata": {},
     "output_type": "execute_result"
    }
   ],
   "source": [
    "#checking missing values in the data\n",
    "data.isnull().sum()"
   ]
  },
  {
   "cell_type": "code",
   "execution_count": 9,
   "metadata": {},
   "outputs": [],
   "source": [
    "#make dummies of categorical columns('bank_account_type','bank_name_clients','employment_status_clients')\n",
    "data=pd.get_dummies(data=data,columns=['bank_account_type','bank_name_clients','employment_status_clients'],drop_first=True)"
   ]
  },
  {
   "cell_type": "markdown",
   "metadata": {},
   "source": [
    "### Separating independent and dependent variables."
   ]
  },
  {
   "cell_type": "code",
   "execution_count": 10,
   "metadata": {},
   "outputs": [],
   "source": [
    "x = data.drop(['good_bad_flag'], axis=1)\n",
    "y = data['good_bad_flag'].replace({'Good':0, 'Bad':1})"
   ]
  },
  {
   "cell_type": "markdown",
   "metadata": {},
   "source": [
    "### Creating the train and test dataset"
   ]
  },
  {
   "cell_type": "code",
   "execution_count": 11,
   "metadata": {},
   "outputs": [],
   "source": [
    "#import the train-test split\n",
    "from sklearn.model_selection import train_test_split"
   ]
  },
  {
   "cell_type": "code",
   "execution_count": 12,
   "metadata": {},
   "outputs": [],
   "source": [
    "#divide into train and test sets\n",
    "train_x,test_x,train_y,test_y = train_test_split(x,y, random_state = 101, stratify=y)"
   ]
  },
  {
   "cell_type": "markdown",
   "metadata": {},
   "source": [
    "## Building a Decision Tree Model"
   ]
  },
  {
   "cell_type": "code",
   "execution_count": 13,
   "metadata": {},
   "outputs": [],
   "source": [
    "#Importing Decision Tree Classifier \n",
    "from sklearn.tree import DecisionTreeClassifier"
   ]
  },
  {
   "cell_type": "code",
   "execution_count": 14,
   "metadata": {},
   "outputs": [],
   "source": [
    "#creating a decision tree instance\n",
    "clf = DecisionTreeClassifier(class_weight='balanced',random_state=101,criterion='gini',max_depth=4,max_leaf_nodes=15,min_samples_split=30)"
   ]
  },
  {
   "cell_type": "code",
   "execution_count": 15,
   "metadata": {},
   "outputs": [
    {
     "data": {
      "text/plain": [
       "DecisionTreeClassifier(ccp_alpha=0.0, class_weight='balanced', criterion='gini',\n",
       "                       max_depth=4, max_features=None, max_leaf_nodes=15,\n",
       "                       min_impurity_decrease=0.0, min_impurity_split=None,\n",
       "                       min_samples_leaf=1, min_samples_split=30,\n",
       "                       min_weight_fraction_leaf=0.0, presort='deprecated',\n",
       "                       random_state=101, splitter='best')"
      ]
     },
     "execution_count": 15,
     "metadata": {},
     "output_type": "execute_result"
    }
   ],
   "source": [
    "#training the model\n",
    "clf.fit(train_x,train_y)"
   ]
  },
  {
   "cell_type": "code",
   "execution_count": 16,
   "metadata": {},
   "outputs": [],
   "source": [
    "pred_train=clf.predict(train_x)\n",
    "pred_test=clf.predict(test_x)\n",
    "f1_train=f1_score(train_y,pred_train)\n",
    "f1_test=f1_score(test_y,pred_test)"
   ]
  },
  {
   "cell_type": "code",
   "execution_count": 17,
   "metadata": {},
   "outputs": [
    {
     "data": {
      "text/plain": [
       "(0.4778856526429342, 0.43686006825938567)"
      ]
     },
     "execution_count": 17,
     "metadata": {},
     "output_type": "execute_result"
    }
   ],
   "source": [
    "f1_train,f1_test"
   ]
  },
  {
   "cell_type": "markdown",
   "metadata": {},
   "source": [
    "## Building a Random Forest Model"
   ]
  },
  {
   "cell_type": "code",
   "execution_count": 18,
   "metadata": {},
   "outputs": [],
   "source": [
    "#Importing random forest classifier \n",
    "from sklearn.ensemble import RandomForestClassifier"
   ]
  },
  {
   "cell_type": "code",
   "execution_count": 19,
   "metadata": {},
   "outputs": [],
   "source": [
    "#creating a random forest instance\n",
    "clf = RandomForestClassifier(n_estimators=500,class_weight='balanced',random_state=101,criterion='gini',max_depth=4,max_leaf_nodes=15,min_samples_split=30)"
   ]
  },
  {
   "cell_type": "code",
   "execution_count": 20,
   "metadata": {},
   "outputs": [
    {
     "data": {
      "text/plain": [
       "RandomForestClassifier(bootstrap=True, ccp_alpha=0.0, class_weight='balanced',\n",
       "                       criterion='gini', max_depth=4, max_features='auto',\n",
       "                       max_leaf_nodes=15, max_samples=None,\n",
       "                       min_impurity_decrease=0.0, min_impurity_split=None,\n",
       "                       min_samples_leaf=1, min_samples_split=30,\n",
       "                       min_weight_fraction_leaf=0.0, n_estimators=500,\n",
       "                       n_jobs=None, oob_score=False, random_state=101,\n",
       "                       verbose=0, warm_start=False)"
      ]
     },
     "execution_count": 20,
     "metadata": {},
     "output_type": "execute_result"
    }
   ],
   "source": [
    "#train the model\n",
    "clf.fit(train_x,train_y)"
   ]
  },
  {
   "cell_type": "code",
   "execution_count": 21,
   "metadata": {},
   "outputs": [],
   "source": [
    "pred_train=clf.predict(train_x)\n",
    "pred_test=clf.predict(test_x)\n",
    "f1_train=f1_score(train_y,pred_train)\n",
    "f1_test=f1_score(test_y,pred_test)"
   ]
  },
  {
   "cell_type": "code",
   "execution_count": 22,
   "metadata": {},
   "outputs": [
    {
     "data": {
      "text/plain": [
       "(0.4996704021094265, 0.42588726513569936)"
      ]
     },
     "execution_count": 22,
     "metadata": {},
     "output_type": "execute_result"
    }
   ],
   "source": [
    "f1_train,f1_test"
   ]
  },
  {
   "cell_type": "code",
   "execution_count": 20,
   "metadata": {},
   "outputs": [
    {
     "data": {
      "text/plain": [
       "array([8.59468142e-03, 9.67998656e-03, 1.49194540e-02, 4.66228607e-03,\n",
       "       1.33878732e-02, 6.26074941e-03, 1.19188754e-03, 2.82539994e-03,\n",
       "       1.90439059e-02, 1.50773943e-04, 1.09368484e-02, 9.96670326e-03,\n",
       "       6.06124378e-04, 8.66297433e-04, 2.51895850e-03, 9.61618854e-03,\n",
       "       8.90020343e-03, 1.74526138e-02, 3.01320267e-03, 4.16690318e-03,\n",
       "       4.42521582e-03, 7.54896378e-03, 1.50079637e-02, 7.73704207e-03,\n",
       "       0.00000000e+00, 5.44742852e-04, 6.27793333e-04, 1.18420322e-03,\n",
       "       6.00389827e-04, 7.68060358e-03, 1.02502731e-03, 4.99004830e-04,\n",
       "       3.13823897e-04, 3.09085633e-03, 3.08127304e-03, 4.59493608e-02,\n",
       "       2.49457863e-02, 2.57178959e-02, 2.63893564e-02, 3.68916670e-02,\n",
       "       2.51593376e-02, 6.51634201e-02, 6.73341478e-02, 8.67235235e-02,\n",
       "       8.97614954e-02, 8.99822632e-02, 6.00735301e-02, 8.07196359e-03,\n",
       "       3.14936644e-03, 4.48141211e-03, 9.56727432e-04, 1.35529169e-02,\n",
       "       1.22712723e-02, 5.81714238e-03, 1.49153635e-03, 5.53571661e-03,\n",
       "       2.54282931e-03, 9.34676008e-03, 6.43487297e-03, 5.98892331e-02,\n",
       "       6.56899071e-03, 6.23073009e-03, 9.66169491e-04, 0.00000000e+00,\n",
       "       0.00000000e+00, 1.02607753e-04, 2.86729552e-04, 1.14964876e-03,\n",
       "       0.00000000e+00, 0.00000000e+00, 0.00000000e+00, 1.88274146e-04,\n",
       "       0.00000000e+00, 1.54015931e-04, 1.29345496e-03, 0.00000000e+00,\n",
       "       7.09576342e-05, 3.92919897e-04, 0.00000000e+00, 2.83402225e-03])"
      ]
     },
     "execution_count": 20,
     "metadata": {},
     "output_type": "execute_result"
    }
   ],
   "source": [
    "#looking at the feature importance\n",
    "clf.feature_importances_"
   ]
  },
  {
   "cell_type": "code",
   "execution_count": 22,
   "metadata": {},
   "outputs": [
    {
     "data": {
      "text/plain": [
       "ploan_first_return_days_75%             0.089982\n",
       "ploan_first_return_days_50%             0.089761\n",
       "ploan_first_return_days_25%             0.086724\n",
       "ploan_first_return_days_min             0.067334\n",
       "ploan_first_return_days_mean            0.065163\n",
       "                                          ...   \n",
       "bank_name_clients_Standard Chartered    0.000000\n",
       "bank_name_clients_Heritage Bank         0.000000\n",
       "bank_name_clients_Keystone Bank         0.000000\n",
       "bank_name_clients_FCMB                  0.000000\n",
       "bank_name_clients_Skye Bank             0.000000\n",
       "Length: 80, dtype: float64"
      ]
     },
     "execution_count": 22,
     "metadata": {},
     "output_type": "execute_result"
    }
   ],
   "source": [
    "#feature importance against each variable\n",
    "pd.Series(clf.feature_importances_, index=train_x.columns).sort_values(ascending=False)"
   ]
  },
  {
   "cell_type": "code",
   "execution_count": null,
   "metadata": {},
   "outputs": [],
   "source": []
  }
 ],
 "metadata": {
  "kernelspec": {
   "display_name": "Python 3",
   "language": "python",
   "name": "python3"
  },
  "language_info": {
   "codemirror_mode": {
    "name": "ipython",
    "version": 3
   },
   "file_extension": ".py",
   "mimetype": "text/x-python",
   "name": "python",
   "nbconvert_exporter": "python",
   "pygments_lexer": "ipython3",
   "version": "3.7.6"
  }
 },
 "nbformat": 4,
 "nbformat_minor": 4
}
