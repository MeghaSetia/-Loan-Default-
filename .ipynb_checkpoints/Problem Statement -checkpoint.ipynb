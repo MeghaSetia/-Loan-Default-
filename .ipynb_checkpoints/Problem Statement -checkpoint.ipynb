{
 "cells": [
  {
   "cell_type": "markdown",
   "metadata": {
    "toc-hr-collapsed": true
   },
   "source": [
    "## Loan Default Prediction\n",
    "\n",
    "SuperLender is a local digital lending company, which prides itself in its effective use of credit risk models to deliver profitable and high-impact loan alternative. Its assessment approach is based on two main risk drivers of loan default prediction:.\n",
    "- 1) willingness to pay and \n",
    "- 2) ability to pay. Since not all customers pay back, the company invests in experienced data scientist to build robust models to effectively predict the odds of repayment.\n",
    "\n",
    "These two fundamental drivers need to be determined at the point of each application to allow the credit grantor to make a calculated decision based on repayment odds, which in turn determines if an applicant should get a loan, and if so - what the size, price and tenure of the offer will be.\n",
    "\n",
    "There are two types of risk models in general: New business risk, which would be used to assess the risk of application(s) associated with the first loan that he/she applies. The second is a repeat or behaviour risk model, in which case the customer has been a client and applies for a repeat loan. In the latter case - we will have additional performance on how he/she repaid their prior loans, which we can incorporate into our risk model.\n",
    "\n",
    "It is your job to predict if a loan was good or bad, i.e. accurately predict binary outcome variable, where Good is 1 and Bad is 0."
   ]
  },
  {
   "cell_type": "markdown",
   "metadata": {},
   "source": [
    "### 1.1 Problem\n",
    "\n",
    "This competition is a supervised classification machine learning task. The objective is to use historical financial and socioeconomic data to predict whether or not an applicant will be able to repay a loan. This is a standard supervised classification task:\n",
    "\n",
    "* __Supervised__: The labels are included in the training data and the goal is to train a model to learn to predict the labels from the features\n",
    "* __Classification__: The label is a binary variable, 0 (will repay loan on time), 1 (will have difficulty repaying loan)"
   ]
  },
  {
   "cell_type": "markdown",
   "metadata": {
    "toc-hr-collapsed": true
   },
   "source": [
    "### 1.2 Description of the data"
   ]
  },
  {
   "cell_type": "markdown",
   "metadata": {},
   "source": [
    "There are 3 different datasets for both train and test\n",
    "\n",
    "#### 1.2.1 Demographic data (traindemographics.csv)\n",
    "- customerid (Primary key used to merge to other data)\n",
    "- birthdate (date of birth of the customer)\n",
    "- bank_account_type (type of primary bank account)\n",
    "- longitude_gps\n",
    "- latitude_gps\n",
    "- bank_name_clients (name of the bank)\n",
    "- bank_branch_clients (location of the branch - not compulsory - so missing in a lot of the cases)\n",
    "- employment_status_clients (type of employment that customer has)\n",
    "- level_of_education_clients (highest level of education)"
   ]
  },
  {
   "cell_type": "markdown",
   "metadata": {},
   "source": [
    "#### 1.2.2 Performance data (trainperf.csv) : \n",
    "This is the repeat loan that the customer has taken for which we need to predict the performance of. Basically, we need to predict if whether this loan would default given all previous loans and demographics of a customer.\n",
    "- customerid (Primary key used to merge to other data)\n",
    "- systemloanid (The id associated with the particular loan. The same customerId can have multiple systemloanid’s for each loan he/she has taken out)\n",
    "- loannumber (The number of the loan that you have to predict)\n",
    "- approveddate (Date that loan was approved)\n",
    "- creationdate (Date that loan application was created)\n",
    "- loanamount (Loan value taken)\n",
    "- totaldue (Total repayment required to settle the loan - this is the capital loan value disbursed +interest and fees)\n",
    "- termdays (Term of loan)\n",
    "- referredby (customerId of the customer that referred this person - is missing, then not referred)\n",
    "- good_bad_flag (good = settled loan on time; bad = did not settled loan on time) - this is the target variable that we need to predic"
   ]
  },
  {
   "cell_type": "markdown",
   "metadata": {},
   "source": [
    "#### 1.2.3 Previous loans data (trainprevloans.csv) : \n",
    "This dataset contains all previous loans that the customer had prior to the loan above that we want to predict the performance of. Each loan will have a different systemloanid, but the same customerid for each customer.\n",
    "\n",
    "- customerid (Primary key used to merge to other data)\n",
    "- systemloanid (The id associated with the particular loan. The same customerId can have multiple systemloanid’s for each loan he/she has taken out)\n",
    "- loannumber (The number of the loan that you have to predict)\n",
    "- approveddate (Date that loan was approved)\n",
    "- creationdate (Date that loan application was created)\n",
    "- loanamount (Date that loan application was created)\n",
    "- totaldue (Total repayment required to settle the loan - this is the capital loan value disbursed +interest and fees) termdays (Term of loan)\n",
    "- closeddate (Date that the loan was settled)\n",
    "- referredby (customerId of the customer that referred this person - is missing, then not refrerred)\n",
    "- firstduedate (Date of first payment due in cases where the term is longer than 30 days. So in the case where the term is 60+ days - then there are multiple monthly payments due - and this dates reflects the date of the first payment)\n",
    "- firstrepaiddate (Actual date that he/she paid the first payment as defined above)"
   ]
  }
 ],
 "metadata": {
  "kernelspec": {
   "display_name": "Python 3",
   "language": "python",
   "name": "python3"
  },
  "language_info": {
   "codemirror_mode": {
    "name": "ipython",
    "version": 3
   },
   "file_extension": ".py",
   "mimetype": "text/x-python",
   "name": "python",
   "nbconvert_exporter": "python",
   "pygments_lexer": "ipython3",
   "version": "3.7.6"
  }
 },
 "nbformat": 4,
 "nbformat_minor": 4
}
