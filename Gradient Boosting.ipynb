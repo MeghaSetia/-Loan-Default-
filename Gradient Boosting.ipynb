{
 "cells": [
  {
   "cell_type": "markdown",
   "metadata": {},
   "source": [
    "### Importing Libraries"
   ]
  },
  {
   "cell_type": "code",
   "execution_count": 1,
   "metadata": {},
   "outputs": [],
   "source": [
    "#Importing required libraries\n",
    "import pandas as pd \n",
    "import numpy as np\n",
    "import matplotlib.pyplot as plt\n",
    "%matplotlib inline \n",
    "\n",
    "from sklearn.metrics import f1_score,classification_report\n",
    "\n",
    "import warnings\n",
    "warnings.filterwarnings('ignore')"
   ]
  },
  {
   "cell_type": "markdown",
   "metadata": {},
   "source": [
    "### Loading the dataset"
   ]
  },
  {
   "cell_type": "code",
   "execution_count": 2,
   "metadata": {},
   "outputs": [],
   "source": [
    "#reading the data\n",
    "data=pd.read_csv('Loan data cleaned.csv')"
   ]
  },
  {
   "cell_type": "code",
   "execution_count": 3,
   "metadata": {},
   "outputs": [
    {
     "data": {
      "text/html": [
       "<div>\n",
       "<style scoped>\n",
       "    .dataframe tbody tr th:only-of-type {\n",
       "        vertical-align: middle;\n",
       "    }\n",
       "\n",
       "    .dataframe tbody tr th {\n",
       "        vertical-align: top;\n",
       "    }\n",
       "\n",
       "    .dataframe thead th {\n",
       "        text-align: right;\n",
       "    }\n",
       "</style>\n",
       "<table border=\"1\" class=\"dataframe\">\n",
       "  <thead>\n",
       "    <tr style=\"text-align: right;\">\n",
       "      <th></th>\n",
       "      <th>loannumber</th>\n",
       "      <th>loanamount</th>\n",
       "      <th>totaldue</th>\n",
       "      <th>termdays</th>\n",
       "      <th>good_bad_flag</th>\n",
       "      <th>bank_account_type</th>\n",
       "      <th>longitude_gps</th>\n",
       "      <th>latitude_gps</th>\n",
       "      <th>bank_name_clients</th>\n",
       "      <th>employment_status_clients</th>\n",
       "      <th>...</th>\n",
       "      <th>ploan_additional charges_50%_x</th>\n",
       "      <th>ploan_additional charges_75%_x</th>\n",
       "      <th>ploan_additional charges_max_x</th>\n",
       "      <th>ploan_additional charges_mean_y</th>\n",
       "      <th>ploan_additional charges_min_y</th>\n",
       "      <th>ploan_additional charges_25%_y</th>\n",
       "      <th>ploan_additional charges_50%_y</th>\n",
       "      <th>ploan_additional charges_75%_y</th>\n",
       "      <th>ploan_additional charges_max_y</th>\n",
       "      <th>not_repaid_percentage</th>\n",
       "    </tr>\n",
       "  </thead>\n",
       "  <tbody>\n",
       "    <tr>\n",
       "      <th>0</th>\n",
       "      <td>12</td>\n",
       "      <td>30000.0</td>\n",
       "      <td>34500.0</td>\n",
       "      <td>30</td>\n",
       "      <td>Good</td>\n",
       "      <td>Other</td>\n",
       "      <td>3.432010</td>\n",
       "      <td>6.433055</td>\n",
       "      <td>Diamond Bank</td>\n",
       "      <td>Permanent</td>\n",
       "      <td>...</td>\n",
       "      <td>3800.000000</td>\n",
       "      <td>4500.000000</td>\n",
       "      <td>4500.000000</td>\n",
       "      <td>3900.000000</td>\n",
       "      <td>3000.000000</td>\n",
       "      <td>3400.000000</td>\n",
       "      <td>3800.000000</td>\n",
       "      <td>4500.000000</td>\n",
       "      <td>4500.000000</td>\n",
       "      <td>64.000000</td>\n",
       "    </tr>\n",
       "    <tr>\n",
       "      <th>1</th>\n",
       "      <td>2</td>\n",
       "      <td>15000.0</td>\n",
       "      <td>17250.0</td>\n",
       "      <td>30</td>\n",
       "      <td>Good</td>\n",
       "      <td>Savings</td>\n",
       "      <td>3.885298</td>\n",
       "      <td>7.320700</td>\n",
       "      <td>GT Bank</td>\n",
       "      <td>Permanent</td>\n",
       "      <td>...</td>\n",
       "      <td>2665.558293</td>\n",
       "      <td>3037.525723</td>\n",
       "      <td>3543.851778</td>\n",
       "      <td>2730.359972</td>\n",
       "      <td>2102.661161</td>\n",
       "      <td>2364.738902</td>\n",
       "      <td>2665.558293</td>\n",
       "      <td>3037.525723</td>\n",
       "      <td>3543.851778</td>\n",
       "      <td>63.573297</td>\n",
       "    </tr>\n",
       "    <tr>\n",
       "      <th>2</th>\n",
       "      <td>7</td>\n",
       "      <td>20000.0</td>\n",
       "      <td>22250.0</td>\n",
       "      <td>15</td>\n",
       "      <td>Good</td>\n",
       "      <td>Other</td>\n",
       "      <td>11.139350</td>\n",
       "      <td>10.292041</td>\n",
       "      <td>EcoBank</td>\n",
       "      <td>Permanent</td>\n",
       "      <td>...</td>\n",
       "      <td>1500.000000</td>\n",
       "      <td>1500.000000</td>\n",
       "      <td>3000.000000</td>\n",
       "      <td>1750.000000</td>\n",
       "      <td>1500.000000</td>\n",
       "      <td>1500.000000</td>\n",
       "      <td>1500.000000</td>\n",
       "      <td>1500.000000</td>\n",
       "      <td>3000.000000</td>\n",
       "      <td>50.000000</td>\n",
       "    </tr>\n",
       "    <tr>\n",
       "      <th>3</th>\n",
       "      <td>3</td>\n",
       "      <td>10000.0</td>\n",
       "      <td>11500.0</td>\n",
       "      <td>15</td>\n",
       "      <td>Good</td>\n",
       "      <td>Savings</td>\n",
       "      <td>3.985770</td>\n",
       "      <td>7.491708</td>\n",
       "      <td>First Bank</td>\n",
       "      <td>Permanent</td>\n",
       "      <td>...</td>\n",
       "      <td>2250.000000</td>\n",
       "      <td>2625.000000</td>\n",
       "      <td>3000.000000</td>\n",
       "      <td>2250.000000</td>\n",
       "      <td>1500.000000</td>\n",
       "      <td>1875.000000</td>\n",
       "      <td>2250.000000</td>\n",
       "      <td>2625.000000</td>\n",
       "      <td>3000.000000</td>\n",
       "      <td>0.000000</td>\n",
       "    </tr>\n",
       "    <tr>\n",
       "      <th>4</th>\n",
       "      <td>9</td>\n",
       "      <td>40000.0</td>\n",
       "      <td>44000.0</td>\n",
       "      <td>30</td>\n",
       "      <td>Good</td>\n",
       "      <td>Other</td>\n",
       "      <td>7.457913</td>\n",
       "      <td>9.076574</td>\n",
       "      <td>GT Bank</td>\n",
       "      <td>Permanent</td>\n",
       "      <td>...</td>\n",
       "      <td>3800.000000</td>\n",
       "      <td>5100.000000</td>\n",
       "      <td>9000.000000</td>\n",
       "      <td>4800.000000</td>\n",
       "      <td>3000.000000</td>\n",
       "      <td>3000.000000</td>\n",
       "      <td>3800.000000</td>\n",
       "      <td>5100.000000</td>\n",
       "      <td>9000.000000</td>\n",
       "      <td>100.000000</td>\n",
       "    </tr>\n",
       "  </tbody>\n",
       "</table>\n",
       "<p>5 rows × 64 columns</p>\n",
       "</div>"
      ],
      "text/plain": [
       "   loannumber  loanamount  totaldue  termdays good_bad_flag bank_account_type  \\\n",
       "0          12     30000.0   34500.0        30          Good             Other   \n",
       "1           2     15000.0   17250.0        30          Good           Savings   \n",
       "2           7     20000.0   22250.0        15          Good             Other   \n",
       "3           3     10000.0   11500.0        15          Good           Savings   \n",
       "4           9     40000.0   44000.0        30          Good             Other   \n",
       "\n",
       "   longitude_gps  latitude_gps bank_name_clients employment_status_clients  \\\n",
       "0       3.432010      6.433055      Diamond Bank                 Permanent   \n",
       "1       3.885298      7.320700           GT Bank                 Permanent   \n",
       "2      11.139350     10.292041           EcoBank                 Permanent   \n",
       "3       3.985770      7.491708        First Bank                 Permanent   \n",
       "4       7.457913      9.076574           GT Bank                 Permanent   \n",
       "\n",
       "   ...  ploan_additional charges_50%_x  ploan_additional charges_75%_x  \\\n",
       "0  ...                     3800.000000                     4500.000000   \n",
       "1  ...                     2665.558293                     3037.525723   \n",
       "2  ...                     1500.000000                     1500.000000   \n",
       "3  ...                     2250.000000                     2625.000000   \n",
       "4  ...                     3800.000000                     5100.000000   \n",
       "\n",
       "   ploan_additional charges_max_x  ploan_additional charges_mean_y  \\\n",
       "0                     4500.000000                      3900.000000   \n",
       "1                     3543.851778                      2730.359972   \n",
       "2                     3000.000000                      1750.000000   \n",
       "3                     3000.000000                      2250.000000   \n",
       "4                     9000.000000                      4800.000000   \n",
       "\n",
       "   ploan_additional charges_min_y  ploan_additional charges_25%_y  \\\n",
       "0                     3000.000000                     3400.000000   \n",
       "1                     2102.661161                     2364.738902   \n",
       "2                     1500.000000                     1500.000000   \n",
       "3                     1500.000000                     1875.000000   \n",
       "4                     3000.000000                     3000.000000   \n",
       "\n",
       "   ploan_additional charges_50%_y  ploan_additional charges_75%_y  \\\n",
       "0                     3800.000000                     4500.000000   \n",
       "1                     2665.558293                     3037.525723   \n",
       "2                     1500.000000                     1500.000000   \n",
       "3                     2250.000000                     2625.000000   \n",
       "4                     3800.000000                     5100.000000   \n",
       "\n",
       "   ploan_additional charges_max_y  not_repaid_percentage  \n",
       "0                     4500.000000              64.000000  \n",
       "1                     3543.851778              63.573297  \n",
       "2                     3000.000000              50.000000  \n",
       "3                     3000.000000               0.000000  \n",
       "4                     9000.000000             100.000000  \n",
       "\n",
       "[5 rows x 64 columns]"
      ]
     },
     "execution_count": 3,
     "metadata": {},
     "output_type": "execute_result"
    }
   ],
   "source": [
    "#first five rows of the data\n",
    "data.head()"
   ]
  },
  {
   "cell_type": "code",
   "execution_count": 4,
   "metadata": {},
   "outputs": [],
   "source": [
    "#make dummies of categorical columns('bank_account_type','bank_name_clients','employment_status_clients')\n",
    "data=pd.get_dummies(data=data,columns=['bank_account_type','bank_name_clients','employment_status_clients'],drop_first=True)"
   ]
  },
  {
   "cell_type": "markdown",
   "metadata": {},
   "source": [
    "### Separating independent and dependent variables."
   ]
  },
  {
   "cell_type": "code",
   "execution_count": 5,
   "metadata": {},
   "outputs": [],
   "source": [
    "x = data.drop(['good_bad_flag'], axis=1)\n",
    "y = data['good_bad_flag'].replace({'Good':0, 'Bad':1})"
   ]
  },
  {
   "cell_type": "code",
   "execution_count": 6,
   "metadata": {},
   "outputs": [],
   "source": [
    "#importing train_test_split\n",
    "from sklearn.model_selection import train_test_split"
   ]
  },
  {
   "cell_type": "code",
   "execution_count": 7,
   "metadata": {},
   "outputs": [],
   "source": [
    "X_train, X_test, y_train, y_test = train_test_split(x, y, random_state = 101, stratify=y, test_size=0.15)"
   ]
  },
  {
   "cell_type": "code",
   "execution_count": 8,
   "metadata": {},
   "outputs": [],
   "source": [
    "#Scalig the train and testing datasets\n",
    "from sklearn.preprocessing import StandardScaler\n",
    "scaler = StandardScaler()\n",
    "x_train_scaled = scaler.fit_transform(X_train)\n",
    "X_train = pd.DataFrame(x_train_scaled, columns=X_train.columns)\n",
    "\n",
    "x_test_scaled = scaler.transform(X_test)\n",
    "X_test = pd.DataFrame(x_test_scaled, columns=X_test.columns)"
   ]
  },
  {
   "cell_type": "markdown",
   "metadata": {},
   "source": [
    "## Building an GBDT Model"
   ]
  },
  {
   "cell_type": "code",
   "execution_count": 9,
   "metadata": {},
   "outputs": [],
   "source": [
    "#Importing GBDT Classifier \n",
    "from sklearn.ensemble import GradientBoostingClassifier"
   ]
  },
  {
   "cell_type": "code",
   "execution_count": 12,
   "metadata": {},
   "outputs": [],
   "source": [
    "#creating an Gradient boosting instance\n",
    "clf = GradientBoostingClassifier(random_state=50)"
   ]
  },
  {
   "cell_type": "code",
   "execution_count": 13,
   "metadata": {},
   "outputs": [
    {
     "data": {
      "text/plain": [
       "GradientBoostingClassifier(ccp_alpha=0.0, criterion='friedman_mse', init=None,\n",
       "                           learning_rate=0.1, loss='deviance', max_depth=3,\n",
       "                           max_features=None, max_leaf_nodes=None,\n",
       "                           min_impurity_decrease=0.0, min_impurity_split=None,\n",
       "                           min_samples_leaf=1, min_samples_split=2,\n",
       "                           min_weight_fraction_leaf=0.0, n_estimators=100,\n",
       "                           n_iter_no_change=None, presort='deprecated',\n",
       "                           random_state=50, subsample=1.0, tol=0.0001,\n",
       "                           validation_fraction=0.1, verbose=0,\n",
       "                           warm_start=False)"
      ]
     },
     "execution_count": 13,
     "metadata": {},
     "output_type": "execute_result"
    }
   ],
   "source": [
    "#training the model\n",
    "clf.fit(X_train,y_train)"
   ]
  },
  {
   "cell_type": "code",
   "execution_count": 14,
   "metadata": {},
   "outputs": [],
   "source": [
    "pred_train=clf.predict(X_train)\n",
    "pred_test=clf.predict(X_test)"
   ]
  },
  {
   "cell_type": "code",
   "execution_count": 15,
   "metadata": {},
   "outputs": [
    {
     "name": "stdout",
     "output_type": "stream",
     "text": [
      "\u001b[1m Classification Report for training data \u001b[0m\n",
      "              precision    recall  f1-score   support\n",
      "\n",
      "           0       0.98      0.84      0.90      3381\n",
      "           1       0.32      0.78      0.45       331\n",
      "\n",
      "    accuracy                           0.83      3712\n",
      "   macro avg       0.65      0.81      0.68      3712\n",
      "weighted avg       0.92      0.83      0.86      3712\n",
      "\n"
     ]
    }
   ],
   "source": [
    "print('\\033[1m',\"Classification Report for training data\",'\\033[0m')\n",
    "print(classification_report(pred_train, y_train))"
   ]
  },
  {
   "cell_type": "code",
   "execution_count": 16,
   "metadata": {},
   "outputs": [
    {
     "name": "stdout",
     "output_type": "stream",
     "text": [
      "\u001b[1m Classification Report for test data \u001b[0m\n",
      "              precision    recall  f1-score   support\n",
      "\n",
      "           0       0.97      0.81      0.88       610\n",
      "           1       0.20      0.63      0.31        46\n",
      "\n",
      "    accuracy                           0.80       656\n",
      "   macro avg       0.58      0.72      0.60       656\n",
      "weighted avg       0.91      0.80      0.84       656\n",
      "\n"
     ]
    }
   ],
   "source": [
    "print('\\033[1m',\"Classification Report for test data\",'\\033[0m')\n",
    "print(classification_report(pred_test, y_test))"
   ]
  },
  {
   "cell_type": "markdown",
   "metadata": {},
   "source": [
    "# GBDT Hyperparameters"
   ]
  },
  {
   "cell_type": "markdown",
   "metadata": {},
   "source": [
    "### Model Based Hyperparameters"
   ]
  },
  {
   "cell_type": "markdown",
   "metadata": {},
   "source": [
    "1. **n_estimators:** Total number of trees.\n",
    "2. **loss:** The loss function to be minimized. \n",
    "3. **subsample:**The fraction of observations to be selected for each tree. Selection is done by random sampling.\n",
    "4. **random_state:** The random number seed so that same random numbers are generated every time.\n",
    "5. **learning_rate:** This determines the impact of each tree on the final outcome "
   ]
  },
  {
   "cell_type": "code",
   "execution_count": 15,
   "metadata": {},
   "outputs": [],
   "source": [
    "#creating an Gradient boosting instance\n",
    "clf = GradientBoostingClassifier(random_state=101, n_estimators=500, subsample=0.7)"
   ]
  },
  {
   "cell_type": "code",
   "execution_count": 16,
   "metadata": {},
   "outputs": [
    {
     "data": {
      "text/plain": [
       "GradientBoostingClassifier(ccp_alpha=0.0, criterion='friedman_mse', init=None,\n",
       "                           learning_rate=0.1, loss='deviance', max_depth=3,\n",
       "                           max_features=None, max_leaf_nodes=None,\n",
       "                           min_impurity_decrease=0.0, min_impurity_split=None,\n",
       "                           min_samples_leaf=1, min_samples_split=2,\n",
       "                           min_weight_fraction_leaf=0.0, n_estimators=500,\n",
       "                           n_iter_no_change=None, presort='deprecated',\n",
       "                           random_state=101, subsample=0.7, tol=0.0001,\n",
       "                           validation_fraction=0.1, verbose=0,\n",
       "                           warm_start=False)"
      ]
     },
     "execution_count": 16,
     "metadata": {},
     "output_type": "execute_result"
    }
   ],
   "source": [
    "#training the model\n",
    "clf.fit(X_train,y_train)"
   ]
  },
  {
   "cell_type": "code",
   "execution_count": 17,
   "metadata": {},
   "outputs": [],
   "source": [
    "pred_train=clf.predict(X_train)\n",
    "pred_test=clf.predict(X_test)"
   ]
  },
  {
   "cell_type": "code",
   "execution_count": 18,
   "metadata": {},
   "outputs": [
    {
     "name": "stdout",
     "output_type": "stream",
     "text": [
      "\u001b[1m Classification Report for training data \u001b[0m\n",
      "              precision    recall  f1-score   support\n",
      "\n",
      "           0       1.00      0.91      0.95      3184\n",
      "           1       0.64      0.98      0.78       528\n",
      "\n",
      "    accuracy                           0.92      3712\n",
      "   macro avg       0.82      0.95      0.86      3712\n",
      "weighted avg       0.95      0.92      0.93      3712\n",
      "\n"
     ]
    }
   ],
   "source": [
    "print('\\033[1m',\"Classification Report for training data\",'\\033[0m')\n",
    "print(classification_report(pred_train, y_train))"
   ]
  },
  {
   "cell_type": "code",
   "execution_count": 19,
   "metadata": {},
   "outputs": [
    {
     "name": "stdout",
     "output_type": "stream",
     "text": [
      "\u001b[1m Classification Report for test data \u001b[0m\n",
      "              precision    recall  f1-score   support\n",
      "\n",
      "           0       0.95      0.81      0.87       596\n",
      "           1       0.22      0.53      0.32        60\n",
      "\n",
      "    accuracy                           0.79       656\n",
      "   macro avg       0.58      0.67      0.59       656\n",
      "weighted avg       0.88      0.79      0.82       656\n",
      "\n"
     ]
    }
   ],
   "source": [
    "print('\\033[1m',\"Classification Report for test data\",'\\033[0m')\n",
    "print(classification_report(pred_test, y_test))"
   ]
  },
  {
   "cell_type": "markdown",
   "metadata": {},
   "source": [
    "### Tree Based Hyperparameters"
   ]
  },
  {
   "cell_type": "markdown",
   "metadata": {},
   "source": [
    "1. **max_depth:** Maximum depth to which tree can grow (stopping criteria)\n",
    "2. **max_features:** The number of features to consider while searching for a best split\n",
    "3. **max_leaf_nodes:** The maximum number of terminal nodes or leaves in a tree\n",
    "4. **min_samples_leaf:** Minimum samples required in a terminal node or leaf (stopping criteria)\n",
    "5. **min_samples_split:** Minimum number of samples required in a node for splitting (stopping criteria)"
   ]
  },
  {
   "cell_type": "code",
   "execution_count": 21,
   "metadata": {},
   "outputs": [],
   "source": [
    "#creating an Gradient boosting instance\n",
    "clf = GradientBoostingClassifier(random_state=101, \n",
    "                                 min_samples_split=40,\n",
    "                                 max_leaf_nodes=25,\n",
    "                                 max_depth=6,\n",
    "                                 n_iter_no_change=5,\n",
    "                                 tol = 0.001,\n",
    "                                 validation_fraction=0.2,\n",
    "                                 subsample=0.8,n_estimators=500)"
   ]
  },
  {
   "cell_type": "code",
   "execution_count": 22,
   "metadata": {},
   "outputs": [
    {
     "data": {
      "text/plain": [
       "GradientBoostingClassifier(ccp_alpha=0.0, criterion='friedman_mse', init=None,\n",
       "                           learning_rate=0.1, loss='deviance', max_depth=6,\n",
       "                           max_features=None, max_leaf_nodes=25,\n",
       "                           min_impurity_decrease=0.0, min_impurity_split=None,\n",
       "                           min_samples_leaf=1, min_samples_split=40,\n",
       "                           min_weight_fraction_leaf=0.0, n_estimators=500,\n",
       "                           n_iter_no_change=5, presort='deprecated',\n",
       "                           random_state=101, subsample=0.8, tol=0.001,\n",
       "                           validation_fraction=0.2, verbose=0,\n",
       "                           warm_start=False)"
      ]
     },
     "execution_count": 22,
     "metadata": {},
     "output_type": "execute_result"
    }
   ],
   "source": [
    "#training the model\n",
    "clf.fit(X_train,y_train)"
   ]
  },
  {
   "cell_type": "code",
   "execution_count": 23,
   "metadata": {},
   "outputs": [],
   "source": [
    "pred_train=clf.predict(X_train)\n",
    "pred_test=clf.predict(X_test)"
   ]
  },
  {
   "cell_type": "code",
   "execution_count": 24,
   "metadata": {},
   "outputs": [
    {
     "name": "stdout",
     "output_type": "stream",
     "text": [
      "\u001b[1m Classification Report for training data \u001b[0m\n",
      "              precision    recall  f1-score   support\n",
      "\n",
      "           0       0.98      0.84      0.91      3389\n",
      "           1       0.34      0.84      0.48       323\n",
      "\n",
      "    accuracy                           0.84      3712\n",
      "   macro avg       0.66      0.84      0.69      3712\n",
      "weighted avg       0.93      0.84      0.87      3712\n",
      "\n"
     ]
    }
   ],
   "source": [
    "print('\\033[1m',\"Classification Report for training data\",'\\033[0m')\n",
    "print(classification_report(pred_train, y_train))"
   ]
  },
  {
   "cell_type": "code",
   "execution_count": 25,
   "metadata": {},
   "outputs": [
    {
     "name": "stdout",
     "output_type": "stream",
     "text": [
      "\u001b[1m Classification Report for test data \u001b[0m\n",
      "              precision    recall  f1-score   support\n",
      "\n",
      "           0       0.97      0.81      0.88       610\n",
      "           1       0.20      0.63      0.31        46\n",
      "\n",
      "    accuracy                           0.80       656\n",
      "   macro avg       0.58      0.72      0.60       656\n",
      "weighted avg       0.91      0.80      0.84       656\n",
      "\n"
     ]
    }
   ],
   "source": [
    "print('\\033[1m',\"Classification Report for test data\",'\\033[0m')\n",
    "print(classification_report(pred_test, y_test))"
   ]
  },
  {
   "cell_type": "markdown",
   "metadata": {},
   "source": [
    "**WITH CHANGING LEARNING RATE AND N_ESTIMATORS**"
   ]
  },
  {
   "cell_type": "code",
   "execution_count": 22,
   "metadata": {},
   "outputs": [],
   "source": [
    "from sklearn.model_selection import GridSearchCV\n",
    "from sklearn.model_selection import StratifiedKFold"
   ]
  },
  {
   "cell_type": "code",
   "execution_count": 23,
   "metadata": {},
   "outputs": [],
   "source": [
    "gd_model=GradientBoostingClassifier(random_state=101)"
   ]
  },
  {
   "cell_type": "code",
   "execution_count": 25,
   "metadata": {},
   "outputs": [],
   "source": [
    "tree_para = {'learning_rate':[1, 0.5, 0.25, 0.1, 0.05, 0.01],'n_estimators':[100, 200,300,400,500]}\n",
    "clf = GridSearchCV(estimator=gd_model,param_grid=tree_para,scoring='f1',cv=StratifiedKFold(10))\n",
    "clf=clf.fit(X_train, y_train)"
   ]
  },
  {
   "cell_type": "code",
   "execution_count": 26,
   "metadata": {},
   "outputs": [],
   "source": [
    "clf_pred_test=clf.predict(X_test)\n",
    "clf_pred_train=clf.predict(X_train)"
   ]
  },
  {
   "cell_type": "code",
   "execution_count": 27,
   "metadata": {},
   "outputs": [
    {
     "data": {
      "text/plain": [
       "{'learning_rate': 0.5, 'n_estimators': 400}"
      ]
     },
     "execution_count": 27,
     "metadata": {},
     "output_type": "execute_result"
    }
   ],
   "source": [
    "clf.best_params_"
   ]
  },
  {
   "cell_type": "code",
   "execution_count": 28,
   "metadata": {},
   "outputs": [
    {
     "name": "stdout",
     "output_type": "stream",
     "text": [
      "\u001b[1m Classification Report for test data \u001b[0m\n",
      "              precision    recall  f1-score   support\n",
      "\n",
      "           0       0.82      0.92      0.87       513\n",
      "           1       0.48      0.28      0.35       143\n",
      "\n",
      "    accuracy                           0.78       656\n",
      "   macro avg       0.65      0.60      0.61       656\n",
      "weighted avg       0.75      0.78      0.75       656\n",
      "\n"
     ]
    }
   ],
   "source": [
    "print('\\033[1m',\"Classification Report for test data\",'\\033[0m')\n",
    "print(classification_report(y_test,clf_pred_test))"
   ]
  },
  {
   "cell_type": "code",
   "execution_count": 29,
   "metadata": {},
   "outputs": [
    {
     "name": "stdout",
     "output_type": "stream",
     "text": [
      "\u001b[1m Classification Report for training data \u001b[0m\n",
      "              precision    recall  f1-score   support\n",
      "\n",
      "           0       1.00      1.00      1.00      2903\n",
      "           1       1.00      0.99      1.00       809\n",
      "\n",
      "    accuracy                           1.00      3712\n",
      "   macro avg       1.00      1.00      1.00      3712\n",
      "weighted avg       1.00      1.00      1.00      3712\n",
      "\n"
     ]
    }
   ],
   "source": [
    "print('\\033[1m',\"Classification Report for training data\",'\\033[0m')\n",
    "print(classification_report(y_train, clf_pred_train))"
   ]
  },
  {
   "cell_type": "markdown",
   "metadata": {},
   "source": [
    "# WITH ONE PARAMETER AT A TIME"
   ]
  },
  {
   "cell_type": "markdown",
   "metadata": {},
   "source": [
    "--Learning Rate"
   ]
  },
  {
   "cell_type": "code",
   "execution_count": 12,
   "metadata": {},
   "outputs": [],
   "source": [
    "learning_rates = [1, 0.5, 0.25, 0.1, 0.05, 0.01]\n",
    "train_results = []\n",
    "test_results = []\n",
    "for eta in learning_rates:\n",
    "    model = GradientBoostingClassifier(learning_rate=eta,random_state=101)\n",
    "    model.fit(X_train, y_train)\n",
    "    train_pred = model.predict(X_train)\n",
    "    test_pred = model.predict(X_test)\n",
    "    f1_train=f1_score(y_train,train_pred)\n",
    "    f1_test=f1_score(y_test,test_pred)\n",
    "    train_results.append(f1_train)\n",
    "    test_results.append(f1_test)"
   ]
  },
  {
   "cell_type": "code",
   "execution_count": 18,
   "metadata": {},
   "outputs": [
    {
     "data": {
      "text/plain": [
       "[<matplotlib.lines.Line2D at 0x15994b9f708>]"
      ]
     },
     "execution_count": 18,
     "metadata": {},
     "output_type": "execute_result"
    },
    {
     "data": {
      "image/png": "[encoded data removed]",
      "text/plain": [
       "<Figure size 432x288 with 1 Axes>"
      ]
     },
     "metadata": {
      "needs_background": "light"
     },
     "output_type": "display_data"
    }
   ],
   "source": [
    "plt.plot(learning_rates, train_results, 'b', label=\"Train F1\")\n",
    "plt.plot(learning_rates, test_results, 'r', label=\"Test F1\")"
   ]
  },
  {
   "cell_type": "markdown",
   "metadata": {},
   "source": [
    "--n_estimators"
   ]
  },
  {
   "cell_type": "code",
   "execution_count": 19,
   "metadata": {},
   "outputs": [],
   "source": [
    "n_estimators = [1, 2, 4, 8, 16, 32, 64, 100, 200,400,500]\n",
    "train_results = []\n",
    "test_results = []\n",
    "for estimator in n_estimators:\n",
    "    model = GradientBoostingClassifier(n_estimators=estimator,random_state=101)\n",
    "    model.fit(X_train, y_train)\n",
    "    train_pred = model.predict(X_train)\n",
    "    test_pred = model.predict(X_test)\n",
    "    f1_train=f1_score(y_train,train_pred)\n",
    "    f1_test=f1_score(y_test,test_pred)\n",
    "    train_results.append(f1_train)\n",
    "    test_results.append(f1_test)"
   ]
  },
  {
   "cell_type": "code",
   "execution_count": 21,
   "metadata": {},
   "outputs": [
    {
     "data": {
      "text/plain": [
       "[<matplotlib.lines.Line2D at 0x1599614cb08>]"
      ]
     },
     "execution_count": 21,
     "metadata": {},
     "output_type": "execute_result"
    },
    {
     "data": {
      "image/png": "[encoded data removed]",
      "text/plain": [
       "<Figure size 432x288 with 1 Axes>"
      ]
     },
     "metadata": {
      "needs_background": "light"
     },
     "output_type": "display_data"
    }
   ],
   "source": [
    "plt.plot(n_estimators, train_results, 'b', label=\"Train F1\")\n",
    "plt.plot(n_estimators, test_results, 'r', label=\"Test F1\")"
   ]
  },
  {
   "cell_type": "code",
   "execution_count": 10,
   "metadata": {},
   "outputs": [],
   "source": [
    "from sklearn.model_selection import GridSearchCV\n",
    "from sklearn.model_selection import StratifiedKFold"
   ]
  },
  {
   "cell_type": "code",
   "execution_count": 11,
   "metadata": {},
   "outputs": [],
   "source": [
    "gd_model=GradientBoostingClassifier(n_estimators=400,learning_rate=0.5)"
   ]
  },
  {
   "cell_type": "code",
   "execution_count": null,
   "metadata": {},
   "outputs": [],
   "source": [
    "tree_para = {'max_depth':[4,5,6,7,8,9,10,11,12,15,20,30,40,50,70,90,120,150],'min_samples_split':[2,4,8,10,15,25,30,40,50,55],'max_leaf_nodes':range(5,30,5)}\n",
    "clf = GridSearchCV(estimator=gd_model,param_grid=tree_para,scoring='f1',cv=StratifiedKFold(10))\n",
    "clf=clf.fit(X_train, y_train)"
   ]
  },
  {
   "cell_type": "code",
   "execution_count": 25,
   "metadata": {},
   "outputs": [
    {
     "data": {
      "text/plain": [
       "{'criterion': 'gini',\n",
       " 'max_depth': 4,\n",
       " 'max_leaf_nodes': 5,\n",
       " 'min_samples_split': 2}"
      ]
     },
     "execution_count": 25,
     "metadata": {},
     "output_type": "execute_result"
    }
   ],
   "source": [
    "clf.best_params_"
   ]
  },
  {
   "cell_type": "code",
   "execution_count": 28,
   "metadata": {},
   "outputs": [],
   "source": [
    "#with best para\n",
    "model = GradientBoostingClassifier(n_estimators=200,learning_rate=1.0,random_state=101,max_depth=4,max_leaf_nodes=5,min_samples_split=2)\n",
    "model.fit(X_train,y_train)\n",
    "predict_tr=model.predict(X_train)\n",
    "predict_ts=model.predict(X_test)"
   ]
  },
  {
   "cell_type": "code",
   "execution_count": 29,
   "metadata": {},
   "outputs": [
    {
     "name": "stdout",
     "output_type": "stream",
     "text": [
      "\u001b[1m Classification Report for test data \u001b[0m\n",
      "              precision    recall  f1-score   support\n",
      "\n",
      "           0       0.81      0.90      0.85       513\n",
      "           1       0.41      0.24      0.31       143\n",
      "\n",
      "    accuracy                           0.76       656\n",
      "   macro avg       0.61      0.57      0.58       656\n",
      "weighted avg       0.72      0.76      0.73       656\n",
      "\n"
     ]
    }
   ],
   "source": [
    "print('\\033[1m',\"Classification Report for test data\",'\\033[0m')\n",
    "print(classification_report(y_test, predict_ts))"
   ]
  },
  {
   "cell_type": "code",
   "execution_count": 30,
   "metadata": {},
   "outputs": [
    {
     "name": "stdout",
     "output_type": "stream",
     "text": [
      "\u001b[1m Classification Report for training data \u001b[0m\n",
      "              precision    recall  f1-score   support\n",
      "\n",
      "           0       0.97      1.00      0.98      2903\n",
      "           1       0.99      0.89      0.94       809\n",
      "\n",
      "    accuracy                           0.97      3712\n",
      "   macro avg       0.98      0.94      0.96      3712\n",
      "weighted avg       0.97      0.97      0.97      3712\n",
      "\n"
     ]
    }
   ],
   "source": [
    "print('\\033[1m',\"Classification Report for training data\",'\\033[0m')\n",
    "print(classification_report(y_train, predict_tr))"
   ]
  },
  {
   "cell_type": "code",
   "execution_count": null,
   "metadata": {},
   "outputs": [],
   "source": []
  }
 ],
 "metadata": {
  "kernelspec": {
   "display_name": "Python 3",
   "language": "python",
   "name": "python3"
  },
  "language_info": {
   "codemirror_mode": {
    "name": "ipython",
    "version": 3
   },
   "file_extension": ".py",
   "mimetype": "text/x-python",
   "name": "python",
   "nbconvert_exporter": "python",
   "pygments_lexer": "ipython3",
   "version": "3.7.6"
  }
 },
 "nbformat": 4,
 "nbformat_minor": 4
}
